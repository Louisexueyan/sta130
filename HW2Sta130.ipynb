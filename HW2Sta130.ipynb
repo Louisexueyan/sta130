{
 "cells": [
  {
   "cell_type": "code",
   "execution_count": 1,
   "id": "eef6e773",
   "metadata": {},
   "outputs": [],
   "source": [
    "# I made two possibe reults for question1,they are different methods but have similarties."
   ]
  },
  {
   "cell_type": "code",
   "execution_count": null,
   "id": "993dd7bc",
   "metadata": {},
   "outputs": [],
   "source": [
    "# Question1.1"
   ]
  },
  {
   "cell_type": "code",
   "execution_count": 6,
   "id": "0236f72b",
   "metadata": {},
   "outputs": [
    {
     "name": "stdout",
     "output_type": "stream",
     "text": [
      "Win rate if switching: 0.681\n",
      "Win rate if staying: 0.322\n"
     ]
    }
   ],
   "source": [
    "#I first asked GPT and understand what is \"Monte Hall problem\"  truely\n",
    "\n",
    "#The code at the beginning because the Monty Hall problem simulation involves random choices, which make the funcion meaningful\n",
    "import random\n",
    "\n",
    "#Build up the function by defining the fucntion name, parameters and typr contracts)\n",
    "#Why int=1000, it can be as large as possible to increase the accurucy of the final values\n",
    "def monty_hall(switch: bool, simulations: int = 1000):\n",
    "    wins = 0\n",
    "    \n",
    "# Use a for loop to repeat the simulation and track the results.(Multiple Simulations)\n",
    "    for _ in range(simulations):\n",
    "        doors = ['goat', 'goat', 'car']\n",
    "        random.shuffle(doors)\n",
    "        \n",
    "        # This function selects a random door for the contestant to pick (the index is between 0 and 2, corresponding to the 3 doors).\n",
    "        contestant_choice = random.randint(0, 2)\n",
    "        \n",
    "        # Monty opens a door revealing a goat\n",
    "        available_doors = [i for i in range(3) if i != contestant_choice and doors[i] == 'goat']\n",
    "        monty_choice = random.choice(available_doors)\n",
    "        \n",
    "        if switch:\n",
    "        # If switching, contestant chooses the other unopened door\n",
    "            remaining_door = [i for i in range(3) if i != contestant_choice and i != monty_choice][0]\n",
    "            contestant_choice = remaining_door\n",
    "        \n",
    "        # Count win if the contestant's final choice is the car\n",
    "        if doors[contestant_choice] == 'car':\n",
    "            wins += 1\n",
    "    \n",
    "#return to get the final results, one part of building function\n",
    "    return wins / simulations\n",
    "\n",
    "# Simulate both strategies\n",
    "print(\"Win rate if switching:\", monty_hall(switch=True))\n",
    "print(\"Win rate if staying:\", monty_hall(switch=False))"
   ]
  },
  {
   "cell_type": "code",
   "execution_count": null,
   "id": "6913edf5",
   "metadata": {},
   "outputs": [],
   "source": [
    "#Question1.2"
   ]
  },
  {
   "cell_type": "code",
   "execution_count": 8,
   "id": "1e89fec0",
   "metadata": {},
   "outputs": [
    {
     "data": {
      "text/plain": [
       "{'Switching wins': 66580, 'Staying wins': 33420}"
      ]
     },
     "execution_count": 8,
     "metadata": {},
     "output_type": "execute_result"
    }
   ],
   "source": [
    "#Same idea for Question1.1 for import random\n",
    "import random\n",
    "\n",
    "stay_wins = 0\n",
    "switch_wins = 0\n",
    "\n",
    "for i in range(100000):  # Run 100,000 simulations (no comma in the number)\n",
    "    # Randomly assign the car to a door (0, 1, or 2)\n",
    "    car_door = random.randint(0, 2)\n",
    "    \n",
    "    # Player randomly picks a door (0, 1, or 2)\n",
    "    player_choice = random.randint(0, 2)\n",
    "    \n",
    "    # Monty reveals a door with a goat\n",
    "    available_doors = [door for door in [0, 1, 2] if door != player_choice and door != car_door]\n",
    "    monty_reveal = random.choice(available_doors)\n",
    "    \n",
    "    # Switching means picking the remaining unopened door\n",
    "    switch_choice = [door for door in [0, 1, 2] if door != player_choice and door != monty_reveal][0]\n",
    "    \n",
    "    # Check if player wins by staying or switching\n",
    "    if player_choice == car_door:\n",
    "        stay_wins += 1\n",
    "    if switch_choice == car_door:\n",
    "        switch_wins += 1\n",
    "\n",
    "# Create a dictionary with the results\n",
    "result = {\n",
    "    \"Switching wins\": switch_wins,\n",
    "    \"Staying wins\": stay_wins\n",
    "}\n",
    "\n",
    "# The result dictionary will automatically display in the notebook\n",
    "result"
   ]
  },
  {
   "cell_type": "code",
   "execution_count": null,
   "id": "93eca0a6",
   "metadata": {},
   "outputs": [],
   "source": []
  },
  {
   "cell_type": "code",
   "execution_count": null,
   "id": "81989212",
   "metadata": {},
   "outputs": [],
   "source": [
    "#Question2"
   ]
  },
  {
   "cell_type": "code",
   "execution_count": 18,
   "id": "a7724236",
   "metadata": {},
   "outputs": [
    {
     "name": "stdout",
     "output_type": "stream",
     "text": [
      "674 326\n"
     ]
    }
   ],
   "source": [
    "#Same idea for Question1.1 for import random\n",
    "import random\n",
    "\n",
    "stay_wins = 0\n",
    "switch_wins = 0\n",
    "\n",
    "#Number of simulations\n",
    "n = 1000\n",
    "\n",
    "for i in range(n):\n",
    "    # Randomly place the car behind a door\n",
    "    car_door = random.randint(0, 2)\n",
    "    # Player randomly picks a door\n",
    "    player_choice = random.randint(0, 2)\n",
    "    \n",
    "    # Monty reveals a door with a goat\n",
    "    monty_reveal = [x for x in [0, 1, 2] if x != player_choice and x != car_door][0]\n",
    "    \n",
    "    # Player switches to the remaining door\n",
    "    switch_choice = [x for x in [0, 1, 2] if x != player_choice and x != monty_reveal][0]\n",
    "    \n",
    "    # Count wins\n",
    "    if player_choice == car_door:\n",
    "        stay_wins += 1\n",
    "    if switch_choice == car_door:\n",
    "        switch_wins += 1\n",
    "\n",
    "# Print final results and the final output will print the number of wins for switching and staying as two integers\n",
    "print(switch_wins, stay_wins)\n",
    "\n",
    "#WHAT I NOTICE in the code: You get different results each time because you run the code due to the randomization involved in the Monty Hall problem simulation."
   ]
  },
  {
   "cell_type": "code",
   "execution_count": null,
   "id": "a565b9c7",
   "metadata": {},
   "outputs": [],
   "source": []
  },
  {
   "cell_type": "code",
   "execution_count": 19,
   "id": "4e08b1b0",
   "metadata": {},
   "outputs": [],
   "source": [
    "#Question3 -- I think I have already done that in Question1.1"
   ]
  },
  {
   "cell_type": "code",
   "execution_count": 20,
   "id": "85dae834",
   "metadata": {},
   "outputs": [
    {
     "name": "stdout",
     "output_type": "stream",
     "text": [
      "Win rate if switching: 0.65\n",
      "Win rate if staying: 0.314\n"
     ]
    }
   ],
   "source": [
    "#The reason why I chose my first coding is that although it is more complicated, it can still illustrate every steps clearly, which is easier to understand\n",
    "\n",
    "#The code at the beginning because the Monty Hall problem simulation involves random choices, which make the funcion meaningful\n",
    "import random\n",
    "\n",
    "#Build up the function by defining the fucntion name, parameters and typr contracts)\n",
    "#Why int=1000, it can be as large as possible to increase the accurucy of the final values\n",
    "def monty_hall(switch: bool, simulations: int = 1000):\n",
    "    wins = 0\n",
    "    \n",
    "# Use a for loop to repeat the simulation and track the results.(Multiple Simulations)\n",
    "    for _ in range(simulations):\n",
    "        doors = ['goat', 'goat', 'car']\n",
    "        random.shuffle(doors)\n",
    "        \n",
    "        # This function selects a random door for the contestant to pick (the index is between 0 and 2, corresponding to the 3 doors).\n",
    "        contestant_choice = random.randint(0, 2)\n",
    "        \n",
    "        # Monty opens a door revealing a goat\n",
    "        available_doors = [i for i in range(3) if i != contestant_choice and doors[i] == 'goat']\n",
    "        monty_choice = random.choice(available_doors)\n",
    "        \n",
    "        if switch:\n",
    "        # If switching, contestant chooses the other unopened door\n",
    "            remaining_door = [i for i in range(3) if i != contestant_choice and i != monty_choice][0]\n",
    "            contestant_choice = remaining_door\n",
    "        \n",
    "        # Count win if the contestant's final choice is the car\n",
    "        if doors[contestant_choice] == 'car':\n",
    "            wins += 1\n",
    "    \n",
    "#return to get the final results, one part of building function\n",
    "    return wins / simulations\n",
    "\n",
    "# Simulate both strategies\n",
    "print(\"Win rate if switching:\", monty_hall(switch=True))\n",
    "print(\"Win rate if staying:\", monty_hall(switch=False))"
   ]
  },
  {
   "cell_type": "code",
   "execution_count": null,
   "id": "71aa0dc2",
   "metadata": {},
   "outputs": [],
   "source": []
  },
  {
   "cell_type": "code",
   "execution_count": 21,
   "id": "d8f6f42c",
   "metadata": {},
   "outputs": [],
   "source": [
    "#Question4"
   ]
  },
  {
   "cell_type": "code",
   "execution_count": 22,
   "id": "a50e17b6",
   "metadata": {},
   "outputs": [],
   "source": [
    "#A Markov chain is a mathematical system that transitions from one state to another, with the next state being determined solely by the current state. \n",
    "#In the context of text generation or ChatBots, this means that the next word in a sentence is chosen based on the current word, \n",
    "#which has been observed from training data (a series of stories, conversations, etc.)."
   ]
  },
  {
   "cell_type": "code",
   "execution_count": null,
   "id": "60689a7c",
   "metadata": {},
   "outputs": [],
   "source": []
  },
  {
   "cell_type": "code",
   "execution_count": 23,
   "id": "cb1dfa74",
   "metadata": {},
   "outputs": [],
   "source": [
    "#Question5"
   ]
  },
  {
   "cell_type": "code",
   "execution_count": 24,
   "id": "606f553c",
   "metadata": {},
   "outputs": [],
   "source": [
    "#After interacting with the ChatBot, collect summaries of what it understood about each of these changes. \n",
    "#This process will deepen your understanding of the extensions while also allowing the ChatBot to clarify any tricky parts."
   ]
  },
  {
   "cell_type": "code",
   "execution_count": null,
   "id": "909a72d7",
   "metadata": {},
   "outputs": [],
   "source": []
  },
  {
   "cell_type": "code",
   "execution_count": 28,
   "id": "9f124c73",
   "metadata": {},
   "outputs": [],
   "source": [
    "#Question6"
   ]
  },
  {
   "cell_type": "code",
   "execution_count": 29,
   "id": "a0a00e55",
   "metadata": {},
   "outputs": [],
   "source": [
    "#1.1-The ChatBox can give us answers immediately because\n",
    "# 1-The structure of the game in simple terms.\n",
    "# 2-The core statistical insight (i.e., switching increases your probability of winning).\n",
    "# 3-How the code simulates the problem through loops and probability.\n",
    "\n",
    "#1.2-Cuz chatbox can make mistakes sometimes and it immediately understood the intent and context of the problem, guiding me without confusion\n",
    "# Plus, it give a large amount of information so sometimes I cannot understand everything.\n",
    "\n",
    "#1.3Half-half, sometimes useful, sometimes not."
   ]
  },
  {
   "cell_type": "code",
   "execution_count": null,
   "id": "f16c5c41",
   "metadata": {},
   "outputs": [],
   "source": []
  },
  {
   "cell_type": "code",
   "execution_count": 30,
   "id": "94a7dfde",
   "metadata": {},
   "outputs": [],
   "source": [
    "#Question7"
   ]
  },
  {
   "cell_type": "code",
   "execution_count": null,
   "id": "9bf17f10",
   "metadata": {},
   "outputs": [],
   "source": [
    "#I don't know, I just feel confused when I use it.\n",
    "#Because English is not my first language，so when I asked chatGPT how to deal with the coding, I cannot understand a big amount of python code immediatly."
   ]
  },
  {
   "cell_type": "code",
   "execution_count": null,
   "id": "1e45be15",
   "metadata": {},
   "outputs": [],
   "source": []
  },
  {
   "cell_type": "code",
   "execution_count": 27,
   "id": "0138d1e7",
   "metadata": {},
   "outputs": [],
   "source": [
    "#Question8"
   ]
  },
  {
   "cell_type": "code",
   "execution_count": null,
   "id": "48c708b7",
   "metadata": {},
   "outputs": [],
   "source": [
    "#In conversation,chat said: In today’s rapidly changing job market, especially in data science, several skills are highly relevant:\n",
    "#So there are 3 jobs that I can do without coding or just need to do a little bit of coding in the future\n",
    "#1.Data Analyst\n",
    "#2.Business Analyst\n",
    "#3.Project Manager\n",
    "#I prefer third one,cuz it fits what my future career, which combing with math and some coding.\n",
    "#In the future, I want to ask how can I releted to other jobs or directions such as engineering directions and combine with data science in the future and ask GPT if he has any advice."
   ]
  },
  {
   "cell_type": "code",
   "execution_count": null,
   "id": "d0980165",
   "metadata": {},
   "outputs": [],
   "source": [
    "#link--https://chatgpt.com/share/66ece791-92c4-800b-b6f9-f95bcd13aec9"
   ]
  },
  {
   "cell_type": "code",
   "execution_count": null,
   "id": "e42624e7",
   "metadata": {},
   "outputs": [],
   "source": []
  },
  {
   "cell_type": "code",
   "execution_count": null,
   "id": "db1f7ecc",
   "metadata": {},
   "outputs": [],
   "source": [
    "#Question9"
   ]
  },
  {
   "cell_type": "code",
   "execution_count": null,
   "id": "68b54598",
   "metadata": {},
   "outputs": [],
   "source": [
    "#YES,of course!!!!!But,it somehow hard, sometimes I can't understand it but I can ask on piazza, no worries!"
   ]
  },
  {
   "cell_type": "code",
   "execution_count": null,
   "id": "9897613c",
   "metadata": {},
   "outputs": [],
   "source": []
  },
  {
   "cell_type": "code",
   "execution_count": null,
   "id": "34dba17c",
   "metadata": {},
   "outputs": [],
   "source": [
    "#link for all chatbox conversation!!!"
   ]
  },
  {
   "cell_type": "code",
   "execution_count": null,
   "id": "3b6d900d",
   "metadata": {},
   "outputs": [],
   "source": [
    "#Other questions link--therhttps://chatgpt.com/share/66ece87b-71ec-800b-9b7e-910577dc892c"
   ]
  },
  {
   "cell_type": "code",
   "execution_count": null,
   "id": "07daa011",
   "metadata": {},
   "outputs": [],
   "source": [
    "#Question4--https://chatgpt.com/share/66ece849-0b64-800b-ac62-e95a40869459"
   ]
  },
  {
   "cell_type": "code",
   "execution_count": null,
   "id": "45be7f83",
   "metadata": {},
   "outputs": [],
   "source": [
    "#Question8--https://chatgpt.com/share/66ece791-92c4-800b-b6f9-f95bcd13aec9"
   ]
  }
 ],
 "metadata": {
  "kernelspec": {
   "display_name": "Python 3 (ipykernel)",
   "language": "python",
   "name": "python3"
  },
  "language_info": {
   "codemirror_mode": {
    "name": "ipython",
    "version": 3
   },
   "file_extension": ".py",
   "mimetype": "text/x-python",
   "name": "python",
   "nbconvert_exporter": "python",
   "pygments_lexer": "ipython3",
   "version": "3.11.6"
  }
 },
 "nbformat": 4,
 "nbformat_minor": 5
}
