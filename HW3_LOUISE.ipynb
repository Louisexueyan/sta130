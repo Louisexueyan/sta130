{
 "cells": [
  {
   "cell_type": "code",
   "execution_count": 3,
   "id": "c0735bf2",
   "metadata": {},
   "outputs": [
    {
     "data": {
      "application/vnd.plotly.v1+json": {
       "config": {
        "plotlyServerURL": "https://plot.ly"
       },
       "data": [
        {
         "alignmentgroup": "True",
         "bingroup": "x",
         "hovertemplate": "flipper_length_mm=%{x}<br>count=%{y}<extra></extra>",
         "legendgroup": "",
         "marker": {
          "color": "#636efa",
          "pattern": {
           "shape": ""
          }
         },
         "name": "",
         "nbinsx": 30,
         "offsetgroup": "",
         "orientation": "v",
         "showlegend": false,
         "type": "histogram",
         "x": [
          181,
          186,
          195,
          null,
          193,
          190,
          181,
          195,
          193,
          190,
          186,
          180,
          182,
          191,
          198,
          185,
          195,
          197,
          184,
          194,
          174,
          180,
          189,
          185,
          180,
          187,
          183,
          187,
          172,
          180,
          178,
          178,
          188,
          184,
          195,
          196,
          190,
          180,
          181,
          184,
          182,
          195,
          186,
          196,
          185,
          190,
          182,
          179,
          190,
          191,
          186,
          188,
          190,
          200,
          187,
          191,
          186,
          193,
          181,
          194,
          185,
          195,
          185,
          192,
          184,
          192,
          195,
          188,
          190,
          198,
          190,
          190,
          196,
          197,
          190,
          195,
          191,
          184,
          187,
          195,
          189,
          196,
          187,
          193,
          191,
          194,
          190,
          189,
          189,
          190,
          202,
          205,
          185,
          186,
          187,
          208,
          190,
          196,
          178,
          192,
          192,
          203,
          183,
          190,
          193,
          184,
          199,
          190,
          181,
          197,
          198,
          191,
          193,
          197,
          191,
          196,
          188,
          199,
          189,
          189,
          187,
          198,
          176,
          202,
          186,
          199,
          191,
          195,
          191,
          210,
          190,
          197,
          193,
          199,
          187,
          190,
          191,
          200,
          185,
          193,
          193,
          187,
          188,
          190,
          192,
          185,
          190,
          184,
          195,
          193,
          187,
          201,
          192,
          196,
          193,
          188,
          197,
          198,
          178,
          197,
          195,
          198,
          193,
          194,
          185,
          201,
          190,
          201,
          197,
          181,
          190,
          195,
          181,
          191,
          187,
          193,
          195,
          197,
          200,
          200,
          191,
          205,
          187,
          201,
          187,
          203,
          195,
          199,
          195,
          210,
          192,
          205,
          210,
          187,
          196,
          196,
          196,
          201,
          190,
          212,
          187,
          198,
          199,
          201,
          193,
          203,
          187,
          197,
          191,
          203,
          202,
          194,
          206,
          189,
          195,
          207,
          202,
          193,
          210,
          198,
          211,
          230,
          210,
          218,
          215,
          210,
          211,
          219,
          209,
          215,
          214,
          216,
          214,
          213,
          210,
          217,
          210,
          221,
          209,
          222,
          218,
          215,
          213,
          215,
          215,
          215,
          216,
          215,
          210,
          220,
          222,
          209,
          207,
          230,
          220,
          220,
          213,
          219,
          208,
          208,
          208,
          225,
          210,
          216,
          222,
          217,
          210,
          225,
          213,
          215,
          210,
          220,
          210,
          225,
          217,
          220,
          208,
          220,
          208,
          224,
          208,
          221,
          214,
          231,
          219,
          230,
          214,
          229,
          220,
          223,
          216,
          221,
          221,
          217,
          216,
          230,
          209,
          220,
          215,
          223,
          212,
          221,
          212,
          224,
          212,
          228,
          218,
          218,
          212,
          230,
          218,
          228,
          212,
          224,
          214,
          226,
          216,
          222,
          203,
          225,
          219,
          228,
          215,
          228,
          216,
          215,
          210,
          219,
          208,
          209,
          216,
          229,
          213,
          230,
          217,
          230,
          217,
          222,
          214,
          null,
          215,
          222,
          212,
          213
         ],
         "xaxis": "x",
         "yaxis": "y"
        }
       ],
       "layout": {
        "annotations": [
         {
          "showarrow": false,
          "text": "Mean",
          "x": 200.91520467836258,
          "xanchor": "right",
          "xref": "x",
          "y": 1,
          "yanchor": "top",
          "yref": "y domain"
         }
        ],
        "barmode": "relative",
        "legend": {
         "tracegroupgap": 0
        },
        "shapes": [
         {
          "line": {
           "color": "blue",
           "dash": "dash",
           "width": 2
          },
          "type": "line",
          "x0": 200.91520467836258,
          "x1": 200.91520467836258,
          "xref": "x",
          "y0": 0,
          "y1": 1,
          "yref": "y domain"
         }
        ],
        "template": {
         "data": {
          "bar": [
           {
            "error_x": {
             "color": "#2a3f5f"
            },
            "error_y": {
             "color": "#2a3f5f"
            },
            "marker": {
             "line": {
              "color": "#E5ECF6",
              "width": 0.5
             },
             "pattern": {
              "fillmode": "overlay",
              "size": 10,
              "solidity": 0.2
             }
            },
            "type": "bar"
           }
          ],
          "barpolar": [
           {
            "marker": {
             "line": {
              "color": "#E5ECF6",
              "width": 0.5
             },
             "pattern": {
              "fillmode": "overlay",
              "size": 10,
              "solidity": 0.2
             }
            },
            "type": "barpolar"
           }
          ],
          "carpet": [
           {
            "aaxis": {
             "endlinecolor": "#2a3f5f",
             "gridcolor": "white",
             "linecolor": "white",
             "minorgridcolor": "white",
             "startlinecolor": "#2a3f5f"
            },
            "baxis": {
             "endlinecolor": "#2a3f5f",
             "gridcolor": "white",
             "linecolor": "white",
             "minorgridcolor": "white",
             "startlinecolor": "#2a3f5f"
            },
            "type": "carpet"
           }
          ],
          "choropleth": [
           {
            "colorbar": {
             "outlinewidth": 0,
             "ticks": ""
            },
            "type": "choropleth"
           }
          ],
          "contour": [
           {
            "colorbar": {
             "outlinewidth": 0,
             "ticks": ""
            },
            "colorscale": [
             [
              0,
              "#0d0887"
             ],
             [
              0.1111111111111111,
              "#46039f"
             ],
             [
              0.2222222222222222,
              "#7201a8"
             ],
             [
              0.3333333333333333,
              "#9c179e"
             ],
             [
              0.4444444444444444,
              "#bd3786"
             ],
             [
              0.5555555555555556,
              "#d8576b"
             ],
             [
              0.6666666666666666,
              "#ed7953"
             ],
             [
              0.7777777777777778,
              "#fb9f3a"
             ],
             [
              0.8888888888888888,
              "#fdca26"
             ],
             [
              1,
              "#f0f921"
             ]
            ],
            "type": "contour"
           }
          ],
          "contourcarpet": [
           {
            "colorbar": {
             "outlinewidth": 0,
             "ticks": ""
            },
            "type": "contourcarpet"
           }
          ],
          "heatmap": [
           {
            "colorbar": {
             "outlinewidth": 0,
             "ticks": ""
            },
            "colorscale": [
             [
              0,
              "#0d0887"
             ],
             [
              0.1111111111111111,
              "#46039f"
             ],
             [
              0.2222222222222222,
              "#7201a8"
             ],
             [
              0.3333333333333333,
              "#9c179e"
             ],
             [
              0.4444444444444444,
              "#bd3786"
             ],
             [
              0.5555555555555556,
              "#d8576b"
             ],
             [
              0.6666666666666666,
              "#ed7953"
             ],
             [
              0.7777777777777778,
              "#fb9f3a"
             ],
             [
              0.8888888888888888,
              "#fdca26"
             ],
             [
              1,
              "#f0f921"
             ]
            ],
            "type": "heatmap"
           }
          ],
          "heatmapgl": [
           {
            "colorbar": {
             "outlinewidth": 0,
             "ticks": ""
            },
            "colorscale": [
             [
              0,
              "#0d0887"
             ],
             [
              0.1111111111111111,
              "#46039f"
             ],
             [
              0.2222222222222222,
              "#7201a8"
             ],
             [
              0.3333333333333333,
              "#9c179e"
             ],
             [
              0.4444444444444444,
              "#bd3786"
             ],
             [
              0.5555555555555556,
              "#d8576b"
             ],
             [
              0.6666666666666666,
              "#ed7953"
             ],
             [
              0.7777777777777778,
              "#fb9f3a"
             ],
             [
              0.8888888888888888,
              "#fdca26"
             ],
             [
              1,
              "#f0f921"
             ]
            ],
            "type": "heatmapgl"
           }
          ],
          "histogram": [
           {
            "marker": {
             "pattern": {
              "fillmode": "overlay",
              "size": 10,
              "solidity": 0.2
             }
            },
            "type": "histogram"
           }
          ],
          "histogram2d": [
           {
            "colorbar": {
             "outlinewidth": 0,
             "ticks": ""
            },
            "colorscale": [
             [
              0,
              "#0d0887"
             ],
             [
              0.1111111111111111,
              "#46039f"
             ],
             [
              0.2222222222222222,
              "#7201a8"
             ],
             [
              0.3333333333333333,
              "#9c179e"
             ],
             [
              0.4444444444444444,
              "#bd3786"
             ],
             [
              0.5555555555555556,
              "#d8576b"
             ],
             [
              0.6666666666666666,
              "#ed7953"
             ],
             [
              0.7777777777777778,
              "#fb9f3a"
             ],
             [
              0.8888888888888888,
              "#fdca26"
             ],
             [
              1,
              "#f0f921"
             ]
            ],
            "type": "histogram2d"
           }
          ],
          "histogram2dcontour": [
           {
            "colorbar": {
             "outlinewidth": 0,
             "ticks": ""
            },
            "colorscale": [
             [
              0,
              "#0d0887"
             ],
             [
              0.1111111111111111,
              "#46039f"
             ],
             [
              0.2222222222222222,
              "#7201a8"
             ],
             [
              0.3333333333333333,
              "#9c179e"
             ],
             [
              0.4444444444444444,
              "#bd3786"
             ],
             [
              0.5555555555555556,
              "#d8576b"
             ],
             [
              0.6666666666666666,
              "#ed7953"
             ],
             [
              0.7777777777777778,
              "#fb9f3a"
             ],
             [
              0.8888888888888888,
              "#fdca26"
             ],
             [
              1,
              "#f0f921"
             ]
            ],
            "type": "histogram2dcontour"
           }
          ],
          "mesh3d": [
           {
            "colorbar": {
             "outlinewidth": 0,
             "ticks": ""
            },
            "type": "mesh3d"
           }
          ],
          "parcoords": [
           {
            "line": {
             "colorbar": {
              "outlinewidth": 0,
              "ticks": ""
             }
            },
            "type": "parcoords"
           }
          ],
          "pie": [
           {
            "automargin": true,
            "type": "pie"
           }
          ],
          "scatter": [
           {
            "fillpattern": {
             "fillmode": "overlay",
             "size": 10,
             "solidity": 0.2
            },
            "type": "scatter"
           }
          ],
          "scatter3d": [
           {
            "line": {
             "colorbar": {
              "outlinewidth": 0,
              "ticks": ""
             }
            },
            "marker": {
             "colorbar": {
              "outlinewidth": 0,
              "ticks": ""
             }
            },
            "type": "scatter3d"
           }
          ],
          "scattercarpet": [
           {
            "marker": {
             "colorbar": {
              "outlinewidth": 0,
              "ticks": ""
             }
            },
            "type": "scattercarpet"
           }
          ],
          "scattergeo": [
           {
            "marker": {
             "colorbar": {
              "outlinewidth": 0,
              "ticks": ""
             }
            },
            "type": "scattergeo"
           }
          ],
          "scattergl": [
           {
            "marker": {
             "colorbar": {
              "outlinewidth": 0,
              "ticks": ""
             }
            },
            "type": "scattergl"
           }
          ],
          "scattermapbox": [
           {
            "marker": {
             "colorbar": {
              "outlinewidth": 0,
              "ticks": ""
             }
            },
            "type": "scattermapbox"
           }
          ],
          "scatterpolar": [
           {
            "marker": {
             "colorbar": {
              "outlinewidth": 0,
              "ticks": ""
             }
            },
            "type": "scatterpolar"
           }
          ],
          "scatterpolargl": [
           {
            "marker": {
             "colorbar": {
              "outlinewidth": 0,
              "ticks": ""
             }
            },
            "type": "scatterpolargl"
           }
          ],
          "scatterternary": [
           {
            "marker": {
             "colorbar": {
              "outlinewidth": 0,
              "ticks": ""
             }
            },
            "type": "scatterternary"
           }
          ],
          "surface": [
           {
            "colorbar": {
             "outlinewidth": 0,
             "ticks": ""
            },
            "colorscale": [
             [
              0,
              "#0d0887"
             ],
             [
              0.1111111111111111,
              "#46039f"
             ],
             [
              0.2222222222222222,
              "#7201a8"
             ],
             [
              0.3333333333333333,
              "#9c179e"
             ],
             [
              0.4444444444444444,
              "#bd3786"
             ],
             [
              0.5555555555555556,
              "#d8576b"
             ],
             [
              0.6666666666666666,
              "#ed7953"
             ],
             [
              0.7777777777777778,
              "#fb9f3a"
             ],
             [
              0.8888888888888888,
              "#fdca26"
             ],
             [
              1,
              "#f0f921"
             ]
            ],
            "type": "surface"
           }
          ],
          "table": [
           {
            "cells": {
             "fill": {
              "color": "#EBF0F8"
             },
             "line": {
              "color": "white"
             }
            },
            "header": {
             "fill": {
              "color": "#C8D4E3"
             },
             "line": {
              "color": "white"
             }
            },
            "type": "table"
           }
          ]
         },
         "layout": {
          "annotationdefaults": {
           "arrowcolor": "#2a3f5f",
           "arrowhead": 0,
           "arrowwidth": 1
          },
          "autotypenumbers": "strict",
          "coloraxis": {
           "colorbar": {
            "outlinewidth": 0,
            "ticks": ""
           }
          },
          "colorscale": {
           "diverging": [
            [
             0,
             "#8e0152"
            ],
            [
             0.1,
             "#c51b7d"
            ],
            [
             0.2,
             "#de77ae"
            ],
            [
             0.3,
             "#f1b6da"
            ],
            [
             0.4,
             "#fde0ef"
            ],
            [
             0.5,
             "#f7f7f7"
            ],
            [
             0.6,
             "#e6f5d0"
            ],
            [
             0.7,
             "#b8e186"
            ],
            [
             0.8,
             "#7fbc41"
            ],
            [
             0.9,
             "#4d9221"
            ],
            [
             1,
             "#276419"
            ]
           ],
           "sequential": [
            [
             0,
             "#0d0887"
            ],
            [
             0.1111111111111111,
             "#46039f"
            ],
            [
             0.2222222222222222,
             "#7201a8"
            ],
            [
             0.3333333333333333,
             "#9c179e"
            ],
            [
             0.4444444444444444,
             "#bd3786"
            ],
            [
             0.5555555555555556,
             "#d8576b"
            ],
            [
             0.6666666666666666,
             "#ed7953"
            ],
            [
             0.7777777777777778,
             "#fb9f3a"
            ],
            [
             0.8888888888888888,
             "#fdca26"
            ],
            [
             1,
             "#f0f921"
            ]
           ],
           "sequentialminus": [
            [
             0,
             "#0d0887"
            ],
            [
             0.1111111111111111,
             "#46039f"
            ],
            [
             0.2222222222222222,
             "#7201a8"
            ],
            [
             0.3333333333333333,
             "#9c179e"
            ],
            [
             0.4444444444444444,
             "#bd3786"
            ],
            [
             0.5555555555555556,
             "#d8576b"
            ],
            [
             0.6666666666666666,
             "#ed7953"
            ],
            [
             0.7777777777777778,
             "#fb9f3a"
            ],
            [
             0.8888888888888888,
             "#fdca26"
            ],
            [
             1,
             "#f0f921"
            ]
           ]
          },
          "colorway": [
           "#636efa",
           "#EF553B",
           "#00cc96",
           "#ab63fa",
           "#FFA15A",
           "#19d3f3",
           "#FF6692",
           "#B6E880",
           "#FF97FF",
           "#FECB52"
          ],
          "font": {
           "color": "#2a3f5f"
          },
          "geo": {
           "bgcolor": "white",
           "lakecolor": "white",
           "landcolor": "#E5ECF6",
           "showlakes": true,
           "showland": true,
           "subunitcolor": "white"
          },
          "hoverlabel": {
           "align": "left"
          },
          "hovermode": "closest",
          "mapbox": {
           "style": "light"
          },
          "paper_bgcolor": "white",
          "plot_bgcolor": "#E5ECF6",
          "polar": {
           "angularaxis": {
            "gridcolor": "white",
            "linecolor": "white",
            "ticks": ""
           },
           "bgcolor": "#E5ECF6",
           "radialaxis": {
            "gridcolor": "white",
            "linecolor": "white",
            "ticks": ""
           }
          },
          "scene": {
           "xaxis": {
            "backgroundcolor": "#E5ECF6",
            "gridcolor": "white",
            "gridwidth": 2,
            "linecolor": "white",
            "showbackground": true,
            "ticks": "",
            "zerolinecolor": "white"
           },
           "yaxis": {
            "backgroundcolor": "#E5ECF6",
            "gridcolor": "white",
            "gridwidth": 2,
            "linecolor": "white",
            "showbackground": true,
            "ticks": "",
            "zerolinecolor": "white"
           },
           "zaxis": {
            "backgroundcolor": "#E5ECF6",
            "gridcolor": "white",
            "gridwidth": 2,
            "linecolor": "white",
            "showbackground": true,
            "ticks": "",
            "zerolinecolor": "white"
           }
          },
          "shapedefaults": {
           "line": {
            "color": "#2a3f5f"
           }
          },
          "ternary": {
           "aaxis": {
            "gridcolor": "white",
            "linecolor": "white",
            "ticks": ""
           },
           "baxis": {
            "gridcolor": "white",
            "linecolor": "white",
            "ticks": ""
           },
           "bgcolor": "#E5ECF6",
           "caxis": {
            "gridcolor": "white",
            "linecolor": "white",
            "ticks": ""
           }
          },
          "title": {
           "x": 0.05
          },
          "xaxis": {
           "automargin": true,
           "gridcolor": "white",
           "linecolor": "white",
           "ticks": "",
           "title": {
            "standoff": 15
           },
           "zerolinecolor": "white",
           "zerolinewidth": 2
          },
          "yaxis": {
           "automargin": true,
           "gridcolor": "white",
           "linecolor": "white",
           "ticks": "",
           "title": {
            "standoff": 15
           },
           "zerolinecolor": "white",
           "zerolinewidth": 2
          }
         }
        },
        "title": {
         "text": "Histogram with Mean"
        },
        "xaxis": {
         "anchor": "y",
         "domain": [
          0,
          1
         ],
         "title": {
          "text": "flipper_length_mm"
         }
        },
        "yaxis": {
         "anchor": "x",
         "domain": [
          0,
          1
         ],
         "title": {
          "text": "count"
         }
        }
       }
      },
      "text/html": [
       "<div>                            <div id=\"8f9eaed8-dfcc-4dcc-afc8-16ae69493132\" class=\"plotly-graph-div\" style=\"height:525px; width:100%;\"></div>            <script type=\"text/javascript\">                require([\"plotly\"], function(Plotly) {                    window.PLOTLYENV=window.PLOTLYENV || {};                                    if (document.getElementById(\"8f9eaed8-dfcc-4dcc-afc8-16ae69493132\")) {                    Plotly.newPlot(                        \"8f9eaed8-dfcc-4dcc-afc8-16ae69493132\",                        [{\"alignmentgroup\":\"True\",\"bingroup\":\"x\",\"hovertemplate\":\"flipper_length_mm=%{x}\\u003cbr\\u003ecount=%{y}\\u003cextra\\u003e\\u003c\\u002fextra\\u003e\",\"legendgroup\":\"\",\"marker\":{\"color\":\"#636efa\",\"pattern\":{\"shape\":\"\"}},\"name\":\"\",\"nbinsx\":30,\"offsetgroup\":\"\",\"orientation\":\"v\",\"showlegend\":false,\"x\":[181.0,186.0,195.0,null,193.0,190.0,181.0,195.0,193.0,190.0,186.0,180.0,182.0,191.0,198.0,185.0,195.0,197.0,184.0,194.0,174.0,180.0,189.0,185.0,180.0,187.0,183.0,187.0,172.0,180.0,178.0,178.0,188.0,184.0,195.0,196.0,190.0,180.0,181.0,184.0,182.0,195.0,186.0,196.0,185.0,190.0,182.0,179.0,190.0,191.0,186.0,188.0,190.0,200.0,187.0,191.0,186.0,193.0,181.0,194.0,185.0,195.0,185.0,192.0,184.0,192.0,195.0,188.0,190.0,198.0,190.0,190.0,196.0,197.0,190.0,195.0,191.0,184.0,187.0,195.0,189.0,196.0,187.0,193.0,191.0,194.0,190.0,189.0,189.0,190.0,202.0,205.0,185.0,186.0,187.0,208.0,190.0,196.0,178.0,192.0,192.0,203.0,183.0,190.0,193.0,184.0,199.0,190.0,181.0,197.0,198.0,191.0,193.0,197.0,191.0,196.0,188.0,199.0,189.0,189.0,187.0,198.0,176.0,202.0,186.0,199.0,191.0,195.0,191.0,210.0,190.0,197.0,193.0,199.0,187.0,190.0,191.0,200.0,185.0,193.0,193.0,187.0,188.0,190.0,192.0,185.0,190.0,184.0,195.0,193.0,187.0,201.0,192.0,196.0,193.0,188.0,197.0,198.0,178.0,197.0,195.0,198.0,193.0,194.0,185.0,201.0,190.0,201.0,197.0,181.0,190.0,195.0,181.0,191.0,187.0,193.0,195.0,197.0,200.0,200.0,191.0,205.0,187.0,201.0,187.0,203.0,195.0,199.0,195.0,210.0,192.0,205.0,210.0,187.0,196.0,196.0,196.0,201.0,190.0,212.0,187.0,198.0,199.0,201.0,193.0,203.0,187.0,197.0,191.0,203.0,202.0,194.0,206.0,189.0,195.0,207.0,202.0,193.0,210.0,198.0,211.0,230.0,210.0,218.0,215.0,210.0,211.0,219.0,209.0,215.0,214.0,216.0,214.0,213.0,210.0,217.0,210.0,221.0,209.0,222.0,218.0,215.0,213.0,215.0,215.0,215.0,216.0,215.0,210.0,220.0,222.0,209.0,207.0,230.0,220.0,220.0,213.0,219.0,208.0,208.0,208.0,225.0,210.0,216.0,222.0,217.0,210.0,225.0,213.0,215.0,210.0,220.0,210.0,225.0,217.0,220.0,208.0,220.0,208.0,224.0,208.0,221.0,214.0,231.0,219.0,230.0,214.0,229.0,220.0,223.0,216.0,221.0,221.0,217.0,216.0,230.0,209.0,220.0,215.0,223.0,212.0,221.0,212.0,224.0,212.0,228.0,218.0,218.0,212.0,230.0,218.0,228.0,212.0,224.0,214.0,226.0,216.0,222.0,203.0,225.0,219.0,228.0,215.0,228.0,216.0,215.0,210.0,219.0,208.0,209.0,216.0,229.0,213.0,230.0,217.0,230.0,217.0,222.0,214.0,null,215.0,222.0,212.0,213.0],\"xaxis\":\"x\",\"yaxis\":\"y\",\"type\":\"histogram\"}],                        {\"template\":{\"data\":{\"histogram2dcontour\":[{\"type\":\"histogram2dcontour\",\"colorbar\":{\"outlinewidth\":0,\"ticks\":\"\"},\"colorscale\":[[0.0,\"#0d0887\"],[0.1111111111111111,\"#46039f\"],[0.2222222222222222,\"#7201a8\"],[0.3333333333333333,\"#9c179e\"],[0.4444444444444444,\"#bd3786\"],[0.5555555555555556,\"#d8576b\"],[0.6666666666666666,\"#ed7953\"],[0.7777777777777778,\"#fb9f3a\"],[0.8888888888888888,\"#fdca26\"],[1.0,\"#f0f921\"]]}],\"choropleth\":[{\"type\":\"choropleth\",\"colorbar\":{\"outlinewidth\":0,\"ticks\":\"\"}}],\"histogram2d\":[{\"type\":\"histogram2d\",\"colorbar\":{\"outlinewidth\":0,\"ticks\":\"\"},\"colorscale\":[[0.0,\"#0d0887\"],[0.1111111111111111,\"#46039f\"],[0.2222222222222222,\"#7201a8\"],[0.3333333333333333,\"#9c179e\"],[0.4444444444444444,\"#bd3786\"],[0.5555555555555556,\"#d8576b\"],[0.6666666666666666,\"#ed7953\"],[0.7777777777777778,\"#fb9f3a\"],[0.8888888888888888,\"#fdca26\"],[1.0,\"#f0f921\"]]}],\"heatmap\":[{\"type\":\"heatmap\",\"colorbar\":{\"outlinewidth\":0,\"ticks\":\"\"},\"colorscale\":[[0.0,\"#0d0887\"],[0.1111111111111111,\"#46039f\"],[0.2222222222222222,\"#7201a8\"],[0.3333333333333333,\"#9c179e\"],[0.4444444444444444,\"#bd3786\"],[0.5555555555555556,\"#d8576b\"],[0.6666666666666666,\"#ed7953\"],[0.7777777777777778,\"#fb9f3a\"],[0.8888888888888888,\"#fdca26\"],[1.0,\"#f0f921\"]]}],\"heatmapgl\":[{\"type\":\"heatmapgl\",\"colorbar\":{\"outlinewidth\":0,\"ticks\":\"\"},\"colorscale\":[[0.0,\"#0d0887\"],[0.1111111111111111,\"#46039f\"],[0.2222222222222222,\"#7201a8\"],[0.3333333333333333,\"#9c179e\"],[0.4444444444444444,\"#bd3786\"],[0.5555555555555556,\"#d8576b\"],[0.6666666666666666,\"#ed7953\"],[0.7777777777777778,\"#fb9f3a\"],[0.8888888888888888,\"#fdca26\"],[1.0,\"#f0f921\"]]}],\"contourcarpet\":[{\"type\":\"contourcarpet\",\"colorbar\":{\"outlinewidth\":0,\"ticks\":\"\"}}],\"contour\":[{\"type\":\"contour\",\"colorbar\":{\"outlinewidth\":0,\"ticks\":\"\"},\"colorscale\":[[0.0,\"#0d0887\"],[0.1111111111111111,\"#46039f\"],[0.2222222222222222,\"#7201a8\"],[0.3333333333333333,\"#9c179e\"],[0.4444444444444444,\"#bd3786\"],[0.5555555555555556,\"#d8576b\"],[0.6666666666666666,\"#ed7953\"],[0.7777777777777778,\"#fb9f3a\"],[0.8888888888888888,\"#fdca26\"],[1.0,\"#f0f921\"]]}],\"surface\":[{\"type\":\"surface\",\"colorbar\":{\"outlinewidth\":0,\"ticks\":\"\"},\"colorscale\":[[0.0,\"#0d0887\"],[0.1111111111111111,\"#46039f\"],[0.2222222222222222,\"#7201a8\"],[0.3333333333333333,\"#9c179e\"],[0.4444444444444444,\"#bd3786\"],[0.5555555555555556,\"#d8576b\"],[0.6666666666666666,\"#ed7953\"],[0.7777777777777778,\"#fb9f3a\"],[0.8888888888888888,\"#fdca26\"],[1.0,\"#f0f921\"]]}],\"mesh3d\":[{\"type\":\"mesh3d\",\"colorbar\":{\"outlinewidth\":0,\"ticks\":\"\"}}],\"scatter\":[{\"fillpattern\":{\"fillmode\":\"overlay\",\"size\":10,\"solidity\":0.2},\"type\":\"scatter\"}],\"parcoords\":[{\"type\":\"parcoords\",\"line\":{\"colorbar\":{\"outlinewidth\":0,\"ticks\":\"\"}}}],\"scatterpolargl\":[{\"type\":\"scatterpolargl\",\"marker\":{\"colorbar\":{\"outlinewidth\":0,\"ticks\":\"\"}}}],\"bar\":[{\"error_x\":{\"color\":\"#2a3f5f\"},\"error_y\":{\"color\":\"#2a3f5f\"},\"marker\":{\"line\":{\"color\":\"#E5ECF6\",\"width\":0.5},\"pattern\":{\"fillmode\":\"overlay\",\"size\":10,\"solidity\":0.2}},\"type\":\"bar\"}],\"scattergeo\":[{\"type\":\"scattergeo\",\"marker\":{\"colorbar\":{\"outlinewidth\":0,\"ticks\":\"\"}}}],\"scatterpolar\":[{\"type\":\"scatterpolar\",\"marker\":{\"colorbar\":{\"outlinewidth\":0,\"ticks\":\"\"}}}],\"histogram\":[{\"marker\":{\"pattern\":{\"fillmode\":\"overlay\",\"size\":10,\"solidity\":0.2}},\"type\":\"histogram\"}],\"scattergl\":[{\"type\":\"scattergl\",\"marker\":{\"colorbar\":{\"outlinewidth\":0,\"ticks\":\"\"}}}],\"scatter3d\":[{\"type\":\"scatter3d\",\"line\":{\"colorbar\":{\"outlinewidth\":0,\"ticks\":\"\"}},\"marker\":{\"colorbar\":{\"outlinewidth\":0,\"ticks\":\"\"}}}],\"scattermapbox\":[{\"type\":\"scattermapbox\",\"marker\":{\"colorbar\":{\"outlinewidth\":0,\"ticks\":\"\"}}}],\"scatterternary\":[{\"type\":\"scatterternary\",\"marker\":{\"colorbar\":{\"outlinewidth\":0,\"ticks\":\"\"}}}],\"scattercarpet\":[{\"type\":\"scattercarpet\",\"marker\":{\"colorbar\":{\"outlinewidth\":0,\"ticks\":\"\"}}}],\"carpet\":[{\"aaxis\":{\"endlinecolor\":\"#2a3f5f\",\"gridcolor\":\"white\",\"linecolor\":\"white\",\"minorgridcolor\":\"white\",\"startlinecolor\":\"#2a3f5f\"},\"baxis\":{\"endlinecolor\":\"#2a3f5f\",\"gridcolor\":\"white\",\"linecolor\":\"white\",\"minorgridcolor\":\"white\",\"startlinecolor\":\"#2a3f5f\"},\"type\":\"carpet\"}],\"table\":[{\"cells\":{\"fill\":{\"color\":\"#EBF0F8\"},\"line\":{\"color\":\"white\"}},\"header\":{\"fill\":{\"color\":\"#C8D4E3\"},\"line\":{\"color\":\"white\"}},\"type\":\"table\"}],\"barpolar\":[{\"marker\":{\"line\":{\"color\":\"#E5ECF6\",\"width\":0.5},\"pattern\":{\"fillmode\":\"overlay\",\"size\":10,\"solidity\":0.2}},\"type\":\"barpolar\"}],\"pie\":[{\"automargin\":true,\"type\":\"pie\"}]},\"layout\":{\"autotypenumbers\":\"strict\",\"colorway\":[\"#636efa\",\"#EF553B\",\"#00cc96\",\"#ab63fa\",\"#FFA15A\",\"#19d3f3\",\"#FF6692\",\"#B6E880\",\"#FF97FF\",\"#FECB52\"],\"font\":{\"color\":\"#2a3f5f\"},\"hovermode\":\"closest\",\"hoverlabel\":{\"align\":\"left\"},\"paper_bgcolor\":\"white\",\"plot_bgcolor\":\"#E5ECF6\",\"polar\":{\"bgcolor\":\"#E5ECF6\",\"angularaxis\":{\"gridcolor\":\"white\",\"linecolor\":\"white\",\"ticks\":\"\"},\"radialaxis\":{\"gridcolor\":\"white\",\"linecolor\":\"white\",\"ticks\":\"\"}},\"ternary\":{\"bgcolor\":\"#E5ECF6\",\"aaxis\":{\"gridcolor\":\"white\",\"linecolor\":\"white\",\"ticks\":\"\"},\"baxis\":{\"gridcolor\":\"white\",\"linecolor\":\"white\",\"ticks\":\"\"},\"caxis\":{\"gridcolor\":\"white\",\"linecolor\":\"white\",\"ticks\":\"\"}},\"coloraxis\":{\"colorbar\":{\"outlinewidth\":0,\"ticks\":\"\"}},\"colorscale\":{\"sequential\":[[0.0,\"#0d0887\"],[0.1111111111111111,\"#46039f\"],[0.2222222222222222,\"#7201a8\"],[0.3333333333333333,\"#9c179e\"],[0.4444444444444444,\"#bd3786\"],[0.5555555555555556,\"#d8576b\"],[0.6666666666666666,\"#ed7953\"],[0.7777777777777778,\"#fb9f3a\"],[0.8888888888888888,\"#fdca26\"],[1.0,\"#f0f921\"]],\"sequentialminus\":[[0.0,\"#0d0887\"],[0.1111111111111111,\"#46039f\"],[0.2222222222222222,\"#7201a8\"],[0.3333333333333333,\"#9c179e\"],[0.4444444444444444,\"#bd3786\"],[0.5555555555555556,\"#d8576b\"],[0.6666666666666666,\"#ed7953\"],[0.7777777777777778,\"#fb9f3a\"],[0.8888888888888888,\"#fdca26\"],[1.0,\"#f0f921\"]],\"diverging\":[[0,\"#8e0152\"],[0.1,\"#c51b7d\"],[0.2,\"#de77ae\"],[0.3,\"#f1b6da\"],[0.4,\"#fde0ef\"],[0.5,\"#f7f7f7\"],[0.6,\"#e6f5d0\"],[0.7,\"#b8e186\"],[0.8,\"#7fbc41\"],[0.9,\"#4d9221\"],[1,\"#276419\"]]},\"xaxis\":{\"gridcolor\":\"white\",\"linecolor\":\"white\",\"ticks\":\"\",\"title\":{\"standoff\":15},\"zerolinecolor\":\"white\",\"automargin\":true,\"zerolinewidth\":2},\"yaxis\":{\"gridcolor\":\"white\",\"linecolor\":\"white\",\"ticks\":\"\",\"title\":{\"standoff\":15},\"zerolinecolor\":\"white\",\"automargin\":true,\"zerolinewidth\":2},\"scene\":{\"xaxis\":{\"backgroundcolor\":\"#E5ECF6\",\"gridcolor\":\"white\",\"linecolor\":\"white\",\"showbackground\":true,\"ticks\":\"\",\"zerolinecolor\":\"white\",\"gridwidth\":2},\"yaxis\":{\"backgroundcolor\":\"#E5ECF6\",\"gridcolor\":\"white\",\"linecolor\":\"white\",\"showbackground\":true,\"ticks\":\"\",\"zerolinecolor\":\"white\",\"gridwidth\":2},\"zaxis\":{\"backgroundcolor\":\"#E5ECF6\",\"gridcolor\":\"white\",\"linecolor\":\"white\",\"showbackground\":true,\"ticks\":\"\",\"zerolinecolor\":\"white\",\"gridwidth\":2}},\"shapedefaults\":{\"line\":{\"color\":\"#2a3f5f\"}},\"annotationdefaults\":{\"arrowcolor\":\"#2a3f5f\",\"arrowhead\":0,\"arrowwidth\":1},\"geo\":{\"bgcolor\":\"white\",\"landcolor\":\"#E5ECF6\",\"subunitcolor\":\"white\",\"showland\":true,\"showlakes\":true,\"lakecolor\":\"white\"},\"title\":{\"x\":0.05},\"mapbox\":{\"style\":\"light\"}}},\"xaxis\":{\"anchor\":\"y\",\"domain\":[0.0,1.0],\"title\":{\"text\":\"flipper_length_mm\"}},\"yaxis\":{\"anchor\":\"x\",\"domain\":[0.0,1.0],\"title\":{\"text\":\"count\"}},\"legend\":{\"tracegroupgap\":0},\"title\":{\"text\":\"Histogram with Mean\"},\"barmode\":\"relative\",\"shapes\":[{\"line\":{\"color\":\"blue\",\"dash\":\"dash\",\"width\":2},\"type\":\"line\",\"x0\":200.91520467836258,\"x1\":200.91520467836258,\"xref\":\"x\",\"y0\":0,\"y1\":1,\"yref\":\"y domain\"}],\"annotations\":[{\"showarrow\":false,\"text\":\"Mean\",\"x\":200.91520467836258,\"xanchor\":\"right\",\"xref\":\"x\",\"y\":1,\"yanchor\":\"top\",\"yref\":\"y domain\"}]},                        {\"responsive\": true}                    ).then(function(){\n",
       "                            \n",
       "var gd = document.getElementById('8f9eaed8-dfcc-4dcc-afc8-16ae69493132');\n",
       "var x = new MutationObserver(function (mutations, observer) {{\n",
       "        var display = window.getComputedStyle(gd).display;\n",
       "        if (!display || display === 'none') {{\n",
       "            console.log([gd, 'removed!']);\n",
       "            Plotly.purge(gd);\n",
       "            observer.disconnect();\n",
       "        }}\n",
       "}});\n",
       "\n",
       "// Listen for the removal of the full notebook cells\n",
       "var notebookContainer = gd.closest('#notebook-container');\n",
       "if (notebookContainer) {{\n",
       "    x.observe(notebookContainer, {childList: true});\n",
       "}}\n",
       "\n",
       "// Listen for the clearing of the current output cell\n",
       "var outputEl = gd.closest('.output');\n",
       "if (outputEl) {{\n",
       "    x.observe(outputEl, {childList: true});\n",
       "}}\n",
       "\n",
       "                        })                };                });            </script>        </div>"
      ]
     },
     "metadata": {},
     "output_type": "display_data"
    },
    {
     "data": {
      "application/vnd.plotly.v1+json": {
       "config": {
        "plotlyServerURL": "https://plot.ly"
       },
       "data": [
        {
         "alignmentgroup": "True",
         "bingroup": "x",
         "hovertemplate": "flipper_length_mm=%{x}<br>count=%{y}<extra></extra>",
         "legendgroup": "",
         "marker": {
          "color": "#636efa",
          "pattern": {
           "shape": ""
          }
         },
         "name": "",
         "nbinsx": 30,
         "offsetgroup": "",
         "orientation": "v",
         "showlegend": false,
         "type": "histogram",
         "x": [
          181,
          186,
          195,
          null,
          193,
          190,
          181,
          195,
          193,
          190,
          186,
          180,
          182,
          191,
          198,
          185,
          195,
          197,
          184,
          194,
          174,
          180,
          189,
          185,
          180,
          187,
          183,
          187,
          172,
          180,
          178,
          178,
          188,
          184,
          195,
          196,
          190,
          180,
          181,
          184,
          182,
          195,
          186,
          196,
          185,
          190,
          182,
          179,
          190,
          191,
          186,
          188,
          190,
          200,
          187,
          191,
          186,
          193,
          181,
          194,
          185,
          195,
          185,
          192,
          184,
          192,
          195,
          188,
          190,
          198,
          190,
          190,
          196,
          197,
          190,
          195,
          191,
          184,
          187,
          195,
          189,
          196,
          187,
          193,
          191,
          194,
          190,
          189,
          189,
          190,
          202,
          205,
          185,
          186,
          187,
          208,
          190,
          196,
          178,
          192,
          192,
          203,
          183,
          190,
          193,
          184,
          199,
          190,
          181,
          197,
          198,
          191,
          193,
          197,
          191,
          196,
          188,
          199,
          189,
          189,
          187,
          198,
          176,
          202,
          186,
          199,
          191,
          195,
          191,
          210,
          190,
          197,
          193,
          199,
          187,
          190,
          191,
          200,
          185,
          193,
          193,
          187,
          188,
          190,
          192,
          185,
          190,
          184,
          195,
          193,
          187,
          201,
          192,
          196,
          193,
          188,
          197,
          198,
          178,
          197,
          195,
          198,
          193,
          194,
          185,
          201,
          190,
          201,
          197,
          181,
          190,
          195,
          181,
          191,
          187,
          193,
          195,
          197,
          200,
          200,
          191,
          205,
          187,
          201,
          187,
          203,
          195,
          199,
          195,
          210,
          192,
          205,
          210,
          187,
          196,
          196,
          196,
          201,
          190,
          212,
          187,
          198,
          199,
          201,
          193,
          203,
          187,
          197,
          191,
          203,
          202,
          194,
          206,
          189,
          195,
          207,
          202,
          193,
          210,
          198,
          211,
          230,
          210,
          218,
          215,
          210,
          211,
          219,
          209,
          215,
          214,
          216,
          214,
          213,
          210,
          217,
          210,
          221,
          209,
          222,
          218,
          215,
          213,
          215,
          215,
          215,
          216,
          215,
          210,
          220,
          222,
          209,
          207,
          230,
          220,
          220,
          213,
          219,
          208,
          208,
          208,
          225,
          210,
          216,
          222,
          217,
          210,
          225,
          213,
          215,
          210,
          220,
          210,
          225,
          217,
          220,
          208,
          220,
          208,
          224,
          208,
          221,
          214,
          231,
          219,
          230,
          214,
          229,
          220,
          223,
          216,
          221,
          221,
          217,
          216,
          230,
          209,
          220,
          215,
          223,
          212,
          221,
          212,
          224,
          212,
          228,
          218,
          218,
          212,
          230,
          218,
          228,
          212,
          224,
          214,
          226,
          216,
          222,
          203,
          225,
          219,
          228,
          215,
          228,
          216,
          215,
          210,
          219,
          208,
          209,
          216,
          229,
          213,
          230,
          217,
          230,
          217,
          222,
          214,
          null,
          215,
          222,
          212,
          213
         ],
         "xaxis": "x",
         "yaxis": "y"
        }
       ],
       "layout": {
        "annotations": [
         {
          "showarrow": false,
          "text": "Median",
          "x": 197,
          "xanchor": "left",
          "xref": "x",
          "y": 1,
          "yanchor": "top",
          "yref": "y domain"
         }
        ],
        "barmode": "relative",
        "legend": {
         "tracegroupgap": 0
        },
        "shapes": [
         {
          "line": {
           "color": "orange",
           "dash": "dot",
           "width": 2
          },
          "type": "line",
          "x0": 197,
          "x1": 197,
          "xref": "x",
          "y0": 0,
          "y1": 1,
          "yref": "y domain"
         }
        ],
        "template": {
         "data": {
          "bar": [
           {
            "error_x": {
             "color": "#2a3f5f"
            },
            "error_y": {
             "color": "#2a3f5f"
            },
            "marker": {
             "line": {
              "color": "#E5ECF6",
              "width": 0.5
             },
             "pattern": {
              "fillmode": "overlay",
              "size": 10,
              "solidity": 0.2
             }
            },
            "type": "bar"
           }
          ],
          "barpolar": [
           {
            "marker": {
             "line": {
              "color": "#E5ECF6",
              "width": 0.5
             },
             "pattern": {
              "fillmode": "overlay",
              "size": 10,
              "solidity": 0.2
             }
            },
            "type": "barpolar"
           }
          ],
          "carpet": [
           {
            "aaxis": {
             "endlinecolor": "#2a3f5f",
             "gridcolor": "white",
             "linecolor": "white",
             "minorgridcolor": "white",
             "startlinecolor": "#2a3f5f"
            },
            "baxis": {
             "endlinecolor": "#2a3f5f",
             "gridcolor": "white",
             "linecolor": "white",
             "minorgridcolor": "white",
             "startlinecolor": "#2a3f5f"
            },
            "type": "carpet"
           }
          ],
          "choropleth": [
           {
            "colorbar": {
             "outlinewidth": 0,
             "ticks": ""
            },
            "type": "choropleth"
           }
          ],
          "contour": [
           {
            "colorbar": {
             "outlinewidth": 0,
             "ticks": ""
            },
            "colorscale": [
             [
              0,
              "#0d0887"
             ],
             [
              0.1111111111111111,
              "#46039f"
             ],
             [
              0.2222222222222222,
              "#7201a8"
             ],
             [
              0.3333333333333333,
              "#9c179e"
             ],
             [
              0.4444444444444444,
              "#bd3786"
             ],
             [
              0.5555555555555556,
              "#d8576b"
             ],
             [
              0.6666666666666666,
              "#ed7953"
             ],
             [
              0.7777777777777778,
              "#fb9f3a"
             ],
             [
              0.8888888888888888,
              "#fdca26"
             ],
             [
              1,
              "#f0f921"
             ]
            ],
            "type": "contour"
           }
          ],
          "contourcarpet": [
           {
            "colorbar": {
             "outlinewidth": 0,
             "ticks": ""
            },
            "type": "contourcarpet"
           }
          ],
          "heatmap": [
           {
            "colorbar": {
             "outlinewidth": 0,
             "ticks": ""
            },
            "colorscale": [
             [
              0,
              "#0d0887"
             ],
             [
              0.1111111111111111,
              "#46039f"
             ],
             [
              0.2222222222222222,
              "#7201a8"
             ],
             [
              0.3333333333333333,
              "#9c179e"
             ],
             [
              0.4444444444444444,
              "#bd3786"
             ],
             [
              0.5555555555555556,
              "#d8576b"
             ],
             [
              0.6666666666666666,
              "#ed7953"
             ],
             [
              0.7777777777777778,
              "#fb9f3a"
             ],
             [
              0.8888888888888888,
              "#fdca26"
             ],
             [
              1,
              "#f0f921"
             ]
            ],
            "type": "heatmap"
           }
          ],
          "heatmapgl": [
           {
            "colorbar": {
             "outlinewidth": 0,
             "ticks": ""
            },
            "colorscale": [
             [
              0,
              "#0d0887"
             ],
             [
              0.1111111111111111,
              "#46039f"
             ],
             [
              0.2222222222222222,
              "#7201a8"
             ],
             [
              0.3333333333333333,
              "#9c179e"
             ],
             [
              0.4444444444444444,
              "#bd3786"
             ],
             [
              0.5555555555555556,
              "#d8576b"
             ],
             [
              0.6666666666666666,
              "#ed7953"
             ],
             [
              0.7777777777777778,
              "#fb9f3a"
             ],
             [
              0.8888888888888888,
              "#fdca26"
             ],
             [
              1,
              "#f0f921"
             ]
            ],
            "type": "heatmapgl"
           }
          ],
          "histogram": [
           {
            "marker": {
             "pattern": {
              "fillmode": "overlay",
              "size": 10,
              "solidity": 0.2
             }
            },
            "type": "histogram"
           }
          ],
          "histogram2d": [
           {
            "colorbar": {
             "outlinewidth": 0,
             "ticks": ""
            },
            "colorscale": [
             [
              0,
              "#0d0887"
             ],
             [
              0.1111111111111111,
              "#46039f"
             ],
             [
              0.2222222222222222,
              "#7201a8"
             ],
             [
              0.3333333333333333,
              "#9c179e"
             ],
             [
              0.4444444444444444,
              "#bd3786"
             ],
             [
              0.5555555555555556,
              "#d8576b"
             ],
             [
              0.6666666666666666,
              "#ed7953"
             ],
             [
              0.7777777777777778,
              "#fb9f3a"
             ],
             [
              0.8888888888888888,
              "#fdca26"
             ],
             [
              1,
              "#f0f921"
             ]
            ],
            "type": "histogram2d"
           }
          ],
          "histogram2dcontour": [
           {
            "colorbar": {
             "outlinewidth": 0,
             "ticks": ""
            },
            "colorscale": [
             [
              0,
              "#0d0887"
             ],
             [
              0.1111111111111111,
              "#46039f"
             ],
             [
              0.2222222222222222,
              "#7201a8"
             ],
             [
              0.3333333333333333,
              "#9c179e"
             ],
             [
              0.4444444444444444,
              "#bd3786"
             ],
             [
              0.5555555555555556,
              "#d8576b"
             ],
             [
              0.6666666666666666,
              "#ed7953"
             ],
             [
              0.7777777777777778,
              "#fb9f3a"
             ],
             [
              0.8888888888888888,
              "#fdca26"
             ],
             [
              1,
              "#f0f921"
             ]
            ],
            "type": "histogram2dcontour"
           }
          ],
          "mesh3d": [
           {
            "colorbar": {
             "outlinewidth": 0,
             "ticks": ""
            },
            "type": "mesh3d"
           }
          ],
          "parcoords": [
           {
            "line": {
             "colorbar": {
              "outlinewidth": 0,
              "ticks": ""
             }
            },
            "type": "parcoords"
           }
          ],
          "pie": [
           {
            "automargin": true,
            "type": "pie"
           }
          ],
          "scatter": [
           {
            "fillpattern": {
             "fillmode": "overlay",
             "size": 10,
             "solidity": 0.2
            },
            "type": "scatter"
           }
          ],
          "scatter3d": [
           {
            "line": {
             "colorbar": {
              "outlinewidth": 0,
              "ticks": ""
             }
            },
            "marker": {
             "colorbar": {
              "outlinewidth": 0,
              "ticks": ""
             }
            },
            "type": "scatter3d"
           }
          ],
          "scattercarpet": [
           {
            "marker": {
             "colorbar": {
              "outlinewidth": 0,
              "ticks": ""
             }
            },
            "type": "scattercarpet"
           }
          ],
          "scattergeo": [
           {
            "marker": {
             "colorbar": {
              "outlinewidth": 0,
              "ticks": ""
             }
            },
            "type": "scattergeo"
           }
          ],
          "scattergl": [
           {
            "marker": {
             "colorbar": {
              "outlinewidth": 0,
              "ticks": ""
             }
            },
            "type": "scattergl"
           }
          ],
          "scattermapbox": [
           {
            "marker": {
             "colorbar": {
              "outlinewidth": 0,
              "ticks": ""
             }
            },
            "type": "scattermapbox"
           }
          ],
          "scatterpolar": [
           {
            "marker": {
             "colorbar": {
              "outlinewidth": 0,
              "ticks": ""
             }
            },
            "type": "scatterpolar"
           }
          ],
          "scatterpolargl": [
           {
            "marker": {
             "colorbar": {
              "outlinewidth": 0,
              "ticks": ""
             }
            },
            "type": "scatterpolargl"
           }
          ],
          "scatterternary": [
           {
            "marker": {
             "colorbar": {
              "outlinewidth": 0,
              "ticks": ""
             }
            },
            "type": "scatterternary"
           }
          ],
          "surface": [
           {
            "colorbar": {
             "outlinewidth": 0,
             "ticks": ""
            },
            "colorscale": [
             [
              0,
              "#0d0887"
             ],
             [
              0.1111111111111111,
              "#46039f"
             ],
             [
              0.2222222222222222,
              "#7201a8"
             ],
             [
              0.3333333333333333,
              "#9c179e"
             ],
             [
              0.4444444444444444,
              "#bd3786"
             ],
             [
              0.5555555555555556,
              "#d8576b"
             ],
             [
              0.6666666666666666,
              "#ed7953"
             ],
             [
              0.7777777777777778,
              "#fb9f3a"
             ],
             [
              0.8888888888888888,
              "#fdca26"
             ],
             [
              1,
              "#f0f921"
             ]
            ],
            "type": "surface"
           }
          ],
          "table": [
           {
            "cells": {
             "fill": {
              "color": "#EBF0F8"
             },
             "line": {
              "color": "white"
             }
            },
            "header": {
             "fill": {
              "color": "#C8D4E3"
             },
             "line": {
              "color": "white"
             }
            },
            "type": "table"
           }
          ]
         },
         "layout": {
          "annotationdefaults": {
           "arrowcolor": "#2a3f5f",
           "arrowhead": 0,
           "arrowwidth": 1
          },
          "autotypenumbers": "strict",
          "coloraxis": {
           "colorbar": {
            "outlinewidth": 0,
            "ticks": ""
           }
          },
          "colorscale": {
           "diverging": [
            [
             0,
             "#8e0152"
            ],
            [
             0.1,
             "#c51b7d"
            ],
            [
             0.2,
             "#de77ae"
            ],
            [
             0.3,
             "#f1b6da"
            ],
            [
             0.4,
             "#fde0ef"
            ],
            [
             0.5,
             "#f7f7f7"
            ],
            [
             0.6,
             "#e6f5d0"
            ],
            [
             0.7,
             "#b8e186"
            ],
            [
             0.8,
             "#7fbc41"
            ],
            [
             0.9,
             "#4d9221"
            ],
            [
             1,
             "#276419"
            ]
           ],
           "sequential": [
            [
             0,
             "#0d0887"
            ],
            [
             0.1111111111111111,
             "#46039f"
            ],
            [
             0.2222222222222222,
             "#7201a8"
            ],
            [
             0.3333333333333333,
             "#9c179e"
            ],
            [
             0.4444444444444444,
             "#bd3786"
            ],
            [
             0.5555555555555556,
             "#d8576b"
            ],
            [
             0.6666666666666666,
             "#ed7953"
            ],
            [
             0.7777777777777778,
             "#fb9f3a"
            ],
            [
             0.8888888888888888,
             "#fdca26"
            ],
            [
             1,
             "#f0f921"
            ]
           ],
           "sequentialminus": [
            [
             0,
             "#0d0887"
            ],
            [
             0.1111111111111111,
             "#46039f"
            ],
            [
             0.2222222222222222,
             "#7201a8"
            ],
            [
             0.3333333333333333,
             "#9c179e"
            ],
            [
             0.4444444444444444,
             "#bd3786"
            ],
            [
             0.5555555555555556,
             "#d8576b"
            ],
            [
             0.6666666666666666,
             "#ed7953"
            ],
            [
             0.7777777777777778,
             "#fb9f3a"
            ],
            [
             0.8888888888888888,
             "#fdca26"
            ],
            [
             1,
             "#f0f921"
            ]
           ]
          },
          "colorway": [
           "#636efa",
           "#EF553B",
           "#00cc96",
           "#ab63fa",
           "#FFA15A",
           "#19d3f3",
           "#FF6692",
           "#B6E880",
           "#FF97FF",
           "#FECB52"
          ],
          "font": {
           "color": "#2a3f5f"
          },
          "geo": {
           "bgcolor": "white",
           "lakecolor": "white",
           "landcolor": "#E5ECF6",
           "showlakes": true,
           "showland": true,
           "subunitcolor": "white"
          },
          "hoverlabel": {
           "align": "left"
          },
          "hovermode": "closest",
          "mapbox": {
           "style": "light"
          },
          "paper_bgcolor": "white",
          "plot_bgcolor": "#E5ECF6",
          "polar": {
           "angularaxis": {
            "gridcolor": "white",
            "linecolor": "white",
            "ticks": ""
           },
           "bgcolor": "#E5ECF6",
           "radialaxis": {
            "gridcolor": "white",
            "linecolor": "white",
            "ticks": ""
           }
          },
          "scene": {
           "xaxis": {
            "backgroundcolor": "#E5ECF6",
            "gridcolor": "white",
            "gridwidth": 2,
            "linecolor": "white",
            "showbackground": true,
            "ticks": "",
            "zerolinecolor": "white"
           },
           "yaxis": {
            "backgroundcolor": "#E5ECF6",
            "gridcolor": "white",
            "gridwidth": 2,
            "linecolor": "white",
            "showbackground": true,
            "ticks": "",
            "zerolinecolor": "white"
           },
           "zaxis": {
            "backgroundcolor": "#E5ECF6",
            "gridcolor": "white",
            "gridwidth": 2,
            "linecolor": "white",
            "showbackground": true,
            "ticks": "",
            "zerolinecolor": "white"
           }
          },
          "shapedefaults": {
           "line": {
            "color": "#2a3f5f"
           }
          },
          "ternary": {
           "aaxis": {
            "gridcolor": "white",
            "linecolor": "white",
            "ticks": ""
           },
           "baxis": {
            "gridcolor": "white",
            "linecolor": "white",
            "ticks": ""
           },
           "bgcolor": "#E5ECF6",
           "caxis": {
            "gridcolor": "white",
            "linecolor": "white",
            "ticks": ""
           }
          },
          "title": {
           "x": 0.05
          },
          "xaxis": {
           "automargin": true,
           "gridcolor": "white",
           "linecolor": "white",
           "ticks": "",
           "title": {
            "standoff": 15
           },
           "zerolinecolor": "white",
           "zerolinewidth": 2
          },
          "yaxis": {
           "automargin": true,
           "gridcolor": "white",
           "linecolor": "white",
           "ticks": "",
           "title": {
            "standoff": 15
           },
           "zerolinecolor": "white",
           "zerolinewidth": 2
          }
         }
        },
        "title": {
         "text": "Histogram with Median"
        },
        "xaxis": {
         "anchor": "y",
         "domain": [
          0,
          1
         ],
         "title": {
          "text": "flipper_length_mm"
         }
        },
        "yaxis": {
         "anchor": "x",
         "domain": [
          0,
          1
         ],
         "title": {
          "text": "count"
         }
        }
       }
      },
      "text/html": [
       "<div>                            <div id=\"aad81c24-ec61-4542-8760-87811634f1fa\" class=\"plotly-graph-div\" style=\"height:525px; width:100%;\"></div>            <script type=\"text/javascript\">                require([\"plotly\"], function(Plotly) {                    window.PLOTLYENV=window.PLOTLYENV || {};                                    if (document.getElementById(\"aad81c24-ec61-4542-8760-87811634f1fa\")) {                    Plotly.newPlot(                        \"aad81c24-ec61-4542-8760-87811634f1fa\",                        [{\"alignmentgroup\":\"True\",\"bingroup\":\"x\",\"hovertemplate\":\"flipper_length_mm=%{x}\\u003cbr\\u003ecount=%{y}\\u003cextra\\u003e\\u003c\\u002fextra\\u003e\",\"legendgroup\":\"\",\"marker\":{\"color\":\"#636efa\",\"pattern\":{\"shape\":\"\"}},\"name\":\"\",\"nbinsx\":30,\"offsetgroup\":\"\",\"orientation\":\"v\",\"showlegend\":false,\"x\":[181.0,186.0,195.0,null,193.0,190.0,181.0,195.0,193.0,190.0,186.0,180.0,182.0,191.0,198.0,185.0,195.0,197.0,184.0,194.0,174.0,180.0,189.0,185.0,180.0,187.0,183.0,187.0,172.0,180.0,178.0,178.0,188.0,184.0,195.0,196.0,190.0,180.0,181.0,184.0,182.0,195.0,186.0,196.0,185.0,190.0,182.0,179.0,190.0,191.0,186.0,188.0,190.0,200.0,187.0,191.0,186.0,193.0,181.0,194.0,185.0,195.0,185.0,192.0,184.0,192.0,195.0,188.0,190.0,198.0,190.0,190.0,196.0,197.0,190.0,195.0,191.0,184.0,187.0,195.0,189.0,196.0,187.0,193.0,191.0,194.0,190.0,189.0,189.0,190.0,202.0,205.0,185.0,186.0,187.0,208.0,190.0,196.0,178.0,192.0,192.0,203.0,183.0,190.0,193.0,184.0,199.0,190.0,181.0,197.0,198.0,191.0,193.0,197.0,191.0,196.0,188.0,199.0,189.0,189.0,187.0,198.0,176.0,202.0,186.0,199.0,191.0,195.0,191.0,210.0,190.0,197.0,193.0,199.0,187.0,190.0,191.0,200.0,185.0,193.0,193.0,187.0,188.0,190.0,192.0,185.0,190.0,184.0,195.0,193.0,187.0,201.0,192.0,196.0,193.0,188.0,197.0,198.0,178.0,197.0,195.0,198.0,193.0,194.0,185.0,201.0,190.0,201.0,197.0,181.0,190.0,195.0,181.0,191.0,187.0,193.0,195.0,197.0,200.0,200.0,191.0,205.0,187.0,201.0,187.0,203.0,195.0,199.0,195.0,210.0,192.0,205.0,210.0,187.0,196.0,196.0,196.0,201.0,190.0,212.0,187.0,198.0,199.0,201.0,193.0,203.0,187.0,197.0,191.0,203.0,202.0,194.0,206.0,189.0,195.0,207.0,202.0,193.0,210.0,198.0,211.0,230.0,210.0,218.0,215.0,210.0,211.0,219.0,209.0,215.0,214.0,216.0,214.0,213.0,210.0,217.0,210.0,221.0,209.0,222.0,218.0,215.0,213.0,215.0,215.0,215.0,216.0,215.0,210.0,220.0,222.0,209.0,207.0,230.0,220.0,220.0,213.0,219.0,208.0,208.0,208.0,225.0,210.0,216.0,222.0,217.0,210.0,225.0,213.0,215.0,210.0,220.0,210.0,225.0,217.0,220.0,208.0,220.0,208.0,224.0,208.0,221.0,214.0,231.0,219.0,230.0,214.0,229.0,220.0,223.0,216.0,221.0,221.0,217.0,216.0,230.0,209.0,220.0,215.0,223.0,212.0,221.0,212.0,224.0,212.0,228.0,218.0,218.0,212.0,230.0,218.0,228.0,212.0,224.0,214.0,226.0,216.0,222.0,203.0,225.0,219.0,228.0,215.0,228.0,216.0,215.0,210.0,219.0,208.0,209.0,216.0,229.0,213.0,230.0,217.0,230.0,217.0,222.0,214.0,null,215.0,222.0,212.0,213.0],\"xaxis\":\"x\",\"yaxis\":\"y\",\"type\":\"histogram\"}],                        {\"template\":{\"data\":{\"histogram2dcontour\":[{\"type\":\"histogram2dcontour\",\"colorbar\":{\"outlinewidth\":0,\"ticks\":\"\"},\"colorscale\":[[0.0,\"#0d0887\"],[0.1111111111111111,\"#46039f\"],[0.2222222222222222,\"#7201a8\"],[0.3333333333333333,\"#9c179e\"],[0.4444444444444444,\"#bd3786\"],[0.5555555555555556,\"#d8576b\"],[0.6666666666666666,\"#ed7953\"],[0.7777777777777778,\"#fb9f3a\"],[0.8888888888888888,\"#fdca26\"],[1.0,\"#f0f921\"]]}],\"choropleth\":[{\"type\":\"choropleth\",\"colorbar\":{\"outlinewidth\":0,\"ticks\":\"\"}}],\"histogram2d\":[{\"type\":\"histogram2d\",\"colorbar\":{\"outlinewidth\":0,\"ticks\":\"\"},\"colorscale\":[[0.0,\"#0d0887\"],[0.1111111111111111,\"#46039f\"],[0.2222222222222222,\"#7201a8\"],[0.3333333333333333,\"#9c179e\"],[0.4444444444444444,\"#bd3786\"],[0.5555555555555556,\"#d8576b\"],[0.6666666666666666,\"#ed7953\"],[0.7777777777777778,\"#fb9f3a\"],[0.8888888888888888,\"#fdca26\"],[1.0,\"#f0f921\"]]}],\"heatmap\":[{\"type\":\"heatmap\",\"colorbar\":{\"outlinewidth\":0,\"ticks\":\"\"},\"colorscale\":[[0.0,\"#0d0887\"],[0.1111111111111111,\"#46039f\"],[0.2222222222222222,\"#7201a8\"],[0.3333333333333333,\"#9c179e\"],[0.4444444444444444,\"#bd3786\"],[0.5555555555555556,\"#d8576b\"],[0.6666666666666666,\"#ed7953\"],[0.7777777777777778,\"#fb9f3a\"],[0.8888888888888888,\"#fdca26\"],[1.0,\"#f0f921\"]]}],\"heatmapgl\":[{\"type\":\"heatmapgl\",\"colorbar\":{\"outlinewidth\":0,\"ticks\":\"\"},\"colorscale\":[[0.0,\"#0d0887\"],[0.1111111111111111,\"#46039f\"],[0.2222222222222222,\"#7201a8\"],[0.3333333333333333,\"#9c179e\"],[0.4444444444444444,\"#bd3786\"],[0.5555555555555556,\"#d8576b\"],[0.6666666666666666,\"#ed7953\"],[0.7777777777777778,\"#fb9f3a\"],[0.8888888888888888,\"#fdca26\"],[1.0,\"#f0f921\"]]}],\"contourcarpet\":[{\"type\":\"contourcarpet\",\"colorbar\":{\"outlinewidth\":0,\"ticks\":\"\"}}],\"contour\":[{\"type\":\"contour\",\"colorbar\":{\"outlinewidth\":0,\"ticks\":\"\"},\"colorscale\":[[0.0,\"#0d0887\"],[0.1111111111111111,\"#46039f\"],[0.2222222222222222,\"#7201a8\"],[0.3333333333333333,\"#9c179e\"],[0.4444444444444444,\"#bd3786\"],[0.5555555555555556,\"#d8576b\"],[0.6666666666666666,\"#ed7953\"],[0.7777777777777778,\"#fb9f3a\"],[0.8888888888888888,\"#fdca26\"],[1.0,\"#f0f921\"]]}],\"surface\":[{\"type\":\"surface\",\"colorbar\":{\"outlinewidth\":0,\"ticks\":\"\"},\"colorscale\":[[0.0,\"#0d0887\"],[0.1111111111111111,\"#46039f\"],[0.2222222222222222,\"#7201a8\"],[0.3333333333333333,\"#9c179e\"],[0.4444444444444444,\"#bd3786\"],[0.5555555555555556,\"#d8576b\"],[0.6666666666666666,\"#ed7953\"],[0.7777777777777778,\"#fb9f3a\"],[0.8888888888888888,\"#fdca26\"],[1.0,\"#f0f921\"]]}],\"mesh3d\":[{\"type\":\"mesh3d\",\"colorbar\":{\"outlinewidth\":0,\"ticks\":\"\"}}],\"scatter\":[{\"fillpattern\":{\"fillmode\":\"overlay\",\"size\":10,\"solidity\":0.2},\"type\":\"scatter\"}],\"parcoords\":[{\"type\":\"parcoords\",\"line\":{\"colorbar\":{\"outlinewidth\":0,\"ticks\":\"\"}}}],\"scatterpolargl\":[{\"type\":\"scatterpolargl\",\"marker\":{\"colorbar\":{\"outlinewidth\":0,\"ticks\":\"\"}}}],\"bar\":[{\"error_x\":{\"color\":\"#2a3f5f\"},\"error_y\":{\"color\":\"#2a3f5f\"},\"marker\":{\"line\":{\"color\":\"#E5ECF6\",\"width\":0.5},\"pattern\":{\"fillmode\":\"overlay\",\"size\":10,\"solidity\":0.2}},\"type\":\"bar\"}],\"scattergeo\":[{\"type\":\"scattergeo\",\"marker\":{\"colorbar\":{\"outlinewidth\":0,\"ticks\":\"\"}}}],\"scatterpolar\":[{\"type\":\"scatterpolar\",\"marker\":{\"colorbar\":{\"outlinewidth\":0,\"ticks\":\"\"}}}],\"histogram\":[{\"marker\":{\"pattern\":{\"fillmode\":\"overlay\",\"size\":10,\"solidity\":0.2}},\"type\":\"histogram\"}],\"scattergl\":[{\"type\":\"scattergl\",\"marker\":{\"colorbar\":{\"outlinewidth\":0,\"ticks\":\"\"}}}],\"scatter3d\":[{\"type\":\"scatter3d\",\"line\":{\"colorbar\":{\"outlinewidth\":0,\"ticks\":\"\"}},\"marker\":{\"colorbar\":{\"outlinewidth\":0,\"ticks\":\"\"}}}],\"scattermapbox\":[{\"type\":\"scattermapbox\",\"marker\":{\"colorbar\":{\"outlinewidth\":0,\"ticks\":\"\"}}}],\"scatterternary\":[{\"type\":\"scatterternary\",\"marker\":{\"colorbar\":{\"outlinewidth\":0,\"ticks\":\"\"}}}],\"scattercarpet\":[{\"type\":\"scattercarpet\",\"marker\":{\"colorbar\":{\"outlinewidth\":0,\"ticks\":\"\"}}}],\"carpet\":[{\"aaxis\":{\"endlinecolor\":\"#2a3f5f\",\"gridcolor\":\"white\",\"linecolor\":\"white\",\"minorgridcolor\":\"white\",\"startlinecolor\":\"#2a3f5f\"},\"baxis\":{\"endlinecolor\":\"#2a3f5f\",\"gridcolor\":\"white\",\"linecolor\":\"white\",\"minorgridcolor\":\"white\",\"startlinecolor\":\"#2a3f5f\"},\"type\":\"carpet\"}],\"table\":[{\"cells\":{\"fill\":{\"color\":\"#EBF0F8\"},\"line\":{\"color\":\"white\"}},\"header\":{\"fill\":{\"color\":\"#C8D4E3\"},\"line\":{\"color\":\"white\"}},\"type\":\"table\"}],\"barpolar\":[{\"marker\":{\"line\":{\"color\":\"#E5ECF6\",\"width\":0.5},\"pattern\":{\"fillmode\":\"overlay\",\"size\":10,\"solidity\":0.2}},\"type\":\"barpolar\"}],\"pie\":[{\"automargin\":true,\"type\":\"pie\"}]},\"layout\":{\"autotypenumbers\":\"strict\",\"colorway\":[\"#636efa\",\"#EF553B\",\"#00cc96\",\"#ab63fa\",\"#FFA15A\",\"#19d3f3\",\"#FF6692\",\"#B6E880\",\"#FF97FF\",\"#FECB52\"],\"font\":{\"color\":\"#2a3f5f\"},\"hovermode\":\"closest\",\"hoverlabel\":{\"align\":\"left\"},\"paper_bgcolor\":\"white\",\"plot_bgcolor\":\"#E5ECF6\",\"polar\":{\"bgcolor\":\"#E5ECF6\",\"angularaxis\":{\"gridcolor\":\"white\",\"linecolor\":\"white\",\"ticks\":\"\"},\"radialaxis\":{\"gridcolor\":\"white\",\"linecolor\":\"white\",\"ticks\":\"\"}},\"ternary\":{\"bgcolor\":\"#E5ECF6\",\"aaxis\":{\"gridcolor\":\"white\",\"linecolor\":\"white\",\"ticks\":\"\"},\"baxis\":{\"gridcolor\":\"white\",\"linecolor\":\"white\",\"ticks\":\"\"},\"caxis\":{\"gridcolor\":\"white\",\"linecolor\":\"white\",\"ticks\":\"\"}},\"coloraxis\":{\"colorbar\":{\"outlinewidth\":0,\"ticks\":\"\"}},\"colorscale\":{\"sequential\":[[0.0,\"#0d0887\"],[0.1111111111111111,\"#46039f\"],[0.2222222222222222,\"#7201a8\"],[0.3333333333333333,\"#9c179e\"],[0.4444444444444444,\"#bd3786\"],[0.5555555555555556,\"#d8576b\"],[0.6666666666666666,\"#ed7953\"],[0.7777777777777778,\"#fb9f3a\"],[0.8888888888888888,\"#fdca26\"],[1.0,\"#f0f921\"]],\"sequentialminus\":[[0.0,\"#0d0887\"],[0.1111111111111111,\"#46039f\"],[0.2222222222222222,\"#7201a8\"],[0.3333333333333333,\"#9c179e\"],[0.4444444444444444,\"#bd3786\"],[0.5555555555555556,\"#d8576b\"],[0.6666666666666666,\"#ed7953\"],[0.7777777777777778,\"#fb9f3a\"],[0.8888888888888888,\"#fdca26\"],[1.0,\"#f0f921\"]],\"diverging\":[[0,\"#8e0152\"],[0.1,\"#c51b7d\"],[0.2,\"#de77ae\"],[0.3,\"#f1b6da\"],[0.4,\"#fde0ef\"],[0.5,\"#f7f7f7\"],[0.6,\"#e6f5d0\"],[0.7,\"#b8e186\"],[0.8,\"#7fbc41\"],[0.9,\"#4d9221\"],[1,\"#276419\"]]},\"xaxis\":{\"gridcolor\":\"white\",\"linecolor\":\"white\",\"ticks\":\"\",\"title\":{\"standoff\":15},\"zerolinecolor\":\"white\",\"automargin\":true,\"zerolinewidth\":2},\"yaxis\":{\"gridcolor\":\"white\",\"linecolor\":\"white\",\"ticks\":\"\",\"title\":{\"standoff\":15},\"zerolinecolor\":\"white\",\"automargin\":true,\"zerolinewidth\":2},\"scene\":{\"xaxis\":{\"backgroundcolor\":\"#E5ECF6\",\"gridcolor\":\"white\",\"linecolor\":\"white\",\"showbackground\":true,\"ticks\":\"\",\"zerolinecolor\":\"white\",\"gridwidth\":2},\"yaxis\":{\"backgroundcolor\":\"#E5ECF6\",\"gridcolor\":\"white\",\"linecolor\":\"white\",\"showbackground\":true,\"ticks\":\"\",\"zerolinecolor\":\"white\",\"gridwidth\":2},\"zaxis\":{\"backgroundcolor\":\"#E5ECF6\",\"gridcolor\":\"white\",\"linecolor\":\"white\",\"showbackground\":true,\"ticks\":\"\",\"zerolinecolor\":\"white\",\"gridwidth\":2}},\"shapedefaults\":{\"line\":{\"color\":\"#2a3f5f\"}},\"annotationdefaults\":{\"arrowcolor\":\"#2a3f5f\",\"arrowhead\":0,\"arrowwidth\":1},\"geo\":{\"bgcolor\":\"white\",\"landcolor\":\"#E5ECF6\",\"subunitcolor\":\"white\",\"showland\":true,\"showlakes\":true,\"lakecolor\":\"white\"},\"title\":{\"x\":0.05},\"mapbox\":{\"style\":\"light\"}}},\"xaxis\":{\"anchor\":\"y\",\"domain\":[0.0,1.0],\"title\":{\"text\":\"flipper_length_mm\"}},\"yaxis\":{\"anchor\":\"x\",\"domain\":[0.0,1.0],\"title\":{\"text\":\"count\"}},\"legend\":{\"tracegroupgap\":0},\"title\":{\"text\":\"Histogram with Median\"},\"barmode\":\"relative\",\"shapes\":[{\"line\":{\"color\":\"orange\",\"dash\":\"dot\",\"width\":2},\"type\":\"line\",\"x0\":197.0,\"x1\":197.0,\"xref\":\"x\",\"y0\":0,\"y1\":1,\"yref\":\"y domain\"}],\"annotations\":[{\"showarrow\":false,\"text\":\"Median\",\"x\":197.0,\"xanchor\":\"left\",\"xref\":\"x\",\"y\":1,\"yanchor\":\"top\",\"yref\":\"y domain\"}]},                        {\"responsive\": true}                    ).then(function(){\n",
       "                            \n",
       "var gd = document.getElementById('aad81c24-ec61-4542-8760-87811634f1fa');\n",
       "var x = new MutationObserver(function (mutations, observer) {{\n",
       "        var display = window.getComputedStyle(gd).display;\n",
       "        if (!display || display === 'none') {{\n",
       "            console.log([gd, 'removed!']);\n",
       "            Plotly.purge(gd);\n",
       "            observer.disconnect();\n",
       "        }}\n",
       "}});\n",
       "\n",
       "// Listen for the removal of the full notebook cells\n",
       "var notebookContainer = gd.closest('#notebook-container');\n",
       "if (notebookContainer) {{\n",
       "    x.observe(notebookContainer, {childList: true});\n",
       "}}\n",
       "\n",
       "// Listen for the clearing of the current output cell\n",
       "var outputEl = gd.closest('.output');\n",
       "if (outputEl) {{\n",
       "    x.observe(outputEl, {childList: true});\n",
       "}}\n",
       "\n",
       "                        })                };                });            </script>        </div>"
      ]
     },
     "metadata": {},
     "output_type": "display_data"
    },
    {
     "data": {
      "application/vnd.plotly.v1+json": {
       "config": {
        "plotlyServerURL": "https://plot.ly"
       },
       "data": [
        {
         "alignmentgroup": "True",
         "bingroup": "x",
         "hovertemplate": "flipper_length_mm=%{x}<br>count=%{y}<extra></extra>",
         "legendgroup": "",
         "marker": {
          "color": "#636efa",
          "pattern": {
           "shape": ""
          }
         },
         "name": "",
         "nbinsx": 30,
         "offsetgroup": "",
         "orientation": "v",
         "showlegend": false,
         "type": "histogram",
         "x": [
          181,
          186,
          195,
          null,
          193,
          190,
          181,
          195,
          193,
          190,
          186,
          180,
          182,
          191,
          198,
          185,
          195,
          197,
          184,
          194,
          174,
          180,
          189,
          185,
          180,
          187,
          183,
          187,
          172,
          180,
          178,
          178,
          188,
          184,
          195,
          196,
          190,
          180,
          181,
          184,
          182,
          195,
          186,
          196,
          185,
          190,
          182,
          179,
          190,
          191,
          186,
          188,
          190,
          200,
          187,
          191,
          186,
          193,
          181,
          194,
          185,
          195,
          185,
          192,
          184,
          192,
          195,
          188,
          190,
          198,
          190,
          190,
          196,
          197,
          190,
          195,
          191,
          184,
          187,
          195,
          189,
          196,
          187,
          193,
          191,
          194,
          190,
          189,
          189,
          190,
          202,
          205,
          185,
          186,
          187,
          208,
          190,
          196,
          178,
          192,
          192,
          203,
          183,
          190,
          193,
          184,
          199,
          190,
          181,
          197,
          198,
          191,
          193,
          197,
          191,
          196,
          188,
          199,
          189,
          189,
          187,
          198,
          176,
          202,
          186,
          199,
          191,
          195,
          191,
          210,
          190,
          197,
          193,
          199,
          187,
          190,
          191,
          200,
          185,
          193,
          193,
          187,
          188,
          190,
          192,
          185,
          190,
          184,
          195,
          193,
          187,
          201,
          192,
          196,
          193,
          188,
          197,
          198,
          178,
          197,
          195,
          198,
          193,
          194,
          185,
          201,
          190,
          201,
          197,
          181,
          190,
          195,
          181,
          191,
          187,
          193,
          195,
          197,
          200,
          200,
          191,
          205,
          187,
          201,
          187,
          203,
          195,
          199,
          195,
          210,
          192,
          205,
          210,
          187,
          196,
          196,
          196,
          201,
          190,
          212,
          187,
          198,
          199,
          201,
          193,
          203,
          187,
          197,
          191,
          203,
          202,
          194,
          206,
          189,
          195,
          207,
          202,
          193,
          210,
          198,
          211,
          230,
          210,
          218,
          215,
          210,
          211,
          219,
          209,
          215,
          214,
          216,
          214,
          213,
          210,
          217,
          210,
          221,
          209,
          222,
          218,
          215,
          213,
          215,
          215,
          215,
          216,
          215,
          210,
          220,
          222,
          209,
          207,
          230,
          220,
          220,
          213,
          219,
          208,
          208,
          208,
          225,
          210,
          216,
          222,
          217,
          210,
          225,
          213,
          215,
          210,
          220,
          210,
          225,
          217,
          220,
          208,
          220,
          208,
          224,
          208,
          221,
          214,
          231,
          219,
          230,
          214,
          229,
          220,
          223,
          216,
          221,
          221,
          217,
          216,
          230,
          209,
          220,
          215,
          223,
          212,
          221,
          212,
          224,
          212,
          228,
          218,
          218,
          212,
          230,
          218,
          228,
          212,
          224,
          214,
          226,
          216,
          222,
          203,
          225,
          219,
          228,
          215,
          228,
          216,
          215,
          210,
          219,
          208,
          209,
          216,
          229,
          213,
          230,
          217,
          230,
          217,
          222,
          214,
          null,
          215,
          222,
          212,
          213
         ],
         "xaxis": "x",
         "yaxis": "y"
        }
       ],
       "layout": {
        "annotations": [
         {
          "showarrow": false,
          "text": "+2 Std Dev",
          "x": 229.03863203707638,
          "xanchor": "right",
          "xref": "x",
          "y": 1,
          "yanchor": "top",
          "yref": "y domain"
         },
         {
          "showarrow": false,
          "text": "-2 Std Dev",
          "x": 172.7917773196488,
          "xanchor": "left",
          "xref": "x",
          "y": 1,
          "yanchor": "top",
          "yref": "y domain"
         }
        ],
        "barmode": "relative",
        "legend": {
         "tracegroupgap": 0
        },
        "shapes": [
         {
          "line": {
           "color": "green",
           "dash": "dot",
           "width": 2
          },
          "type": "line",
          "x0": 229.03863203707638,
          "x1": 229.03863203707638,
          "xref": "x",
          "y0": 0,
          "y1": 1,
          "yref": "y domain"
         },
         {
          "line": {
           "color": "green",
           "dash": "dot",
           "width": 2
          },
          "type": "line",
          "x0": 172.7917773196488,
          "x1": 172.7917773196488,
          "xref": "x",
          "y0": 0,
          "y1": 1,
          "yref": "y domain"
         }
        ],
        "template": {
         "data": {
          "bar": [
           {
            "error_x": {
             "color": "#2a3f5f"
            },
            "error_y": {
             "color": "#2a3f5f"
            },
            "marker": {
             "line": {
              "color": "#E5ECF6",
              "width": 0.5
             },
             "pattern": {
              "fillmode": "overlay",
              "size": 10,
              "solidity": 0.2
             }
            },
            "type": "bar"
           }
          ],
          "barpolar": [
           {
            "marker": {
             "line": {
              "color": "#E5ECF6",
              "width": 0.5
             },
             "pattern": {
              "fillmode": "overlay",
              "size": 10,
              "solidity": 0.2
             }
            },
            "type": "barpolar"
           }
          ],
          "carpet": [
           {
            "aaxis": {
             "endlinecolor": "#2a3f5f",
             "gridcolor": "white",
             "linecolor": "white",
             "minorgridcolor": "white",
             "startlinecolor": "#2a3f5f"
            },
            "baxis": {
             "endlinecolor": "#2a3f5f",
             "gridcolor": "white",
             "linecolor": "white",
             "minorgridcolor": "white",
             "startlinecolor": "#2a3f5f"
            },
            "type": "carpet"
           }
          ],
          "choropleth": [
           {
            "colorbar": {
             "outlinewidth": 0,
             "ticks": ""
            },
            "type": "choropleth"
           }
          ],
          "contour": [
           {
            "colorbar": {
             "outlinewidth": 0,
             "ticks": ""
            },
            "colorscale": [
             [
              0,
              "#0d0887"
             ],
             [
              0.1111111111111111,
              "#46039f"
             ],
             [
              0.2222222222222222,
              "#7201a8"
             ],
             [
              0.3333333333333333,
              "#9c179e"
             ],
             [
              0.4444444444444444,
              "#bd3786"
             ],
             [
              0.5555555555555556,
              "#d8576b"
             ],
             [
              0.6666666666666666,
              "#ed7953"
             ],
             [
              0.7777777777777778,
              "#fb9f3a"
             ],
             [
              0.8888888888888888,
              "#fdca26"
             ],
             [
              1,
              "#f0f921"
             ]
            ],
            "type": "contour"
           }
          ],
          "contourcarpet": [
           {
            "colorbar": {
             "outlinewidth": 0,
             "ticks": ""
            },
            "type": "contourcarpet"
           }
          ],
          "heatmap": [
           {
            "colorbar": {
             "outlinewidth": 0,
             "ticks": ""
            },
            "colorscale": [
             [
              0,
              "#0d0887"
             ],
             [
              0.1111111111111111,
              "#46039f"
             ],
             [
              0.2222222222222222,
              "#7201a8"
             ],
             [
              0.3333333333333333,
              "#9c179e"
             ],
             [
              0.4444444444444444,
              "#bd3786"
             ],
             [
              0.5555555555555556,
              "#d8576b"
             ],
             [
              0.6666666666666666,
              "#ed7953"
             ],
             [
              0.7777777777777778,
              "#fb9f3a"
             ],
             [
              0.8888888888888888,
              "#fdca26"
             ],
             [
              1,
              "#f0f921"
             ]
            ],
            "type": "heatmap"
           }
          ],
          "heatmapgl": [
           {
            "colorbar": {
             "outlinewidth": 0,
             "ticks": ""
            },
            "colorscale": [
             [
              0,
              "#0d0887"
             ],
             [
              0.1111111111111111,
              "#46039f"
             ],
             [
              0.2222222222222222,
              "#7201a8"
             ],
             [
              0.3333333333333333,
              "#9c179e"
             ],
             [
              0.4444444444444444,
              "#bd3786"
             ],
             [
              0.5555555555555556,
              "#d8576b"
             ],
             [
              0.6666666666666666,
              "#ed7953"
             ],
             [
              0.7777777777777778,
              "#fb9f3a"
             ],
             [
              0.8888888888888888,
              "#fdca26"
             ],
             [
              1,
              "#f0f921"
             ]
            ],
            "type": "heatmapgl"
           }
          ],
          "histogram": [
           {
            "marker": {
             "pattern": {
              "fillmode": "overlay",
              "size": 10,
              "solidity": 0.2
             }
            },
            "type": "histogram"
           }
          ],
          "histogram2d": [
           {
            "colorbar": {
             "outlinewidth": 0,
             "ticks": ""
            },
            "colorscale": [
             [
              0,
              "#0d0887"
             ],
             [
              0.1111111111111111,
              "#46039f"
             ],
             [
              0.2222222222222222,
              "#7201a8"
             ],
             [
              0.3333333333333333,
              "#9c179e"
             ],
             [
              0.4444444444444444,
              "#bd3786"
             ],
             [
              0.5555555555555556,
              "#d8576b"
             ],
             [
              0.6666666666666666,
              "#ed7953"
             ],
             [
              0.7777777777777778,
              "#fb9f3a"
             ],
             [
              0.8888888888888888,
              "#fdca26"
             ],
             [
              1,
              "#f0f921"
             ]
            ],
            "type": "histogram2d"
           }
          ],
          "histogram2dcontour": [
           {
            "colorbar": {
             "outlinewidth": 0,
             "ticks": ""
            },
            "colorscale": [
             [
              0,
              "#0d0887"
             ],
             [
              0.1111111111111111,
              "#46039f"
             ],
             [
              0.2222222222222222,
              "#7201a8"
             ],
             [
              0.3333333333333333,
              "#9c179e"
             ],
             [
              0.4444444444444444,
              "#bd3786"
             ],
             [
              0.5555555555555556,
              "#d8576b"
             ],
             [
              0.6666666666666666,
              "#ed7953"
             ],
             [
              0.7777777777777778,
              "#fb9f3a"
             ],
             [
              0.8888888888888888,
              "#fdca26"
             ],
             [
              1,
              "#f0f921"
             ]
            ],
            "type": "histogram2dcontour"
           }
          ],
          "mesh3d": [
           {
            "colorbar": {
             "outlinewidth": 0,
             "ticks": ""
            },
            "type": "mesh3d"
           }
          ],
          "parcoords": [
           {
            "line": {
             "colorbar": {
              "outlinewidth": 0,
              "ticks": ""
             }
            },
            "type": "parcoords"
           }
          ],
          "pie": [
           {
            "automargin": true,
            "type": "pie"
           }
          ],
          "scatter": [
           {
            "fillpattern": {
             "fillmode": "overlay",
             "size": 10,
             "solidity": 0.2
            },
            "type": "scatter"
           }
          ],
          "scatter3d": [
           {
            "line": {
             "colorbar": {
              "outlinewidth": 0,
              "ticks": ""
             }
            },
            "marker": {
             "colorbar": {
              "outlinewidth": 0,
              "ticks": ""
             }
            },
            "type": "scatter3d"
           }
          ],
          "scattercarpet": [
           {
            "marker": {
             "colorbar": {
              "outlinewidth": 0,
              "ticks": ""
             }
            },
            "type": "scattercarpet"
           }
          ],
          "scattergeo": [
           {
            "marker": {
             "colorbar": {
              "outlinewidth": 0,
              "ticks": ""
             }
            },
            "type": "scattergeo"
           }
          ],
          "scattergl": [
           {
            "marker": {
             "colorbar": {
              "outlinewidth": 0,
              "ticks": ""
             }
            },
            "type": "scattergl"
           }
          ],
          "scattermapbox": [
           {
            "marker": {
             "colorbar": {
              "outlinewidth": 0,
              "ticks": ""
             }
            },
            "type": "scattermapbox"
           }
          ],
          "scatterpolar": [
           {
            "marker": {
             "colorbar": {
              "outlinewidth": 0,
              "ticks": ""
             }
            },
            "type": "scatterpolar"
           }
          ],
          "scatterpolargl": [
           {
            "marker": {
             "colorbar": {
              "outlinewidth": 0,
              "ticks": ""
             }
            },
            "type": "scatterpolargl"
           }
          ],
          "scatterternary": [
           {
            "marker": {
             "colorbar": {
              "outlinewidth": 0,
              "ticks": ""
             }
            },
            "type": "scatterternary"
           }
          ],
          "surface": [
           {
            "colorbar": {
             "outlinewidth": 0,
             "ticks": ""
            },
            "colorscale": [
             [
              0,
              "#0d0887"
             ],
             [
              0.1111111111111111,
              "#46039f"
             ],
             [
              0.2222222222222222,
              "#7201a8"
             ],
             [
              0.3333333333333333,
              "#9c179e"
             ],
             [
              0.4444444444444444,
              "#bd3786"
             ],
             [
              0.5555555555555556,
              "#d8576b"
             ],
             [
              0.6666666666666666,
              "#ed7953"
             ],
             [
              0.7777777777777778,
              "#fb9f3a"
             ],
             [
              0.8888888888888888,
              "#fdca26"
             ],
             [
              1,
              "#f0f921"
             ]
            ],
            "type": "surface"
           }
          ],
          "table": [
           {
            "cells": {
             "fill": {
              "color": "#EBF0F8"
             },
             "line": {
              "color": "white"
             }
            },
            "header": {
             "fill": {
              "color": "#C8D4E3"
             },
             "line": {
              "color": "white"
             }
            },
            "type": "table"
           }
          ]
         },
         "layout": {
          "annotationdefaults": {
           "arrowcolor": "#2a3f5f",
           "arrowhead": 0,
           "arrowwidth": 1
          },
          "autotypenumbers": "strict",
          "coloraxis": {
           "colorbar": {
            "outlinewidth": 0,
            "ticks": ""
           }
          },
          "colorscale": {
           "diverging": [
            [
             0,
             "#8e0152"
            ],
            [
             0.1,
             "#c51b7d"
            ],
            [
             0.2,
             "#de77ae"
            ],
            [
             0.3,
             "#f1b6da"
            ],
            [
             0.4,
             "#fde0ef"
            ],
            [
             0.5,
             "#f7f7f7"
            ],
            [
             0.6,
             "#e6f5d0"
            ],
            [
             0.7,
             "#b8e186"
            ],
            [
             0.8,
             "#7fbc41"
            ],
            [
             0.9,
             "#4d9221"
            ],
            [
             1,
             "#276419"
            ]
           ],
           "sequential": [
            [
             0,
             "#0d0887"
            ],
            [
             0.1111111111111111,
             "#46039f"
            ],
            [
             0.2222222222222222,
             "#7201a8"
            ],
            [
             0.3333333333333333,
             "#9c179e"
            ],
            [
             0.4444444444444444,
             "#bd3786"
            ],
            [
             0.5555555555555556,
             "#d8576b"
            ],
            [
             0.6666666666666666,
             "#ed7953"
            ],
            [
             0.7777777777777778,
             "#fb9f3a"
            ],
            [
             0.8888888888888888,
             "#fdca26"
            ],
            [
             1,
             "#f0f921"
            ]
           ],
           "sequentialminus": [
            [
             0,
             "#0d0887"
            ],
            [
             0.1111111111111111,
             "#46039f"
            ],
            [
             0.2222222222222222,
             "#7201a8"
            ],
            [
             0.3333333333333333,
             "#9c179e"
            ],
            [
             0.4444444444444444,
             "#bd3786"
            ],
            [
             0.5555555555555556,
             "#d8576b"
            ],
            [
             0.6666666666666666,
             "#ed7953"
            ],
            [
             0.7777777777777778,
             "#fb9f3a"
            ],
            [
             0.8888888888888888,
             "#fdca26"
            ],
            [
             1,
             "#f0f921"
            ]
           ]
          },
          "colorway": [
           "#636efa",
           "#EF553B",
           "#00cc96",
           "#ab63fa",
           "#FFA15A",
           "#19d3f3",
           "#FF6692",
           "#B6E880",
           "#FF97FF",
           "#FECB52"
          ],
          "font": {
           "color": "#2a3f5f"
          },
          "geo": {
           "bgcolor": "white",
           "lakecolor": "white",
           "landcolor": "#E5ECF6",
           "showlakes": true,
           "showland": true,
           "subunitcolor": "white"
          },
          "hoverlabel": {
           "align": "left"
          },
          "hovermode": "closest",
          "mapbox": {
           "style": "light"
          },
          "paper_bgcolor": "white",
          "plot_bgcolor": "#E5ECF6",
          "polar": {
           "angularaxis": {
            "gridcolor": "white",
            "linecolor": "white",
            "ticks": ""
           },
           "bgcolor": "#E5ECF6",
           "radialaxis": {
            "gridcolor": "white",
            "linecolor": "white",
            "ticks": ""
           }
          },
          "scene": {
           "xaxis": {
            "backgroundcolor": "#E5ECF6",
            "gridcolor": "white",
            "gridwidth": 2,
            "linecolor": "white",
            "showbackground": true,
            "ticks": "",
            "zerolinecolor": "white"
           },
           "yaxis": {
            "backgroundcolor": "#E5ECF6",
            "gridcolor": "white",
            "gridwidth": 2,
            "linecolor": "white",
            "showbackground": true,
            "ticks": "",
            "zerolinecolor": "white"
           },
           "zaxis": {
            "backgroundcolor": "#E5ECF6",
            "gridcolor": "white",
            "gridwidth": 2,
            "linecolor": "white",
            "showbackground": true,
            "ticks": "",
            "zerolinecolor": "white"
           }
          },
          "shapedefaults": {
           "line": {
            "color": "#2a3f5f"
           }
          },
          "ternary": {
           "aaxis": {
            "gridcolor": "white",
            "linecolor": "white",
            "ticks": ""
           },
           "baxis": {
            "gridcolor": "white",
            "linecolor": "white",
            "ticks": ""
           },
           "bgcolor": "#E5ECF6",
           "caxis": {
            "gridcolor": "white",
            "linecolor": "white",
            "ticks": ""
           }
          },
          "title": {
           "x": 0.05
          },
          "xaxis": {
           "automargin": true,
           "gridcolor": "white",
           "linecolor": "white",
           "ticks": "",
           "title": {
            "standoff": 15
           },
           "zerolinecolor": "white",
           "zerolinewidth": 2
          },
          "yaxis": {
           "automargin": true,
           "gridcolor": "white",
           "linecolor": "white",
           "ticks": "",
           "title": {
            "standoff": 15
           },
           "zerolinecolor": "white",
           "zerolinewidth": 2
          }
         }
        },
        "title": {
         "text": "Histogram with ±2 Standard Deviations"
        },
        "xaxis": {
         "anchor": "y",
         "domain": [
          0,
          1
         ],
         "title": {
          "text": "flipper_length_mm"
         }
        },
        "yaxis": {
         "anchor": "x",
         "domain": [
          0,
          1
         ],
         "title": {
          "text": "count"
         }
        }
       }
      },
      "text/html": [
       "<div>                            <div id=\"44143905-6d8f-4102-947f-3e91d8d690f5\" class=\"plotly-graph-div\" style=\"height:525px; width:100%;\"></div>            <script type=\"text/javascript\">                require([\"plotly\"], function(Plotly) {                    window.PLOTLYENV=window.PLOTLYENV || {};                                    if (document.getElementById(\"44143905-6d8f-4102-947f-3e91d8d690f5\")) {                    Plotly.newPlot(                        \"44143905-6d8f-4102-947f-3e91d8d690f5\",                        [{\"alignmentgroup\":\"True\",\"bingroup\":\"x\",\"hovertemplate\":\"flipper_length_mm=%{x}\\u003cbr\\u003ecount=%{y}\\u003cextra\\u003e\\u003c\\u002fextra\\u003e\",\"legendgroup\":\"\",\"marker\":{\"color\":\"#636efa\",\"pattern\":{\"shape\":\"\"}},\"name\":\"\",\"nbinsx\":30,\"offsetgroup\":\"\",\"orientation\":\"v\",\"showlegend\":false,\"x\":[181.0,186.0,195.0,null,193.0,190.0,181.0,195.0,193.0,190.0,186.0,180.0,182.0,191.0,198.0,185.0,195.0,197.0,184.0,194.0,174.0,180.0,189.0,185.0,180.0,187.0,183.0,187.0,172.0,180.0,178.0,178.0,188.0,184.0,195.0,196.0,190.0,180.0,181.0,184.0,182.0,195.0,186.0,196.0,185.0,190.0,182.0,179.0,190.0,191.0,186.0,188.0,190.0,200.0,187.0,191.0,186.0,193.0,181.0,194.0,185.0,195.0,185.0,192.0,184.0,192.0,195.0,188.0,190.0,198.0,190.0,190.0,196.0,197.0,190.0,195.0,191.0,184.0,187.0,195.0,189.0,196.0,187.0,193.0,191.0,194.0,190.0,189.0,189.0,190.0,202.0,205.0,185.0,186.0,187.0,208.0,190.0,196.0,178.0,192.0,192.0,203.0,183.0,190.0,193.0,184.0,199.0,190.0,181.0,197.0,198.0,191.0,193.0,197.0,191.0,196.0,188.0,199.0,189.0,189.0,187.0,198.0,176.0,202.0,186.0,199.0,191.0,195.0,191.0,210.0,190.0,197.0,193.0,199.0,187.0,190.0,191.0,200.0,185.0,193.0,193.0,187.0,188.0,190.0,192.0,185.0,190.0,184.0,195.0,193.0,187.0,201.0,192.0,196.0,193.0,188.0,197.0,198.0,178.0,197.0,195.0,198.0,193.0,194.0,185.0,201.0,190.0,201.0,197.0,181.0,190.0,195.0,181.0,191.0,187.0,193.0,195.0,197.0,200.0,200.0,191.0,205.0,187.0,201.0,187.0,203.0,195.0,199.0,195.0,210.0,192.0,205.0,210.0,187.0,196.0,196.0,196.0,201.0,190.0,212.0,187.0,198.0,199.0,201.0,193.0,203.0,187.0,197.0,191.0,203.0,202.0,194.0,206.0,189.0,195.0,207.0,202.0,193.0,210.0,198.0,211.0,230.0,210.0,218.0,215.0,210.0,211.0,219.0,209.0,215.0,214.0,216.0,214.0,213.0,210.0,217.0,210.0,221.0,209.0,222.0,218.0,215.0,213.0,215.0,215.0,215.0,216.0,215.0,210.0,220.0,222.0,209.0,207.0,230.0,220.0,220.0,213.0,219.0,208.0,208.0,208.0,225.0,210.0,216.0,222.0,217.0,210.0,225.0,213.0,215.0,210.0,220.0,210.0,225.0,217.0,220.0,208.0,220.0,208.0,224.0,208.0,221.0,214.0,231.0,219.0,230.0,214.0,229.0,220.0,223.0,216.0,221.0,221.0,217.0,216.0,230.0,209.0,220.0,215.0,223.0,212.0,221.0,212.0,224.0,212.0,228.0,218.0,218.0,212.0,230.0,218.0,228.0,212.0,224.0,214.0,226.0,216.0,222.0,203.0,225.0,219.0,228.0,215.0,228.0,216.0,215.0,210.0,219.0,208.0,209.0,216.0,229.0,213.0,230.0,217.0,230.0,217.0,222.0,214.0,null,215.0,222.0,212.0,213.0],\"xaxis\":\"x\",\"yaxis\":\"y\",\"type\":\"histogram\"}],                        {\"template\":{\"data\":{\"histogram2dcontour\":[{\"type\":\"histogram2dcontour\",\"colorbar\":{\"outlinewidth\":0,\"ticks\":\"\"},\"colorscale\":[[0.0,\"#0d0887\"],[0.1111111111111111,\"#46039f\"],[0.2222222222222222,\"#7201a8\"],[0.3333333333333333,\"#9c179e\"],[0.4444444444444444,\"#bd3786\"],[0.5555555555555556,\"#d8576b\"],[0.6666666666666666,\"#ed7953\"],[0.7777777777777778,\"#fb9f3a\"],[0.8888888888888888,\"#fdca26\"],[1.0,\"#f0f921\"]]}],\"choropleth\":[{\"type\":\"choropleth\",\"colorbar\":{\"outlinewidth\":0,\"ticks\":\"\"}}],\"histogram2d\":[{\"type\":\"histogram2d\",\"colorbar\":{\"outlinewidth\":0,\"ticks\":\"\"},\"colorscale\":[[0.0,\"#0d0887\"],[0.1111111111111111,\"#46039f\"],[0.2222222222222222,\"#7201a8\"],[0.3333333333333333,\"#9c179e\"],[0.4444444444444444,\"#bd3786\"],[0.5555555555555556,\"#d8576b\"],[0.6666666666666666,\"#ed7953\"],[0.7777777777777778,\"#fb9f3a\"],[0.8888888888888888,\"#fdca26\"],[1.0,\"#f0f921\"]]}],\"heatmap\":[{\"type\":\"heatmap\",\"colorbar\":{\"outlinewidth\":0,\"ticks\":\"\"},\"colorscale\":[[0.0,\"#0d0887\"],[0.1111111111111111,\"#46039f\"],[0.2222222222222222,\"#7201a8\"],[0.3333333333333333,\"#9c179e\"],[0.4444444444444444,\"#bd3786\"],[0.5555555555555556,\"#d8576b\"],[0.6666666666666666,\"#ed7953\"],[0.7777777777777778,\"#fb9f3a\"],[0.8888888888888888,\"#fdca26\"],[1.0,\"#f0f921\"]]}],\"heatmapgl\":[{\"type\":\"heatmapgl\",\"colorbar\":{\"outlinewidth\":0,\"ticks\":\"\"},\"colorscale\":[[0.0,\"#0d0887\"],[0.1111111111111111,\"#46039f\"],[0.2222222222222222,\"#7201a8\"],[0.3333333333333333,\"#9c179e\"],[0.4444444444444444,\"#bd3786\"],[0.5555555555555556,\"#d8576b\"],[0.6666666666666666,\"#ed7953\"],[0.7777777777777778,\"#fb9f3a\"],[0.8888888888888888,\"#fdca26\"],[1.0,\"#f0f921\"]]}],\"contourcarpet\":[{\"type\":\"contourcarpet\",\"colorbar\":{\"outlinewidth\":0,\"ticks\":\"\"}}],\"contour\":[{\"type\":\"contour\",\"colorbar\":{\"outlinewidth\":0,\"ticks\":\"\"},\"colorscale\":[[0.0,\"#0d0887\"],[0.1111111111111111,\"#46039f\"],[0.2222222222222222,\"#7201a8\"],[0.3333333333333333,\"#9c179e\"],[0.4444444444444444,\"#bd3786\"],[0.5555555555555556,\"#d8576b\"],[0.6666666666666666,\"#ed7953\"],[0.7777777777777778,\"#fb9f3a\"],[0.8888888888888888,\"#fdca26\"],[1.0,\"#f0f921\"]]}],\"surface\":[{\"type\":\"surface\",\"colorbar\":{\"outlinewidth\":0,\"ticks\":\"\"},\"colorscale\":[[0.0,\"#0d0887\"],[0.1111111111111111,\"#46039f\"],[0.2222222222222222,\"#7201a8\"],[0.3333333333333333,\"#9c179e\"],[0.4444444444444444,\"#bd3786\"],[0.5555555555555556,\"#d8576b\"],[0.6666666666666666,\"#ed7953\"],[0.7777777777777778,\"#fb9f3a\"],[0.8888888888888888,\"#fdca26\"],[1.0,\"#f0f921\"]]}],\"mesh3d\":[{\"type\":\"mesh3d\",\"colorbar\":{\"outlinewidth\":0,\"ticks\":\"\"}}],\"scatter\":[{\"fillpattern\":{\"fillmode\":\"overlay\",\"size\":10,\"solidity\":0.2},\"type\":\"scatter\"}],\"parcoords\":[{\"type\":\"parcoords\",\"line\":{\"colorbar\":{\"outlinewidth\":0,\"ticks\":\"\"}}}],\"scatterpolargl\":[{\"type\":\"scatterpolargl\",\"marker\":{\"colorbar\":{\"outlinewidth\":0,\"ticks\":\"\"}}}],\"bar\":[{\"error_x\":{\"color\":\"#2a3f5f\"},\"error_y\":{\"color\":\"#2a3f5f\"},\"marker\":{\"line\":{\"color\":\"#E5ECF6\",\"width\":0.5},\"pattern\":{\"fillmode\":\"overlay\",\"size\":10,\"solidity\":0.2}},\"type\":\"bar\"}],\"scattergeo\":[{\"type\":\"scattergeo\",\"marker\":{\"colorbar\":{\"outlinewidth\":0,\"ticks\":\"\"}}}],\"scatterpolar\":[{\"type\":\"scatterpolar\",\"marker\":{\"colorbar\":{\"outlinewidth\":0,\"ticks\":\"\"}}}],\"histogram\":[{\"marker\":{\"pattern\":{\"fillmode\":\"overlay\",\"size\":10,\"solidity\":0.2}},\"type\":\"histogram\"}],\"scattergl\":[{\"type\":\"scattergl\",\"marker\":{\"colorbar\":{\"outlinewidth\":0,\"ticks\":\"\"}}}],\"scatter3d\":[{\"type\":\"scatter3d\",\"line\":{\"colorbar\":{\"outlinewidth\":0,\"ticks\":\"\"}},\"marker\":{\"colorbar\":{\"outlinewidth\":0,\"ticks\":\"\"}}}],\"scattermapbox\":[{\"type\":\"scattermapbox\",\"marker\":{\"colorbar\":{\"outlinewidth\":0,\"ticks\":\"\"}}}],\"scatterternary\":[{\"type\":\"scatterternary\",\"marker\":{\"colorbar\":{\"outlinewidth\":0,\"ticks\":\"\"}}}],\"scattercarpet\":[{\"type\":\"scattercarpet\",\"marker\":{\"colorbar\":{\"outlinewidth\":0,\"ticks\":\"\"}}}],\"carpet\":[{\"aaxis\":{\"endlinecolor\":\"#2a3f5f\",\"gridcolor\":\"white\",\"linecolor\":\"white\",\"minorgridcolor\":\"white\",\"startlinecolor\":\"#2a3f5f\"},\"baxis\":{\"endlinecolor\":\"#2a3f5f\",\"gridcolor\":\"white\",\"linecolor\":\"white\",\"minorgridcolor\":\"white\",\"startlinecolor\":\"#2a3f5f\"},\"type\":\"carpet\"}],\"table\":[{\"cells\":{\"fill\":{\"color\":\"#EBF0F8\"},\"line\":{\"color\":\"white\"}},\"header\":{\"fill\":{\"color\":\"#C8D4E3\"},\"line\":{\"color\":\"white\"}},\"type\":\"table\"}],\"barpolar\":[{\"marker\":{\"line\":{\"color\":\"#E5ECF6\",\"width\":0.5},\"pattern\":{\"fillmode\":\"overlay\",\"size\":10,\"solidity\":0.2}},\"type\":\"barpolar\"}],\"pie\":[{\"automargin\":true,\"type\":\"pie\"}]},\"layout\":{\"autotypenumbers\":\"strict\",\"colorway\":[\"#636efa\",\"#EF553B\",\"#00cc96\",\"#ab63fa\",\"#FFA15A\",\"#19d3f3\",\"#FF6692\",\"#B6E880\",\"#FF97FF\",\"#FECB52\"],\"font\":{\"color\":\"#2a3f5f\"},\"hovermode\":\"closest\",\"hoverlabel\":{\"align\":\"left\"},\"paper_bgcolor\":\"white\",\"plot_bgcolor\":\"#E5ECF6\",\"polar\":{\"bgcolor\":\"#E5ECF6\",\"angularaxis\":{\"gridcolor\":\"white\",\"linecolor\":\"white\",\"ticks\":\"\"},\"radialaxis\":{\"gridcolor\":\"white\",\"linecolor\":\"white\",\"ticks\":\"\"}},\"ternary\":{\"bgcolor\":\"#E5ECF6\",\"aaxis\":{\"gridcolor\":\"white\",\"linecolor\":\"white\",\"ticks\":\"\"},\"baxis\":{\"gridcolor\":\"white\",\"linecolor\":\"white\",\"ticks\":\"\"},\"caxis\":{\"gridcolor\":\"white\",\"linecolor\":\"white\",\"ticks\":\"\"}},\"coloraxis\":{\"colorbar\":{\"outlinewidth\":0,\"ticks\":\"\"}},\"colorscale\":{\"sequential\":[[0.0,\"#0d0887\"],[0.1111111111111111,\"#46039f\"],[0.2222222222222222,\"#7201a8\"],[0.3333333333333333,\"#9c179e\"],[0.4444444444444444,\"#bd3786\"],[0.5555555555555556,\"#d8576b\"],[0.6666666666666666,\"#ed7953\"],[0.7777777777777778,\"#fb9f3a\"],[0.8888888888888888,\"#fdca26\"],[1.0,\"#f0f921\"]],\"sequentialminus\":[[0.0,\"#0d0887\"],[0.1111111111111111,\"#46039f\"],[0.2222222222222222,\"#7201a8\"],[0.3333333333333333,\"#9c179e\"],[0.4444444444444444,\"#bd3786\"],[0.5555555555555556,\"#d8576b\"],[0.6666666666666666,\"#ed7953\"],[0.7777777777777778,\"#fb9f3a\"],[0.8888888888888888,\"#fdca26\"],[1.0,\"#f0f921\"]],\"diverging\":[[0,\"#8e0152\"],[0.1,\"#c51b7d\"],[0.2,\"#de77ae\"],[0.3,\"#f1b6da\"],[0.4,\"#fde0ef\"],[0.5,\"#f7f7f7\"],[0.6,\"#e6f5d0\"],[0.7,\"#b8e186\"],[0.8,\"#7fbc41\"],[0.9,\"#4d9221\"],[1,\"#276419\"]]},\"xaxis\":{\"gridcolor\":\"white\",\"linecolor\":\"white\",\"ticks\":\"\",\"title\":{\"standoff\":15},\"zerolinecolor\":\"white\",\"automargin\":true,\"zerolinewidth\":2},\"yaxis\":{\"gridcolor\":\"white\",\"linecolor\":\"white\",\"ticks\":\"\",\"title\":{\"standoff\":15},\"zerolinecolor\":\"white\",\"automargin\":true,\"zerolinewidth\":2},\"scene\":{\"xaxis\":{\"backgroundcolor\":\"#E5ECF6\",\"gridcolor\":\"white\",\"linecolor\":\"white\",\"showbackground\":true,\"ticks\":\"\",\"zerolinecolor\":\"white\",\"gridwidth\":2},\"yaxis\":{\"backgroundcolor\":\"#E5ECF6\",\"gridcolor\":\"white\",\"linecolor\":\"white\",\"showbackground\":true,\"ticks\":\"\",\"zerolinecolor\":\"white\",\"gridwidth\":2},\"zaxis\":{\"backgroundcolor\":\"#E5ECF6\",\"gridcolor\":\"white\",\"linecolor\":\"white\",\"showbackground\":true,\"ticks\":\"\",\"zerolinecolor\":\"white\",\"gridwidth\":2}},\"shapedefaults\":{\"line\":{\"color\":\"#2a3f5f\"}},\"annotationdefaults\":{\"arrowcolor\":\"#2a3f5f\",\"arrowhead\":0,\"arrowwidth\":1},\"geo\":{\"bgcolor\":\"white\",\"landcolor\":\"#E5ECF6\",\"subunitcolor\":\"white\",\"showland\":true,\"showlakes\":true,\"lakecolor\":\"white\"},\"title\":{\"x\":0.05},\"mapbox\":{\"style\":\"light\"}}},\"xaxis\":{\"anchor\":\"y\",\"domain\":[0.0,1.0],\"title\":{\"text\":\"flipper_length_mm\"}},\"yaxis\":{\"anchor\":\"x\",\"domain\":[0.0,1.0],\"title\":{\"text\":\"count\"}},\"legend\":{\"tracegroupgap\":0},\"title\":{\"text\":\"Histogram with \\u00b12 Standard Deviations\"},\"barmode\":\"relative\",\"shapes\":[{\"line\":{\"color\":\"green\",\"dash\":\"dot\",\"width\":2},\"type\":\"line\",\"x0\":229.03863203707638,\"x1\":229.03863203707638,\"xref\":\"x\",\"y0\":0,\"y1\":1,\"yref\":\"y domain\"},{\"line\":{\"color\":\"green\",\"dash\":\"dot\",\"width\":2},\"type\":\"line\",\"x0\":172.7917773196488,\"x1\":172.7917773196488,\"xref\":\"x\",\"y0\":0,\"y1\":1,\"yref\":\"y domain\"}],\"annotations\":[{\"showarrow\":false,\"text\":\"+2 Std Dev\",\"x\":229.03863203707638,\"xanchor\":\"right\",\"xref\":\"x\",\"y\":1,\"yanchor\":\"top\",\"yref\":\"y domain\"},{\"showarrow\":false,\"text\":\"-2 Std Dev\",\"x\":172.7917773196488,\"xanchor\":\"left\",\"xref\":\"x\",\"y\":1,\"yanchor\":\"top\",\"yref\":\"y domain\"}]},                        {\"responsive\": true}                    ).then(function(){\n",
       "                            \n",
       "var gd = document.getElementById('44143905-6d8f-4102-947f-3e91d8d690f5');\n",
       "var x = new MutationObserver(function (mutations, observer) {{\n",
       "        var display = window.getComputedStyle(gd).display;\n",
       "        if (!display || display === 'none') {{\n",
       "            console.log([gd, 'removed!']);\n",
       "            Plotly.purge(gd);\n",
       "            observer.disconnect();\n",
       "        }}\n",
       "}});\n",
       "\n",
       "// Listen for the removal of the full notebook cells\n",
       "var notebookContainer = gd.closest('#notebook-container');\n",
       "if (notebookContainer) {{\n",
       "    x.observe(notebookContainer, {childList: true});\n",
       "}}\n",
       "\n",
       "// Listen for the clearing of the current output cell\n",
       "var outputEl = gd.closest('.output');\n",
       "if (outputEl) {{\n",
       "    x.observe(outputEl, {childList: true});\n",
       "}}\n",
       "\n",
       "                        })                };                });            </script>        </div>"
      ]
     },
     "metadata": {},
     "output_type": "display_data"
    },
    {
     "data": {
      "application/vnd.plotly.v1+json": {
       "config": {
        "plotlyServerURL": "https://plot.ly"
       },
       "data": [
        {
         "alignmentgroup": "True",
         "bingroup": "x",
         "hovertemplate": "flipper_length_mm=%{x}<br>count=%{y}<extra></extra>",
         "legendgroup": "",
         "marker": {
          "color": "#636efa",
          "pattern": {
           "shape": ""
          }
         },
         "name": "",
         "nbinsx": 30,
         "offsetgroup": "",
         "orientation": "v",
         "showlegend": false,
         "type": "histogram",
         "x": [
          181,
          186,
          195,
          null,
          193,
          190,
          181,
          195,
          193,
          190,
          186,
          180,
          182,
          191,
          198,
          185,
          195,
          197,
          184,
          194,
          174,
          180,
          189,
          185,
          180,
          187,
          183,
          187,
          172,
          180,
          178,
          178,
          188,
          184,
          195,
          196,
          190,
          180,
          181,
          184,
          182,
          195,
          186,
          196,
          185,
          190,
          182,
          179,
          190,
          191,
          186,
          188,
          190,
          200,
          187,
          191,
          186,
          193,
          181,
          194,
          185,
          195,
          185,
          192,
          184,
          192,
          195,
          188,
          190,
          198,
          190,
          190,
          196,
          197,
          190,
          195,
          191,
          184,
          187,
          195,
          189,
          196,
          187,
          193,
          191,
          194,
          190,
          189,
          189,
          190,
          202,
          205,
          185,
          186,
          187,
          208,
          190,
          196,
          178,
          192,
          192,
          203,
          183,
          190,
          193,
          184,
          199,
          190,
          181,
          197,
          198,
          191,
          193,
          197,
          191,
          196,
          188,
          199,
          189,
          189,
          187,
          198,
          176,
          202,
          186,
          199,
          191,
          195,
          191,
          210,
          190,
          197,
          193,
          199,
          187,
          190,
          191,
          200,
          185,
          193,
          193,
          187,
          188,
          190,
          192,
          185,
          190,
          184,
          195,
          193,
          187,
          201,
          192,
          196,
          193,
          188,
          197,
          198,
          178,
          197,
          195,
          198,
          193,
          194,
          185,
          201,
          190,
          201,
          197,
          181,
          190,
          195,
          181,
          191,
          187,
          193,
          195,
          197,
          200,
          200,
          191,
          205,
          187,
          201,
          187,
          203,
          195,
          199,
          195,
          210,
          192,
          205,
          210,
          187,
          196,
          196,
          196,
          201,
          190,
          212,
          187,
          198,
          199,
          201,
          193,
          203,
          187,
          197,
          191,
          203,
          202,
          194,
          206,
          189,
          195,
          207,
          202,
          193,
          210,
          198,
          211,
          230,
          210,
          218,
          215,
          210,
          211,
          219,
          209,
          215,
          214,
          216,
          214,
          213,
          210,
          217,
          210,
          221,
          209,
          222,
          218,
          215,
          213,
          215,
          215,
          215,
          216,
          215,
          210,
          220,
          222,
          209,
          207,
          230,
          220,
          220,
          213,
          219,
          208,
          208,
          208,
          225,
          210,
          216,
          222,
          217,
          210,
          225,
          213,
          215,
          210,
          220,
          210,
          225,
          217,
          220,
          208,
          220,
          208,
          224,
          208,
          221,
          214,
          231,
          219,
          230,
          214,
          229,
          220,
          223,
          216,
          221,
          221,
          217,
          216,
          230,
          209,
          220,
          215,
          223,
          212,
          221,
          212,
          224,
          212,
          228,
          218,
          218,
          212,
          230,
          218,
          228,
          212,
          224,
          214,
          226,
          216,
          222,
          203,
          225,
          219,
          228,
          215,
          228,
          216,
          215,
          210,
          219,
          208,
          209,
          216,
          229,
          213,
          230,
          217,
          230,
          217,
          222,
          214,
          null,
          215,
          222,
          212,
          213
         ],
         "xaxis": "x",
         "yaxis": "y"
        }
       ],
       "layout": {
        "annotations": [
         {
          "showarrow": false,
          "text": "IQR",
          "x": 190,
          "xanchor": "left",
          "xref": "x",
          "y": 1,
          "yanchor": "top",
          "yref": "y domain"
         }
        ],
        "barmode": "relative",
        "legend": {
         "tracegroupgap": 0
        },
        "shapes": [
         {
          "fillcolor": "red",
          "line": {
           "width": 0
          },
          "opacity": 0.2,
          "type": "rect",
          "x0": 190,
          "x1": 213,
          "xref": "x",
          "y0": 0,
          "y1": 1,
          "yref": "y domain"
         }
        ],
        "template": {
         "data": {
          "bar": [
           {
            "error_x": {
             "color": "#2a3f5f"
            },
            "error_y": {
             "color": "#2a3f5f"
            },
            "marker": {
             "line": {
              "color": "#E5ECF6",
              "width": 0.5
             },
             "pattern": {
              "fillmode": "overlay",
              "size": 10,
              "solidity": 0.2
             }
            },
            "type": "bar"
           }
          ],
          "barpolar": [
           {
            "marker": {
             "line": {
              "color": "#E5ECF6",
              "width": 0.5
             },
             "pattern": {
              "fillmode": "overlay",
              "size": 10,
              "solidity": 0.2
             }
            },
            "type": "barpolar"
           }
          ],
          "carpet": [
           {
            "aaxis": {
             "endlinecolor": "#2a3f5f",
             "gridcolor": "white",
             "linecolor": "white",
             "minorgridcolor": "white",
             "startlinecolor": "#2a3f5f"
            },
            "baxis": {
             "endlinecolor": "#2a3f5f",
             "gridcolor": "white",
             "linecolor": "white",
             "minorgridcolor": "white",
             "startlinecolor": "#2a3f5f"
            },
            "type": "carpet"
           }
          ],
          "choropleth": [
           {
            "colorbar": {
             "outlinewidth": 0,
             "ticks": ""
            },
            "type": "choropleth"
           }
          ],
          "contour": [
           {
            "colorbar": {
             "outlinewidth": 0,
             "ticks": ""
            },
            "colorscale": [
             [
              0,
              "#0d0887"
             ],
             [
              0.1111111111111111,
              "#46039f"
             ],
             [
              0.2222222222222222,
              "#7201a8"
             ],
             [
              0.3333333333333333,
              "#9c179e"
             ],
             [
              0.4444444444444444,
              "#bd3786"
             ],
             [
              0.5555555555555556,
              "#d8576b"
             ],
             [
              0.6666666666666666,
              "#ed7953"
             ],
             [
              0.7777777777777778,
              "#fb9f3a"
             ],
             [
              0.8888888888888888,
              "#fdca26"
             ],
             [
              1,
              "#f0f921"
             ]
            ],
            "type": "contour"
           }
          ],
          "contourcarpet": [
           {
            "colorbar": {
             "outlinewidth": 0,
             "ticks": ""
            },
            "type": "contourcarpet"
           }
          ],
          "heatmap": [
           {
            "colorbar": {
             "outlinewidth": 0,
             "ticks": ""
            },
            "colorscale": [
             [
              0,
              "#0d0887"
             ],
             [
              0.1111111111111111,
              "#46039f"
             ],
             [
              0.2222222222222222,
              "#7201a8"
             ],
             [
              0.3333333333333333,
              "#9c179e"
             ],
             [
              0.4444444444444444,
              "#bd3786"
             ],
             [
              0.5555555555555556,
              "#d8576b"
             ],
             [
              0.6666666666666666,
              "#ed7953"
             ],
             [
              0.7777777777777778,
              "#fb9f3a"
             ],
             [
              0.8888888888888888,
              "#fdca26"
             ],
             [
              1,
              "#f0f921"
             ]
            ],
            "type": "heatmap"
           }
          ],
          "heatmapgl": [
           {
            "colorbar": {
             "outlinewidth": 0,
             "ticks": ""
            },
            "colorscale": [
             [
              0,
              "#0d0887"
             ],
             [
              0.1111111111111111,
              "#46039f"
             ],
             [
              0.2222222222222222,
              "#7201a8"
             ],
             [
              0.3333333333333333,
              "#9c179e"
             ],
             [
              0.4444444444444444,
              "#bd3786"
             ],
             [
              0.5555555555555556,
              "#d8576b"
             ],
             [
              0.6666666666666666,
              "#ed7953"
             ],
             [
              0.7777777777777778,
              "#fb9f3a"
             ],
             [
              0.8888888888888888,
              "#fdca26"
             ],
             [
              1,
              "#f0f921"
             ]
            ],
            "type": "heatmapgl"
           }
          ],
          "histogram": [
           {
            "marker": {
             "pattern": {
              "fillmode": "overlay",
              "size": 10,
              "solidity": 0.2
             }
            },
            "type": "histogram"
           }
          ],
          "histogram2d": [
           {
            "colorbar": {
             "outlinewidth": 0,
             "ticks": ""
            },
            "colorscale": [
             [
              0,
              "#0d0887"
             ],
             [
              0.1111111111111111,
              "#46039f"
             ],
             [
              0.2222222222222222,
              "#7201a8"
             ],
             [
              0.3333333333333333,
              "#9c179e"
             ],
             [
              0.4444444444444444,
              "#bd3786"
             ],
             [
              0.5555555555555556,
              "#d8576b"
             ],
             [
              0.6666666666666666,
              "#ed7953"
             ],
             [
              0.7777777777777778,
              "#fb9f3a"
             ],
             [
              0.8888888888888888,
              "#fdca26"
             ],
             [
              1,
              "#f0f921"
             ]
            ],
            "type": "histogram2d"
           }
          ],
          "histogram2dcontour": [
           {
            "colorbar": {
             "outlinewidth": 0,
             "ticks": ""
            },
            "colorscale": [
             [
              0,
              "#0d0887"
             ],
             [
              0.1111111111111111,
              "#46039f"
             ],
             [
              0.2222222222222222,
              "#7201a8"
             ],
             [
              0.3333333333333333,
              "#9c179e"
             ],
             [
              0.4444444444444444,
              "#bd3786"
             ],
             [
              0.5555555555555556,
              "#d8576b"
             ],
             [
              0.6666666666666666,
              "#ed7953"
             ],
             [
              0.7777777777777778,
              "#fb9f3a"
             ],
             [
              0.8888888888888888,
              "#fdca26"
             ],
             [
              1,
              "#f0f921"
             ]
            ],
            "type": "histogram2dcontour"
           }
          ],
          "mesh3d": [
           {
            "colorbar": {
             "outlinewidth": 0,
             "ticks": ""
            },
            "type": "mesh3d"
           }
          ],
          "parcoords": [
           {
            "line": {
             "colorbar": {
              "outlinewidth": 0,
              "ticks": ""
             }
            },
            "type": "parcoords"
           }
          ],
          "pie": [
           {
            "automargin": true,
            "type": "pie"
           }
          ],
          "scatter": [
           {
            "fillpattern": {
             "fillmode": "overlay",
             "size": 10,
             "solidity": 0.2
            },
            "type": "scatter"
           }
          ],
          "scatter3d": [
           {
            "line": {
             "colorbar": {
              "outlinewidth": 0,
              "ticks": ""
             }
            },
            "marker": {
             "colorbar": {
              "outlinewidth": 0,
              "ticks": ""
             }
            },
            "type": "scatter3d"
           }
          ],
          "scattercarpet": [
           {
            "marker": {
             "colorbar": {
              "outlinewidth": 0,
              "ticks": ""
             }
            },
            "type": "scattercarpet"
           }
          ],
          "scattergeo": [
           {
            "marker": {
             "colorbar": {
              "outlinewidth": 0,
              "ticks": ""
             }
            },
            "type": "scattergeo"
           }
          ],
          "scattergl": [
           {
            "marker": {
             "colorbar": {
              "outlinewidth": 0,
              "ticks": ""
             }
            },
            "type": "scattergl"
           }
          ],
          "scattermapbox": [
           {
            "marker": {
             "colorbar": {
              "outlinewidth": 0,
              "ticks": ""
             }
            },
            "type": "scattermapbox"
           }
          ],
          "scatterpolar": [
           {
            "marker": {
             "colorbar": {
              "outlinewidth": 0,
              "ticks": ""
             }
            },
            "type": "scatterpolar"
           }
          ],
          "scatterpolargl": [
           {
            "marker": {
             "colorbar": {
              "outlinewidth": 0,
              "ticks": ""
             }
            },
            "type": "scatterpolargl"
           }
          ],
          "scatterternary": [
           {
            "marker": {
             "colorbar": {
              "outlinewidth": 0,
              "ticks": ""
             }
            },
            "type": "scatterternary"
           }
          ],
          "surface": [
           {
            "colorbar": {
             "outlinewidth": 0,
             "ticks": ""
            },
            "colorscale": [
             [
              0,
              "#0d0887"
             ],
             [
              0.1111111111111111,
              "#46039f"
             ],
             [
              0.2222222222222222,
              "#7201a8"
             ],
             [
              0.3333333333333333,
              "#9c179e"
             ],
             [
              0.4444444444444444,
              "#bd3786"
             ],
             [
              0.5555555555555556,
              "#d8576b"
             ],
             [
              0.6666666666666666,
              "#ed7953"
             ],
             [
              0.7777777777777778,
              "#fb9f3a"
             ],
             [
              0.8888888888888888,
              "#fdca26"
             ],
             [
              1,
              "#f0f921"
             ]
            ],
            "type": "surface"
           }
          ],
          "table": [
           {
            "cells": {
             "fill": {
              "color": "#EBF0F8"
             },
             "line": {
              "color": "white"
             }
            },
            "header": {
             "fill": {
              "color": "#C8D4E3"
             },
             "line": {
              "color": "white"
             }
            },
            "type": "table"
           }
          ]
         },
         "layout": {
          "annotationdefaults": {
           "arrowcolor": "#2a3f5f",
           "arrowhead": 0,
           "arrowwidth": 1
          },
          "autotypenumbers": "strict",
          "coloraxis": {
           "colorbar": {
            "outlinewidth": 0,
            "ticks": ""
           }
          },
          "colorscale": {
           "diverging": [
            [
             0,
             "#8e0152"
            ],
            [
             0.1,
             "#c51b7d"
            ],
            [
             0.2,
             "#de77ae"
            ],
            [
             0.3,
             "#f1b6da"
            ],
            [
             0.4,
             "#fde0ef"
            ],
            [
             0.5,
             "#f7f7f7"
            ],
            [
             0.6,
             "#e6f5d0"
            ],
            [
             0.7,
             "#b8e186"
            ],
            [
             0.8,
             "#7fbc41"
            ],
            [
             0.9,
             "#4d9221"
            ],
            [
             1,
             "#276419"
            ]
           ],
           "sequential": [
            [
             0,
             "#0d0887"
            ],
            [
             0.1111111111111111,
             "#46039f"
            ],
            [
             0.2222222222222222,
             "#7201a8"
            ],
            [
             0.3333333333333333,
             "#9c179e"
            ],
            [
             0.4444444444444444,
             "#bd3786"
            ],
            [
             0.5555555555555556,
             "#d8576b"
            ],
            [
             0.6666666666666666,
             "#ed7953"
            ],
            [
             0.7777777777777778,
             "#fb9f3a"
            ],
            [
             0.8888888888888888,
             "#fdca26"
            ],
            [
             1,
             "#f0f921"
            ]
           ],
           "sequentialminus": [
            [
             0,
             "#0d0887"
            ],
            [
             0.1111111111111111,
             "#46039f"
            ],
            [
             0.2222222222222222,
             "#7201a8"
            ],
            [
             0.3333333333333333,
             "#9c179e"
            ],
            [
             0.4444444444444444,
             "#bd3786"
            ],
            [
             0.5555555555555556,
             "#d8576b"
            ],
            [
             0.6666666666666666,
             "#ed7953"
            ],
            [
             0.7777777777777778,
             "#fb9f3a"
            ],
            [
             0.8888888888888888,
             "#fdca26"
            ],
            [
             1,
             "#f0f921"
            ]
           ]
          },
          "colorway": [
           "#636efa",
           "#EF553B",
           "#00cc96",
           "#ab63fa",
           "#FFA15A",
           "#19d3f3",
           "#FF6692",
           "#B6E880",
           "#FF97FF",
           "#FECB52"
          ],
          "font": {
           "color": "#2a3f5f"
          },
          "geo": {
           "bgcolor": "white",
           "lakecolor": "white",
           "landcolor": "#E5ECF6",
           "showlakes": true,
           "showland": true,
           "subunitcolor": "white"
          },
          "hoverlabel": {
           "align": "left"
          },
          "hovermode": "closest",
          "mapbox": {
           "style": "light"
          },
          "paper_bgcolor": "white",
          "plot_bgcolor": "#E5ECF6",
          "polar": {
           "angularaxis": {
            "gridcolor": "white",
            "linecolor": "white",
            "ticks": ""
           },
           "bgcolor": "#E5ECF6",
           "radialaxis": {
            "gridcolor": "white",
            "linecolor": "white",
            "ticks": ""
           }
          },
          "scene": {
           "xaxis": {
            "backgroundcolor": "#E5ECF6",
            "gridcolor": "white",
            "gridwidth": 2,
            "linecolor": "white",
            "showbackground": true,
            "ticks": "",
            "zerolinecolor": "white"
           },
           "yaxis": {
            "backgroundcolor": "#E5ECF6",
            "gridcolor": "white",
            "gridwidth": 2,
            "linecolor": "white",
            "showbackground": true,
            "ticks": "",
            "zerolinecolor": "white"
           },
           "zaxis": {
            "backgroundcolor": "#E5ECF6",
            "gridcolor": "white",
            "gridwidth": 2,
            "linecolor": "white",
            "showbackground": true,
            "ticks": "",
            "zerolinecolor": "white"
           }
          },
          "shapedefaults": {
           "line": {
            "color": "#2a3f5f"
           }
          },
          "ternary": {
           "aaxis": {
            "gridcolor": "white",
            "linecolor": "white",
            "ticks": ""
           },
           "baxis": {
            "gridcolor": "white",
            "linecolor": "white",
            "ticks": ""
           },
           "bgcolor": "#E5ECF6",
           "caxis": {
            "gridcolor": "white",
            "linecolor": "white",
            "ticks": ""
           }
          },
          "title": {
           "x": 0.05
          },
          "xaxis": {
           "automargin": true,
           "gridcolor": "white",
           "linecolor": "white",
           "ticks": "",
           "title": {
            "standoff": 15
           },
           "zerolinecolor": "white",
           "zerolinewidth": 2
          },
          "yaxis": {
           "automargin": true,
           "gridcolor": "white",
           "linecolor": "white",
           "ticks": "",
           "title": {
            "standoff": 15
           },
           "zerolinecolor": "white",
           "zerolinewidth": 2
          }
         }
        },
        "title": {
         "text": "Histogram with Interquartile Range (IQR)"
        },
        "xaxis": {
         "anchor": "y",
         "domain": [
          0,
          1
         ],
         "title": {
          "text": "flipper_length_mm"
         }
        },
        "yaxis": {
         "anchor": "x",
         "domain": [
          0,
          1
         ],
         "title": {
          "text": "count"
         }
        }
       }
      },
      "text/html": [
       "<div>                            <div id=\"a9df561f-a298-4cd8-a05f-f4dd236ddd15\" class=\"plotly-graph-div\" style=\"height:525px; width:100%;\"></div>            <script type=\"text/javascript\">                require([\"plotly\"], function(Plotly) {                    window.PLOTLYENV=window.PLOTLYENV || {};                                    if (document.getElementById(\"a9df561f-a298-4cd8-a05f-f4dd236ddd15\")) {                    Plotly.newPlot(                        \"a9df561f-a298-4cd8-a05f-f4dd236ddd15\",                        [{\"alignmentgroup\":\"True\",\"bingroup\":\"x\",\"hovertemplate\":\"flipper_length_mm=%{x}\\u003cbr\\u003ecount=%{y}\\u003cextra\\u003e\\u003c\\u002fextra\\u003e\",\"legendgroup\":\"\",\"marker\":{\"color\":\"#636efa\",\"pattern\":{\"shape\":\"\"}},\"name\":\"\",\"nbinsx\":30,\"offsetgroup\":\"\",\"orientation\":\"v\",\"showlegend\":false,\"x\":[181.0,186.0,195.0,null,193.0,190.0,181.0,195.0,193.0,190.0,186.0,180.0,182.0,191.0,198.0,185.0,195.0,197.0,184.0,194.0,174.0,180.0,189.0,185.0,180.0,187.0,183.0,187.0,172.0,180.0,178.0,178.0,188.0,184.0,195.0,196.0,190.0,180.0,181.0,184.0,182.0,195.0,186.0,196.0,185.0,190.0,182.0,179.0,190.0,191.0,186.0,188.0,190.0,200.0,187.0,191.0,186.0,193.0,181.0,194.0,185.0,195.0,185.0,192.0,184.0,192.0,195.0,188.0,190.0,198.0,190.0,190.0,196.0,197.0,190.0,195.0,191.0,184.0,187.0,195.0,189.0,196.0,187.0,193.0,191.0,194.0,190.0,189.0,189.0,190.0,202.0,205.0,185.0,186.0,187.0,208.0,190.0,196.0,178.0,192.0,192.0,203.0,183.0,190.0,193.0,184.0,199.0,190.0,181.0,197.0,198.0,191.0,193.0,197.0,191.0,196.0,188.0,199.0,189.0,189.0,187.0,198.0,176.0,202.0,186.0,199.0,191.0,195.0,191.0,210.0,190.0,197.0,193.0,199.0,187.0,190.0,191.0,200.0,185.0,193.0,193.0,187.0,188.0,190.0,192.0,185.0,190.0,184.0,195.0,193.0,187.0,201.0,192.0,196.0,193.0,188.0,197.0,198.0,178.0,197.0,195.0,198.0,193.0,194.0,185.0,201.0,190.0,201.0,197.0,181.0,190.0,195.0,181.0,191.0,187.0,193.0,195.0,197.0,200.0,200.0,191.0,205.0,187.0,201.0,187.0,203.0,195.0,199.0,195.0,210.0,192.0,205.0,210.0,187.0,196.0,196.0,196.0,201.0,190.0,212.0,187.0,198.0,199.0,201.0,193.0,203.0,187.0,197.0,191.0,203.0,202.0,194.0,206.0,189.0,195.0,207.0,202.0,193.0,210.0,198.0,211.0,230.0,210.0,218.0,215.0,210.0,211.0,219.0,209.0,215.0,214.0,216.0,214.0,213.0,210.0,217.0,210.0,221.0,209.0,222.0,218.0,215.0,213.0,215.0,215.0,215.0,216.0,215.0,210.0,220.0,222.0,209.0,207.0,230.0,220.0,220.0,213.0,219.0,208.0,208.0,208.0,225.0,210.0,216.0,222.0,217.0,210.0,225.0,213.0,215.0,210.0,220.0,210.0,225.0,217.0,220.0,208.0,220.0,208.0,224.0,208.0,221.0,214.0,231.0,219.0,230.0,214.0,229.0,220.0,223.0,216.0,221.0,221.0,217.0,216.0,230.0,209.0,220.0,215.0,223.0,212.0,221.0,212.0,224.0,212.0,228.0,218.0,218.0,212.0,230.0,218.0,228.0,212.0,224.0,214.0,226.0,216.0,222.0,203.0,225.0,219.0,228.0,215.0,228.0,216.0,215.0,210.0,219.0,208.0,209.0,216.0,229.0,213.0,230.0,217.0,230.0,217.0,222.0,214.0,null,215.0,222.0,212.0,213.0],\"xaxis\":\"x\",\"yaxis\":\"y\",\"type\":\"histogram\"}],                        {\"template\":{\"data\":{\"histogram2dcontour\":[{\"type\":\"histogram2dcontour\",\"colorbar\":{\"outlinewidth\":0,\"ticks\":\"\"},\"colorscale\":[[0.0,\"#0d0887\"],[0.1111111111111111,\"#46039f\"],[0.2222222222222222,\"#7201a8\"],[0.3333333333333333,\"#9c179e\"],[0.4444444444444444,\"#bd3786\"],[0.5555555555555556,\"#d8576b\"],[0.6666666666666666,\"#ed7953\"],[0.7777777777777778,\"#fb9f3a\"],[0.8888888888888888,\"#fdca26\"],[1.0,\"#f0f921\"]]}],\"choropleth\":[{\"type\":\"choropleth\",\"colorbar\":{\"outlinewidth\":0,\"ticks\":\"\"}}],\"histogram2d\":[{\"type\":\"histogram2d\",\"colorbar\":{\"outlinewidth\":0,\"ticks\":\"\"},\"colorscale\":[[0.0,\"#0d0887\"],[0.1111111111111111,\"#46039f\"],[0.2222222222222222,\"#7201a8\"],[0.3333333333333333,\"#9c179e\"],[0.4444444444444444,\"#bd3786\"],[0.5555555555555556,\"#d8576b\"],[0.6666666666666666,\"#ed7953\"],[0.7777777777777778,\"#fb9f3a\"],[0.8888888888888888,\"#fdca26\"],[1.0,\"#f0f921\"]]}],\"heatmap\":[{\"type\":\"heatmap\",\"colorbar\":{\"outlinewidth\":0,\"ticks\":\"\"},\"colorscale\":[[0.0,\"#0d0887\"],[0.1111111111111111,\"#46039f\"],[0.2222222222222222,\"#7201a8\"],[0.3333333333333333,\"#9c179e\"],[0.4444444444444444,\"#bd3786\"],[0.5555555555555556,\"#d8576b\"],[0.6666666666666666,\"#ed7953\"],[0.7777777777777778,\"#fb9f3a\"],[0.8888888888888888,\"#fdca26\"],[1.0,\"#f0f921\"]]}],\"heatmapgl\":[{\"type\":\"heatmapgl\",\"colorbar\":{\"outlinewidth\":0,\"ticks\":\"\"},\"colorscale\":[[0.0,\"#0d0887\"],[0.1111111111111111,\"#46039f\"],[0.2222222222222222,\"#7201a8\"],[0.3333333333333333,\"#9c179e\"],[0.4444444444444444,\"#bd3786\"],[0.5555555555555556,\"#d8576b\"],[0.6666666666666666,\"#ed7953\"],[0.7777777777777778,\"#fb9f3a\"],[0.8888888888888888,\"#fdca26\"],[1.0,\"#f0f921\"]]}],\"contourcarpet\":[{\"type\":\"contourcarpet\",\"colorbar\":{\"outlinewidth\":0,\"ticks\":\"\"}}],\"contour\":[{\"type\":\"contour\",\"colorbar\":{\"outlinewidth\":0,\"ticks\":\"\"},\"colorscale\":[[0.0,\"#0d0887\"],[0.1111111111111111,\"#46039f\"],[0.2222222222222222,\"#7201a8\"],[0.3333333333333333,\"#9c179e\"],[0.4444444444444444,\"#bd3786\"],[0.5555555555555556,\"#d8576b\"],[0.6666666666666666,\"#ed7953\"],[0.7777777777777778,\"#fb9f3a\"],[0.8888888888888888,\"#fdca26\"],[1.0,\"#f0f921\"]]}],\"surface\":[{\"type\":\"surface\",\"colorbar\":{\"outlinewidth\":0,\"ticks\":\"\"},\"colorscale\":[[0.0,\"#0d0887\"],[0.1111111111111111,\"#46039f\"],[0.2222222222222222,\"#7201a8\"],[0.3333333333333333,\"#9c179e\"],[0.4444444444444444,\"#bd3786\"],[0.5555555555555556,\"#d8576b\"],[0.6666666666666666,\"#ed7953\"],[0.7777777777777778,\"#fb9f3a\"],[0.8888888888888888,\"#fdca26\"],[1.0,\"#f0f921\"]]}],\"mesh3d\":[{\"type\":\"mesh3d\",\"colorbar\":{\"outlinewidth\":0,\"ticks\":\"\"}}],\"scatter\":[{\"fillpattern\":{\"fillmode\":\"overlay\",\"size\":10,\"solidity\":0.2},\"type\":\"scatter\"}],\"parcoords\":[{\"type\":\"parcoords\",\"line\":{\"colorbar\":{\"outlinewidth\":0,\"ticks\":\"\"}}}],\"scatterpolargl\":[{\"type\":\"scatterpolargl\",\"marker\":{\"colorbar\":{\"outlinewidth\":0,\"ticks\":\"\"}}}],\"bar\":[{\"error_x\":{\"color\":\"#2a3f5f\"},\"error_y\":{\"color\":\"#2a3f5f\"},\"marker\":{\"line\":{\"color\":\"#E5ECF6\",\"width\":0.5},\"pattern\":{\"fillmode\":\"overlay\",\"size\":10,\"solidity\":0.2}},\"type\":\"bar\"}],\"scattergeo\":[{\"type\":\"scattergeo\",\"marker\":{\"colorbar\":{\"outlinewidth\":0,\"ticks\":\"\"}}}],\"scatterpolar\":[{\"type\":\"scatterpolar\",\"marker\":{\"colorbar\":{\"outlinewidth\":0,\"ticks\":\"\"}}}],\"histogram\":[{\"marker\":{\"pattern\":{\"fillmode\":\"overlay\",\"size\":10,\"solidity\":0.2}},\"type\":\"histogram\"}],\"scattergl\":[{\"type\":\"scattergl\",\"marker\":{\"colorbar\":{\"outlinewidth\":0,\"ticks\":\"\"}}}],\"scatter3d\":[{\"type\":\"scatter3d\",\"line\":{\"colorbar\":{\"outlinewidth\":0,\"ticks\":\"\"}},\"marker\":{\"colorbar\":{\"outlinewidth\":0,\"ticks\":\"\"}}}],\"scattermapbox\":[{\"type\":\"scattermapbox\",\"marker\":{\"colorbar\":{\"outlinewidth\":0,\"ticks\":\"\"}}}],\"scatterternary\":[{\"type\":\"scatterternary\",\"marker\":{\"colorbar\":{\"outlinewidth\":0,\"ticks\":\"\"}}}],\"scattercarpet\":[{\"type\":\"scattercarpet\",\"marker\":{\"colorbar\":{\"outlinewidth\":0,\"ticks\":\"\"}}}],\"carpet\":[{\"aaxis\":{\"endlinecolor\":\"#2a3f5f\",\"gridcolor\":\"white\",\"linecolor\":\"white\",\"minorgridcolor\":\"white\",\"startlinecolor\":\"#2a3f5f\"},\"baxis\":{\"endlinecolor\":\"#2a3f5f\",\"gridcolor\":\"white\",\"linecolor\":\"white\",\"minorgridcolor\":\"white\",\"startlinecolor\":\"#2a3f5f\"},\"type\":\"carpet\"}],\"table\":[{\"cells\":{\"fill\":{\"color\":\"#EBF0F8\"},\"line\":{\"color\":\"white\"}},\"header\":{\"fill\":{\"color\":\"#C8D4E3\"},\"line\":{\"color\":\"white\"}},\"type\":\"table\"}],\"barpolar\":[{\"marker\":{\"line\":{\"color\":\"#E5ECF6\",\"width\":0.5},\"pattern\":{\"fillmode\":\"overlay\",\"size\":10,\"solidity\":0.2}},\"type\":\"barpolar\"}],\"pie\":[{\"automargin\":true,\"type\":\"pie\"}]},\"layout\":{\"autotypenumbers\":\"strict\",\"colorway\":[\"#636efa\",\"#EF553B\",\"#00cc96\",\"#ab63fa\",\"#FFA15A\",\"#19d3f3\",\"#FF6692\",\"#B6E880\",\"#FF97FF\",\"#FECB52\"],\"font\":{\"color\":\"#2a3f5f\"},\"hovermode\":\"closest\",\"hoverlabel\":{\"align\":\"left\"},\"paper_bgcolor\":\"white\",\"plot_bgcolor\":\"#E5ECF6\",\"polar\":{\"bgcolor\":\"#E5ECF6\",\"angularaxis\":{\"gridcolor\":\"white\",\"linecolor\":\"white\",\"ticks\":\"\"},\"radialaxis\":{\"gridcolor\":\"white\",\"linecolor\":\"white\",\"ticks\":\"\"}},\"ternary\":{\"bgcolor\":\"#E5ECF6\",\"aaxis\":{\"gridcolor\":\"white\",\"linecolor\":\"white\",\"ticks\":\"\"},\"baxis\":{\"gridcolor\":\"white\",\"linecolor\":\"white\",\"ticks\":\"\"},\"caxis\":{\"gridcolor\":\"white\",\"linecolor\":\"white\",\"ticks\":\"\"}},\"coloraxis\":{\"colorbar\":{\"outlinewidth\":0,\"ticks\":\"\"}},\"colorscale\":{\"sequential\":[[0.0,\"#0d0887\"],[0.1111111111111111,\"#46039f\"],[0.2222222222222222,\"#7201a8\"],[0.3333333333333333,\"#9c179e\"],[0.4444444444444444,\"#bd3786\"],[0.5555555555555556,\"#d8576b\"],[0.6666666666666666,\"#ed7953\"],[0.7777777777777778,\"#fb9f3a\"],[0.8888888888888888,\"#fdca26\"],[1.0,\"#f0f921\"]],\"sequentialminus\":[[0.0,\"#0d0887\"],[0.1111111111111111,\"#46039f\"],[0.2222222222222222,\"#7201a8\"],[0.3333333333333333,\"#9c179e\"],[0.4444444444444444,\"#bd3786\"],[0.5555555555555556,\"#d8576b\"],[0.6666666666666666,\"#ed7953\"],[0.7777777777777778,\"#fb9f3a\"],[0.8888888888888888,\"#fdca26\"],[1.0,\"#f0f921\"]],\"diverging\":[[0,\"#8e0152\"],[0.1,\"#c51b7d\"],[0.2,\"#de77ae\"],[0.3,\"#f1b6da\"],[0.4,\"#fde0ef\"],[0.5,\"#f7f7f7\"],[0.6,\"#e6f5d0\"],[0.7,\"#b8e186\"],[0.8,\"#7fbc41\"],[0.9,\"#4d9221\"],[1,\"#276419\"]]},\"xaxis\":{\"gridcolor\":\"white\",\"linecolor\":\"white\",\"ticks\":\"\",\"title\":{\"standoff\":15},\"zerolinecolor\":\"white\",\"automargin\":true,\"zerolinewidth\":2},\"yaxis\":{\"gridcolor\":\"white\",\"linecolor\":\"white\",\"ticks\":\"\",\"title\":{\"standoff\":15},\"zerolinecolor\":\"white\",\"automargin\":true,\"zerolinewidth\":2},\"scene\":{\"xaxis\":{\"backgroundcolor\":\"#E5ECF6\",\"gridcolor\":\"white\",\"linecolor\":\"white\",\"showbackground\":true,\"ticks\":\"\",\"zerolinecolor\":\"white\",\"gridwidth\":2},\"yaxis\":{\"backgroundcolor\":\"#E5ECF6\",\"gridcolor\":\"white\",\"linecolor\":\"white\",\"showbackground\":true,\"ticks\":\"\",\"zerolinecolor\":\"white\",\"gridwidth\":2},\"zaxis\":{\"backgroundcolor\":\"#E5ECF6\",\"gridcolor\":\"white\",\"linecolor\":\"white\",\"showbackground\":true,\"ticks\":\"\",\"zerolinecolor\":\"white\",\"gridwidth\":2}},\"shapedefaults\":{\"line\":{\"color\":\"#2a3f5f\"}},\"annotationdefaults\":{\"arrowcolor\":\"#2a3f5f\",\"arrowhead\":0,\"arrowwidth\":1},\"geo\":{\"bgcolor\":\"white\",\"landcolor\":\"#E5ECF6\",\"subunitcolor\":\"white\",\"showland\":true,\"showlakes\":true,\"lakecolor\":\"white\"},\"title\":{\"x\":0.05},\"mapbox\":{\"style\":\"light\"}}},\"xaxis\":{\"anchor\":\"y\",\"domain\":[0.0,1.0],\"title\":{\"text\":\"flipper_length_mm\"}},\"yaxis\":{\"anchor\":\"x\",\"domain\":[0.0,1.0],\"title\":{\"text\":\"count\"}},\"legend\":{\"tracegroupgap\":0},\"title\":{\"text\":\"Histogram with Interquartile Range (IQR)\"},\"barmode\":\"relative\",\"shapes\":[{\"fillcolor\":\"red\",\"line\":{\"width\":0},\"opacity\":0.2,\"type\":\"rect\",\"x0\":190.0,\"x1\":213.0,\"xref\":\"x\",\"y0\":0,\"y1\":1,\"yref\":\"y domain\"}],\"annotations\":[{\"showarrow\":false,\"text\":\"IQR\",\"x\":190.0,\"xanchor\":\"left\",\"xref\":\"x\",\"y\":1,\"yanchor\":\"top\",\"yref\":\"y domain\"}]},                        {\"responsive\": true}                    ).then(function(){\n",
       "                            \n",
       "var gd = document.getElementById('a9df561f-a298-4cd8-a05f-f4dd236ddd15');\n",
       "var x = new MutationObserver(function (mutations, observer) {{\n",
       "        var display = window.getComputedStyle(gd).display;\n",
       "        if (!display || display === 'none') {{\n",
       "            console.log([gd, 'removed!']);\n",
       "            Plotly.purge(gd);\n",
       "            observer.disconnect();\n",
       "        }}\n",
       "}});\n",
       "\n",
       "// Listen for the removal of the full notebook cells\n",
       "var notebookContainer = gd.closest('#notebook-container');\n",
       "if (notebookContainer) {{\n",
       "    x.observe(notebookContainer, {childList: true});\n",
       "}}\n",
       "\n",
       "// Listen for the clearing of the current output cell\n",
       "var outputEl = gd.closest('.output');\n",
       "if (outputEl) {{\n",
       "    x.observe(outputEl, {childList: true});\n",
       "}}\n",
       "\n",
       "                        })                };                });            </script>        </div>"
      ]
     },
     "metadata": {},
     "output_type": "display_data"
    },
    {
     "data": {
      "application/vnd.plotly.v1+json": {
       "config": {
        "plotlyServerURL": "https://plot.ly"
       },
       "data": [
        {
         "alignmentgroup": "True",
         "bingroup": "x",
         "hovertemplate": "flipper_length_mm=%{x}<br>count=%{y}<extra></extra>",
         "legendgroup": "",
         "marker": {
          "color": "#636efa",
          "pattern": {
           "shape": ""
          }
         },
         "name": "",
         "nbinsx": 30,
         "offsetgroup": "",
         "orientation": "v",
         "showlegend": false,
         "type": "histogram",
         "x": [
          181,
          186,
          195,
          null,
          193,
          190,
          181,
          195,
          193,
          190,
          186,
          180,
          182,
          191,
          198,
          185,
          195,
          197,
          184,
          194,
          174,
          180,
          189,
          185,
          180,
          187,
          183,
          187,
          172,
          180,
          178,
          178,
          188,
          184,
          195,
          196,
          190,
          180,
          181,
          184,
          182,
          195,
          186,
          196,
          185,
          190,
          182,
          179,
          190,
          191,
          186,
          188,
          190,
          200,
          187,
          191,
          186,
          193,
          181,
          194,
          185,
          195,
          185,
          192,
          184,
          192,
          195,
          188,
          190,
          198,
          190,
          190,
          196,
          197,
          190,
          195,
          191,
          184,
          187,
          195,
          189,
          196,
          187,
          193,
          191,
          194,
          190,
          189,
          189,
          190,
          202,
          205,
          185,
          186,
          187,
          208,
          190,
          196,
          178,
          192,
          192,
          203,
          183,
          190,
          193,
          184,
          199,
          190,
          181,
          197,
          198,
          191,
          193,
          197,
          191,
          196,
          188,
          199,
          189,
          189,
          187,
          198,
          176,
          202,
          186,
          199,
          191,
          195,
          191,
          210,
          190,
          197,
          193,
          199,
          187,
          190,
          191,
          200,
          185,
          193,
          193,
          187,
          188,
          190,
          192,
          185,
          190,
          184,
          195,
          193,
          187,
          201,
          192,
          196,
          193,
          188,
          197,
          198,
          178,
          197,
          195,
          198,
          193,
          194,
          185,
          201,
          190,
          201,
          197,
          181,
          190,
          195,
          181,
          191,
          187,
          193,
          195,
          197,
          200,
          200,
          191,
          205,
          187,
          201,
          187,
          203,
          195,
          199,
          195,
          210,
          192,
          205,
          210,
          187,
          196,
          196,
          196,
          201,
          190,
          212,
          187,
          198,
          199,
          201,
          193,
          203,
          187,
          197,
          191,
          203,
          202,
          194,
          206,
          189,
          195,
          207,
          202,
          193,
          210,
          198,
          211,
          230,
          210,
          218,
          215,
          210,
          211,
          219,
          209,
          215,
          214,
          216,
          214,
          213,
          210,
          217,
          210,
          221,
          209,
          222,
          218,
          215,
          213,
          215,
          215,
          215,
          216,
          215,
          210,
          220,
          222,
          209,
          207,
          230,
          220,
          220,
          213,
          219,
          208,
          208,
          208,
          225,
          210,
          216,
          222,
          217,
          210,
          225,
          213,
          215,
          210,
          220,
          210,
          225,
          217,
          220,
          208,
          220,
          208,
          224,
          208,
          221,
          214,
          231,
          219,
          230,
          214,
          229,
          220,
          223,
          216,
          221,
          221,
          217,
          216,
          230,
          209,
          220,
          215,
          223,
          212,
          221,
          212,
          224,
          212,
          228,
          218,
          218,
          212,
          230,
          218,
          228,
          212,
          224,
          214,
          226,
          216,
          222,
          203,
          225,
          219,
          228,
          215,
          228,
          216,
          215,
          210,
          219,
          208,
          209,
          216,
          229,
          213,
          230,
          217,
          230,
          217,
          222,
          214,
          null,
          215,
          222,
          212,
          213
         ],
         "xaxis": "x",
         "yaxis": "y"
        }
       ],
       "layout": {
        "annotations": [
         {
          "showarrow": false,
          "text": "Range",
          "x": 172,
          "xanchor": "left",
          "xref": "x",
          "y": 1,
          "yanchor": "top",
          "yref": "y domain"
         }
        ],
        "barmode": "relative",
        "legend": {
         "tracegroupgap": 0
        },
        "shapes": [
         {
          "fillcolor": "purple",
          "line": {
           "width": 0
          },
          "opacity": 0.1,
          "type": "rect",
          "x0": 172,
          "x1": 231,
          "xref": "x",
          "y0": 0,
          "y1": 1,
          "yref": "y domain"
         }
        ],
        "template": {
         "data": {
          "bar": [
           {
            "error_x": {
             "color": "#2a3f5f"
            },
            "error_y": {
             "color": "#2a3f5f"
            },
            "marker": {
             "line": {
              "color": "#E5ECF6",
              "width": 0.5
             },
             "pattern": {
              "fillmode": "overlay",
              "size": 10,
              "solidity": 0.2
             }
            },
            "type": "bar"
           }
          ],
          "barpolar": [
           {
            "marker": {
             "line": {
              "color": "#E5ECF6",
              "width": 0.5
             },
             "pattern": {
              "fillmode": "overlay",
              "size": 10,
              "solidity": 0.2
             }
            },
            "type": "barpolar"
           }
          ],
          "carpet": [
           {
            "aaxis": {
             "endlinecolor": "#2a3f5f",
             "gridcolor": "white",
             "linecolor": "white",
             "minorgridcolor": "white",
             "startlinecolor": "#2a3f5f"
            },
            "baxis": {
             "endlinecolor": "#2a3f5f",
             "gridcolor": "white",
             "linecolor": "white",
             "minorgridcolor": "white",
             "startlinecolor": "#2a3f5f"
            },
            "type": "carpet"
           }
          ],
          "choropleth": [
           {
            "colorbar": {
             "outlinewidth": 0,
             "ticks": ""
            },
            "type": "choropleth"
           }
          ],
          "contour": [
           {
            "colorbar": {
             "outlinewidth": 0,
             "ticks": ""
            },
            "colorscale": [
             [
              0,
              "#0d0887"
             ],
             [
              0.1111111111111111,
              "#46039f"
             ],
             [
              0.2222222222222222,
              "#7201a8"
             ],
             [
              0.3333333333333333,
              "#9c179e"
             ],
             [
              0.4444444444444444,
              "#bd3786"
             ],
             [
              0.5555555555555556,
              "#d8576b"
             ],
             [
              0.6666666666666666,
              "#ed7953"
             ],
             [
              0.7777777777777778,
              "#fb9f3a"
             ],
             [
              0.8888888888888888,
              "#fdca26"
             ],
             [
              1,
              "#f0f921"
             ]
            ],
            "type": "contour"
           }
          ],
          "contourcarpet": [
           {
            "colorbar": {
             "outlinewidth": 0,
             "ticks": ""
            },
            "type": "contourcarpet"
           }
          ],
          "heatmap": [
           {
            "colorbar": {
             "outlinewidth": 0,
             "ticks": ""
            },
            "colorscale": [
             [
              0,
              "#0d0887"
             ],
             [
              0.1111111111111111,
              "#46039f"
             ],
             [
              0.2222222222222222,
              "#7201a8"
             ],
             [
              0.3333333333333333,
              "#9c179e"
             ],
             [
              0.4444444444444444,
              "#bd3786"
             ],
             [
              0.5555555555555556,
              "#d8576b"
             ],
             [
              0.6666666666666666,
              "#ed7953"
             ],
             [
              0.7777777777777778,
              "#fb9f3a"
             ],
             [
              0.8888888888888888,
              "#fdca26"
             ],
             [
              1,
              "#f0f921"
             ]
            ],
            "type": "heatmap"
           }
          ],
          "heatmapgl": [
           {
            "colorbar": {
             "outlinewidth": 0,
             "ticks": ""
            },
            "colorscale": [
             [
              0,
              "#0d0887"
             ],
             [
              0.1111111111111111,
              "#46039f"
             ],
             [
              0.2222222222222222,
              "#7201a8"
             ],
             [
              0.3333333333333333,
              "#9c179e"
             ],
             [
              0.4444444444444444,
              "#bd3786"
             ],
             [
              0.5555555555555556,
              "#d8576b"
             ],
             [
              0.6666666666666666,
              "#ed7953"
             ],
             [
              0.7777777777777778,
              "#fb9f3a"
             ],
             [
              0.8888888888888888,
              "#fdca26"
             ],
             [
              1,
              "#f0f921"
             ]
            ],
            "type": "heatmapgl"
           }
          ],
          "histogram": [
           {
            "marker": {
             "pattern": {
              "fillmode": "overlay",
              "size": 10,
              "solidity": 0.2
             }
            },
            "type": "histogram"
           }
          ],
          "histogram2d": [
           {
            "colorbar": {
             "outlinewidth": 0,
             "ticks": ""
            },
            "colorscale": [
             [
              0,
              "#0d0887"
             ],
             [
              0.1111111111111111,
              "#46039f"
             ],
             [
              0.2222222222222222,
              "#7201a8"
             ],
             [
              0.3333333333333333,
              "#9c179e"
             ],
             [
              0.4444444444444444,
              "#bd3786"
             ],
             [
              0.5555555555555556,
              "#d8576b"
             ],
             [
              0.6666666666666666,
              "#ed7953"
             ],
             [
              0.7777777777777778,
              "#fb9f3a"
             ],
             [
              0.8888888888888888,
              "#fdca26"
             ],
             [
              1,
              "#f0f921"
             ]
            ],
            "type": "histogram2d"
           }
          ],
          "histogram2dcontour": [
           {
            "colorbar": {
             "outlinewidth": 0,
             "ticks": ""
            },
            "colorscale": [
             [
              0,
              "#0d0887"
             ],
             [
              0.1111111111111111,
              "#46039f"
             ],
             [
              0.2222222222222222,
              "#7201a8"
             ],
             [
              0.3333333333333333,
              "#9c179e"
             ],
             [
              0.4444444444444444,
              "#bd3786"
             ],
             [
              0.5555555555555556,
              "#d8576b"
             ],
             [
              0.6666666666666666,
              "#ed7953"
             ],
             [
              0.7777777777777778,
              "#fb9f3a"
             ],
             [
              0.8888888888888888,
              "#fdca26"
             ],
             [
              1,
              "#f0f921"
             ]
            ],
            "type": "histogram2dcontour"
           }
          ],
          "mesh3d": [
           {
            "colorbar": {
             "outlinewidth": 0,
             "ticks": ""
            },
            "type": "mesh3d"
           }
          ],
          "parcoords": [
           {
            "line": {
             "colorbar": {
              "outlinewidth": 0,
              "ticks": ""
             }
            },
            "type": "parcoords"
           }
          ],
          "pie": [
           {
            "automargin": true,
            "type": "pie"
           }
          ],
          "scatter": [
           {
            "fillpattern": {
             "fillmode": "overlay",
             "size": 10,
             "solidity": 0.2
            },
            "type": "scatter"
           }
          ],
          "scatter3d": [
           {
            "line": {
             "colorbar": {
              "outlinewidth": 0,
              "ticks": ""
             }
            },
            "marker": {
             "colorbar": {
              "outlinewidth": 0,
              "ticks": ""
             }
            },
            "type": "scatter3d"
           }
          ],
          "scattercarpet": [
           {
            "marker": {
             "colorbar": {
              "outlinewidth": 0,
              "ticks": ""
             }
            },
            "type": "scattercarpet"
           }
          ],
          "scattergeo": [
           {
            "marker": {
             "colorbar": {
              "outlinewidth": 0,
              "ticks": ""
             }
            },
            "type": "scattergeo"
           }
          ],
          "scattergl": [
           {
            "marker": {
             "colorbar": {
              "outlinewidth": 0,
              "ticks": ""
             }
            },
            "type": "scattergl"
           }
          ],
          "scattermapbox": [
           {
            "marker": {
             "colorbar": {
              "outlinewidth": 0,
              "ticks": ""
             }
            },
            "type": "scattermapbox"
           }
          ],
          "scatterpolar": [
           {
            "marker": {
             "colorbar": {
              "outlinewidth": 0,
              "ticks": ""
             }
            },
            "type": "scatterpolar"
           }
          ],
          "scatterpolargl": [
           {
            "marker": {
             "colorbar": {
              "outlinewidth": 0,
              "ticks": ""
             }
            },
            "type": "scatterpolargl"
           }
          ],
          "scatterternary": [
           {
            "marker": {
             "colorbar": {
              "outlinewidth": 0,
              "ticks": ""
             }
            },
            "type": "scatterternary"
           }
          ],
          "surface": [
           {
            "colorbar": {
             "outlinewidth": 0,
             "ticks": ""
            },
            "colorscale": [
             [
              0,
              "#0d0887"
             ],
             [
              0.1111111111111111,
              "#46039f"
             ],
             [
              0.2222222222222222,
              "#7201a8"
             ],
             [
              0.3333333333333333,
              "#9c179e"
             ],
             [
              0.4444444444444444,
              "#bd3786"
             ],
             [
              0.5555555555555556,
              "#d8576b"
             ],
             [
              0.6666666666666666,
              "#ed7953"
             ],
             [
              0.7777777777777778,
              "#fb9f3a"
             ],
             [
              0.8888888888888888,
              "#fdca26"
             ],
             [
              1,
              "#f0f921"
             ]
            ],
            "type": "surface"
           }
          ],
          "table": [
           {
            "cells": {
             "fill": {
              "color": "#EBF0F8"
             },
             "line": {
              "color": "white"
             }
            },
            "header": {
             "fill": {
              "color": "#C8D4E3"
             },
             "line": {
              "color": "white"
             }
            },
            "type": "table"
           }
          ]
         },
         "layout": {
          "annotationdefaults": {
           "arrowcolor": "#2a3f5f",
           "arrowhead": 0,
           "arrowwidth": 1
          },
          "autotypenumbers": "strict",
          "coloraxis": {
           "colorbar": {
            "outlinewidth": 0,
            "ticks": ""
           }
          },
          "colorscale": {
           "diverging": [
            [
             0,
             "#8e0152"
            ],
            [
             0.1,
             "#c51b7d"
            ],
            [
             0.2,
             "#de77ae"
            ],
            [
             0.3,
             "#f1b6da"
            ],
            [
             0.4,
             "#fde0ef"
            ],
            [
             0.5,
             "#f7f7f7"
            ],
            [
             0.6,
             "#e6f5d0"
            ],
            [
             0.7,
             "#b8e186"
            ],
            [
             0.8,
             "#7fbc41"
            ],
            [
             0.9,
             "#4d9221"
            ],
            [
             1,
             "#276419"
            ]
           ],
           "sequential": [
            [
             0,
             "#0d0887"
            ],
            [
             0.1111111111111111,
             "#46039f"
            ],
            [
             0.2222222222222222,
             "#7201a8"
            ],
            [
             0.3333333333333333,
             "#9c179e"
            ],
            [
             0.4444444444444444,
             "#bd3786"
            ],
            [
             0.5555555555555556,
             "#d8576b"
            ],
            [
             0.6666666666666666,
             "#ed7953"
            ],
            [
             0.7777777777777778,
             "#fb9f3a"
            ],
            [
             0.8888888888888888,
             "#fdca26"
            ],
            [
             1,
             "#f0f921"
            ]
           ],
           "sequentialminus": [
            [
             0,
             "#0d0887"
            ],
            [
             0.1111111111111111,
             "#46039f"
            ],
            [
             0.2222222222222222,
             "#7201a8"
            ],
            [
             0.3333333333333333,
             "#9c179e"
            ],
            [
             0.4444444444444444,
             "#bd3786"
            ],
            [
             0.5555555555555556,
             "#d8576b"
            ],
            [
             0.6666666666666666,
             "#ed7953"
            ],
            [
             0.7777777777777778,
             "#fb9f3a"
            ],
            [
             0.8888888888888888,
             "#fdca26"
            ],
            [
             1,
             "#f0f921"
            ]
           ]
          },
          "colorway": [
           "#636efa",
           "#EF553B",
           "#00cc96",
           "#ab63fa",
           "#FFA15A",
           "#19d3f3",
           "#FF6692",
           "#B6E880",
           "#FF97FF",
           "#FECB52"
          ],
          "font": {
           "color": "#2a3f5f"
          },
          "geo": {
           "bgcolor": "white",
           "lakecolor": "white",
           "landcolor": "#E5ECF6",
           "showlakes": true,
           "showland": true,
           "subunitcolor": "white"
          },
          "hoverlabel": {
           "align": "left"
          },
          "hovermode": "closest",
          "mapbox": {
           "style": "light"
          },
          "paper_bgcolor": "white",
          "plot_bgcolor": "#E5ECF6",
          "polar": {
           "angularaxis": {
            "gridcolor": "white",
            "linecolor": "white",
            "ticks": ""
           },
           "bgcolor": "#E5ECF6",
           "radialaxis": {
            "gridcolor": "white",
            "linecolor": "white",
            "ticks": ""
           }
          },
          "scene": {
           "xaxis": {
            "backgroundcolor": "#E5ECF6",
            "gridcolor": "white",
            "gridwidth": 2,
            "linecolor": "white",
            "showbackground": true,
            "ticks": "",
            "zerolinecolor": "white"
           },
           "yaxis": {
            "backgroundcolor": "#E5ECF6",
            "gridcolor": "white",
            "gridwidth": 2,
            "linecolor": "white",
            "showbackground": true,
            "ticks": "",
            "zerolinecolor": "white"
           },
           "zaxis": {
            "backgroundcolor": "#E5ECF6",
            "gridcolor": "white",
            "gridwidth": 2,
            "linecolor": "white",
            "showbackground": true,
            "ticks": "",
            "zerolinecolor": "white"
           }
          },
          "shapedefaults": {
           "line": {
            "color": "#2a3f5f"
           }
          },
          "ternary": {
           "aaxis": {
            "gridcolor": "white",
            "linecolor": "white",
            "ticks": ""
           },
           "baxis": {
            "gridcolor": "white",
            "linecolor": "white",
            "ticks": ""
           },
           "bgcolor": "#E5ECF6",
           "caxis": {
            "gridcolor": "white",
            "linecolor": "white",
            "ticks": ""
           }
          },
          "title": {
           "x": 0.05
          },
          "xaxis": {
           "automargin": true,
           "gridcolor": "white",
           "linecolor": "white",
           "ticks": "",
           "title": {
            "standoff": 15
           },
           "zerolinecolor": "white",
           "zerolinewidth": 2
          },
          "yaxis": {
           "automargin": true,
           "gridcolor": "white",
           "linecolor": "white",
           "ticks": "",
           "title": {
            "standoff": 15
           },
           "zerolinecolor": "white",
           "zerolinewidth": 2
          }
         }
        },
        "title": {
         "text": "Histogram with Full Range (Min to Max)"
        },
        "xaxis": {
         "anchor": "y",
         "domain": [
          0,
          1
         ],
         "title": {
          "text": "flipper_length_mm"
         }
        },
        "yaxis": {
         "anchor": "x",
         "domain": [
          0,
          1
         ],
         "title": {
          "text": "count"
         }
        }
       }
      },
      "text/html": [
       "<div>                            <div id=\"45264bf0-8509-40d9-ab7e-ae90965a37bd\" class=\"plotly-graph-div\" style=\"height:525px; width:100%;\"></div>            <script type=\"text/javascript\">                require([\"plotly\"], function(Plotly) {                    window.PLOTLYENV=window.PLOTLYENV || {};                                    if (document.getElementById(\"45264bf0-8509-40d9-ab7e-ae90965a37bd\")) {                    Plotly.newPlot(                        \"45264bf0-8509-40d9-ab7e-ae90965a37bd\",                        [{\"alignmentgroup\":\"True\",\"bingroup\":\"x\",\"hovertemplate\":\"flipper_length_mm=%{x}\\u003cbr\\u003ecount=%{y}\\u003cextra\\u003e\\u003c\\u002fextra\\u003e\",\"legendgroup\":\"\",\"marker\":{\"color\":\"#636efa\",\"pattern\":{\"shape\":\"\"}},\"name\":\"\",\"nbinsx\":30,\"offsetgroup\":\"\",\"orientation\":\"v\",\"showlegend\":false,\"x\":[181.0,186.0,195.0,null,193.0,190.0,181.0,195.0,193.0,190.0,186.0,180.0,182.0,191.0,198.0,185.0,195.0,197.0,184.0,194.0,174.0,180.0,189.0,185.0,180.0,187.0,183.0,187.0,172.0,180.0,178.0,178.0,188.0,184.0,195.0,196.0,190.0,180.0,181.0,184.0,182.0,195.0,186.0,196.0,185.0,190.0,182.0,179.0,190.0,191.0,186.0,188.0,190.0,200.0,187.0,191.0,186.0,193.0,181.0,194.0,185.0,195.0,185.0,192.0,184.0,192.0,195.0,188.0,190.0,198.0,190.0,190.0,196.0,197.0,190.0,195.0,191.0,184.0,187.0,195.0,189.0,196.0,187.0,193.0,191.0,194.0,190.0,189.0,189.0,190.0,202.0,205.0,185.0,186.0,187.0,208.0,190.0,196.0,178.0,192.0,192.0,203.0,183.0,190.0,193.0,184.0,199.0,190.0,181.0,197.0,198.0,191.0,193.0,197.0,191.0,196.0,188.0,199.0,189.0,189.0,187.0,198.0,176.0,202.0,186.0,199.0,191.0,195.0,191.0,210.0,190.0,197.0,193.0,199.0,187.0,190.0,191.0,200.0,185.0,193.0,193.0,187.0,188.0,190.0,192.0,185.0,190.0,184.0,195.0,193.0,187.0,201.0,192.0,196.0,193.0,188.0,197.0,198.0,178.0,197.0,195.0,198.0,193.0,194.0,185.0,201.0,190.0,201.0,197.0,181.0,190.0,195.0,181.0,191.0,187.0,193.0,195.0,197.0,200.0,200.0,191.0,205.0,187.0,201.0,187.0,203.0,195.0,199.0,195.0,210.0,192.0,205.0,210.0,187.0,196.0,196.0,196.0,201.0,190.0,212.0,187.0,198.0,199.0,201.0,193.0,203.0,187.0,197.0,191.0,203.0,202.0,194.0,206.0,189.0,195.0,207.0,202.0,193.0,210.0,198.0,211.0,230.0,210.0,218.0,215.0,210.0,211.0,219.0,209.0,215.0,214.0,216.0,214.0,213.0,210.0,217.0,210.0,221.0,209.0,222.0,218.0,215.0,213.0,215.0,215.0,215.0,216.0,215.0,210.0,220.0,222.0,209.0,207.0,230.0,220.0,220.0,213.0,219.0,208.0,208.0,208.0,225.0,210.0,216.0,222.0,217.0,210.0,225.0,213.0,215.0,210.0,220.0,210.0,225.0,217.0,220.0,208.0,220.0,208.0,224.0,208.0,221.0,214.0,231.0,219.0,230.0,214.0,229.0,220.0,223.0,216.0,221.0,221.0,217.0,216.0,230.0,209.0,220.0,215.0,223.0,212.0,221.0,212.0,224.0,212.0,228.0,218.0,218.0,212.0,230.0,218.0,228.0,212.0,224.0,214.0,226.0,216.0,222.0,203.0,225.0,219.0,228.0,215.0,228.0,216.0,215.0,210.0,219.0,208.0,209.0,216.0,229.0,213.0,230.0,217.0,230.0,217.0,222.0,214.0,null,215.0,222.0,212.0,213.0],\"xaxis\":\"x\",\"yaxis\":\"y\",\"type\":\"histogram\"}],                        {\"template\":{\"data\":{\"histogram2dcontour\":[{\"type\":\"histogram2dcontour\",\"colorbar\":{\"outlinewidth\":0,\"ticks\":\"\"},\"colorscale\":[[0.0,\"#0d0887\"],[0.1111111111111111,\"#46039f\"],[0.2222222222222222,\"#7201a8\"],[0.3333333333333333,\"#9c179e\"],[0.4444444444444444,\"#bd3786\"],[0.5555555555555556,\"#d8576b\"],[0.6666666666666666,\"#ed7953\"],[0.7777777777777778,\"#fb9f3a\"],[0.8888888888888888,\"#fdca26\"],[1.0,\"#f0f921\"]]}],\"choropleth\":[{\"type\":\"choropleth\",\"colorbar\":{\"outlinewidth\":0,\"ticks\":\"\"}}],\"histogram2d\":[{\"type\":\"histogram2d\",\"colorbar\":{\"outlinewidth\":0,\"ticks\":\"\"},\"colorscale\":[[0.0,\"#0d0887\"],[0.1111111111111111,\"#46039f\"],[0.2222222222222222,\"#7201a8\"],[0.3333333333333333,\"#9c179e\"],[0.4444444444444444,\"#bd3786\"],[0.5555555555555556,\"#d8576b\"],[0.6666666666666666,\"#ed7953\"],[0.7777777777777778,\"#fb9f3a\"],[0.8888888888888888,\"#fdca26\"],[1.0,\"#f0f921\"]]}],\"heatmap\":[{\"type\":\"heatmap\",\"colorbar\":{\"outlinewidth\":0,\"ticks\":\"\"},\"colorscale\":[[0.0,\"#0d0887\"],[0.1111111111111111,\"#46039f\"],[0.2222222222222222,\"#7201a8\"],[0.3333333333333333,\"#9c179e\"],[0.4444444444444444,\"#bd3786\"],[0.5555555555555556,\"#d8576b\"],[0.6666666666666666,\"#ed7953\"],[0.7777777777777778,\"#fb9f3a\"],[0.8888888888888888,\"#fdca26\"],[1.0,\"#f0f921\"]]}],\"heatmapgl\":[{\"type\":\"heatmapgl\",\"colorbar\":{\"outlinewidth\":0,\"ticks\":\"\"},\"colorscale\":[[0.0,\"#0d0887\"],[0.1111111111111111,\"#46039f\"],[0.2222222222222222,\"#7201a8\"],[0.3333333333333333,\"#9c179e\"],[0.4444444444444444,\"#bd3786\"],[0.5555555555555556,\"#d8576b\"],[0.6666666666666666,\"#ed7953\"],[0.7777777777777778,\"#fb9f3a\"],[0.8888888888888888,\"#fdca26\"],[1.0,\"#f0f921\"]]}],\"contourcarpet\":[{\"type\":\"contourcarpet\",\"colorbar\":{\"outlinewidth\":0,\"ticks\":\"\"}}],\"contour\":[{\"type\":\"contour\",\"colorbar\":{\"outlinewidth\":0,\"ticks\":\"\"},\"colorscale\":[[0.0,\"#0d0887\"],[0.1111111111111111,\"#46039f\"],[0.2222222222222222,\"#7201a8\"],[0.3333333333333333,\"#9c179e\"],[0.4444444444444444,\"#bd3786\"],[0.5555555555555556,\"#d8576b\"],[0.6666666666666666,\"#ed7953\"],[0.7777777777777778,\"#fb9f3a\"],[0.8888888888888888,\"#fdca26\"],[1.0,\"#f0f921\"]]}],\"surface\":[{\"type\":\"surface\",\"colorbar\":{\"outlinewidth\":0,\"ticks\":\"\"},\"colorscale\":[[0.0,\"#0d0887\"],[0.1111111111111111,\"#46039f\"],[0.2222222222222222,\"#7201a8\"],[0.3333333333333333,\"#9c179e\"],[0.4444444444444444,\"#bd3786\"],[0.5555555555555556,\"#d8576b\"],[0.6666666666666666,\"#ed7953\"],[0.7777777777777778,\"#fb9f3a\"],[0.8888888888888888,\"#fdca26\"],[1.0,\"#f0f921\"]]}],\"mesh3d\":[{\"type\":\"mesh3d\",\"colorbar\":{\"outlinewidth\":0,\"ticks\":\"\"}}],\"scatter\":[{\"fillpattern\":{\"fillmode\":\"overlay\",\"size\":10,\"solidity\":0.2},\"type\":\"scatter\"}],\"parcoords\":[{\"type\":\"parcoords\",\"line\":{\"colorbar\":{\"outlinewidth\":0,\"ticks\":\"\"}}}],\"scatterpolargl\":[{\"type\":\"scatterpolargl\",\"marker\":{\"colorbar\":{\"outlinewidth\":0,\"ticks\":\"\"}}}],\"bar\":[{\"error_x\":{\"color\":\"#2a3f5f\"},\"error_y\":{\"color\":\"#2a3f5f\"},\"marker\":{\"line\":{\"color\":\"#E5ECF6\",\"width\":0.5},\"pattern\":{\"fillmode\":\"overlay\",\"size\":10,\"solidity\":0.2}},\"type\":\"bar\"}],\"scattergeo\":[{\"type\":\"scattergeo\",\"marker\":{\"colorbar\":{\"outlinewidth\":0,\"ticks\":\"\"}}}],\"scatterpolar\":[{\"type\":\"scatterpolar\",\"marker\":{\"colorbar\":{\"outlinewidth\":0,\"ticks\":\"\"}}}],\"histogram\":[{\"marker\":{\"pattern\":{\"fillmode\":\"overlay\",\"size\":10,\"solidity\":0.2}},\"type\":\"histogram\"}],\"scattergl\":[{\"type\":\"scattergl\",\"marker\":{\"colorbar\":{\"outlinewidth\":0,\"ticks\":\"\"}}}],\"scatter3d\":[{\"type\":\"scatter3d\",\"line\":{\"colorbar\":{\"outlinewidth\":0,\"ticks\":\"\"}},\"marker\":{\"colorbar\":{\"outlinewidth\":0,\"ticks\":\"\"}}}],\"scattermapbox\":[{\"type\":\"scattermapbox\",\"marker\":{\"colorbar\":{\"outlinewidth\":0,\"ticks\":\"\"}}}],\"scatterternary\":[{\"type\":\"scatterternary\",\"marker\":{\"colorbar\":{\"outlinewidth\":0,\"ticks\":\"\"}}}],\"scattercarpet\":[{\"type\":\"scattercarpet\",\"marker\":{\"colorbar\":{\"outlinewidth\":0,\"ticks\":\"\"}}}],\"carpet\":[{\"aaxis\":{\"endlinecolor\":\"#2a3f5f\",\"gridcolor\":\"white\",\"linecolor\":\"white\",\"minorgridcolor\":\"white\",\"startlinecolor\":\"#2a3f5f\"},\"baxis\":{\"endlinecolor\":\"#2a3f5f\",\"gridcolor\":\"white\",\"linecolor\":\"white\",\"minorgridcolor\":\"white\",\"startlinecolor\":\"#2a3f5f\"},\"type\":\"carpet\"}],\"table\":[{\"cells\":{\"fill\":{\"color\":\"#EBF0F8\"},\"line\":{\"color\":\"white\"}},\"header\":{\"fill\":{\"color\":\"#C8D4E3\"},\"line\":{\"color\":\"white\"}},\"type\":\"table\"}],\"barpolar\":[{\"marker\":{\"line\":{\"color\":\"#E5ECF6\",\"width\":0.5},\"pattern\":{\"fillmode\":\"overlay\",\"size\":10,\"solidity\":0.2}},\"type\":\"barpolar\"}],\"pie\":[{\"automargin\":true,\"type\":\"pie\"}]},\"layout\":{\"autotypenumbers\":\"strict\",\"colorway\":[\"#636efa\",\"#EF553B\",\"#00cc96\",\"#ab63fa\",\"#FFA15A\",\"#19d3f3\",\"#FF6692\",\"#B6E880\",\"#FF97FF\",\"#FECB52\"],\"font\":{\"color\":\"#2a3f5f\"},\"hovermode\":\"closest\",\"hoverlabel\":{\"align\":\"left\"},\"paper_bgcolor\":\"white\",\"plot_bgcolor\":\"#E5ECF6\",\"polar\":{\"bgcolor\":\"#E5ECF6\",\"angularaxis\":{\"gridcolor\":\"white\",\"linecolor\":\"white\",\"ticks\":\"\"},\"radialaxis\":{\"gridcolor\":\"white\",\"linecolor\":\"white\",\"ticks\":\"\"}},\"ternary\":{\"bgcolor\":\"#E5ECF6\",\"aaxis\":{\"gridcolor\":\"white\",\"linecolor\":\"white\",\"ticks\":\"\"},\"baxis\":{\"gridcolor\":\"white\",\"linecolor\":\"white\",\"ticks\":\"\"},\"caxis\":{\"gridcolor\":\"white\",\"linecolor\":\"white\",\"ticks\":\"\"}},\"coloraxis\":{\"colorbar\":{\"outlinewidth\":0,\"ticks\":\"\"}},\"colorscale\":{\"sequential\":[[0.0,\"#0d0887\"],[0.1111111111111111,\"#46039f\"],[0.2222222222222222,\"#7201a8\"],[0.3333333333333333,\"#9c179e\"],[0.4444444444444444,\"#bd3786\"],[0.5555555555555556,\"#d8576b\"],[0.6666666666666666,\"#ed7953\"],[0.7777777777777778,\"#fb9f3a\"],[0.8888888888888888,\"#fdca26\"],[1.0,\"#f0f921\"]],\"sequentialminus\":[[0.0,\"#0d0887\"],[0.1111111111111111,\"#46039f\"],[0.2222222222222222,\"#7201a8\"],[0.3333333333333333,\"#9c179e\"],[0.4444444444444444,\"#bd3786\"],[0.5555555555555556,\"#d8576b\"],[0.6666666666666666,\"#ed7953\"],[0.7777777777777778,\"#fb9f3a\"],[0.8888888888888888,\"#fdca26\"],[1.0,\"#f0f921\"]],\"diverging\":[[0,\"#8e0152\"],[0.1,\"#c51b7d\"],[0.2,\"#de77ae\"],[0.3,\"#f1b6da\"],[0.4,\"#fde0ef\"],[0.5,\"#f7f7f7\"],[0.6,\"#e6f5d0\"],[0.7,\"#b8e186\"],[0.8,\"#7fbc41\"],[0.9,\"#4d9221\"],[1,\"#276419\"]]},\"xaxis\":{\"gridcolor\":\"white\",\"linecolor\":\"white\",\"ticks\":\"\",\"title\":{\"standoff\":15},\"zerolinecolor\":\"white\",\"automargin\":true,\"zerolinewidth\":2},\"yaxis\":{\"gridcolor\":\"white\",\"linecolor\":\"white\",\"ticks\":\"\",\"title\":{\"standoff\":15},\"zerolinecolor\":\"white\",\"automargin\":true,\"zerolinewidth\":2},\"scene\":{\"xaxis\":{\"backgroundcolor\":\"#E5ECF6\",\"gridcolor\":\"white\",\"linecolor\":\"white\",\"showbackground\":true,\"ticks\":\"\",\"zerolinecolor\":\"white\",\"gridwidth\":2},\"yaxis\":{\"backgroundcolor\":\"#E5ECF6\",\"gridcolor\":\"white\",\"linecolor\":\"white\",\"showbackground\":true,\"ticks\":\"\",\"zerolinecolor\":\"white\",\"gridwidth\":2},\"zaxis\":{\"backgroundcolor\":\"#E5ECF6\",\"gridcolor\":\"white\",\"linecolor\":\"white\",\"showbackground\":true,\"ticks\":\"\",\"zerolinecolor\":\"white\",\"gridwidth\":2}},\"shapedefaults\":{\"line\":{\"color\":\"#2a3f5f\"}},\"annotationdefaults\":{\"arrowcolor\":\"#2a3f5f\",\"arrowhead\":0,\"arrowwidth\":1},\"geo\":{\"bgcolor\":\"white\",\"landcolor\":\"#E5ECF6\",\"subunitcolor\":\"white\",\"showland\":true,\"showlakes\":true,\"lakecolor\":\"white\"},\"title\":{\"x\":0.05},\"mapbox\":{\"style\":\"light\"}}},\"xaxis\":{\"anchor\":\"y\",\"domain\":[0.0,1.0],\"title\":{\"text\":\"flipper_length_mm\"}},\"yaxis\":{\"anchor\":\"x\",\"domain\":[0.0,1.0],\"title\":{\"text\":\"count\"}},\"legend\":{\"tracegroupgap\":0},\"title\":{\"text\":\"Histogram with Full Range (Min to Max)\"},\"barmode\":\"relative\",\"shapes\":[{\"fillcolor\":\"purple\",\"line\":{\"width\":0},\"opacity\":0.1,\"type\":\"rect\",\"x0\":172.0,\"x1\":231.0,\"xref\":\"x\",\"y0\":0,\"y1\":1,\"yref\":\"y domain\"}],\"annotations\":[{\"showarrow\":false,\"text\":\"Range\",\"x\":172.0,\"xanchor\":\"left\",\"xref\":\"x\",\"y\":1,\"yanchor\":\"top\",\"yref\":\"y domain\"}]},                        {\"responsive\": true}                    ).then(function(){\n",
       "                            \n",
       "var gd = document.getElementById('45264bf0-8509-40d9-ab7e-ae90965a37bd');\n",
       "var x = new MutationObserver(function (mutations, observer) {{\n",
       "        var display = window.getComputedStyle(gd).display;\n",
       "        if (!display || display === 'none') {{\n",
       "            console.log([gd, 'removed!']);\n",
       "            Plotly.purge(gd);\n",
       "            observer.disconnect();\n",
       "        }}\n",
       "}});\n",
       "\n",
       "// Listen for the removal of the full notebook cells\n",
       "var notebookContainer = gd.closest('#notebook-container');\n",
       "if (notebookContainer) {{\n",
       "    x.observe(notebookContainer, {childList: true});\n",
       "}}\n",
       "\n",
       "// Listen for the clearing of the current output cell\n",
       "var outputEl = gd.closest('.output');\n",
       "if (outputEl) {{\n",
       "    x.observe(outputEl, {childList: true});\n",
       "}}\n",
       "\n",
       "                        })                };                });            </script>        </div>"
      ]
     },
     "metadata": {},
     "output_type": "display_data"
    }
   ],
   "source": [
    "#Question1 (coding)\n",
    "\n",
    "import plotly.express as px\n",
    "import plotly.graph_objects as go\n",
    "import pandas as pd\n",
    "\n",
    "url = 'https://raw.githubusercontent.com/mwaskom/seaborn-data/master/penguins.csv'\n",
    "df = pd.read_csv(url)\n",
    "\n",
    "mean_flipper = df[\"flipper_length_mm\"].mean()\n",
    "median_flipper = df[\"flipper_length_mm\"].median()\n",
    "std_flipper = df[\"flipper_length_mm\"].std()\n",
    "min_flipper = df[\"flipper_length_mm\"].min()\n",
    "max_flipper = df[\"flipper_length_mm\"].max()\n",
    "q1_flipper = df[\"flipper_length_mm\"].quantile(0.25)\n",
    "q3_flipper = df[\"flipper_length_mm\"].quantile(0.75)\n",
    "\n",
    "fig_mean = px.histogram(df, x=\"flipper_length_mm\", nbins=30, title=\"Histogram with Mean\")\n",
    "fig_mean.add_vline(x=mean_flipper, line=dict(color=\"blue\", width=2, dash=\"dash\"), annotation_text=\"Mean\", annotation_position=\"top left\")\n",
    "fig_mean.show()\n",
    "\n",
    "fig_median = px.histogram(df, x=\"flipper_length_mm\", nbins=30, title=\"Histogram with Median\")\n",
    "fig_median.add_vline(x=median_flipper, line=dict(color=\"orange\", width=2, dash=\"dot\"), annotation_text=\"Median\", annotation_position=\"top right\")\n",
    "fig_median.show()\n",
    "\n",
    "fig_std = px.histogram(df, x=\"flipper_length_mm\", nbins=30, title=\"Histogram with ±2 Standard Deviations\")\n",
    "fig_std.add_vline(x=mean_flipper + 2*std_flipper, line=dict(color=\"green\", width=2, dash=\"dot\"), annotation_text=\"+2 Std Dev\", annotation_position=\"top left\")\n",
    "fig_std.add_vline(x=mean_flipper - 2*std_flipper, line=dict(color=\"green\", width=2, dash=\"dot\"), annotation_text=\"-2 Std Dev\", annotation_position=\"top right\")\n",
    "fig_std.show()\n",
    "\n",
    "fig_iqr = px.histogram(df, x=\"flipper_length_mm\", nbins=30, title=\"Histogram with Interquartile Range (IQR)\")\n",
    "fig_iqr.add_vrect(x0=q1_flipper, x1=q3_flipper, fillcolor=\"red\", opacity=0.2, line_width=0, annotation_text=\"IQR\", annotation_position=\"top left\")\n",
    "fig_iqr.show()\n",
    "\n",
    "fig_range = px.histogram(df, x=\"flipper_length_mm\", nbins=30, title=\"Histogram with Full Range (Min to Max)\")\n",
    "fig_range.add_vrect(x0=min_flipper, x1=max_flipper, fillcolor=\"purple\", opacity=0.1, line_width=0, annotation_text=\"Range\", annotation_position=\"top left\")\n",
    "fig_range.show()\n"
   ]
  },
  {
   "cell_type": "code",
   "execution_count": 4,
   "id": "71c3ad0b",
   "metadata": {},
   "outputs": [],
   "source": [
    "#Question1(Explain the codes by using chatGPT--as mentioned in the HW requiment)\n",
    "\n",
    "#Step1: Importing Libraries\n",
    "#Step2: Loading the Penguins Dataset by typing the URL link into the codes\n",
    "#Step3: Calculating Statistics such as how to code mean, median, std(),quantile(0.25) and quantile(0.75) 0...\n",
    "#Step4: Creating Separate Histograms for Each Indicator with five separate histograms in oder to see it clearly with large amount of datas.\n",
    "        #1.Histogram with Mean\n",
    "        #2.Histogram with Median\n",
    "        #3.Histogram with ±2 Standard Deviations\n",
    "        #4.Histogram with Interquartile Range (IQR)\n",
    "        #5.Histogram with Full Range (Min to Max)"
   ]
  },
  {
   "cell_type": "code",
   "execution_count": 5,
   "id": "6754a30f",
   "metadata": {},
   "outputs": [],
   "source": [
    "#Question1 link for ChatGPT: https://chatgpt.com/share/66f61f62-b08c-800b-b184-e8880d643ba2"
   ]
  },
  {
   "cell_type": "code",
   "execution_count": null,
   "id": "0d89b913",
   "metadata": {},
   "outputs": [],
   "source": []
  },
  {
   "cell_type": "code",
   "execution_count": 8,
   "id": "06bf064b",
   "metadata": {},
   "outputs": [
    {
     "data": {
      "image/png": "[encoded data removed]",
      "text/plain": [
       "<Figure size 1800x600 with 3 Axes>"
      ]
     },
     "metadata": {},
     "output_type": "display_data"
    }
   ],
   "source": [
    "#Qustion2 (Coding)\n",
    "\n",
    "import seaborn as sns\n",
    "import matplotlib.pyplot as plt\n",
    "import pandas as pd\n",
    "\n",
    "url = 'https://raw.githubusercontent.com/mwaskom/seaborn-data/master/penguins.csv'\n",
    "df = pd.read_csv(url)\n",
    "\n",
    "df = df.dropna(subset=[\"flipper_length_mm\"])\n",
    "\n",
    "mean_flipper = df[\"flipper_length_mm\"].mean()\n",
    "std_flipper = df[\"flipper_length_mm\"].std()\n",
    "q1_flipper = df[\"flipper_length_mm\"].quantile(0.25)\n",
    "q3_flipper = df[\"flipper_length_mm\"].quantile(0.75)\n",
    "\n",
    "fig, axes = plt.subplots(1, 3, figsize=(18, 6))\n",
    "\n",
    "sns.kdeplot(df[\"flipper_length_mm\"], ax=axes[0], fill=True, color=\"blue\")\n",
    "axes[0].axvline(mean_flipper, color='blue', linestyle='--', label=\"Mean\")\n",
    "axes[0].set_title(\"KDE with Mean\")\n",
    "axes[0].legend()\n",
    "\n",
    "sns.kdeplot(df[\"flipper_length_mm\"], ax=axes[1], fill=True, color=\"green\")\n",
    "axes[1].axvline(mean_flipper + 2*std_flipper, color='green', linestyle='--', label=\"+2 Std Dev\")\n",
    "axes[1].axvline(mean_flipper - 2*std_flipper, color='green', linestyle='--', label=\"-2 Std Dev\")\n",
    "axes[1].set_title(\"KDE with ±2 Standard Deviations\")\n",
    "axes[1].legend()\n",
    "\n",
    "sns.kdeplot(df[\"flipper_length_mm\"], ax=axes[2], fill=True, color=\"red\")\n",
    "axes[2].axvspan(q1_flipper, q3_flipper, color='red', alpha=0.2, label=\"IQR\")\n",
    "axes[2].set_title(\"KDE with IQR\")\n",
    "axes[2].legend()\n",
    "\n",
    "plt.tight_layout()\n",
    "plt.show()"
   ]
  },
  {
   "cell_type": "code",
   "execution_count": 9,
   "id": "b469c586",
   "metadata": {},
   "outputs": [],
   "source": [
    "#Question2 （Explain the codes by using chatGPT--as mentioned in the HW requiment）\n",
    "\n",
    "#1 Importing Required Libraries\n",
    "#2 Loading the Dataset\n",
    "#3 Handling Missing Values\n",
    "   #(for the first three steps, it is the same as the question1)\n",
    "#4 Calculating Statistics\n",
    "#5 Creating the Subplots （e.g plt.subplots(1, 3)）\n",
    "#6 Plotting KDE with Mean\n",
    "#7 Plotting KDE with ±2 Standard Deviations\n",
    "#8 Plotting KDE with Interquartile Range (IQR)"
   ]
  },
  {
   "cell_type": "code",
   "execution_count": 10,
   "id": "c312dfdd",
   "metadata": {},
   "outputs": [],
   "source": [
    "#Question2 link for ChatGPT: https://chatgpt.com/share/66f61f62-b08c-800b-b184-e8880d643ba2"
   ]
  },
  {
   "cell_type": "code",
   "execution_count": null,
   "id": "2bb73589",
   "metadata": {},
   "outputs": [],
   "source": []
  },
  {
   "cell_type": "code",
   "execution_count": 11,
   "id": "7b1f6bb5",
   "metadata": {},
   "outputs": [],
   "source": [
    "#Question3 \n",
    "\n",
    "# I personally like KDEs becasue I can always see seprate graphs and each of the graphs illustrates clearly with smooth and continuous view of the data’s distribution \n",
    "# KDEs graphs also show clearly for Kernel Density Estimators\n",
    "# The density estimate is just a fancy word for a guess and that is trying to guess the density function f that describes well the randomness of the data"
   ]
  },
  {
   "cell_type": "code",
   "execution_count": 12,
   "id": "88d25dcf",
   "metadata": {},
   "outputs": [],
   "source": [
    "#Question3 link for ChatGPT: https://chatgpt.com/share/66f62712-4e90-800b-a114-f638d1615c1b"
   ]
  },
  {
   "cell_type": "code",
   "execution_count": null,
   "id": "fdc6320c",
   "metadata": {},
   "outputs": [],
   "source": []
  },
  {
   "cell_type": "code",
   "execution_count": 13,
   "id": "d88c92b1",
   "metadata": {},
   "outputs": [
    {
     "data": {
      "application/vnd.plotly.v1+json": {
       "config": {
        "plotlyServerURL": "https://plot.ly"
       },
       "data": [
        {
         "marker": {
          "line": {
           "color": "black",
           "width": 1
          }
         },
         "name": "A",
         "nbinsx": 30,
         "type": "histogram",
         "x": [
          1.7480091679869991,
          4.869532079634547,
          6.983115956276381,
          4.389666091071361,
          8.65409985684471,
          2.8546294601693454,
          6.070142787337119,
          8.827010022690224,
          2.7943398395084795,
          8.193836120161023,
          4.392908138919955,
          2.2017910268740435,
          5.943845237478645,
          6.712604892396295,
          2.0031890868375815,
          4.906405208486392,
          5.381885472955217,
          7.97654058772004,
          4.733810710453308,
          0.9878580452882069,
          7.144841725203969,
          1.4995598675183053,
          3.6747266009495796,
          4.31648921519006,
          2.073482879541598,
          5.709653673739109,
          9.13668441304354,
          8.876166978641548,
          8.990322253986744,
          4.07331344247863,
          9.648987970426262,
          0.9782908163828452,
          7.8370971213148435,
          6.776422949236768,
          7.887417741569635,
          6.348908468688999,
          4.2532826261236565,
          1.788021704788867,
          0.012490554633365347,
          3.0242249675083044,
          2.0026619018077607,
          2.5344417021289978,
          2.6813738936901,
          4.401278691531919,
          1.3326730640505091,
          6.484882865462065,
          7.597111762423413,
          5.495825561200785,
          5.916925070652212,
          8.128954444247874,
          5.462358534584434,
          7.343374800375998,
          1.1924485221891934,
          3.0549801775997354,
          3.162027875401403,
          2.6455295153007077,
          2.3016631596523265,
          5.542177299697988,
          1.9343102416261593,
          7.932720388010281,
          0.10252198970770121,
          6.134664992219786,
          1.6702150214783074,
          6.9619294377663445,
          8.195579938822979,
          6.861477312471271,
          9.048819451059352,
          5.183176956204052,
          9.045590267389974,
          2.0405607978464957,
          2.265086110059652,
          4.268863104055266,
          9.600383004620053,
          7.030556036211259,
          4.500441894609946,
          6.316589566423852,
          3.828924096587559,
          9.980139138620183,
          7.853905867204429,
          8.664139341100816,
          9.553759168215851,
          3.5765081101138363,
          2.220894221512373,
          8.557465261159571,
          8.026263239350989,
          3.8392159325343256,
          6.82192716859184,
          9.058455483164977,
          6.323563730804671,
          8.565181695058598,
          7.054387474352406,
          5.660042610809805,
          6.920789974639651,
          3.3250732965189678,
          1.574110761115084,
          2.2091354019559173,
          4.950222057323611,
          2.13276456277113,
          5.849269229676048,
          5.798745921358416,
          5.943196940136417,
          3.900550514893273,
          4.184090315075405,
          6.545480492964193,
          5.7557251668145435,
          6.90519959968894,
          2.7527102995233497,
          8.727243963550485,
          1.591819301687486,
          9.34538810819297,
          8.595807407211352,
          2.963548369794482,
          2.9431725480312885,
          5.773423578755445,
          4.669487418665845,
          6.895982937619488,
          3.7939426913707344,
          1.2121901099409482,
          0.33643548932130396,
          0.25625994174004574,
          1.5172812183481066,
          8.575937343642064,
          7.688482363846042,
          7.175873217742346,
          1.2020621751897997,
          6.65887183846184,
          3.5731591503792215,
          2.2661890608125668,
          2.1451188775900096,
          6.544667477567472,
          2.05794482507439,
          8.427487983883081,
          5.005261597891732,
          6.666408778374428,
          7.147551335557103,
          9.924158971390312,
          6.854585864314959,
          2.451620012453901,
          0.8241244433992889,
          0.24267684938192757,
          9.06322832142301,
          9.846499534895015,
          3.8840171692241343,
          6.399484517164979,
          0.6035045434980557,
          9.86402477681162,
          1.5079277148392523,
          0.23856891295979343,
          1.1768287513325293,
          9.082398444550481,
          2.0941638527323594,
          3.8909599968042374,
          6.262487410111754,
          7.308607323927358,
          2.2276364605321275,
          9.346658391783699,
          4.949635684453149,
          0.294946713633808,
          7.86308756541819,
          8.532130713834126,
          2.420834364821226,
          5.415130587293769,
          1.0815811910182949,
          1.9375881290307528,
          0.5166628546472318,
          7.212653356318918,
          9.628569491813115,
          2.4030289943363883,
          1.4463707387227087,
          7.063917424804344,
          4.889664565563805,
          6.359381261419987,
          2.1135154413809087,
          5.736055390657805,
          6.031041664799702,
          6.428164398659254,
          8.341992260544796,
          4.783076492646093,
          7.165777930259725,
          9.000692146615561,
          7.346170436941623,
          9.567172016675627,
          1.6728256000506092,
          8.302130894934137,
          7.071370445874216,
          4.1678335007407,
          8.380825601308532,
          4.2945564785143056,
          6.371955518033122,
          9.396989614703905,
          5.0461257102026424,
          8.556333912842346,
          5.559174073251597,
          6.71495584258187,
          3.0612615929370457,
          8.497881168195109,
          1.5015781900673875,
          0.8017159946728125,
          0.09434302494523705,
          7.01126576055641,
          9.413887392232152,
          0.4337895378497181,
          6.336524955784641,
          8.242323765967054,
          2.0158010902678205,
          6.381206591620348,
          7.343888955306884,
          7.436832181190555,
          8.290665271984574,
          7.171433886215118,
          4.408220042578631,
          1.7969285091783493,
          3.5007504924373856,
          5.2997202612860415,
          0.46416453554779635,
          3.7574259029834156,
          8.845066454797667,
          3.017549084383435,
          7.236270193356144,
          4.349633280692643,
          1.8940059940935339,
          3.6432749170224787,
          1.6337688105040438,
          2.275307198255543,
          1.3950888899315084,
          8.061007284805985,
          3.335373716723921,
          8.534620912540369,
          1.0439511218058173,
          2.414930664613099,
          0.998422938968826,
          6.808683915434339,
          3.115431833784715,
          6.749303834721857,
          9.95324676669598,
          6.740414855790179,
          9.871407119932755,
          3.474192600707504,
          8.843176539272148,
          7.939144879197013,
          7.252406526319099,
          6.732024812065785,
          6.531491757165789,
          2.8796421864747157,
          9.174873948293193,
          8.307340206401834,
          0.10858449840218554,
          8.902136930573105,
          0.9556087186120221,
          9.959030316353992,
          5.8567711612450175,
          9.070139123637192,
          7.852568428515233,
          3.7660998828988945,
          0.8868240073152245,
          3.993667644471964,
          0.927460006943096,
          4.300188815037009,
          4.062934509210797,
          5.2910801767561715,
          9.010168986777163,
          1.670289427720888,
          1.2760854282508372,
          2.726998107179149,
          1.100992106541041,
          0.6494914455605172,
          4.4232346001948875,
          2.470243272205337,
          2.3954502521369747,
          4.524785215802876,
          0.6348106338107329,
          1.621175042844768,
          0.259800839736406,
          1.9592610211931372,
          7.90764394327347,
          3.2781475443204258,
          8.93954327192344,
          0.6895166402050779,
          7.643078115972322,
          0.9743614804324785,
          2.256097500713893,
          7.282778468095686,
          4.633802777238493,
          4.7964906011414135,
          1.5950410727456754,
          1.9646942845851156,
          3.0048426823522147,
          7.85242330321832,
          5.091955704276688,
          0.3404044155414854,
          1.5279378840684288,
          0.7766201855871269,
          2.6116173002919982,
          4.9551514963204015,
          7.3842128403328875,
          6.777332525188928,
          2.7015580524094354,
          1.2505766372462535,
          2.4114258221769678,
          2.828670582928743,
          4.760888894049032,
          7.050342074001579,
          4.065563281048119,
          4.835049318173684,
          2.8619778163320198,
          2.354813571699197,
          7.798304668055438,
          6.160760412258037,
          0.3243563103620484,
          8.83580737671523,
          0.409323478235214,
          5.6272878155017665,
          5.0665639647975516,
          6.812433091327571,
          0.44603581797267866,
          3.225951075246105,
          2.7760025257150147,
          8.584034916555296,
          3.2966394990287027,
          6.525723750310201,
          4.613844788439007,
          0.05357771853955251,
          5.347629318281763,
          7.71801896467105,
          7.511403146631564,
          0.15140984320764717,
          6.762771377375864,
          6.673709777609263,
          2.259897601247036,
          0.5696089669131044,
          6.846090852318659,
          6.296412422719405,
          4.5488914375992815,
          9.907455511840501,
          9.298118858062075,
          5.933547101078296,
          2.015218263371316,
          5.382355382009726,
          8.369022153150658,
          8.98187097118558,
          6.270632719117154,
          4.489184050054859,
          4.8384726342663145,
          8.908421144186224,
          4.298882237797628,
          0.8354523577199069,
          7.6773563366660085,
          0.25585361345772273,
          3.9500296085743503,
          0.3610279447535103,
          9.798506204107618,
          6.44317819737961,
          6.778838281563142,
          7.881013905422992,
          2.642451494255047,
          0.3887499485870216,
          2.6332114487207035,
          1.0212415611154013,
          5.411163248478066,
          9.345945939199302,
          9.332109330577063,
          0.3287567585579909,
          2.7506424154802387,
          2.115257294452878,
          4.406201820628367,
          1.4645267235958048,
          6.652195012324517,
          7.361393498534255,
          6.7781273682159835,
          1.4885827366416338,
          3.802705609068199,
          2.5158415020557943,
          6.94625333921897,
          3.6000751400986286,
          5.857947975689404,
          9.906000963069362,
          1.0733299261784035,
          0.10795852510529613,
          5.398286442004135,
          0.09612575350068098,
          4.205470430569927,
          5.117235898969197,
          0.33273556323747844,
          4.864772138620593,
          1.7488374655346406,
          3.6450395771524513,
          0.625969011183487,
          7.845182526266666,
          4.061027615770623,
          9.140007614760313,
          0.1281759268595717,
          6.738024050666681,
          2.207528889620188,
          5.8894554432549135,
          2.302110230337666,
          0.2042939968434454,
          2.404971500350891,
          2.8136280820924684,
          3.583096456166909,
          6.225514996334745,
          7.704277838614521,
          7.400778456038891,
          8.130789481827543,
          2.4095350766443433,
          8.732266634303853,
          8.607391607094957,
          0.08563345710420167,
          5.3078653536981255,
          3.5988490811033524,
          2.5631752847517566,
          2.076801046531923,
          3.5091685564309847,
          3.129785134128954,
          4.0064556092151715,
          7.278965938265175,
          3.2916468638685235,
          0.4064234505871722,
          3.7267919770139004,
          0.2496003778773659,
          8.915752341093246,
          3.816858654674633,
          6.1491441033045025,
          5.27791397313056,
          6.006973683746192,
          4.778121878396279,
          5.727772964560057,
          6.919270899957912,
          6.553825391956037,
          1.341182505236388,
          7.450421785317481,
          5.5066278634460115,
          5.8757220572566515,
          6.398684299636117,
          3.61786294686977,
          7.122317018606598,
          9.646277950279043,
          8.048173357287308,
          3.918937569207126,
          6.323040664424656,
          2.797677271629422,
          5.0430835056757575,
          4.305123345599907,
          0.43190530510998415,
          7.665450083176333,
          1.6351312630905568,
          6.8846800477712575,
          1.7991272243726408,
          9.459486693874261,
          7.038194384346895,
          1.5703616558895728,
          7.004369579953222,
          4.708862175888406,
          6.970806425559024,
          6.2935348713123584,
          4.250820075642391,
          5.929068621257284,
          6.8291832291137435,
          6.3645593084541545,
          3.8290412894296857,
          5.743781702674786,
          6.132586441337786,
          1.7081682552553434,
          3.347906450945205,
          4.351677384922441,
          3.742094741944441,
          9.666869119004257,
          7.702118799780294,
          6.702882888281208,
          2.5884727682950737,
          7.466996365582713,
          0.0829534013101485,
          6.321908841313589,
          9.225418996109822,
          3.1874999825233683,
          6.0599884032592986,
          1.2897449086390056,
          9.407252092363512,
          9.20353919906886,
          8.24305558424814,
          4.972622904740835,
          5.884407498151557,
          8.48094427197641,
          2.4108294752446957,
          4.9766121314355445,
          1.2276603158581434,
          1.5017142652987625,
          2.855582939463358,
          6.683348619365095,
          8.592540527074696,
          7.39891444158552,
          5.213248062597363,
          8.441054780757485,
          1.3590065782860317,
          9.83580192187443,
          5.322327696233616,
          0.3766270201052946,
          2.302156462316194,
          8.535063917451138,
          6.646279899728257,
          6.144236347443524,
          8.593931946118072,
          6.35670996909024,
          5.968564247223885,
          4.095020622234083,
          8.020569643821183,
          5.035688744462906,
          6.029216149188624,
          6.690318544949388,
          5.252555862445648,
          9.834328499672944,
          0.3968366744835006,
          0.3010955335533594,
          9.289672513849592,
          5.563799063428107,
          7.820253990228107,
          0.000853397832739633,
          7.809541780321515,
          2.730548723191877,
          5.2782536731348,
          5.110348486063762,
          4.415164936820232,
          9.230541381049317,
          0.7388807985328472,
          0.34882178353548343,
          7.58271837518747,
          5.697335724036375,
          4.8205012303661645,
          6.565920646760982,
          5.880456818701862,
          9.153936911897896,
          2.0182022565041424,
          8.363300809957801,
          7.734012535547722,
          1.6053501846477336,
          6.231317281952391,
          5.494884941128845,
          9.272398030786501,
          7.04332752560061,
          9.51125054373837,
          1.0453047264157167,
          7.243329290696364,
          5.461111627568344,
          8.285159682241023,
          4.307748619662986,
          4.613109292327744,
          3.410644257371197,
          0.70687963060864,
          8.625978299279549,
          6.181544506077451,
          1.4806520793947142,
          1.8747628038182496,
          8.024626042190766,
          8.87716419234302,
          8.725618782118023,
          6.796872021311247,
          3.062379373378273,
          9.009258720339705,
          4.730398876438411,
          8.381520142205924,
          6.851628019608025,
          1.0770370687098485,
          5.963687989620618,
          2.7482457005626895,
          7.899617840746734,
          4.314537494165438,
          7.826192130122573,
          1.9513132832113367,
          4.910864670832779,
          1.4958514776620768,
          3.612636023246009,
          9.745215936519815,
          5.7594238249242995,
          3.0541217740112367,
          9.28171299871446,
          4.790894914923741,
          5.032902723236297,
          6.529403506352547,
          9.853408211089196,
          4.3088531669312005,
          4.461060735447637,
          5.146809586836455,
          9.214075206870815,
          3.3245860350947973,
          0.6455255623609968,
          1.7858001926985112,
          6.003232794126038,
          8.13413732846965,
          3.0583934468928042,
          9.144896021478177,
          3.9056134284580333,
          9.656763103217605,
          6.38734583821254,
          7.516650341192949,
          9.21178812372647,
          8.424703799222398,
          1.7439098248441942,
          1.0066875587260493,
          5.0979516577183155,
          9.208998788777267,
          1.0388475324487645,
          0.4294202684921178,
          8.24429723391085,
          5.090144277001576,
          4.583870943839543,
          5.1385906653602245,
          8.15577877512144,
          9.495671960935562,
          1.5092877737236499,
          0.5786043482716619,
          7.794849022550667,
          9.491816200340725,
          5.301999754426868,
          5.874258066655452,
          1.8039676366939528,
          3.3930168751897973,
          4.564035195909028,
          7.386677392263792,
          3.7891401349889353,
          8.19790696726491,
          2.8951634317232857,
          2.1050845247501906,
          8.56290121500985,
          6.954453787309412,
          9.641297497513522,
          0.7145428364517692,
          7.112616908342435,
          2.9989927609889566,
          0.15012661641236824,
          5.6607714741805495,
          7.106193166301682,
          7.717047224742468,
          8.280894124450008,
          4.4690059419853645,
          6.137428823637476,
          8.381404663427707,
          9.282949712559837,
          6.624885581141635,
          3.778694950144734,
          0.7695458647183973,
          8.846902569159496,
          2.23735377849829,
          5.825096289321503,
          5.757566181497028,
          0.35595672676048906,
          5.787350960664476,
          1.0393017821982509,
          9.635961782552895,
          1.0489079816356595,
          1.7044238711524917,
          5.728341203790693,
          5.461526786733333,
          3.029565746622681,
          0.5238370169627382,
          5.948372439707605,
          6.113075635851723,
          3.1533904135144986,
          9.554504369286548,
          6.359537020299685,
          9.573541520751908,
          7.040236698829809,
          6.164517094401961,
          6.641838903990923,
          1.8311348247815784,
          8.847996527986773,
          4.839000392188108,
          5.523463365163066,
          3.1406784829970444,
          9.469712007737412,
          7.708506163833615,
          5.582076094350476,
          8.303681218954145,
          8.022243509515635,
          9.519509054867411,
          3.2711890251536255,
          3.2743332855370078,
          1.1665067789345718,
          4.930422307273448,
          4.459361847126878,
          6.400433591305789,
          0.5898724053420135,
          2.242733412111708,
          7.577005846145381,
          2.5403516698890916,
          2.0764351434343054,
          9.124076774556247,
          0.6020290569858788,
          3.117593643724421,
          8.126164127856706,
          0.19901128926722578,
          3.6598715710689644,
          2.9359747405654133,
          4.649458746539752,
          7.697466661996525,
          8.26958993096713,
          8.142906107315659,
          1.9326466178292867,
          9.92045143781215,
          2.632367257995379,
          7.0137488217344135,
          3.2917897082530603,
          6.112642881141305,
          0.8135784738003038,
          7.2210057765419,
          8.800959932801874,
          1.6145549643216428,
          3.426040105164543,
          7.35064153410948,
          3.681151068247157,
          7.700122182888802,
          0.34843798200910436,
          3.5150041472691718,
          2.4548378534775352,
          8.963230604696264,
          6.792462256884628,
          3.558156132216607,
          3.5748515846356232,
          9.403276994517016,
          4.7845326181305765,
          5.75171701977962,
          3.6148487220393264,
          4.2524126432684675,
          6.877713485087802,
          4.103502576010572,
          7.695051901164591,
          8.842664242525228,
          1.0102248994817375,
          6.261684868548594,
          2.1079466862032827,
          4.585155564532118,
          5.101527382140308,
          8.829685870033444,
          3.5127977177867207,
          5.061583255474017,
          1.2896668989891025,
          5.848588256567203,
          6.607765173750678,
          6.902309290035308,
          7.858988811283311,
          0.34914363273167104,
          3.79762369936667,
          9.067649760576872,
          8.651486433294531,
          6.027968349812445,
          0.5376619977808983,
          1.0394126562095085,
          1.69657600725867,
          7.676394341413958,
          3.71384002293369,
          2.3141969656073913,
          4.897327377234683,
          2.342901777480335,
          0.6506264419128549,
          5.709152512937827,
          6.349822486871486,
          2.681433905685553,
          4.8965907015842,
          9.466325736372378,
          2.8538740461239707,
          1.0100148486034344,
          7.928404776220782,
          5.5571147813535395,
          6.58849968432172,
          5.338222257333738,
          6.206811950649309,
          8.10630452880593,
          7.484727917673517,
          4.824016096662963,
          6.212185595875327,
          1.9256189616096064,
          8.528181929631002,
          8.137732200218501,
          4.008593192472912,
          6.512260542173944,
          7.478821675473265,
          4.239636876038254,
          3.0281584147409335,
          3.17724430700507,
          2.7821330271470934,
          5.654361888913479,
          6.642392151750296,
          4.7333837143147575,
          2.309367082991185,
          3.933568130844758,
          2.4025685284440534,
          6.810262489817842,
          2.104000277607593,
          6.281588819047074,
          0.6792721052555406,
          0.5454584951404251,
          1.9877731077472494,
          5.2674052320470945,
          6.965688421794205,
          7.592729198355796,
          1.791433572354344,
          1.2120421737141163,
          2.3752552726354437,
          3.524051233207995,
          5.910519544437376,
          6.664785973320711,
          3.017689622405726,
          6.0118815550810725,
          4.582311858513936,
          7.322859377702223,
          6.268713630227092,
          7.60171849445441,
          7.893401740070888,
          4.480320019272507,
          8.871814992092762,
          9.179242110454854,
          9.045993953637254,
          9.308067343358422,
          3.7623135126466964,
          3.219209555860747,
          9.384338434138822,
          9.835238871183499,
          4.177275837487494,
          2.4119189473235068,
          3.7821527622320774,
          1.3338201518191328,
          0.4652550493208951,
          9.55093691857965,
          0.11890705326400797,
          8.62073576588915,
          6.885366516711361,
          5.0589752710497295,
          4.934346528992323,
          2.455909834803358,
          2.747355959450392,
          8.387598230588253,
          2.2075421368844306,
          7.815692331555883,
          9.435917298213125,
          1.2421388041168069,
          6.504538225137365,
          2.004905261277894,
          2.8224996921752012,
          1.088786683282188,
          0.9983140998247597,
          8.913322073762618,
          7.4661345629923614,
          3.285868498497122,
          7.7934516480765526,
          1.8548442558042655,
          4.0477008966262265,
          4.349347409195229,
          0.800915859768464,
          3.062763547789401,
          2.447746590174602,
          1.9395889094978458,
          1.5253268111784568,
          3.973744116676974,
          4.604867164595023,
          2.735522082356222,
          8.835454657548404,
          8.646846299830358,
          6.974550957937799,
          8.92871496438524,
          5.208033945604199,
          9.536603730618506,
          7.189660652828883,
          9.453519026716164,
          9.989686094699257,
          7.818049037664808,
          1.4042136017565454,
          0.8400342396316041,
          6.0036919410669585,
          8.722819564702032,
          9.237371259264775,
          6.706492059546701,
          3.8150824780926254,
          7.900771490574469,
          2.803489427746878,
          1.6225842382262712,
          8.676723592997494,
          6.109728857985082,
          0.6924263644464468,
          2.3988888685599496,
          7.00287373975844,
          2.4459386206728793,
          5.05636491222103,
          6.815939545944256,
          4.775538351859815,
          1.5070713473761388,
          3.331987047618462,
          9.341698304390958,
          6.121415629257541,
          4.7910573963776155,
          9.536106615195752,
          5.7403964710589275,
          8.109313046142502,
          6.125006216600111,
          0.8698191002563727,
          8.14456923543629,
          3.9553241051240673,
          6.340764000919007,
          9.277581352243153,
          4.765332673403599,
          2.1974569426184845,
          3.089605213952209,
          0.919032776719716,
          5.052264051920886,
          3.959587180215405,
          5.054561418160295,
          0.22788620212285782,
          6.582711743093572,
          3.4694011597484584,
          2.7975997985427115,
          0.05609892104411429,
          8.441024854525711,
          4.940926792662376,
          9.226911224625416,
          3.916907744535465,
          1.7936514080677368,
          4.0202601161735085,
          5.418177381733118,
          0.5816645683549027,
          5.48999537485805,
          5.197718868291088,
          3.835910397763229,
          4.304408704079915,
          0.06998020771345925,
          5.283262488746297,
          1.110256457711144,
          9.447864836129565,
          5.048044029824127,
          7.66548465569638,
          0.9429441490488844,
          2.225947814885061,
          4.600592653226039,
          7.10685535327875,
          9.095784341279117,
          5.564916051529957,
          6.721930658359403,
          6.269463368249503,
          8.130805400072669,
          2.0791162367029683,
          8.46107969137812,
          5.138325894038312,
          4.895237420288683,
          0.8151887655017298,
          4.692682614704927,
          1.6055310571524273,
          3.4711866067849826,
          2.2558567821141082,
          6.8540354379269655,
          7.776936093006874,
          4.388084288282564,
          2.894436941000408,
          3.667903634876236,
          5.6191404844146176,
          6.000819845984684,
          9.710048105502896,
          9.320003295810672,
          6.952044770862791,
          3.124754527069947,
          0.5193608324416588,
          6.762372547716689,
          0.34326357603635116,
          7.75223040266119,
          2.155472722573477,
          9.228044040685617,
          4.214921382893788,
          0.002159992762678087,
          4.34341900465336,
          9.53551144751362,
          7.45179765975881,
          3.935983149704666,
          6.624634760623023,
          3.6806645554492468,
          3.5975430815123097,
          1.0357134815151348,
          1.1446535366551902,
          0.6923624854641142,
          4.603406716839485,
          9.268298390951168,
          9.411789046810764,
          6.122243789378517,
          7.7004448115841795,
          3.844312938757005,
          0.06915088544696912,
          1.9635638793928734,
          2.470279634693532,
          4.661364952331595,
          0.7671520944433841,
          7.813826912371482,
          5.859407506069526,
          4.912881370678993,
          9.468996903536835,
          0.5791372539068662,
          9.696562866216986,
          5.7393769296060695,
          1.5759810381228856,
          8.019108998756732,
          5.272193104476531,
          5.4460914802773255,
          2.349552287876916,
          3.824652393908512,
          9.238520020784438,
          2.8648924688909805,
          9.413763551440624,
          3.738392400110506,
          5.080615069098117,
          2.714423376328007,
          4.320726272945315,
          7.517289954767837,
          9.369520645610653,
          7.8992020758501,
          7.29256949736202,
          2.097117635875425,
          6.006718921319293,
          6.714825869224411,
          7.999944236917862,
          6.465998368097015,
          3.6363419577070824,
          8.677948654569402,
          0.22242671319730456,
          2.4977562101740878,
          9.734758795488753,
          1.871653012399197,
          1.543708865338801,
          4.4747205386443545,
          6.980987803645878,
          0.6421674067582783,
          0.1090791612432529,
          9.409084034433521,
          6.093092970544326,
          9.635852923503691,
          5.314154832169563,
          9.425786074709295,
          7.474188546488758,
          8.348465310614287,
          0.475869982265017,
          5.00517225673255,
          2.352046606342734,
          9.849879988979882,
          5.254064624539926,
          4.606799975985254,
          9.76358068788933,
          8.491750107511766,
          5.438563015240642,
          1.569437935747191,
          6.335849407993939,
          7.670749820299427,
          6.971238395518995,
          0.2371192764540142,
          6.540486306227917,
          9.98778473166322,
          9.718609381903851,
          5.604794078279535,
          9.343072511643415,
          7.21278414810048,
          6.728650577867966,
          0.15422091987085884,
          5.173022204073218,
          0.8202849170198578,
          0.956320893827387,
          3.5159031056044707,
          0.734882581116455,
          9.088220680735336,
          6.031285792312704,
          2.4913558705320202,
          3.404339052148969,
          5.018405477378209,
          5.254606772224411,
          7.758814658705106,
          5.389513662805429,
          0.31928799216420445,
          3.9315347633537945,
          8.397397403826828,
          5.194383321238771,
          4.660437337664955,
          0.5879330553857376,
          0.4072243564483369,
          8.01634807063867,
          5.949762843549608,
          8.85029729912141,
          9.854019110790377,
          2.602923012520569,
          7.46394097401109,
          8.715938795351265,
          7.216287667342486,
          5.111870050921685,
          7.179792579572015,
          0.576819077502253,
          4.120453706705497,
          3.738945261818868,
          6.127110293866693,
          5.832003201189688,
          3.1493607821347203,
          3.410738330504496,
          4.916223317873786,
          9.035262213878111,
          6.704136940257882,
          8.013488251473863,
          6.836281582050781,
          1.1664576599080079,
          2.9521463278266538,
          2.432275722645012,
          6.404618033513395,
          7.106622875441797,
          9.117168610123624,
          8.10777405029236,
          2.7996916688469065,
          5.537338085116373,
          1.5245556862660103,
          9.602117305832175,
          8.602532758326408,
          2.1784574611740037,
          1.9493997963231913,
          0.10641444001921574,
          8.954254787616913,
          9.056669527277242,
          4.6532483931714985,
          2.626894464677946,
          5.9580715149068855,
          9.906361797378716,
          2.6983637400841465,
          5.479176560224803,
          3.1041311156374265,
          5.741686734193405,
          2.700400723403664,
          5.793238521738161,
          1.0065093003945746,
          0.44758940448376694,
          4.11617594836828,
          6.828777456680275,
          1.227329586523942,
          9.347173603673562,
          3.13407145322969,
          7.284297789999426,
          7.264019490879766,
          5.061175443183215,
          4.727907605357969,
          1.9911565045442048,
          9.575656063369301,
          5.278229626235314,
          3.9218024025035225,
          2.265460037345229,
          7.87492102533676,
          6.292502948354731,
          2.642724001217295,
          5.23052200509118,
          1.0027279722549476,
          0.8942565659202462,
          6.897927700586913,
          9.09353698524269,
          4.668095867562468,
          0.22541144944998925,
          4.23119637204311,
          1.0086516031972936,
          4.301742480245871,
          8.85727569943906,
          6.083834997626743,
          3.1704907665325868,
          4.005941168230679,
          8.627073840011256,
          2.3011010887876493,
          3.065029132398358,
          2.371796007345528,
          5.276325659617055,
          7.628990170051214,
          9.785449519598616,
          7.020823595757049,
          1.657375405536674,
          6.635546357050856,
          3.9573375788436915,
          5.506566224052849,
          5.675750466506649,
          3.9217251075775694,
          6.615457941677333,
          6.034335928995965,
          2.327001007781014,
          9.201966353287085,
          7.648597468212397,
          8.698850863835997,
          5.046158589119725,
          9.043629268304391,
          1.551159135995308,
          9.547678274641868,
          7.260971751767738,
          5.544655223576531,
          7.676636670890674,
          6.520612162990005,
          7.963625131393892,
          1.6864675745359126,
          7.495415157969929,
          4.38063807705125,
          8.992965098447026,
          0.047991878355593265,
          3.436466556554283,
          3.9498095663909396,
          9.453652257933253,
          6.739829929273143,
          9.991599817931567,
          2.59387511662438,
          0.4432444289996018,
          6.9460723846194465,
          7.894362246195744,
          7.107128474413942,
          4.360267935278467,
          7.506725529465246,
          5.923806471288109,
          1.176436568948871,
          8.154558584628118,
          7.37937156145808,
          6.514041663162306,
          3.9074399276867955,
          1.5124788857270333,
          1.6248506390681683,
          0.33829260672496253,
          1.549545605601681,
          6.891368135342299,
          6.789403809256534,
          6.834803532844436,
          6.537303916285566,
          4.8084850263041,
          9.521356362952908,
          3.0262251277761862,
          5.96211918908316,
          8.865639172157223,
          9.631532836374525,
          6.199838576180437,
          5.715554820882377,
          3.4342446602399415,
          8.443945433121721,
          4.6455354834435045,
          3.365984810829581,
          2.9620269690181686,
          7.562212173545141,
          2.4599850060124293,
          5.082891150711646,
          1.405341605778866,
          6.447379041887155,
          9.811685314663617,
          6.6401405171603045,
          4.625643482750961,
          7.6809155121045825,
          1.262885058487675,
          3.28310857858693,
          6.123734456411515,
          9.602573461109314,
          8.836661126186977,
          0.9312111044092342,
          5.5138465089276885,
          5.437602751078307,
          2.0772540306422247,
          6.981231220741538,
          2.7151786602476924,
          2.8981299416865514,
          3.4474705200199174,
          0.3168733879648611,
          7.299888038409991,
          9.855636822264353,
          0.5559038547074069,
          7.000949307890848,
          1.857593694450248,
          1.1563732542825034,
          2.167278087335073,
          8.273772100814869,
          0.6214034447613281,
          4.248063300888693,
          2.697795973355992,
          8.803653499981879,
          1.8278118235692098,
          9.679606279259138,
          6.5084042916483975,
          2.731285077696178,
          0.6832264567922708,
          3.1834258415444294,
          7.4737291950834965,
          2.3307913585551674,
          0.24421046654185874,
          5.138575644104161,
          8.129704367208971,
          6.506621610539851,
          9.88132958814924,
          9.11214512768787,
          6.172993686408259,
          6.071731215261816,
          1.1657294525338036,
          7.567180003766073,
          4.178476887610341,
          4.870474591725602,
          0.8538772854654986,
          8.433180952597612,
          0.33166711459243103,
          1.9683552632477563,
          9.325382233273562,
          4.802608333262631,
          8.240077249561907,
          5.6212125749021205,
          6.4025821344092755,
          5.112730181275644,
          5.632401165025032,
          5.526413626540606,
          2.972263040440901,
          6.813084770135259,
          1.3742173875243469,
          5.829214201033802,
          1.8100773679115845,
          2.078689518176625,
          1.898427201809163,
          3.259325133287093,
          6.815779844688316,
          3.601149207798937,
          3.481423632668703,
          6.101313227821254,
          9.466759030660711,
          8.554935807130432,
          3.6811127425030787,
          2.5633413076858558,
          7.736007622743816,
          4.281901499928262,
          9.74527833786762,
          0.5910292639524584,
          5.466203634016439,
          5.633473293723158,
          6.964663096283818,
          2.641436220075458,
          5.709043027986813,
          2.848556027129371,
          2.397261269804246,
          8.46123672523063,
          0.6090171788946086,
          8.701616482470703,
          9.625463119655123,
          3.482039829195659,
          3.1948825743593323,
          0.7837727784456971,
          3.610006318936506,
          6.399963963200694,
          3.922487375659609,
          8.444072168025212,
          1.4314736191821642,
          5.218279754699373,
          9.176089794587352,
          0.3406830430846097,
          4.894689784137272,
          6.916896951666203,
          0.6249325563396679,
          3.2041543294467156,
          7.939994158955811,
          4.459440314768135,
          1.572091791768444,
          1.7716276946841691,
          5.721923091730165,
          9.929145206317152,
          0.46897985621777605,
          0.9421617648116853,
          7.9082960312604715,
          0.1693309792136477,
          9.98679681810785,
          4.87750606563359,
          2.7560236693607876,
          4.219910065086413,
          5.808164571456866,
          6.547568110696005,
          7.869445187432673,
          7.667550065768012,
          1.394030756739203,
          0.28714554557521366,
          0.6365862046966198,
          0.32223152771350905,
          9.12244810194164,
          7.986604570369859,
          5.684577665226891,
          6.6561794648741754,
          8.776019639571462,
          6.444517083395128,
          2.522922000481631,
          6.32857449733363,
          8.326811662374553,
          5.689464246294249,
          3.609174743280492,
          2.5539337157057194,
          1.8632114816339629,
          5.529475146340241,
          7.759485292732906,
          8.771524995493316,
          4.92428160620089,
          2.351909328995845,
          2.641993834941058,
          7.928560710808342,
          3.0522368632976873,
          1.9510931096468165,
          6.791050113568328,
          6.847041047737616,
          3.8334602028237885,
          9.454554165969233,
          5.036523503048414,
          5.347661081158649,
          5.415996197695632,
          2.7064139962524116,
          2.6172526532855542,
          0.9583839395328053,
          6.730449255846748,
          6.360016380019444,
          8.329077994200206,
          9.7892899980333,
          4.949826821442428,
          9.32544488360948,
          5.4760899132603145,
          7.34000779335247,
          7.13229930517691,
          4.853304093121379,
          8.128309892866971,
          3.4759049017165236,
          7.266591959380805,
          6.4237209256453855,
          9.016628613663544,
          7.790045923402752,
          8.452407992512548,
          9.959372390455613,
          4.439723084974464,
          4.305226249723448,
          4.980756087419772,
          2.5558850330573413,
          7.053422687405738,
          1.2113761353619912,
          0.9876795782288927,
          8.081534208132021,
          3.6448564667289816,
          8.684666072317878,
          6.618004267965949,
          4.908934194429392,
          6.76747235845602,
          9.012564117640888,
          4.537162911307564,
          6.344726978750384,
          6.178284188865852,
          6.440274940111416,
          4.033471293628552,
          7.069783542022366,
          9.681917280258125,
          6.756538445047251,
          1.7566465256120334,
          8.83032402804698,
          2.3343717159893473,
          2.5194089901964825,
          7.249334769563724,
          2.0050166259118507,
          6.8148470145878015,
          0.9282176708185519,
          5.029634455808537,
          0.5414452789864499,
          0.8379370821472987,
          0.7198391515660163,
          6.608637624635668,
          3.7267324454940853,
          3.0310531544049404,
          9.420052275571113,
          8.826651162942698,
          5.272845921582641,
          5.412646045697178,
          5.140764203843009,
          1.9957058314827014,
          1.4431877764595846,
          3.9721408927527193,
          9.977506849314192,
          8.989950918339115,
          3.2703792786428334,
          9.633718118019713,
          5.395697186727744,
          0.6362652071091057,
          5.126463710716555,
          6.110419047179111,
          8.79491196586884,
          9.123891969023617,
          1.8235217777613,
          4.912989352804091,
          3.3464500747771195,
          7.848402073855377,
          3.889349690641426,
          7.983114975215008,
          8.517151193675502,
          1.6403238790221841,
          2.4259726803970416,
          7.381695137282678,
          6.127628429609901,
          3.9555483257562685,
          0.20094834600035028,
          2.3080974207983385,
          7.012042871820783,
          4.660847917729641,
          0.0980330794321449,
          2.3909565303119393,
          7.10642435022908,
          7.920100030682816,
          9.913985144858644,
          2.527961767199921,
          2.283008223515747,
          2.634737636055393,
          3.5495346832603545,
          6.176491834203334,
          2.7862096580292004,
          9.643592276138536,
          0.5990264634350051,
          8.357060257195911,
          7.00838949250196,
          5.897931680152607
         ],
         "xaxis": "x",
         "xbins": {
          "end": 10,
          "start": 0
         },
         "yaxis": "y"
        },
        {
         "marker": {
          "line": {
           "color": "black",
           "width": 1
          }
         },
         "name": "B",
         "nbinsx": 15,
         "type": "histogram",
         "x": [
          5.8322698128799875,
          5.221820762338821,
          6.570450506500612,
          4.146014922946912,
          5.057224102563347,
          6.001345486788367,
          7.520296344549854,
          5.039430105276377,
          2.7899035133845587,
          3.4631736930181583,
          2.9658704786933274,
          4.232165081341889,
          5.560282079415801,
          6.395337268132805,
          5.4474278877933155,
          7.012186012962374,
          3.4454722064703445,
          5.7826597485909215,
          5.661627306489643,
          5.353588557974188,
          4.657358935457977,
          5.756747271186172,
          3.522809231744912,
          3.937902751527367,
          5.559122514375236,
          4.290602998299928,
          7.56391788492768,
          4.465386473800898,
          6.743086925113257,
          6.945295875459319,
          4.184060207290511,
          1.8596591783495624,
          5.78448776645924,
          5.451309539118841,
          5.815820417259987,
          3.0278618198816343,
          7.24395250016158,
          8.420798519571452,
          6.530019953011829,
          3.213168307457281,
          7.593653166374337,
          3.4054811986204045,
          6.111640057301615,
          4.204302949973505,
          6.698970303198515,
          4.705222081079684,
          3.6966929617961486,
          3.179196512739864,
          4.5759115359688005,
          6.845699332823453,
          3.706857758093671,
          5.829243326607309,
          5.898913270004277,
          4.959294375006823,
          6.874189164461816,
          5.256762730736131,
          4.842084334684044,
          4.8026598600723815,
          5.4825410365510585,
          3.969983997826687,
          4.1344059661276775,
          5.055718649087765,
          3.6544535950083614,
          6.563566904769949,
          3.493482253660243,
          4.874908822492651,
          6.488245460579112,
          5.884255727495623,
          2.2064973947407,
          5.082546239726272,
          4.1484711226730635,
          3.9701852335481225,
          2.05331441738128,
          4.260711940437434,
          6.39818058655546,
          5.244072704903298,
          5.005461550830459,
          5.021205718270819,
          6.338896643510999,
          5.37804510482286,
          7.320550161767149,
          5.892492714351506,
          3.609494519932994,
          3.9951755003267855,
          8.361499146088411,
          4.549317811406626,
          6.256582186748804,
          4.787837128086623,
          3.660022766225545,
          5.968145849410684,
          4.597496903790613,
          6.255093538731124,
          4.133872550482246,
          5.488820631637951,
          5.8709888147353775,
          7.027263183469562,
          7.042769518836093,
          5.458131809591083,
          3.2455595583378942,
          3.9695034114831014,
          4.73014191217828,
          3.0252779907334117,
          4.863832166375813,
          5.679127605986698,
          6.181913650301375,
          5.679727413628607,
          7.985879292802524,
          4.59058067773177,
          5.07552644167704,
          5.481197451238661,
          3.004717132295901,
          4.872670933046688,
          6.03535994293897,
          6.653181084718665,
          6.26638413975015,
          5.028556122573781,
          6.598939250003393,
          4.163338759161359,
          6.102424753516367,
          4.924238326430709,
          5.800298261445377,
          6.362602550967104,
          4.431940193080756,
          4.198248735101773,
          4.091178239293589,
          4.484193437001082,
          4.698447810340127,
          4.379948751771051,
          4.512679418887835,
          5.308310521230174,
          4.622150484223393,
          4.721021687657378,
          3.2519989060919734,
          7.071367415256429,
          7.153323870858618,
          4.501798111870115,
          4.1750585516513254,
          3.815510922647557,
          4.524169833058867,
          4.709945430881631,
          2.101269804313893,
          3.8606436419166594,
          6.590915278339325,
          7.0298134958126886,
          4.852351058583728,
          5.447556436153375,
          5.521015530202098,
          5.417399898834039,
          4.063281911605889,
          5.052945346571068,
          5.858704297281733,
          3.400492694654142,
          4.712485682192426,
          5.008242106019821,
          6.156854357453481,
          6.226921866973065,
          5.481865799574242,
          3.491585086861474,
          3.925337448913065,
          6.718042924781429,
          4.1364430395325185,
          3.927891206730995,
          4.945957839060724,
          4.94857863055373,
          4.5504655794058655,
          4.736091325774207,
          3.081861970152275,
          6.0354712026477415,
          4.155464282038322,
          5.378787230192059,
          4.041336043414672,
          3.84639331349746,
          5.7403806642609485,
          8.590100777212875,
          4.744938201775465,
          5.324234287332586,
          4.908126579268885,
          9.051238121475238,
          5.356020640309983,
          6.2400231756132145,
          2.767008035096897,
          5.458746103246726,
          6.0473967720993,
          3.954531596785285,
          8.47117928263101,
          5.486159741429832,
          5.576876186270934,
          4.300054586261514,
          4.837150093125563,
          5.266357761242045,
          4.379232097426747,
          5.294203388987778,
          4.3010454368844035,
          7.475096170404125,
          3.580273473865665,
          4.1336236669150415,
          4.736504867611951,
          4.991601100192065,
          5.807891168462872,
          4.887092317995638,
          6.91464133593852,
          4.378873155826187,
          4.3265318519622475,
          7.279155292065427,
          7.967444272390127,
          5.831141386623189,
          6.954471703985854,
          6.36021556151157,
          4.199368928212966,
          5.4890186851256715,
          4.778354506969081,
          5.313176107558488,
          3.9978025303013256,
          6.372789898791453,
          2.904699626821149,
          4.574551553244584,
          6.215978440316866,
          5.7176595739853795,
          4.514831084937596,
          1.3971874541070433,
          6.713684014970851,
          4.88984221946831,
          7.086870953132268,
          6.754193831080078,
          7.256998754689952,
          5.239068787779602,
          5.5693176566994955,
          5.538554273131285,
          2.8375660147784183,
          4.905741118987809,
          4.763626234307932,
          5.44270575254418,
          5.747431486073833,
          6.059096877503264,
          4.683652514707625,
          2.93352375095687,
          8.385567696310243,
          4.33714096231053,
          2.853653453500396,
          4.849994693534995,
          5.282011553741906,
          3.765822379585934,
          5.12639881579756,
          4.347915371087542,
          4.42209371850659,
          8.140944546640139,
          6.533416163952641,
          5.6243839608208015,
          4.817668358155427,
          5.407137966267255,
          4.857532868910039,
          5.2136636173283275,
          5.2051654478211935,
          4.0616997228339144,
          4.908833065252298,
          7.056617768923727,
          5.475164422039551,
          4.74977728583293,
          6.865292867411815,
          4.962346584380402,
          3.021123525625609,
          3.1418842528360154,
          3.7749621802273943,
          3.967532573275519,
          1.31032965920312,
          6.913090578912589,
          5.665917854188285,
          5.5568023252163865,
          6.9606068431605586,
          4.771426936583502,
          4.1277685742948345,
          7.69593244771716,
          3.288648133846025,
          2.821206267473181,
          4.47049094373406,
          6.780891388616301,
          3.452117821349289,
          4.301990030670598,
          6.022726887568541,
          4.198905442913949,
          5.913282318143839,
          3.1464392129847614,
          5.5900693091028515,
          3.1679366532485798,
          7.018149137253946,
          4.291999160511344,
          2.9455610168349953,
          3.7550429551658957,
          4.696291437048911,
          3.5576788732172946,
          2.3248128053436665,
          4.444299510419108,
          4.909095518311562,
          5.249877105753615,
          5.91749356416991,
          5.787104701806302,
          3.2757991236391053,
          3.8392653239439793,
          7.370547331460084,
          5.495533605371117,
          6.427682115677384,
          3.6716525178313506,
          5.810548153749076,
          4.955616838755451,
          1.9315150135618238,
          4.08381405982939,
          6.218165296145655,
          6.713545165469968,
          6.775411051666085,
          6.114622665474964,
          5.685348005252727,
          2.5559180486990023,
          5.926881896032934,
          6.997579612271442,
          4.642532344914847,
          4.783151691423373,
          3.735999767903361,
          5.024603407365096,
          4.681888232344862,
          4.281593449914869,
          7.3661496524337595,
          5.759390111742942,
          5.085003821819293,
          5.819709097844173,
          5.392102814219164,
          3.776539727961806,
          5.232168991814521,
          4.122163724859773,
          5.063595191960503,
          3.173369687738738,
          2.15543049557488,
          6.008627517720519,
          3.8198999940476863,
          7.53683429858118,
          1.915715455113295,
          6.362826009118704,
          7.537940200322197,
          4.675824709608936,
          4.353408702621033,
          6.375609256155883,
          5.227495081779281,
          4.670109378561696,
          5.119738671250671,
          4.114748639254424,
          4.385512638915484,
          4.706703057622281,
          5.915406736704417,
          3.2988412581458606,
          5.464316948273381,
          5.50159596324958,
          5.887170470366588,
          5.0574533548103675,
          4.194484955673039,
          5.7578709143731714,
          7.230856257767352,
          5.666448513992866,
          1.8298975071155472,
          1.9526872904467147,
          4.834287860976991,
          4.1470247000938265,
          5.620983638849244,
          3.038447933801786,
          5.841608150859323,
          5.600031371012243,
          3.387772736964651,
          6.043128878313371,
          6.0359193376824525,
          4.973347378885999,
          6.387665031624976,
          7.511368052638803,
          5.955222398040632,
          4.351656290326341,
          6.823125643042487,
          5.011159068144192,
          2.9813428033032574,
          3.851551526631951,
          6.072247154691445,
          4.915882426377349,
          6.031174231273746,
          4.804466710767615,
          6.052923367100733,
          7.6575812470070375,
          2.2160157022508375,
          6.049794663021416,
          5.306089403474072,
          4.346601309397366,
          3.210518831470311,
          4.698060145534078,
          5.379599348951793,
          4.2137195094092785,
          3.510921557801114,
          4.566344978197526,
          6.989370319330867,
          4.813547714179646,
          4.897550015460376,
          6.232936208819604,
          5.798591929690565,
          4.7518264124506935,
          3.809398873161358,
          3.978321576306691,
          3.8810696995822624,
          6.773305321545772,
          3.565130801841871,
          6.432261177646727,
          4.803317411386773,
          1.9036066224296406,
          6.102103687111338,
          2.873177030716448,
          4.734598379676031,
          6.851657844402554,
          2.9815082439600875,
          5.566364589850382,
          4.228602208338043,
          7.212239525508153,
          6.998372826122006,
          6.3537709529309865,
          4.592480696893725,
          2.676693468557446,
          3.252266529936783,
          5.07967243839159,
          6.29432648417032,
          4.81557822445569,
          4.760291981778888,
          5.192292413242226,
          6.554108629969295,
          5.976909986053857,
          3.0356107596145736,
          5.7940327209769595,
          5.881059899379041,
          2.9164045566382004,
          5.225592606813705,
          5.798283719989855,
          1.958639814363801,
          7.394001167169113,
          2.0254559263009178,
          4.919458982348308,
          5.589735134426476,
          4.694329874118952,
          3.973049984641046,
          3.815808806393272,
          4.480071104735136,
          5.3819095108553165,
          3.862356601501742,
          5.778262450683454,
          7.17235306841976,
          1.9377457654885593,
          7.071343520432622,
          5.402648132266338,
          4.244088945323041,
          4.976630102200259,
          6.982647477177785,
          6.018168971129893,
          3.1695880915042114,
          4.986922619934576,
          5.775010548881245,
          6.93877874592237,
          6.053525844853351,
          5.334532691326965,
          4.615058333256448,
          5.023084701480897,
          2.9980963838569066,
          4.9354676497863625,
          1.2280615039761211,
          7.271103450912564,
          3.7747829778498945,
          6.589096081335356,
          5.938532072324186,
          2.1691469762816804,
          4.608636998741171,
          4.728344975216922,
          4.972956468289843,
          5.59745898578669,
          4.723432861725699,
          3.6795693580456743,
          6.730475774592739,
          6.6901497424935705,
          5.074662698472104,
          7.145800771375441,
          5.97877033621741,
          4.960054223596505,
          4.963471381005206,
          8.90644387515752,
          5.400093622527748,
          4.526894745082888,
          4.079954191627909,
          3.137821415018731,
          5.277588708629411,
          1.0925957836070106,
          6.557285433487779,
          5.06243318706536,
          5.506393906112727,
          3.7447707313332197,
          3.334563628665186,
          3.324278433183136,
          6.179585471754746,
          6.2010249291952535,
          5.04446973678928,
          4.824023756070455,
          4.79005520944142,
          6.500295503934435,
          4.541740906633089,
          4.721004362222068,
          4.389234774313983,
          5.591161057270044,
          6.7688082655281,
          5.777283652470664,
          6.646497969239513,
          5.643666321734525,
          6.310659939588272,
          5.464057624151572,
          4.399250491159247,
          5.7824394895874525,
          4.255055707646111,
          6.568208308862687,
          3.3188502469710777,
          3.760413092423231,
          5.607273997492696,
          4.611608034560717,
          8.401111322380554,
          6.166731574082199,
          5.585237356421579,
          4.772112008436329,
          7.218932119260613,
          5.022216827573591,
          4.155986731382458,
          2.451401815869942,
          3.513596860341573,
          5.007040749422031,
          5.308716026850735,
          3.2352856891210675,
          3.4453588175787107,
          4.53584258441432,
          5.2619545131000915,
          4.493320079197275,
          4.093066404551051,
          3.606730755662604,
          5.138486381984669,
          6.053826563282433,
          4.710658651244552,
          7.063922359822579,
          6.745954080461141,
          7.254996199247348,
          5.666352245336096,
          4.523848954965423,
          7.130813553413745,
          4.344716674373901,
          5.173833384395119,
          5.235861695860576,
          5.620124882659613,
          4.796840033095549,
          4.967243941247258,
          8.059030900565892,
          3.5218834195343263,
          6.434601422932282,
          2.7716184384712443,
          4.3212486855586825,
          3.632855760421234,
          5.304496487634068,
          7.876205157901912,
          3.849014946903183,
          7.1936284679180655,
          7.873063398079321,
          3.47710371516912,
          3.8725851778617666,
          3.9257903886597103,
          8.38736299892547,
          9.229286066440523,
          4.719368811602353,
          5.197503595316676,
          4.864312180284849,
          4.807550713878175,
          4.709284956873906,
          6.682416153075694,
          0.9317866688000453,
          4.340823121030635,
          3.419061613311212,
          4.993291552818867,
          4.8572239098225625,
          3.6653727520823685,
          6.105765662822454,
          4.4403764375344785,
          4.567634287514444,
          5.288541643888022,
          6.189879972666052,
          3.2226497223495576,
          7.43871675771009,
          6.736553159319662,
          5.312356312745092,
          4.9470771981934965,
          5.20709852418044,
          5.832302731549928,
          7.48420939302885,
          5.914182609620718,
          2.4596374079535104,
          5.819319110479647,
          4.894840852251244,
          5.395488010966761,
          6.9016344207568,
          4.546594675018685,
          4.383467378391422,
          8.221324726652416,
          7.57078491868499,
          6.828439532454592,
          2.808275373952756,
          8.195606762475105,
          7.40215981646573,
          5.0928605271108145,
          4.323292459111538,
          7.435076596176429,
          4.820169040429956,
          3.445304981480713,
          3.9154777891250356,
          5.174979774211854,
          4.148970198074889,
          6.26200137971725,
          2.1043827935860224,
          4.239197798903941,
          5.2900031882339595,
          5.703408789930823,
          3.7893492554691077,
          7.362848767285886,
          2.0753423346299242,
          5.965956937899964,
          2.681012804736333,
          3.6253292036255385,
          8.371150165035571,
          5.685405142776711,
          5.174979571527593,
          4.649705550008237,
          6.184855526309342,
          5.763928560774399,
          3.236683878097428,
          5.33287504397962,
          8.447721771498742,
          5.957869864781733,
          5.9855592458278855,
          5.538890232426599,
          7.2899925945451605,
          7.993008607133898,
          5.421056190763014,
          5.8896112063114785,
          5.157436841348701,
          7.145502878557338,
          5.596472491991362,
          4.614949192190891,
          5.752529512390494,
          5.487003675177069,
          1.9307597933012852,
          7.080777157145505,
          7.2332346162421,
          5.1217123134839735,
          5.418215941770275,
          5.238069149558797,
          4.8859897090775375,
          5.199416103384268,
          5.378298506758856,
          3.5976136003483083,
          3.489836015368862,
          5.404463821056392,
          6.2083434500580195,
          3.151262751199901,
          6.118123168743322,
          6.276731826233696,
          6.29216462218145,
          6.340916206493656,
          3.1998832419826755,
          7.138329286956941,
          6.500188845485065,
          8.21789793314287,
          3.862913552862926,
          5.234949304112105,
          4.12242747068616,
          5.3518119912169375,
          5.802755050271308,
          4.548409670528633,
          4.0992756486302975,
          3.5279141920732333,
          3.789457915364469,
          7.367533532586413,
          4.319188750595251,
          5.2756757370698075,
          4.929795245070813,
          5.628867972654938,
          0.9674571342412763,
          5.857872486760433,
          2.1355299302380755,
          1.5280157947597885,
          3.6117730894821687,
          7.014027522613243,
          6.547617853193726,
          6.013740472433462,
          2.3676872318135955,
          6.398350966168381,
          7.706790823579155,
          8.232361646513917,
          6.2740260962515055,
          7.337586626285569,
          4.238912862930157,
          5.87382319604266,
          5.638828126022053,
          5.778186650192545,
          2.7392985083575088,
          5.79000972775596,
          6.191717953765304,
          5.993444586613959,
          6.573694102784953,
          3.4469072490386363,
          4.781754496708007,
          2.7417163128144604,
          2.9040595205417086,
          4.5711860558038975,
          4.876461754878657,
          4.999961604613889,
          4.490307931214194,
          5.37316901051673,
          3.8780128552476563,
          6.186139281228517,
          6.657800169980105,
          5.256384627197877,
          4.188512001611922,
          5.262674775525829,
          3.2044361506860275,
          8.153379111494349,
          5.777561929517914,
          3.6015955444044936,
          5.4249574385282,
          4.311632124282767,
          6.002120139398602,
          3.7871416217685265,
          7.182134236959203,
          6.124789299146744,
          3.9322973326583672,
          3.5252202871100353,
          5.398396656879457,
          2.859648268940184,
          4.923059213990656,
          6.587541449687452,
          1.6505683454365903,
          5.169037012294223,
          5.549124774493376,
          7.4682721608354825,
          5.020536513298164,
          6.421724428732691,
          5.655089785308668,
          4.232092815949149,
          5.150440079148902,
          6.466676035036342,
          6.162478479432162,
          6.739124273530584,
          2.824265317927478,
          3.7290923169302603,
          3.5253409257066295,
          3.216210487868558,
          3.561849934148818,
          3.2895882342098037,
          6.537863202744228,
          4.557068745475798,
          3.0142352826310916,
          4.766080640184907,
          1.5015659035951723,
          4.386223335457317,
          4.673956190015895,
          4.797905370478671,
          5.423414289092135,
          3.3732066067947173,
          5.07578750146639,
          7.288835220053023,
          5.908516585761998,
          5.515451008235957,
          3.794823394260588,
          8.221892873239424,
          2.383410084907356,
          8.664760624934363,
          5.232499637822038,
          5.903674362838756,
          5.920940288707571,
          4.138155787995399,
          6.882124573259792,
          6.698273450661896,
          6.1537310306360915,
          6.260970437576264,
          3.856143388745995,
          6.334447579961812,
          3.018392090004242,
          6.0085699177138725,
          5.494161696121226,
          7.403113987256056,
          3.1382858004397165,
          6.234539047283441,
          6.307733946326583,
          3.8884371936485636,
          6.9090174660200425,
          3.540416443287292,
          4.183211977911662,
          4.421872784621975,
          4.1449562318334845,
          3.395800954377608,
          4.772767104968142,
          4.358046457893078,
          6.400520812702604,
          4.463897859601971,
          2.6566968767733967,
          5.128431173478523,
          6.111931884584516,
          3.8845056266955944,
          3.343092877031699,
          7.828004463558189,
          6.197452945056104,
          6.357862817303529,
          3.264659404890368,
          8.312302326816658,
          7.023430183130534,
          4.137728534776337,
          5.990268794454181,
          5.797705704131698,
          7.1912340614932795,
          5.16844722383325,
          4.831758104033551,
          3.395715896163095,
          3.0383448808770033,
          4.130769804981159,
          5.115373961354638,
          3.3515802824927508,
          3.715261058171617,
          3.9301123135456155,
          5.124319978495488,
          6.577165904262688,
          9.136337036564534,
          4.2694957509758105,
          6.186450687556622,
          6.194641125314513,
          4.8232343157252915,
          5.355263696268689,
          5.110554770812594,
          2.833316048918787,
          4.303894693680569,
          3.5160324466421704,
          3.746453825886153,
          5.490868506567968,
          1.6405733263317233,
          3.7517101379501927,
          4.566093719720322,
          5.342899738433121,
          8.225735401069695,
          6.441649703566101,
          3.1252932810878207,
          3.7540098922525913,
          7.953401326304031,
          2.527358053779849,
          2.1998960924657647,
          5.325788449361775,
          3.101707872127708,
          0.9962846893874229,
          2.3270111248553347,
          5.002087777686796,
          3.9794853810366644,
          6.8324777798467675,
          6.324009763178039,
          5.408923968072217,
          3.768286994715744,
          5.967526148889363,
          7.739826687237378,
          5.346031886702455,
          5.511226241324848,
          9.559409318062324,
          6.857948106830511,
          5.990013323258087,
          5.7220793934519385,
          5.637400650514193,
          4.519474673099298,
          4.877273114170867,
          3.919913214055769,
          6.6495169100876135,
          6.082268643525442,
          4.706859215913337,
          5.642673643604538,
          4.336661843957407,
          6.077150205113917,
          4.800212974397443,
          7.390377719233151,
          5.992278765262013,
          4.140236370528717,
          6.035527640693571,
          5.318506205968395,
          4.06219778926882,
          7.373470107503717,
          2.5587430145791754,
          7.3670466615821155,
          5.242767402395372,
          5.871146951706326,
          9.248448511391983,
          5.583383223045855,
          3.7881994997485378,
          3.174673652024415,
          2.9461326373547188,
          3.458630747259867,
          6.348078831867308,
          6.791065842391061,
          6.319202165384178,
          5.903684200315584,
          6.465123218887177,
          3.935801502598424,
          6.254638735522784,
          4.914111071274707,
          4.934425552194669,
          4.554893909183091,
          5.33737104881446,
          5.759578946999394,
          4.68489308679599,
          3.3205208479062978,
          4.78684314029246,
          2.8980915399033895,
          4.784541150642216,
          4.344379342386868,
          7.542148650543701,
          4.742233289747333,
          2.9840088126638236,
          7.237326829884617,
          4.712275779009622,
          7.627570527902891,
          4.603399805240653,
          6.091625178827818,
          5.388247877032583,
          4.800832456264947,
          3.8668888251261135,
          5.774301674881849,
          3.9140657619099004,
          5.464823468574597,
          6.574593163833624,
          5.902472019444159,
          5.483553689717652,
          1.9213659885333474,
          7.30789767639721,
          4.053169095948494,
          4.046172978876279,
          8.713082076907957,
          3.9595422800390256,
          0.7008719161870118,
          5.297186789529423,
          2.7968018283817866,
          5.497713564732496,
          7.586305088696578,
          5.589599922086892,
          4.659447436124299,
          4.38041436788051,
          5.695869447145837,
          4.226848902560492,
          2.2120300385118745,
          4.795904161672421,
          7.827386380906091,
          5.814465020571688,
          4.756061963457653,
          5.5683347446799445,
          4.823876636418538,
          3.393344086406931,
          5.436559921086221,
          6.219580874024475,
          4.620231221399324,
          6.080582142255302,
          5.641304919398963,
          7.087068232576001,
          5.1615709654758675,
          5.7747213232595325,
          4.70772889050647,
          2.9929095054848363,
          6.632502868127231,
          7.132050562454331,
          3.1913051836314485,
          5.664529891833855,
          5.273351062571982,
          4.984962341657223,
          5.345370443680867,
          6.57185394295198,
          5.819336184435128,
          4.389577501755451,
          3.974825193486665,
          5.937597010202738,
          4.444367285538976,
          5.707867379297909,
          6.137187071076329,
          5.440015303107869,
          4.208728594230572,
          6.076649538520232,
          5.493491088568566,
          6.238687228974052,
          5.457325438358272,
          7.0134478276206265,
          3.052856480399887,
          4.964500974440249,
          7.602725843150613,
          8.313712798725092,
          7.599122256459054,
          7.414019523773366,
          5.184941508139388,
          6.512185944814064,
          3.743281644787307,
          2.15873087079773,
          4.030860835891833,
          5.168021997183256,
          5.7350695966188825,
          6.008373045744702,
          6.3353306957592235,
          4.021161891454232,
          4.457358478812212,
          5.222687215782368,
          6.727943599743501,
          7.25879099907946,
          1.1812739152377771,
          7.200495257714866,
          5.645389004922168,
          6.354718360702797,
          5.067929319197069,
          3.508552413619986,
          7.291551823016431,
          4.743476592990183,
          2.241384022455302,
          4.122102078988311,
          4.734566629985463,
          5.943014055640228,
          3.6270372928361656,
          5.672638838880047,
          3.6510479127800424,
          6.092485700494313,
          8.687888331436135,
          2.8674010707641138,
          4.954152172277154,
          5.668258488097881,
          4.996438600257057,
          5.221084029938284,
          4.404058448255483,
          6.712308765184073,
          4.649645812553908,
          3.629438498163381,
          6.741446358599898,
          6.631701500659938,
          2.3517519567098732,
          3.1958355648448245,
          5.360402479088721,
          0.33346155895533514,
          3.55628750635432,
          5.137620577016624,
          6.47890872909081,
          4.831116317436703,
          6.777423522553233,
          4.808521533466895,
          4.004830639075111,
          7.760142635050502,
          6.124992980993641,
          5.964754501535108,
          5.242661704725701,
          5.109572191508356,
          6.040681798375507,
          3.620335669000958,
          2.956184621872331,
          5.843674041677325,
          2.799091366028124,
          4.920087799919939,
          5.462663734107793,
          4.993208711456326,
          3.1918566078822908,
          4.101745626637149,
          3.754065539280781,
          4.411488810118073,
          5.508455117917309,
          3.6094442657396826,
          5.359678454342406,
          4.871741687578438,
          5.597954427576396,
          5.6464652156492665,
          4.768463597078288,
          3.1225603514527567,
          5.923208361267377,
          6.181996488381287,
          5.182261254618143,
          3.1447412231371765,
          6.223431607566778,
          7.576536292007459,
          5.135003846184129,
          4.615756088246501,
          6.369258019519846,
          4.077250613083914,
          3.758355540678008,
          7.040134707630288,
          5.054610908058258,
          4.03396302766922,
          5.3467466528672505,
          6.3200926627266165,
          3.491292476766044,
          4.873174200227611,
          4.618941450946994,
          5.1748207309192455,
          7.993830404772541,
          7.492522107552674,
          5.06178994702227,
          4.956520912384433,
          6.203060688616775,
          6.852399334907095,
          5.596084797021293,
          5.964038646957524,
          4.884005233463211,
          6.900697186510388,
          4.332483875642638,
          4.501966187185964,
          4.11162208717394,
          5.053383236019736,
          5.887416301440913,
          5.718347167467287,
          5.815085875115956,
          2.775227133333755,
          4.368966531305056,
          5.018507040644611,
          5.097854459970645,
          5.009221741598242,
          5.081903717330494,
          4.109266165852831,
          6.51708173558816,
          5.961416947381643,
          5.2263206271364995,
          2.402410246723962,
          5.5413759674888174,
          6.204918851944994,
          3.182142401736129,
          2.7592631994079455,
          4.904042261627417,
          5.0624574606339685,
          4.281258366269764,
          4.967309733231205,
          3.7636195783273,
          8.975529209997767,
          5.875974026789404,
          6.62945248374455,
          3.3395873939647363,
          4.927080910267306,
          5.480092418375168,
          4.292655619008463,
          5.991743223215186,
          6.644103160169192,
          7.25539052667598,
          2.760313056755135,
          3.8436586846948373,
          3.7289350102265937,
          4.922562094455349,
          6.075310894395504,
          4.776895407978722,
          3.097378723961839,
          5.471361018862864,
          7.211863349443367,
          3.557309523281576,
          5.673435750639495,
          7.353936227736149,
          5.2506920861276205,
          6.070573912934708,
          4.864065961901397,
          4.144998019487994,
          4.408697194279243,
          5.297352916448543,
          4.9545147141426575,
          4.056709225444475,
          4.710465313224937,
          5.842392023281146,
          4.554772527201124,
          2.9553612844068002,
          3.2187788536688133,
          7.341924913303567,
          5.13033519522528,
          7.785092333042014,
          5.676658397372601,
          5.773431897898485,
          4.433977763462161,
          4.951756023260166,
          6.352770790453167,
          5.893266536806649,
          5.583262258183736,
          3.144981695048398,
          3.826311925556487,
          3.663265647155819,
          4.486476323136545,
          4.471002673480253,
          4.261912168469442,
          4.606737043080914,
          5.919708036014751,
          4.033826417381563,
          4.377694818655864,
          5.554393245312765,
          6.217684385283286,
          3.928169187053784,
          6.79485373541607,
          6.954686366384333,
          3.844611130595031,
          5.119527730786313,
          5.633086988981994,
          6.8440402111850815,
          3.42480628472143,
          7.329592959939085,
          4.213455889863585,
          4.70112278873183,
          3.975883363875057,
          6.062777692954118,
          8.421304380873504,
          4.158697479241951,
          4.083356966019781,
          4.0104484695592255,
          5.641883480659684,
          3.793140128178597,
          4.636964530975337,
          5.380705714812475,
          7.159983053432254,
          1.5467130147271702,
          4.912018085543524,
          4.671834790085889,
          5.717989716520681,
          7.285570968539428,
          3.8126037831621336,
          4.857959361047154,
          7.566998304154097,
          6.755112435830125,
          5.473678230749045,
          5.629662206410561,
          6.981429661558016,
          4.826452295962335,
          4.815128294234875,
          4.752517838260976,
          3.7598829765486306,
          4.614381596153844,
          6.912781650513422,
          4.26994442236753,
          2.7305051579949158,
          6.721872172205481,
          4.662883874671771,
          1.652478126087427,
          5.674540733369173,
          3.5926759820866465,
          4.118160148064906,
          5.799170167855671,
          5.0360425965705495,
          7.532391468394223,
          3.255155936221384,
          9.107033733516536,
          3.4896561898787413,
          3.423695247324874,
          4.355337939572963,
          5.118685194355365,
          4.39979035215218,
          1.7355846837344204,
          5.810934847876,
          7.010807567749723,
          4.699890411561638,
          4.016697430950046,
          6.080475857207689,
          6.32995568890158,
          8.532236306631155,
          5.9347041933061835,
          4.373235840571526,
          6.778179745149874,
          4.31761581540314,
          5.27989050737564,
          8.306469477900217,
          3.6009995354688584,
          1.9203835437693728,
          4.833600753381378,
          5.965674780680567,
          5.134764740143882,
          2.9398041121302816,
          4.587613086088727,
          5.338919337639481,
          3.990621728952664,
          4.024084535413545,
          3.4729005445747854,
          5.032606416578473,
          6.923868499194601,
          5.482596967371797,
          5.132173970669425,
          4.878752323465397,
          5.821077165328953,
          6.761961374805363,
          4.219499216675343,
          5.9217689138704,
          6.108361279246257,
          5.646372533301214,
          4.604147982926437,
          5.608869701376455,
          3.5751525487705473,
          5.031623800658798,
          2.4978388075603095,
          4.618644673018486,
          6.397618098333897,
          6.438268254299366,
          4.115969447531977,
          3.9855941762983598,
          7.004312798751954,
          5.695636263351026,
          5.725387934954073,
          4.729054328590191,
          6.460994933933422,
          2.364649145673459,
          4.869903141346894,
          6.713274653951331,
          6.25152413399669,
          4.432208708724444,
          6.020476203350194,
          3.5076870270591134,
          0.9625804389007673,
          3.931154856532191,
          6.309706083182654,
          6.529153353455378,
          1.7027506969738297,
          6.550746241334623,
          3.0013838426025754,
          5.827362324844489,
          2.920591966919383,
          4.68746458893441,
          3.0638004261585903,
          4.257506988734785,
          6.029211412062797,
          5.417538058164601,
          7.3634301248716625,
          7.16286162130884,
          3.4586530842680343,
          6.614134696974853,
          3.6003624930517786,
          6.568263892978928,
          4.2312176994769635,
          5.007149914247102,
          3.574619381376456,
          6.658279456943759,
          2.4998432950178326,
          5.321606926330456,
          6.014417656433421,
          3.840629742108126,
          2.2265473006768275,
          4.197076238313566,
          4.340005653141432,
          3.8071076441766354,
          6.567857598266803,
          4.369009413674593,
          3.7651075289839513,
          0.6166745625775203,
          3.2150817400227405,
          3.581334511892059,
          5.915011417571192,
          4.2347670582183365,
          2.384277657039993,
          5.436830128983004,
          6.012246285368516,
          5.0281433245915,
          6.350065304495416,
          7.758136043227759,
          4.7469956420745865,
          3.758633627321546,
          4.6524028831928055,
          5.331726314840023,
          2.444811223835337,
          5.9834159136847935,
          5.894655277581894,
          2.8379738055575325,
          5.545075284288364,
          7.4046964795133,
          3.6196903842270407,
          4.727375661445673,
          5.913853515857199,
          5.8024676282471574,
          4.058011344463984,
          7.350826497622043,
          5.51778765746764,
          5.245581421432752,
          5.642298371307263,
          5.565323697306768,
          4.5187877093054585,
          5.726771926928156,
          6.048346692383658,
          6.466137536545488,
          3.7638575872595306,
          5.21310297126474,
          1.479265073809664,
          5.168870320095832,
          6.049485771487973,
          4.461894336204756,
          5.455682169964511,
          5.231304442942577,
          3.796581926879104,
          4.881300507285464,
          4.666335417802906,
          8.757077126146056,
          4.178350976350276,
          5.255294854516763,
          6.5207175659321415,
          4.902005995554898,
          8.813988445560629,
          6.689551288951471,
          6.8241418864946315,
          8.184948252574975,
          5.896285018930472,
          6.2152747975291405,
          2.90414304238705,
          6.135176129755046,
          5.730698484986856,
          4.110033961377242,
          3.9952685079944326,
          6.76826044835971,
          5.677540402605949,
          1.83137974358944,
          4.733955128881116,
          6.521819483703361,
          2.785299231240088,
          6.907469862249815,
          4.567956735798894,
          2.58445607489346,
          4.882475737736179,
          6.064626949756068,
          2.875518168812023,
          6.856747322287669,
          3.4644175327266375,
          7.728464455371915,
          7.0756317250287015,
          4.2308999465242865,
          4.254781728047314,
          5.5039990545774,
          4.073468817569005,
          2.5664491603490056,
          5.214812957347593,
          4.456158871334188,
          6.1368129362970985,
          4.4484289030579,
          6.5691361799863826,
          5.059577487081801,
          4.1138548992065775,
          7.010386853575998,
          2.975240398467495,
          4.205547166784168,
          5.44617240673162,
          1.6858276289740637,
          3.357445789920893,
          4.795199501862794,
          5.930141861880535,
          3.5573463584844753,
          3.716441306115663,
          4.506981420396469,
          6.381672630806427,
          5.8062371456082005,
          6.192739870153298,
          9.457220459956027,
          4.003046696940125,
          8.261479317750762,
          4.136030104270624,
          6.03008386034123,
          7.255895416760231,
          3.5563157551929274,
          5.751315881064285,
          4.088820945162866,
          8.77056507967934,
          4.235090736128113,
          3.83278022101495,
          1.3186211829833834,
          4.443308822964924,
          7.983471333496429,
          4.438794325154518,
          6.687318912833263,
          3.0672966019659174,
          6.371624953837495,
          3.711410795663147,
          5.123557321121845,
          5.428460834155552,
          8.069072320633078,
          2.775933294517505,
          5.130882448985745,
          2.706127279702714,
          4.931339773261076,
          5.059016794834997,
          5.76024516760819,
          2.8552949464432924,
          5.82973056636204,
          3.8077909700981847,
          6.3381228891944765,
          3.742404717811517,
          4.820189614241669,
          3.2129618730322616,
          3.39569198685357,
          3.738852270299258,
          7.7609639478357835,
          5.143964403190364,
          2.6373251040700345,
          4.741537072600889,
          3.574577534597304,
          6.957563071467755,
          3.8923353702158767,
          7.098860997590915,
          7.0040976072534935,
          4.5678538450823485,
          5.631610463607737,
          2.4641383832584207,
          3.105089199944011,
          3.805855507555327,
          5.900253607657195,
          7.842659464974411,
          5.801829117706626,
          6.9371050812789505,
          5.079115720990906,
          1.8347938350015642,
          8.244025033756317,
          7.080907345827967
         ],
         "xaxis": "x2",
         "xbins": {
          "end": 10,
          "start": 0
         },
         "yaxis": "y2"
        },
        {
         "marker": {
          "line": {
           "color": "black",
           "width": 1
          }
         },
         "name": "C",
         "nbinsx": 45,
         "type": "histogram",
         "x": [
          1.8346473887029089,
          1.844234245725721,
          2.137171070088895,
          1.8255275210429294,
          1.6852842064029048,
          2.1253078322431764,
          2.0031064562194256,
          2.1523754475057943,
          1.9183985522211504,
          2.0622119205565825,
          2.2807152219664393,
          1.8213241825958626,
          2.2087599326432255,
          2.32669384805196,
          1.967907753481764,
          1.686947965197359,
          2.0153420631500047,
          2.0759833593835237,
          1.7516185252180465,
          1.8845543711395205,
          1.7632605020918717,
          1.8739030924042588,
          1.8553963079319025,
          2.162853415863338,
          1.623910932656676,
          2.3748663595628345,
          1.9577206139044152,
          2.1024766138183755,
          2.015196760431888,
          2.1047925765771103,
          2.180831117282971,
          1.9579637301211716,
          1.703106877212957,
          2.089850786326009,
          1.9568502346072651,
          2.113584321973445,
          2.1564583272073614,
          2.2162451821725973,
          1.6421088549752978,
          2.22676360540152,
          2.0173876750668382,
          1.8227754690550577,
          1.9702580372432674,
          2.0095405186502737,
          2.5289238629415145,
          1.977969441631696,
          2.3109516398806447,
          1.979147804528652,
          1.9562488001644918,
          1.8731409794913407,
          1.8551992413537381,
          2.176132828749995,
          2.2167947015052083,
          2.0104151381302264,
          2.049507806557891,
          2.023307089563165,
          1.9758574895918142,
          1.6825860429836612,
          2.189879320585933,
          1.6770156353617267,
          1.9392062524791323,
          2.029857843408309,
          1.925209012840071,
          2.1337595059066436,
          1.7183768370239363,
          2.0324159525144454,
          1.6314856023748479,
          2.1434919395001057,
          1.8836127311386353,
          1.8516002513103158,
          1.9899140670805724,
          2.277350732772934,
          2.1304721386572627,
          1.6020178691038582,
          2.170609054047864,
          1.841582631464508,
          2.3952283603034745,
          1.638109676961517,
          1.716694837704315,
          2.0824254103580397,
          1.6633379460398663,
          2.4670549872465193,
          2.605675798209491,
          1.8468473289543441,
          2.21224530313976,
          1.8949599054651503,
          2.047690081015308,
          1.6606684890537706,
          2.353976278801987,
          2.083246529340751,
          2.254905321292965,
          1.9277613910879488,
          1.7901714022969633,
          2.050105516330064,
          1.778492167417694,
          2.1114660148804454,
          1.8163077222701558,
          2.2028169786963696,
          1.6735677751777187,
          2.191582542104877,
          2.1584706129871014,
          1.6892397939487565,
          1.7701515772984584,
          2.150179116768692,
          1.9404382943369893,
          2.055614217934695,
          2.3303194260597913,
          1.5449155341527132,
          1.7940578847015378,
          2.187860215374196,
          2.407158380823462,
          1.6543247425299121,
          1.8518762053974442,
          1.8118686447174623,
          2.0071315336180255,
          1.910221046784512,
          2.278494862397393,
          1.8938389375747853,
          2.039053477774205,
          2.45855832214654,
          1.9770310786888692,
          2.0066836223091444,
          2.1069611289835075,
          1.884936039504776,
          1.7738862369044694,
          2.4144801119161614,
          2.309587987638169,
          2.42882883180315,
          2.3451607356297357,
          2.1992298753851256,
          1.487515472777492,
          1.853191581334021,
          2.021753117536763,
          2.286993811682581,
          1.6958445582806252,
          1.6317415708792071,
          1.966003750336745,
          2.0039845392120155,
          1.756409496516102,
          1.8942208989259401,
          1.83986686836668,
          2.13986487160517,
          2.3286999382152214,
          1.7550811981543124,
          1.8753937474529665,
          1.9663020475657358,
          1.7605897783772098,
          1.965329334420016,
          2.152504613043646,
          1.5276610416644625,
          1.9963739859158036,
          1.7244829479627883,
          2.0143783075956483,
          2.2385475242959583,
          2.3547907710871296,
          1.9548575408244129,
          2.589947251601943,
          1.8015160603690077,
          2.2303334959520025,
          1.6902671784756895,
          1.746982060595331,
          1.5372790185115341,
          2.0060198187514846,
          2.2082960987762164,
          2.0156296572794328,
          1.7079657088395188,
          2.2557322171997125,
          1.9687835944334509,
          1.6768789702195046,
          1.9916989131489582,
          1.925568513488786,
          2.6088327198233876,
          1.8545282490938644,
          2.076805810179243,
          1.474868840264269,
          1.8231046693888668,
          2.3502887160502532,
          2.045446170413831,
          2.0130906575345535,
          2.0427530470857804,
          1.8889457541253443,
          2.0264323079124344,
          2.101546298803645,
          1.932448707620252,
          1.7234709745352428,
          1.689999154892403,
          2.0084914313597633,
          1.5954719763939393,
          2.119785256836607,
          2.167370635628482,
          1.8185348922953322,
          1.6582719867566131,
          1.999920556873083,
          1.9992867958028202,
          2.360730663810687,
          1.9802306490926873,
          1.8593827208755878,
          1.6181299328055472,
          1.7152901718699216,
          1.1796187803523854,
          2.0051680305841555,
          1.787908675512394,
          2.0115861218493976,
          2.2959499583722756,
          2.479713801342094,
          1.9241982022788215,
          2.143670994697112,
          1.9312584827287846,
          2.0522741325637086,
          1.9153596222817184,
          2.256410315891305,
          2.4310536134424834,
          1.9884623977347164,
          1.7992385033246348,
          1.9891316979437628,
          1.859226269035705,
          1.9904610618775842,
          1.7046699624841881,
          2.237394000325663,
          2.2338775366292594,
          2.086077292798998,
          2.126985115144298,
          2.2014101803853277,
          2.2130290704751516,
          2.1436812414250386,
          1.7416598800482095,
          1.8791480319908143,
          1.9728671312502974,
          1.9398983115626496,
          1.780476287119087,
          1.8302441389496358,
          2.4643221386790892,
          1.9521960089353931,
          1.5844060462041378,
          2.1607844053547933,
          2.149956013122916,
          1.9366941521555785,
          2.1141359961033275,
          2.3199373843036057,
          2.2186941359667314,
          1.8239954492984838,
          2.0536215408797833,
          1.9153385537821166,
          1.8456081578313674,
          2.3623406674039917,
          2.281192101878422,
          1.9263966013584182,
          2.063375316358102,
          2.368181261766471,
          2.223924865537478,
          2.127447066314749,
          2.2310959726085224,
          2.468155207071111,
          2.1043021069676544,
          1.9560929865591818,
          1.4851050385654394,
          1.8539697335979306,
          1.7361973210970243,
          2.1883020846842274,
          1.9483979166626333,
          1.6229228411760197,
          2.0563074234604164,
          2.052924374757433,
          2.3109713817361417,
          1.9574193516592786,
          1.9720584023413306,
          2.1631868635908,
          2.2152382384843214,
          1.8814233162956866,
          1.7973375440395882,
          1.962858724745861,
          2.135851682049888,
          1.8390311778612964,
          2.4014920269389504,
          1.8551097989218224,
          1.6885729450334022,
          1.8361439046451604,
          2.4361674402253084,
          2.3852505678109166,
          2.0484395107794557,
          2.2700827212792847,
          2.107937297402124,
          1.9203145026417652,
          1.8982041332984418,
          1.8569653237230757,
          2.2602165687525617,
          1.9217986035952648,
          2.1966369670321555,
          1.755779854327769,
          2.115885844302237,
          1.7547073829636928,
          2.0453842183771034,
          1.9770083992557688,
          1.2610576552548296,
          2.371077227974349,
          2.406213264060757,
          2.0398894670351067,
          2.03092685125539,
          2.258732816917854,
          2.288562020111513,
          2.190867330391494,
          2.1481319577222444,
          2.006378448584854,
          1.5806008784115302,
          1.9815317789750213,
          2.460534236568399,
          2.3481152784222115,
          2.1204170524877055,
          2.451305177848855,
          1.8060176657202511,
          1.911902933596241,
          1.8234546382680359,
          2.3357751246353424,
          1.8316360236469689,
          1.4334011277851857,
          1.9911071208530315,
          1.9820415587608629,
          1.8898264160856009,
          1.9590625996801823,
          1.8274506533773205,
          1.828336378641345,
          1.815633846845846,
          2.6457922274785903,
          1.8259796460985882,
          1.823630896267257,
          1.84951886512389,
          2.1904304149553915,
          1.9074254995969688,
          2.3646752947710947,
          2.212799476189612,
          2.0047553213114275,
          1.6614149613185032,
          1.7611411519169942,
          1.7371239961586324,
          1.6947186237643899,
          1.8702528498604325,
          2.193158714542391,
          2.1511797417050453,
          1.6222905130058627,
          1.7667856855551118,
          2.0343993515598373,
          2.0817639271648223,
          1.716263355610929,
          1.8155221718127001,
          1.9417588107444042,
          2.3018339480360326,
          1.8513960342897646,
          2.383388747668983,
          1.9274206819556194,
          1.9696541504983365,
          2.5814388171786677,
          2.090887731188017,
          2.0975770988931424,
          1.9477563540150924,
          1.8922967368155157,
          2.413363324744147,
          2.019417534927049,
          2.3780175668676615,
          2.1024955168118873,
          1.7408360529515534,
          1.7310022898865567,
          1.614822253645196,
          1.710949725925628,
          2.235940315716813,
          2.2773937609231245,
          1.8275032686386614,
          2.0769284028737283,
          1.989918575756389,
          2.0194258024681457,
          1.9209815935993613,
          2.304973100947545,
          2.101358335176262,
          1.7518555272167793,
          1.8583990918516182,
          2.237318382260896,
          1.9652938509684816,
          2.243518970848207,
          1.8918940207557988,
          1.6117949759251233,
          1.7998972422600117,
          1.8390715490631488,
          1.7886821017806798,
          1.6790805060854823,
          2.4420087422927885,
          1.9230126082565986,
          1.6926344521100607,
          1.675254937213198,
          2.27418452503487,
          1.822348112427381,
          1.8579738466353015,
          2.0228273768757035,
          1.4890882892098682,
          1.9728001023422894,
          1.702630179769133,
          2.0226378904624447,
          2.5866654967878944,
          1.9417542179505403,
          1.981558097810395,
          1.786437719713966,
          1.6274657253543288,
          2.0699058729302875,
          2.079939887133263,
          1.875203797822021,
          2.0396296363255173,
          2.0539350942646974,
          2.1316681749584627,
          2.144539946231923,
          2.580294487675874,
          1.5571375532030358,
          1.901929979504471,
          1.7550959325380984,
          2.229902663324239,
          2.135006546307857,
          1.8901589911805374,
          1.4938031568490453,
          1.7635597549636628,
          1.977922343267554,
          1.7651223929751532,
          1.9322459133077083,
          2.0372665616968044,
          2.2467763878202276,
          2.0991723207357906,
          2.1602687307142436,
          2.5556370187212423,
          1.8543403232568054,
          2.12550715116323,
          2.0385021008670123,
          2.039672535705174,
          2.050157994386841,
          2.3514884758332952,
          1.8484963573521915,
          2.0539829721675993,
          2.158183181178841,
          1.674517350959383,
          2.099890480367728,
          1.9908931847061904,
          1.9091944294183631,
          1.6254381659414001,
          1.8037676054798044,
          2.017009151389729,
          1.961884663648887,
          2.0485639542242544,
          2.0484657507819404,
          1.7406111603691143,
          1.696400394314733,
          2.2379247244733307,
          1.7753406563849223,
          2.390164207540789,
          2.038472850239764,
          1.6891773602296558,
          2.046292849998496,
          2.103806542891173,
          1.8282745582398812,
          2.1695309998568124,
          2.5515641864270533,
          2.1823019478445382,
          1.9654433064927042,
          2.148668559072442,
          1.661487752128954,
          2.159349685170966,
          1.84771454187859,
          2.094830010262937,
          1.8282450357761064,
          2.184722118378213,
          1.7366293287653285,
          2.00965513588967,
          2.019882493615077,
          2.1930908075560303,
          2.1470210701903034,
          1.6920019570920068,
          1.72400649821578,
          2.0580287047739723,
          2.1122554778340543,
          1.9085355792870429,
          2.018759343150405,
          1.6996660934851509,
          1.969911186893945,
          1.8110463776371613,
          1.741293001590793,
          1.749966065909509,
          1.3241861379613893,
          1.9231961999445384,
          2.1626196731788574,
          2.049243224647754,
          2.2767873618182386,
          1.9192526665988625,
          1.947202133599883,
          2.269464283628852,
          1.8874458589074934,
          2.2332366163031847,
          1.8511093307529916,
          1.6350799108222793,
          2.284526207184228,
          2.0063430715186072,
          2.2723755129688796,
          1.6988110391308247,
          1.7629707506412715,
          1.953756581374642,
          2.1256638414698723,
          1.4707387805104797,
          1.6963590240657456,
          2.083795443448765,
          1.7456580664988826,
          1.965939018008277,
          2.185350033541514,
          1.8798515324847542,
          1.7205426879690864,
          1.4003514669467783,
          2.0402808560063304,
          2.014092162478897,
          2.152125795619009,
          1.744427616810498,
          1.8171417615131613,
          1.5017430019218114,
          1.9938127640098924,
          2.004625267331643,
          1.92065754591366,
          2.0222020124371594,
          1.7067575134333963,
          2.120442470653685,
          1.9043741730666517,
          1.9629997380313833,
          1.4579807200138717,
          1.7247493456137586,
          2.3425951172364647,
          2.125805208732596,
          2.0659192569029288,
          2.137669697927898,
          2.172974649541504,
          2.313494288306397,
          1.800224499109516,
          1.9547490620290096,
          1.8857004302783267,
          1.8694699727683324,
          2.0363802083908875,
          1.9126874550018909,
          2.1900009827599094,
          2.7971580823541577,
          1.562396113915148,
          2.226541839496483,
          1.4545913564178075,
          2.001415207613605,
          2.0353687996932877,
          1.9674760141583738,
          2.175859231097301,
          2.6692748369712826,
          2.1177821538670214,
          2.3337286600115075,
          2.148799038350863,
          2.362823535523617,
          1.965132413494672,
          1.9045084798313905,
          2.3208394608858565,
          1.854442608476326,
          1.656372915210644,
          2.493184633552917,
          1.6642795227781126,
          2.384713853191669,
          2.2308556371521893,
          2.149620979252814,
          2.025161468537599,
          2.1242044146296584,
          2.0058518582554177,
          1.9343108787345686,
          2.2907796692096523,
          1.878845499350836,
          2.025852370093195,
          2.0943348910308632,
          2.0974649783475385,
          1.9263346643241588,
          1.9040637158809692,
          2.2108119008642113,
          2.2203423186277274,
          2.0457606398054957,
          2.085391871625883,
          1.7877846180471033,
          2.002468534516804,
          1.8376496022125104,
          1.9100495729421367,
          2.0219631465149117,
          1.7879093761963607,
          2.180796071825254,
          2.0666224094054253,
          2.4236750154297217,
          1.7745082573745812,
          1.6846093526003398,
          1.9642545010234198,
          1.6931154971409308,
          2.1461309773065946,
          1.8166829861504432,
          2.2457967408200785,
          1.753939732474805,
          1.7810928043005154,
          2.040592514648203,
          1.8066366762281207,
          1.8280457953315616,
          2.1251947784016676,
          2.0311956651850296,
          1.873039763034758,
          1.5316106237976155,
          2.3663511459175917,
          1.727838219202231,
          1.8393210047118767,
          1.7947549571393855,
          2.143464758804238,
          2.0160052878397083,
          2.2087080328493567,
          2.2271900984383644,
          2.051690586190812,
          2.2019866784228443,
          2.0777719979328366,
          1.8485991049970698,
          1.7409933963519135,
          2.0218615136618046,
          2.1740015354951425,
          1.6898507931746563,
          1.7559851386704284,
          2.1698029690227383,
          1.7280363628110735,
          2.183911552374017,
          2.2742962821805435,
          1.9827378100004949,
          2.0264109330622078,
          1.4967343797583679,
          1.9316443881753516,
          2.103386311289443,
          1.8626226783621482,
          2.44078239673187,
          2.2028057150060363,
          2.086170630767889,
          2.0553657193355583,
          2.1891943628185837,
          2.0493493175340305,
          1.9528941649860372,
          2.0435141778282784,
          2.108105159274722,
          1.9446782128855653,
          2.0497105752296236,
          1.4942630112516901,
          1.7855748367316073,
          1.59401125940451,
          2.0400387526402715,
          1.8347305339696054,
          2.1987021147898274,
          1.661708891955102,
          1.6940811715608042,
          1.6850966728245043,
          2.238211218053758,
          1.5334631001320176,
          1.8352448308102993,
          2.096064531326177,
          1.7816377866465003,
          2.1247605609994897,
          1.7450246711853061,
          2.2042719719850496,
          2.210012697197266,
          1.8238651836049433,
          1.8817120193055077,
          2.2718888455488706,
          2.080597911993505,
          2.5395635175193396,
          2.092193493585181,
          2.136202845798568,
          2.3614529425295414,
          1.9554025919699747,
          1.9542627018171543,
          2.3199174653209598,
          1.4691170645821918,
          2.096603670176699,
          1.9182775923713615,
          1.8215021451252646,
          2.0861165753193243,
          2.006341261703221,
          1.678820576279966,
          1.9216435705759154,
          1.9427188478793862,
          2.4181319653474582,
          1.726248513005216,
          2.02686702267577,
          2.08905432369795,
          2.2362129469723047,
          2.087411628406913,
          1.7816429315353415,
          1.9330234538208702,
          2.396317504528017,
          2.3225415778473377,
          2.273305106062274,
          1.8140868266552725,
          1.8150823581560869,
          2.0083549436488166,
          1.9773172753027097,
          1.9375613420199924,
          2.063403903049936,
          1.936296820230707,
          1.81131345337066,
          1.7772547859628887,
          1.978398033563583,
          2.1781688383187285,
          2.1776068690707806,
          2.105493430603619,
          2.0285062875930056,
          1.72460885683214,
          2.5096815222572855,
          1.9121799919223712,
          2.0832056259910856,
          2.054866925221971,
          2.090392846062985,
          2.11797482056466,
          2.179408887306958,
          1.7394733599452696,
          1.958122047851658,
          2.179646158302251,
          1.8702007445407351,
          2.1047433660016934,
          2.151867970111683,
          1.749347455703297,
          2.303245011114985,
          2.0513020032953384,
          2.070740154446691,
          2.048436143418234,
          2.355197519016479,
          1.7357227102348989,
          1.648515618522139,
          1.4660373865546368,
          1.7743476212792688,
          2.0176051373485695,
          2.1880455968206958,
          2.0434303961339007,
          2.403105664005945,
          1.9779326887271014,
          2.0227747926837836,
          1.5295562801081162,
          2.2133577666410633,
          2.3890309336259175,
          1.8231333737012796,
          1.972013673320716,
          2.259105083338181,
          2.2473134475837995,
          2.0725895082339627,
          1.8040475643537124,
          1.9826955423689692,
          1.6954806724566511,
          2.374504643896749,
          2.3123932372408587,
          2.010991130595625,
          2.718804507118996,
          2.1608060243670426,
          2.3187775041364085,
          1.783712246062961,
          1.9880072141106429,
          8.40869514113474,
          8.352287678069253,
          7.738742061889341,
          7.616492405534071,
          7.595062816234691,
          8.256921813331386,
          7.922294746801479,
          7.560151623204835,
          7.321597876084398,
          7.415034215426323,
          8.186127494454661,
          8.112070328722295,
          8.767999118017547,
          7.010784302823518,
          8.18609594420119,
          8.423662327822544,
          7.6966613282294265,
          8.314062391951596,
          7.884183951084755,
          7.8710507970284596,
          8.137640420728122,
          8.117262806794434,
          7.710805027878873,
          8.213133675693594,
          7.811925959126799,
          9.003181930510891,
          8.825473463833054,
          8.491516046323508,
          8.3958335446894,
          7.619919682403457,
          7.245742310962111,
          8.357972276451626,
          8.109513921119225,
          8.020659615566766,
          7.722773614228064,
          7.818289466682815,
          7.979831698114821,
          7.67254219858481,
          8.025656764822523,
          7.97389550555817,
          7.845870299428987,
          7.911556021656551,
          7.975297531390947,
          8.019978854939513,
          8.088963085935625,
          7.696733142543483,
          7.182445941987831,
          8.537320332181974,
          7.700992735134382,
          7.990330359043492,
          7.3488650327161,
          7.841459587080052,
          7.93447499832983,
          8.086525597891885,
          8.578572802386493,
          8.704382442948994,
          8.364795685867877,
          7.086762691911053,
          8.193152091206848,
          8.580999631146504,
          8.277624049841059,
          7.568741156993373,
          7.589688606180865,
          8.784560066950512,
          8.763194855553483,
          8.06864676583091,
          8.386767881681427,
          8.448690418742165,
          8.633246623349745,
          8.01332410084776,
          8.263137342884214,
          7.500482234214727,
          7.585367252407825,
          7.796477537945727,
          8.558216149354354,
          8.11241917863803,
          8.374401343904973,
          7.874264257722966,
          9.108330625034586,
          7.546308473453608,
          7.86611061951282,
          9.126716355681461,
          8.08794442332806,
          8.818062850610675,
          7.845234700553092,
          8.608691564278603,
          7.872078200402851,
          8.886996900446244,
          8.114944350693003,
          8.36169324229161,
          7.411045486505797,
          7.7876275511625375,
          8.311534003994144,
          8.61176628662255,
          7.73499564906573,
          8.331400395105033,
          8.68885855329215,
          7.794380857195886,
          7.475464904976545,
          8.820889482681704,
          7.562006464471157,
          8.208016752977361,
          8.274986726147807,
          8.24881523435024,
          8.693865789895678,
          8.047162998677951,
          8.347609994970316,
          7.811348066333879,
          7.689450007649852,
          7.412759838056587,
          8.171697254004018,
          8.236038784369867,
          7.861916161676109,
          8.965670652707129,
          7.058941977504712,
          8.281963126653554,
          8.206323639401994,
          8.375507302357486,
          8.485892508825488,
          7.494171863313824,
          8.40302937372225,
          8.25406890978618,
          7.574618064785405,
          7.968734798360322,
          8.37867528457539,
          8.781353824170424,
          7.484080362343224,
          8.038737145629192,
          8.072674196274502,
          7.743123527241919,
          7.697713986476722,
          7.331439073400187,
          7.817819807845286,
          7.236763154213156,
          8.641703381817319,
          8.240854465442434,
          6.785325583004442,
          7.443698534504707,
          8.80181586278354,
          7.871033897860932,
          8.477446377758477,
          7.82105830257633,
          7.354492643215552,
          8.52807974514885,
          7.781200137115093,
          7.751815036107819,
          7.3106470848554475,
          8.622600835838242,
          8.037665401937131,
          7.6313756520180105,
          8.037153078490485,
          8.211078425773394,
          7.835062271459988,
          8.462360931776457,
          6.807329579147509,
          6.723068552994586,
          7.6171690857262115,
          7.977191321533704,
          7.369768863910346,
          7.475311855181055,
          7.480445153755145,
          8.307356213744336,
          9.274078105012151,
          7.922804450424365,
          7.6755499666110385,
          8.730902920962642,
          8.709037997783248,
          7.325975357786941,
          8.851236423516877,
          8.034197838699445,
          8.940006259439585,
          6.895011074233716,
          7.504364262641299,
          8.097598810264344,
          7.643521449159492,
          8.535430220685218,
          7.402003624404461,
          8.074429838926575,
          7.756306297606352,
          7.895331667576397,
          7.620826706517563,
          8.74221352601827,
          8.61107043277383,
          8.60567654980248,
          6.865013893983664,
          7.870818263602318,
          8.349206730742626,
          7.444165155237138,
          7.891614949854948,
          8.36087797415936,
          6.71442623549287,
          7.313341972123742,
          7.3692055280312445,
          8.671208553054148,
          8.931007011914032,
          8.439331056679858,
          8.209338930095925,
          8.149953258848628,
          8.66548970578442,
          8.037842318268405,
          8.93904352362714,
          7.5051177131357685,
          8.126238797989627,
          8.246067284468626,
          8.042301887377134,
          7.882298767475008,
          7.198888466734766,
          7.368946355640341,
          8.22452982166217,
          8.052106319899641,
          7.89231663032031,
          8.0894821181023,
          7.442774144623759,
          8.243246966049,
          7.613499604230971,
          8.439950198328555,
          8.357076772075414,
          8.225832845879784,
          7.895820605343653,
          7.224873585590919,
          7.693576293946439,
          8.222567863757279,
          6.985966597674754,
          7.315845668871417,
          9.239470534811947,
          8.481456825860539,
          8.088867274808173,
          8.186827249277673,
          8.693867359385097,
          7.877533346794616,
          8.095496654890379,
          7.87889788771733,
          7.657453445980088,
          7.418600481180541,
          7.762432494515961,
          8.979982316755462,
          7.077838359242132,
          7.984189248002198,
          8.49134058152071,
          8.594352211717386,
          8.172224449283776,
          8.426306613264146,
          8.445612020751804,
          8.031757054930447,
          8.664135476587997,
          7.821665154838704,
          8.833500058724539,
          8.20089054993148,
          7.8714349670086685,
          7.479089038528482,
          8.39179020035041,
          7.509931354080513,
          8.188596330105328,
          7.430249274684217,
          8.115328131302066,
          7.929277122735208,
          7.902214032758142,
          8.058896099376577,
          7.58318412114485,
          7.672129586767084,
          8.457227163517848,
          7.369741352432451,
          8.262154826410331,
          7.910655815433398,
          8.136459676415466,
          8.709963505970185,
          9.181463138154447,
          7.299653790279709,
          8.304887551017027,
          8.424319878642029,
          7.871652786446712,
          8.829250585715222,
          7.943223235049943,
          9.123819048557898,
          7.841694859733084,
          8.511994897603746,
          7.546265710086266,
          8.11319510384204,
          7.552025397191118,
          8.542446382372376,
          7.966459685113605,
          8.792442989924824,
          7.769624354663946,
          7.957156390124051,
          7.688246847592226,
          7.627315764373725,
          7.204274412258628,
          7.132060337716676,
          7.802546913627108,
          7.91990618692121,
          7.83161560061569,
          8.390447900946821,
          8.66966788128705,
          7.391532827135576,
          7.5151016178635555,
          8.510735589018836,
          8.575932931218578,
          8.47622450154338,
          9.185670409467336,
          8.8901278058318,
          8.023730615152346,
          8.741628895495897,
          8.152538420690489,
          8.071181072896831,
          8.376285604197404,
          8.09934470530922,
          7.943912372469262,
          8.613464844636702,
          8.072816289004972,
          7.562273587523125,
          7.308469970757247,
          7.955135752524176,
          7.982323912404445,
          8.014458681131817,
          7.341061203578528,
          7.128183923889249,
          7.990657143968441,
          8.15000120501665,
          8.785025612157352,
          8.185989937674064,
          7.7317495697969365,
          8.1221870738424,
          7.168358385245806,
          7.706198036402201,
          9.00178379320665,
          8.02394386917945,
          7.138024287783128,
          7.6311813166210065,
          8.074760369561348,
          8.099898987739419,
          8.047731480324465,
          7.1914330116505045,
          8.101681647597811,
          7.9239367348757765,
          8.540993036306784,
          9.187802974657616,
          9.004830020020302,
          8.014199378599505,
          6.653800914341129,
          6.837654738323382,
          8.044811706418777,
          8.369648617466506,
          7.574123787644659,
          8.854162099972482,
          7.437259374933018,
          7.914085831586588,
          7.6926683881150675,
          8.491011652137894,
          8.498224422032218,
          8.041689596942769,
          6.931652549101598,
          7.680561062583091,
          7.375339296119299,
          8.45714170655139,
          8.777831645539056,
          7.5928618771126715,
          8.261156651269575,
          8.401730862522705,
          7.943670423098599,
          7.1633752993413955,
          7.151629154332844,
          7.433117161774428,
          8.468403279656647,
          7.827808283438424,
          7.142734753407775,
          7.947047567807413,
          8.074409979656876,
          7.7682059262619,
          7.751323993520636,
          8.97495099037507,
          8.19636220732622,
          7.063287633782287,
          8.419956422891914,
          7.863695710897502,
          8.603189097824751,
          8.997911379563183,
          8.388610061262176,
          8.265953023321332,
          8.702523653004178,
          8.440141685401924,
          7.92433980557517,
          8.013249637219406,
          8.485328356872673,
          7.009609459178751,
          8.204105962065046,
          7.500963848970916,
          8.420165674158092,
          7.629744813766192,
          7.8438155041962485,
          7.757587014736917,
          8.125007154836025,
          8.100634644891596,
          9.008424369266976,
          7.703235334144377,
          7.320440760945136,
          7.5959648253103715,
          7.272660016398238,
          8.250938385763927,
          7.554256331643912,
          7.4232067277353115,
          8.586499363229747,
          8.129937025683649,
          8.29082068448448,
          7.275859761969588,
          7.848572581531117,
          7.555992370132123,
          8.369179579251742,
          8.239934500667637,
          8.547711842042649,
          7.687385638433939,
          7.446948737267378,
          8.336721499852214,
          8.320611930142675,
          7.946479952494411,
          7.869934436434451,
          8.138660736086997,
          8.307587136599192,
          7.908842170310713,
          8.45647178598237,
          7.678975609897781,
          8.582557607288214,
          7.8943763775902855,
          8.951762724587958,
          8.000443053462334,
          8.202539268477478,
          7.694145907451715,
          7.329883783692969,
          8.721603149533948,
          9.129674809573137,
          7.5617215486625975,
          9.113072971252762,
          8.014529512443563,
          8.163171177056029,
          7.934649783291293,
          7.4317287391501585,
          8.005556928885195,
          8.17276966352568,
          8.348168377909024,
          7.332075245387083,
          8.07295769303228,
          8.013604808679613,
          7.038091502482917,
          8.33580885222906,
          7.621757501194043,
          7.000907849326372,
          8.360619614735867,
          7.9938052709904825,
          7.539860634493175,
          8.474399118145717,
          8.384536349585485,
          7.089988033391745,
          7.520813996414188,
          7.823163009596784,
          7.648538663481875,
          7.791990242469474,
          8.050446504571214,
          7.49946871821149,
          8.392432688617266,
          7.926115642704988,
          8.180003725602095,
          7.715848971807525,
          8.311959071718121,
          7.548288027477384,
          7.982782422467672,
          7.283998284795439,
          7.717183753774409,
          8.857534217447467,
          7.934719305389513,
          8.164027200473493,
          7.894648533743214,
          8.858064752570462,
          8.053332802742311,
          7.653822006330319,
          7.156673823948931,
          8.47507720676479,
          8.16657863624166,
          7.786815261987428,
          8.180374130411735,
          7.074008770601978,
          8.385110397479934,
          7.67740727486129,
          8.265759977060045,
          7.807300829175868,
          8.401462222267217,
          8.138438930547684,
          7.757529546769439,
          7.727632316180262,
          7.630277810301525,
          7.675681113543454,
          8.187926822416982,
          7.6264381322131545,
          8.366287760196267,
          7.885619553570028,
          7.8866166210404005,
          8.28174233407028,
          7.744726175688708,
          7.295553652984451,
          8.680139525343828,
          7.8564602134091,
          7.927130695659562,
          8.323928400531912,
          7.530574771215215,
          8.536188637570186,
          8.411909491129785,
          8.106219261127029,
          8.482837767275024,
          8.618884757023794,
          7.663694112721026,
          7.849430906558019,
          7.68825553101623,
          8.45532906140361,
          7.920898471308201,
          8.262763442228177,
          7.737066328307118,
          8.566337074722544,
          8.079276849459822,
          7.671415970296391,
          8.664024151862876,
          7.460297593051856,
          7.703240314961732,
          8.422357475194415,
          8.829583004720602,
          8.035985925366713,
          8.31578064995724,
          7.56040247429785,
          8.347982976960683,
          7.636636600320585,
          7.750115292533409,
          7.132760901985418,
          7.429814640379927,
          7.777578039197474,
          7.510666037631706,
          7.515526301445419,
          7.7241216016147956,
          7.518180771914544,
          8.839871762314239,
          8.183515745775969,
          8.33983884696943,
          7.325730677865556,
          8.68651644990415,
          7.71581006778888,
          7.6082522360190605,
          8.409631797996544,
          7.9695884057563395,
          6.927811840996487,
          7.754866950142911,
          7.43275939298295,
          8.812593742252117,
          8.112262802475888,
          7.819245299448414,
          8.554462885828615,
          7.315994533616043,
          7.828336383861967,
          9.016279405379862,
          7.662156520055691,
          8.563165926535376,
          8.125228831092915,
          7.623303807558394,
          8.136854471473852,
          6.968945522487477,
          8.168633379051055,
          8.72738139182899,
          7.65702654540343,
          7.067312318825115,
          8.58023683663142,
          8.430390808541915,
          7.468806125550942,
          7.738918429579725,
          8.252078565637872,
          8.690936302060829,
          7.1132101804925725,
          7.7073145150356925,
          8.149224129070928,
          7.6761085668412035,
          7.8598664784170635,
          7.5223554619242625,
          8.109409902810237,
          8.018192899962601,
          7.1185911530875,
          8.817466372441682,
          8.426291224675083,
          7.690306669397835,
          8.139942046172191,
          7.658441775710722,
          8.246306886096809,
          8.673701658536498,
          8.08589580807006,
          7.934544383286736,
          8.472057521147189,
          8.090492134258776,
          7.923990804260261,
          8.144723935872198,
          7.752302472772564,
          8.379361380975585,
          8.175516303308953,
          7.802078868729581,
          7.805591103003126,
          8.22666075644757,
          7.397627202911476,
          8.303220987179717,
          8.144291926473173,
          8.047313805137783,
          8.001875360797621,
          8.305837363322139,
          8.28981555685413,
          8.364902295157338,
          8.446258677703693,
          8.149388270084684,
          7.120727586694802,
          7.580018085353216,
          7.979484636169225,
          7.32308984653173,
          8.67456134689455,
          7.429205885151332,
          8.10435064560536,
          8.62148000995871,
          8.088473398916,
          8.165629972810311,
          7.414759212163498,
          9.073251117487624,
          8.671588475167676,
          8.136853187770669,
          7.842130949298516,
          8.996912926372136,
          7.491713249377786,
          9.30943138781201,
          7.361489238682624,
          8.884921210734051,
          8.976374072193465,
          7.629045357613306,
          7.900311307730833,
          8.390382790359835,
          8.671445457071348,
          8.536790581772072,
          8.324755993116405,
          7.8676191973782625,
          8.609567836205061,
          8.566357046805605,
          8.896868907952918,
          7.957395865420646,
          7.552921777876201,
          7.693368484902898,
          8.629216455894014,
          7.846034077053458,
          8.671101560166914,
          8.687073502457565,
          7.195778351400802,
          8.193645759174993,
          7.742666803161834,
          8.14941968636445,
          8.308439353070968,
          9.27557614467077,
          7.834960558432426,
          7.646394578166013,
          8.075686292543708,
          9.08733934736525,
          7.92158884252765,
          7.8813743804081025,
          7.953989065316465,
          7.309280165717623,
          8.067908666393903,
          8.16838150974402,
          7.9009000884964165,
          7.542400936201439,
          8.919555447021484,
          7.77813398554255,
          7.774077179704801,
          7.584423780543592,
          8.270856288037013,
          8.1481821936086,
          7.672959871355801,
          8.06471741533336,
          7.218080301877453,
          6.765632216824452,
          8.076615144364318,
          8.99142969405562,
          8.082258055915945,
          7.6139095013538185,
          8.034057641398254,
          7.798871430600963,
          8.076288486424717,
          8.535806141755094,
          7.5585923675962885,
          9.000633215119256,
          7.955432014983908,
          7.505919833193747,
          8.831135615978187,
          8.95420534322187,
          7.686395755812308,
          7.676924406182706,
          7.862566526075003,
          9.289759378235926,
          7.215004243138119,
          9.004448959375496,
          7.730463780915802,
          6.869642810613568,
          8.475171405901254,
          7.679315098126597,
          8.022592146390297,
          8.165601191831653,
          9.305763556571286,
          8.352282991161863,
          8.556012267948985,
          7.57063538707572,
          7.684614970962033,
          8.178321512015629,
          9.58995620897894,
          7.289886283888304,
          7.537735430062704,
          8.196756759133239,
          6.627532948335457,
          7.094893430220844,
          8.333028756771052,
          7.195105325015875,
          8.198577363054302,
          7.442850660936805,
          7.26552064166116,
          7.809631510707826,
          8.385750539318371,
          8.031643536914746,
          7.958111873579734,
          8.24711994598877,
          8.207125131414129,
          6.6071179870848304,
          7.399385108506636,
          8.143927928637263,
          7.680437610208042,
          8.411539368150093,
          8.128530623772509,
          8.115267104518493,
          7.911341090114861,
          9.45550480801186,
          7.983265669339301,
          7.054304426748522,
          9.018115099230116,
          7.6507830078648125,
          8.605065371934218,
          7.658831522213294,
          7.729710294641195,
          7.452405522863301,
          8.0126540429525,
          7.180084275381609,
          8.335892806100581,
          9.038841994651426,
          8.242484520309022,
          8.158382855772409,
          8.721920313724063,
          7.997645683420075,
          7.95323635752992,
          8.199156391291753
         ],
         "xaxis": "x3",
         "xbins": {
          "end": 10,
          "start": 0
         },
         "yaxis": "y3"
        },
        {
         "marker": {
          "line": {
           "color": "black",
           "width": 1
          }
         },
         "name": "D",
         "nbinsx": 15,
         "type": "histogram",
         "x": [
          6.051094188186594,
          5.811288617102414,
          6.103503929593562,
          5.913976474971662,
          5.993628361656043,
          5.833840458905688,
          6.061795254449928,
          6.011295725218656,
          5.480484537841697,
          6.350703590056796,
          5.8910732100757155,
          6.880728402880728,
          6.317920540716761,
          6.570601341221278,
          5.893399296578903,
          4.992953520217439,
          5.933023580486677,
          5.71372046137797,
          6.0559540740009,
          5.247451626632968,
          4.9948782211264176,
          6.146011707468894,
          5.867268602335292,
          6.109214662899843,
          5.896776674421724,
          5.918342078037533,
          5.952903806957583,
          5.883320032351075,
          5.410959915937952,
          6.765078636109621,
          6.427213221501031,
          6.698972205470733,
          5.794924768098038,
          6.775681935542516,
          6.298554960720767,
          5.987756984577342,
          5.192024909409063,
          6.119107844521316,
          5.224592245243524,
          6.933743290321728,
          5.9700048308983895,
          6.07559610167824,
          5.759236905371378,
          5.198151733433665,
          5.996477755084764,
          5.738526181943807,
          6.453588865439627,
          6.1528250536181766,
          6.432414326390319,
          5.358991084305878,
          5.515109201484938,
          7.003520002790289,
          6.096086945265198,
          6.254399517916788,
          6.076159041339923,
          5.947260509280595,
          5.219221511556052,
          5.3179992577837725,
          5.801515013821799,
          6.68161732058871,
          6.1180150499899755,
          5.417138578769038,
          5.215869588609529,
          6.396943260006252,
          5.480295306453897,
          6.187999115751546,
          6.057435306514023,
          6.675554240203196,
          5.282582598015129,
          5.385206455006304,
          7.027842234243774,
          5.464524498491965,
          6.424205625292978,
          6.2029787080134815,
          6.964012935459668,
          5.839820022933558,
          6.055028308191769,
          5.406010151657789,
          5.51717082753427,
          6.192771536247264,
          6.306399841630526,
          6.127101159775135,
          5.621215446268133,
          5.647615298179755,
          6.2721805479677695,
          5.633138296916895,
          6.490069025627336,
          6.844676173336214,
          5.706249596832215,
          6.85571562077659,
          6.594410169059062,
          6.336270135795437,
          6.593524443000938,
          5.730494181189748,
          5.519244635927507,
          6.3791726030421465,
          5.8811919668016595,
          6.739409889414348,
          6.157410385643781,
          5.633649536306573,
          5.494939758128368,
          5.986426057316305,
          5.929375544531345,
          5.89328259708973,
          5.389028619514363,
          4.754911756711005,
          6.102251441417426,
          7.313269052806028,
          5.585539573944719,
          6.407589751186851,
          6.347592152466613,
          6.26694007059642,
          5.858121365249144,
          5.886098065364146,
          6.26069092545272,
          5.83199556088576,
          5.783968976704381,
          5.391657443986075,
          5.912802945848425,
          5.189110299475052,
          6.440936414378179,
          5.717084689428146,
          5.720787711793657,
          5.694982459113798,
          5.511359279098358,
          5.779432622038948,
          6.012653969440492,
          5.4672762720384265,
          5.774024769349512,
          5.681425892193,
          5.932730514110133,
          5.7453448818741215,
          6.947498740106326,
          5.638048575812826,
          6.222568620106434,
          6.7212671914346815,
          5.813548780737882,
          6.029685189972006,
          6.904737057745463,
          5.871162777498096,
          6.304743816671618,
          6.276958095602882,
          5.797118648665354,
          6.482400097640773,
          6.112991493782989,
          5.332202526317799,
          5.19714456363014,
          4.890224273958443,
          6.665599954488757,
          5.701920237166248,
          6.605277624585665,
          6.598558044895787,
          5.772942490175986,
          6.678521536038103,
          5.965880309595857,
          6.474928352636226,
          5.958546658939909,
          5.49706961556938,
          6.810887365209124,
          5.598089181741377,
          5.569023341456725,
          5.81955858575817,
          5.881484251551714,
          6.4786948920999095,
          6.254252663411882,
          5.883223288979527,
          5.74475985948303,
          5.503347066375899,
          6.162359559555608,
          5.35266955080283,
          6.259322885909025,
          6.3234787581578145,
          5.373552548363583,
          5.953911708188867,
          6.025290273977885,
          5.628988300569311,
          6.043456513739633,
          5.346884913040395,
          5.449613300937162,
          5.761899189542897,
          4.734157200861864,
          5.239540476962204,
          5.257243114825346,
          5.499489456071789,
          5.732278362579248,
          6.0139354773697065,
          5.743379395138813,
          5.188771362096794,
          6.297444459421437,
          5.638912617750547,
          5.596541291981606,
          5.650544242747001,
          7.0896465194000715,
          5.919029781598459,
          5.682592502924775,
          6.478070210755555,
          6.701324187185721,
          6.132159093962005,
          5.770151840607616,
          6.1079408285642645,
          5.428852794568984,
          6.095809965959596,
          5.760363595963218,
          5.88224946193116,
          7.258482548175318,
          6.266130841607787,
          6.516190943468018,
          6.499082373392262,
          5.502397811405786,
          6.3011080235862025,
          5.444364587029104,
          6.527246100423526,
          6.490498567253487,
          6.577942045550816,
          6.1415961094144755,
          5.799709811694389,
          5.542922440289226,
          5.004946553219582,
          6.151787966248991,
          6.323702761483506,
          6.5876893153986185,
          6.66944207929056,
          6.430209283621097,
          5.880369242651319,
          5.412473576871597,
          5.729282875404831,
          5.480362478867043,
          5.42970928325946,
          5.8044010264053405,
          5.771323903618749,
          5.493308687531615,
          6.51771182721373,
          6.644209870411802,
          6.6917943587659945,
          5.626063862863189,
          5.774209253849082,
          6.589465009915616,
          6.663340170514508,
          5.954057761667591,
          6.523214234601591,
          6.044481663280342,
          6.206978162453221,
          6.176755584629097,
          6.299726574588938,
          5.579333837702759,
          6.76826830877339,
          6.458418311177891,
          7.504128826835578,
          6.258655166071948,
          6.163878911773273,
          4.584462096274512,
          4.835978008684642,
          6.207519787518032,
          6.090207114829854,
          6.071611709808721,
          5.761073112727731,
          5.574612889925749,
          5.675722440922848,
          5.8126264394162455,
          6.192834300453716,
          6.373727444316245,
          6.81589557727564,
          5.040105271068685,
          5.857507997405088,
          6.7252881316377096,
          6.982125795058877,
          6.075465012023244,
          6.108266732514551,
          6.026715523343697,
          6.0710165511429945,
          5.921677354360507,
          5.899926551888173,
          5.528095665603434,
          6.073559913617812,
          5.966398288839787,
          6.264711126882813,
          5.557667177085686,
          5.766760563869838,
          5.806408102111239,
          6.02825272269241,
          6.311952488036693,
          5.943910358689873,
          6.2156796071460585,
          7.2714315149120745,
          5.388345270652225,
          6.19744734512926,
          6.209290025429358,
          5.047618872549021,
          6.241703021058234,
          6.150001896817388,
          5.594507159059253,
          5.461068750403382,
          5.223187821236764,
          6.422315647628077,
          5.7582111198052575,
          5.918864533446396,
          5.716783307606617,
          5.950839271749497,
          6.557688743103023,
          6.553698791022853,
          6.470779885342934,
          5.610315696956076,
          5.71174020435509,
          6.00046655918586,
          5.871742823572586,
          4.995406550868699,
          5.766057239934441,
          5.925062262696781,
          6.689717014539876,
          6.786744642377137,
          6.5687137397464666,
          5.8380680667835785,
          6.082238061446665,
          5.858945934302488,
          7.032884672995681,
          5.900538859980127,
          5.304658887127651,
          6.043948982231174,
          6.680051092726703,
          5.296261539040574,
          5.667961608484259,
          6.220803230187309,
          6.425537073312048,
          5.705906711296677,
          6.357141777055846,
          5.9673263454550804,
          5.7173964323149615,
          5.529188983514293,
          5.335136974402535,
          5.994932739579325,
          6.088598891193395,
          5.636236907754735,
          5.413490164373819,
          6.375761428628885,
          5.645840972519863,
          5.642511352735456,
          6.578063521057309,
          5.734340699728281,
          5.348146975211724,
          5.297495888263002,
          6.629571172243567,
          5.7176914615564876,
          5.500408214977602,
          5.544397659773976,
          5.935466322197463,
          6.081859156164248,
          5.269986860274705,
          6.38337543785642,
          5.349659756785629,
          5.083560529176814,
          6.191676409560279,
          6.199234714204925,
          5.9549802674620365,
          6.158440899499037,
          6.083441405107697,
          6.148163274825562,
          6.622283639940634,
          5.627517674772434,
          5.784017934302618,
          6.346866672999408,
          5.643694436039757,
          6.319491957188128,
          6.015960474634572,
          6.59539564878653,
          5.268056847410662,
          5.344278565856193,
          5.787971718807659,
          5.872274686092634,
          5.933415566242014,
          6.175782880712686,
          6.7900522049301655,
          5.3870408057279064,
          4.848721701935315,
          5.710325389959785,
          5.585472103936116,
          4.838638792603893,
          5.9136386377692025,
          6.105209612384182,
          6.500630086393022,
          5.76175909956318,
          5.997834974766585,
          5.772204209310771,
          6.524514493110007,
          6.2521474890327635,
          6.175862935520351,
          6.082587192540283,
          5.869800836629626,
          5.883414350400097,
          5.740501006211277,
          5.756910283235028,
          5.4664383694355765,
          5.68832367060897,
          5.964070988548147,
          5.382060761378734,
          5.544848132220722,
          6.337904087023072,
          6.51252146731658,
          6.602442894282277,
          6.8307339399609095,
          5.156420781564012,
          5.644458650062584,
          6.5088214270879154,
          6.117513062650342,
          5.839952083002782,
          5.811455289417456,
          6.54430419779657,
          6.610240905224275,
          6.5087849814540535,
          6.081739040607689,
          5.899889926762841,
          4.595465856337015,
          6.595397751777592,
          6.271812584130467,
          6.443656641233597,
          6.126212776081487,
          6.555647252740444,
          6.664306454977456,
          6.1522178970618615,
          6.497718123582961,
          6.13707462807878,
          6.310048472203699,
          4.967539070126001,
          6.330002183710195,
          5.531687450810779,
          6.152718679297009,
          5.236370299019436,
          5.587938323275802,
          6.283754154877463,
          6.023486942991925,
          5.184306639393236,
          6.327857632734656,
          6.216419507215771,
          6.137986120798322,
          6.650895762506554,
          5.0220273579038235,
          5.71719818132853,
          5.579586240088257,
          5.59837861532858,
          6.400923483361256,
          6.597475682609434,
          5.921545735668826,
          5.813273447469788,
          6.426119170292097,
          5.886445390255396,
          5.519682903845266,
          5.466693930024128,
          5.513541019802902,
          6.276607753653167,
          5.98613394782643,
          6.378908678482762,
          5.947371273061868,
          5.3553659868405585,
          5.590273500441108,
          5.843163515787267,
          6.231762575606831,
          5.643467198468261,
          6.4504645419333855,
          5.558510314052574,
          6.625413046932107,
          5.432809004184161,
          5.523016308707108,
          5.27063672463022,
          6.667307099279769,
          5.995875702671861,
          6.2664931729665465,
          5.861354535649307,
          5.697642577398605,
          6.512339239417414,
          6.158226555413067,
          5.754561477068361,
          6.182206480370864,
          6.348201383821156,
          5.555296355414634,
          6.548835776130014,
          5.712380857733038,
          6.338343278170349,
          6.407159534873339,
          6.4120761419973675,
          5.523157240825158,
          6.8505180372708,
          5.899383361411724,
          5.844565711668645,
          6.178347924905733,
          4.968308874097813,
          6.457035537849284,
          6.3106286572113595,
          5.882230883284397,
          5.656691493228048,
          7.142728045438511,
          6.060737155355496,
          6.688461292843584,
          6.155989646421385,
          6.819791058023874,
          6.086075246709423,
          5.7937527668059206,
          6.253334640981694,
          5.90940885186983,
          7.642408589301617,
          5.741248560268084,
          5.637596225712468,
          6.245811060649144,
          6.285889213309738,
          5.801350249179373,
          5.070865365659246,
          6.244536166200193,
          6.118952023244324,
          6.301162340025001,
          6.557456330481787,
          5.936393345688544,
          6.1006947773771945,
          5.894498616682133,
          6.010802343027954,
          6.534240280386525,
          5.912373618057151,
          5.766962553323252,
          5.401541998521938,
          5.694136961777959,
          5.980179016234158,
          6.6015582137391595,
          7.019766298310017,
          5.172849478718684,
          5.713834026030581,
          6.688405729514896,
          5.411352758635666,
          6.392877289998854,
          6.095325779409273,
          5.905128129326492,
          5.55388025431324,
          5.78773856334699,
          6.218990346716785,
          6.491679152514009,
          5.309190909189173,
          6.5892786658334535,
          6.71910083388151,
          5.825853578940532,
          6.0796744189958485,
          5.858491151189695,
          5.806525625283862,
          5.9449716476592664,
          5.579781968827347,
          7.155763089666277,
          6.658040893643003,
          6.681398388535088,
          5.857984207652403,
          6.238055975888963,
          5.800513453390971,
          6.627706293927057,
          6.514355644668222,
          6.75479279678325,
          6.060935479500595,
          5.876600145320508,
          5.652077200849884,
          6.0688646624742475,
          6.718825013931298,
          4.927056186345453,
          6.271540289582785,
          6.062897698407108,
          5.9482021493773525,
          6.214306788219873,
          6.587643640058877,
          5.661039067625394,
          6.0622629400158425,
          6.123351113192674,
          6.3947879014184625,
          5.248278140086829,
          5.750080797429047,
          5.988885197144955,
          5.828465818388518,
          5.164443314505405,
          5.467140210910308,
          6.343891079339832,
          6.6308408990799315,
          5.509039306344618,
          5.7320859214278865,
          6.377260660626871,
          5.960605647846502,
          5.832605451787872,
          5.760140197764434,
          5.573878046697732,
          6.024306632300176,
          6.182692965368973,
          6.106146451451934,
          6.325057572466297,
          5.960067988434393,
          6.457403290949068,
          5.666623629982055,
          5.494594360524732,
          6.106442061116331,
          6.96637498211898,
          5.4558825632297365,
          5.974830288038928,
          5.631715239623681,
          6.087004831726277,
          6.821785184127303,
          5.150193816380478,
          6.447623411137408,
          6.361393970661693,
          5.580522605162163,
          5.679689200972716,
          5.1197012718044235,
          6.7971823146637895,
          6.340887896830701,
          6.137739289002335,
          6.426626110360618,
          5.91567508363862,
          5.339921525696556,
          5.39188603528376,
          5.662087592196787,
          6.4387281343697325,
          6.6299452437874455,
          5.8943754054242286,
          6.725926887508606,
          5.96172900974573,
          5.747889920500918,
          5.653250238685107,
          6.376158786698775,
          5.915902371406896,
          6.509373601426706,
          5.896785103525943,
          5.98826697832819,
          6.157238174667549,
          6.061186677297908,
          6.005946281250581,
          4.944638546851876,
          5.677530708684812,
          6.60975942446333,
          6.2785210826105935,
          6.483420320482117,
          6.444658348462502,
          6.330472328004051,
          6.660628166295666,
          5.3790639046951485,
          5.264229568069917,
          5.651337653760113,
          6.0684534442123415,
          6.154242005250759,
          6.095034692943433,
          6.444176954138811,
          6.09625656443075,
          6.102545148149837,
          5.647821296225106,
          6.2003583332932095,
          5.647656697162021,
          5.785252668918376,
          6.338378573047209,
          5.55350054104653,
          6.425068037667307,
          6.2999552652576405,
          6.115916944173703,
          5.961334792313259,
          6.570702363420919,
          5.857260140783188,
          5.68241603868451,
          5.706486614006189,
          7.081236308269753,
          5.825724922079801,
          6.7643028711096385,
          5.814120246888069,
          5.919894382611742,
          5.527649117690697,
          5.309671063925075,
          6.02007224241407,
          5.465587549409122,
          5.480962817032115,
          6.219835735227575,
          5.275662389520221,
          6.472842130179245,
          5.149145854782059,
          6.431092164154733,
          6.525937952574372,
          5.928867078824378,
          5.531198509492718,
          6.464029350287569,
          5.77569291901792,
          6.234549445881799,
          6.285792880822308,
          6.980849611041809,
          5.609037622210702,
          6.814759640653905,
          5.939595401712381,
          6.794243066961848,
          5.575470126829579,
          6.725345321359194,
          5.736643538809787,
          5.969112072808787,
          5.933569455163273,
          6.113532040064458,
          6.210359115815343,
          5.939056859826979,
          6.104069538759066,
          5.780958670625709,
          6.090047934030538,
          5.989288639287444,
          6.657922818766357,
          5.359953997244237,
          5.858197004064424,
          5.7331290921442974,
          5.809339353497337,
          5.633493652575271,
          6.0023156823522195,
          6.249263790251601,
          6.18582062219678,
          6.283078015943172,
          6.937065184230815,
          6.741203286716851,
          5.879768174099484,
          4.965864249835152,
          6.49711203066428,
          5.028773196931385,
          6.840964087801508,
          5.77963672934664,
          4.806683796975013,
          5.988484448004607,
          5.826852980144695,
          5.862898285798667,
          5.395603719599788,
          6.733098827759865,
          6.285489004072899,
          6.193847332131629,
          5.3004013009632525,
          6.258012526110715,
          6.137064477262381,
          6.257046900090818,
          5.909813764221102,
          6.055101406803736,
          6.2066768550740115,
          6.301176291910087,
          6.227431952553715,
          6.411903465980426,
          5.9915624306477175,
          6.373845221966361,
          6.044260368202321,
          5.376607443066254,
          5.2324339384826954,
          5.768996084643122,
          5.835711463608818,
          6.519318529172157,
          6.422718697200042,
          6.193648275854043,
          5.911911849671958,
          5.584467413047965,
          6.367130851767145,
          6.9895504016604955,
          5.72931350206279,
          6.152279274847431,
          6.273947295289724,
          6.669615580763418,
          6.694779482007188,
          5.835224356036321,
          6.057989479626658,
          6.659306475922809,
          6.176254161199806,
          6.270267967698582,
          5.362530414731755,
          5.915472828474202,
          6.048894350460666,
          6.287881812968701,
          6.081242085910913,
          6.5670419093661545,
          6.005611934566136,
          5.932729023111146,
          6.885971406709674,
          5.695628316945606,
          6.036131885221602,
          6.0720490310216695,
          5.551773666215962,
          5.253509279703529,
          4.4743045883338155,
          5.676410238948069,
          5.927742938580031,
          6.585156630796364,
          6.309077957594862,
          5.5530209566817055,
          6.695761077196891,
          5.872223988469274,
          6.336927865826555,
          5.870195105049029,
          6.276838549146931,
          5.722606087531911,
          5.186827165137929,
          6.166422491998034,
          6.078587628288341,
          5.4565321933819515,
          5.999412363875001,
          6.424253729264708,
          7.174706591630519,
          6.592685106743471,
          6.147600728774005,
          6.25053582864426,
          6.682391460988148,
          6.248206351009122,
          5.604386158119461,
          5.469278982755893,
          6.188921983678072,
          5.522772291608149,
          5.359819188747924,
          5.999545203235904,
          6.377657573338952,
          5.767648255531219,
          5.997368723230389,
          5.72649112915402,
          7.027373789192763,
          6.454726226251554,
          6.4520053078549795,
          5.968070546164448,
          5.779259844878866,
          5.367443880369361,
          6.56258972038753,
          6.299590154993762,
          6.241959759893482,
          6.348500579843659,
          6.466640518790536,
          5.23300250785597,
          6.357542569293162,
          6.726664481437574,
          5.797338654829034,
          5.275751552147389,
          4.743975194428547,
          6.334216852109692,
          6.078588605802509,
          5.558003350165486,
          6.559355334381191,
          5.832283931629122,
          5.718849577312521,
          5.91812849706049,
          5.739868122573217,
          5.523982707599142,
          6.948775842344097,
          5.85227809210448,
          5.066650494680262,
          5.8656798790845,
          6.19731966834467,
          5.730617358931113,
          5.829557272970621,
          5.2501592975569595,
          6.3848314801466906,
          5.753617554976805,
          5.1881689587740745,
          6.851017759212597,
          6.463424894372717,
          5.9738456494434935,
          5.716683082841986,
          6.52521772522236,
          6.373692334690569,
          6.11395008393265,
          6.043637294461166,
          6.0170985728713156,
          5.920787687587288,
          5.923507029310663,
          6.101260131398256,
          6.441099067932099,
          6.004756584156223,
          5.4906215515759165,
          5.888596080610645,
          5.24239515087421,
          5.42330654388537,
          5.819674068887634,
          5.640799397155558,
          6.319677186057297,
          5.428491009980011,
          5.9521229781866465,
          5.776689958503356,
          5.273722331965857,
          6.530669206543906,
          5.443152647105849,
          5.078641859955368,
          6.351135866867456,
          6.053539669604475,
          5.722017304107219,
          6.759159889079393,
          6.183343851969035,
          6.218099567520525,
          6.367052302239756,
          6.211191265916569,
          6.544154563962309,
          5.8397040756463365,
          5.802595999233433,
          5.611422526775124,
          5.373000600575058,
          6.429992469307753,
          5.902144785237542,
          6.104479222449212,
          5.28391156701108,
          5.8086715463467975,
          6.525277895029111,
          6.512312486012583,
          5.733950554999008,
          5.744800000274304,
          5.704500563665841,
          5.602058458143802,
          5.4063199821099674,
          6.353893660135312,
          6.253934663653894,
          6.012126972230464,
          6.13268211588864,
          6.125746038084285,
          5.060985561125875,
          6.3412789113107095,
          5.966018081212101,
          6.6191083071339705,
          6.0949899102131075,
          5.631149873081511,
          6.517549105000781,
          6.033039381666498,
          6.721856625541909,
          6.023060123880075,
          6.587223399806989,
          6.850671883475806,
          6.20334100777849,
          5.94212464769559,
          6.73869468585896,
          5.688493686626173,
          5.398872034052244,
          6.7759148258778765,
          5.002890174431641,
          5.361749098638247,
          6.40015369381627,
          6.048096661344367,
          5.711950470854113,
          6.383437903617071,
          5.725372357131263,
          6.236484830119762,
          5.473356738519095,
          5.608588276862262,
          5.355871140038022,
          6.4573128327218035,
          6.17727859616575,
          6.430460682669961,
          5.990572735237517,
          5.914037141732569,
          6.3540285125578935,
          5.620019991370583,
          5.740681584020129,
          6.257240792278468,
          5.109031013755862,
          5.975152816022859,
          6.000135529913238,
          6.484161103192051,
          6.221790385856975,
          5.849672887003885,
          6.171191935926129,
          6.673930697632294,
          5.851729230896459,
          6.32147179250206,
          5.893295387103404,
          7.404762331578417,
          5.884912020814154,
          6.37908656019457,
          6.10149192534538,
          6.423353447857298,
          5.632495942278208,
          5.521072454455414,
          6.11784674123387,
          5.740185690154576,
          6.529800486445683,
          5.4998528570631695,
          5.814441658988581,
          6.2987849924085655,
          5.70592081288622,
          5.943029592102844,
          6.171742639350865,
          5.4797265349943505,
          5.58794888763528,
          5.679530042985601,
          6.10410869861119,
          7.108240584758688,
          5.766745329805046,
          6.310334802666671,
          7.161826613959505,
          5.204928246377552,
          5.272576476895542,
          5.8270806279792495,
          5.244920097819104,
          6.413010237917039,
          6.59890326609094,
          5.819159004264519,
          5.287840429331623,
          6.470000673562325,
          6.220074049523377,
          6.5030410689763904,
          5.58735485702677,
          5.9849850868338415,
          5.406507207244965,
          6.481138396786403,
          5.654979259881211,
          5.216626432469485,
          5.772448280834409,
          5.3977485743630895,
          5.701540770432991,
          5.100747311597376,
          6.234464869819764,
          6.489694172549003,
          6.413244635413858,
          6.449757032789316,
          6.545388014894802,
          6.066760290836401,
          6.01962869872871,
          6.068856307415158,
          5.625105438245725,
          5.726356241604351,
          6.765316103243554,
          6.074517401397569,
          5.988424380887922,
          6.7712641862983,
          5.778368885359127,
          5.810181081628852,
          6.26614518487478,
          5.526268416312427,
          5.8544549063109494,
          5.397355862991176,
          5.342227639974216,
          5.763587628815695,
          6.195077696649351,
          5.704186534066608,
          5.669676634892457,
          6.074480959961495,
          6.5478055082600655,
          7.159178484332382,
          5.4111319482960765,
          6.641588330489211,
          5.810464663243896,
          6.209072592947495,
          6.029813678236668,
          6.8196619320586604,
          6.622004014370569,
          5.9704828392721785,
          6.241557100317733,
          6.188082921189724,
          6.582000316547836,
          6.2458935964611895,
          6.307243292764086,
          5.504494497529505,
          5.679656730241817,
          6.090494337062806,
          6.632059430214606,
          5.852922973454037,
          6.200841014176116,
          5.723220259022296,
          6.5299534001114115,
          6.123338412021124,
          6.484680527212132,
          5.5384657147463905,
          5.46683483292003,
          7.442661163160796,
          5.483560941783195,
          5.678610199001718,
          5.789236070917044,
          5.40983811712057,
          5.7920032232304415,
          6.175715959736102,
          4.9722979111880115,
          6.008627598369042,
          6.071196948539662,
          5.733811854898745,
          6.178683976442018,
          5.589757974786651,
          5.192500086583524,
          6.027598375445869,
          5.81229888325988,
          5.254411959949522,
          6.440051802121605,
          6.1207614819248874,
          6.323002103775309,
          6.936313386685575,
          6.263246796831032,
          6.264872532132939,
          5.895588895305789,
          5.273323772891235,
          6.170298547042609,
          6.476338845849475,
          6.6796683834813155,
          6.4427429437875166,
          5.519303762759506,
          6.435440851930582,
          6.332236829695513,
          5.649718047832611,
          5.927076073632312,
          6.175906150235804,
          6.015921609453633,
          6.271252036839296,
          4.894431678078858,
          6.069029235566514,
          5.640606315042352,
          5.887423950084648,
          6.381165910575268,
          5.582214984345797,
          6.688762232691177,
          4.891431169615152,
          6.60704584614663,
          6.171507971804495,
          5.973610944948944,
          6.719045924136623,
          5.994094598223123,
          5.674591678015493,
          6.256608929003632,
          6.805758790711919,
          5.2740709113804805,
          6.381618508632304,
          6.07573857601234,
          5.452374942852639,
          6.024580854507382,
          5.56174655042083,
          5.639332134907185,
          6.226328632980845,
          6.215916522262205,
          5.856090901201645,
          6.4711060954932345,
          6.738743051462123,
          5.719897046119563,
          5.698090668906282,
          6.358370886068701,
          6.107819915801926,
          5.901922562465509,
          6.136665437303891,
          6.11801779118371,
          5.733615379577081,
          5.781634500028203,
          5.711534177737344,
          6.220876121657185,
          6.642630275183183,
          5.682143567567607,
          6.139661786709748,
          5.360568095042603,
          5.38830838766101,
          5.523520685796404,
          6.06294334601498,
          5.771498375650685,
          5.886359155087388,
          5.841113747853661,
          6.37610821400594,
          5.355145115852787,
          5.420393391253215,
          6.17926093383449,
          6.139967790018994,
          6.58048812044196,
          6.329799373823961,
          5.510215336718301,
          6.396137941262923,
          5.776128556828221,
          5.90745308115494,
          5.428870800444453,
          6.195791599410361,
          5.516070700398844,
          6.486921129635976,
          6.3171420545059425,
          5.106186087492571,
          5.995477929522529,
          6.141409170768716,
          6.3243136572718,
          6.016068346370091,
          5.461287122709715,
          4.699943421566832,
          6.005806329666355,
          6.505350199137851,
          6.482588744310342,
          5.559345435125657,
          5.794714110570073,
          5.248434947872967,
          5.812953930761447,
          5.8221095825703415,
          6.087313769993447,
          6.2465401725755365,
          6.859158477891233,
          6.9207959448752145,
          6.299254149794272,
          5.931406335246221,
          6.009834609302194,
          5.590905174436341,
          5.478203138047678,
          5.074634936052682,
          5.093184527000524,
          6.262359370522538,
          6.3857581951814275,
          6.19335375166262,
          5.944676656288074,
          6.152536854701601,
          5.162011464111933,
          6.181725978914428,
          6.978947865581047,
          5.881765705097518,
          5.9225468246781405,
          6.162235498778081,
          6.134545286509266,
          5.812667558513855,
          5.994529612037571,
          5.571987287384979,
          5.1381434323214,
          6.056237834129731,
          6.365566104698981,
          5.990945302768999,
          6.341628664999117,
          5.515676963706392,
          5.737648608250706,
          6.632959233235468,
          6.394178932645898,
          6.035636094609142,
          5.4562478705110244,
          5.591204629445362,
          5.795462606569044,
          6.481766252646297,
          6.020613571557117,
          6.43896480255398,
          5.520650870137283,
          5.97013139901098,
          5.209484103227082,
          6.332460819657306,
          6.4113094312244145,
          4.737114403990716,
          5.953434811200976,
          6.512534804670576,
          6.112602855158689,
          6.051313867632056,
          6.4198937836736345,
          6.039469998714183,
          5.405747917064027,
          5.251499341657198,
          6.059038629782985,
          6.519479328719516,
          5.821339917997472,
          5.68678168421457,
          5.353502700089382,
          6.647865666132746,
          5.418207922004895,
          5.706548330314299,
          5.645938319436164,
          6.167916885168592,
          5.388282056482748,
          5.666668079671166,
          5.539414011411787,
          5.723202845634022,
          6.72248275572207,
          5.409677370892862,
          5.715526657269611,
          6.134187838976927,
          5.931944442199843,
          5.338032374089159,
          6.030572948815556,
          5.47944081486326,
          6.584639654392238,
          6.615244132642077,
          5.112990312607999,
          5.156111837398808,
          6.526712297499708,
          6.408513723206413,
          6.71250815540292,
          6.130682383248753,
          6.130922830170416,
          6.208295882473514,
          6.125848263154217,
          5.819147213208974,
          5.9702986063671375,
          5.717182563909855,
          6.506774939620211,
          6.28885456712991,
          5.1889656131091355,
          5.479897755236444,
          5.888389040767437,
          7.219259953108263,
          5.127557033744613,
          6.826475828416815,
          6.203713004571119,
          5.28038742366415,
          5.078483918831286,
          5.913333247028068,
          6.026695282755879,
          6.114798333066566,
          6.913543266722817,
          5.6930076717355345,
          6.20367194341639,
          4.773511491591286,
          6.027530683766173,
          6.30843250569351,
          6.680837407191143,
          6.157469389350365,
          7.389584083285074,
          5.7370590379650475,
          6.115906552092331,
          5.843030179205151,
          6.527009532108181,
          4.907868772956628,
          5.458862052111974,
          6.225611997495085,
          5.897245707754741,
          6.430093858006183,
          5.246932399748231,
          6.615468618406627,
          5.807955174505378,
          5.7856559651729915,
          5.677830693181024,
          6.850342854992594,
          6.580014729712506,
          6.149320565477617,
          5.737478958398227,
          6.653842537833997,
          5.930966228737569,
          7.0943164419710705,
          5.539220923621066,
          5.283752593880351,
          6.521353010685354,
          5.72367814816909,
          5.636539470885477,
          6.056406950596997,
          5.455962242244826,
          5.803165059424812,
          6.1769273588343925,
          6.382558003174874,
          6.361977324152848,
          5.472243954361836,
          6.1083465821762255,
          5.092800620792003,
          6.528683706485187,
          6.2322282121743156,
          6.079369279268596,
          6.8178653198083214,
          5.574887687976394,
          6.0238146199142815,
          5.442601192618948,
          5.249911116828355,
          6.709163053937763,
          6.418584342093261,
          5.046581929218063,
          6.153535905058715,
          5.897724785785836,
          5.956115672935945,
          5.549536221772007,
          5.398242816912033,
          6.081812790216536,
          5.506744317734414,
          5.634242896015483,
          5.942619841384292,
          5.967904976394897,
          6.746910717499298,
          5.481588094289016,
          6.359109433781546,
          4.957285361897075,
          5.814732120696998,
          6.02728205721046,
          6.019896986398778,
          5.842730873841162,
          6.229952079401163,
          5.271023346730183,
          5.498847857471356,
          6.26452830421926,
          6.2728791983,
          6.240616233757311,
          5.79340700494894,
          6.462564674993412,
          5.8513115577741255,
          5.6626738231451,
          5.57574209991863,
          6.23350162918386,
          6.7548853003845135,
          5.787539276443572,
          5.121319493785924,
          6.7271119667835,
          6.296468938346177,
          5.823921305843106,
          6.075484620969105,
          5.55121064566082,
          6.017928201580409,
          5.932549486887471,
          6.382167306193017,
          5.932125859619617,
          5.9541283191725825,
          6.042937180683912,
          5.331351788390122,
          6.124347590504689,
          5.921798011635368,
          6.1760298197472405,
          6.04166668558136,
          6.3241677872974815,
          5.8243240008648804,
          5.7657913085156425,
          5.7469269785930654,
          6.746198647011531,
          6.188699864866817,
          6.058909280324377,
          5.767927307315447,
          7.070468952135704,
          6.4404414419870415,
          6.105594280059086,
          7.0471125349965815,
          6.753371072461794,
          5.739596957228777,
          5.3008674657132495,
          6.01557428917754,
          6.216391945809744,
          5.691822928437253,
          6.749841720719273,
          6.204359911220079,
          6.232887897503552,
          5.605662077275255,
          6.743563287241096,
          5.878572564265684,
          5.4087025232080785,
          5.012949260160978,
          5.207518187086151,
          5.735510500226557,
          7.0539431674050475,
          5.457122725955403,
          6.218185664790165,
          5.6924327281566,
          5.810357286367219,
          6.244035617554516,
          5.592194816294045,
          5.787619188129946,
          6.060688785673905,
          6.231611047887051,
          6.150832140597085,
          5.6891409459543825,
          6.7409375052636245,
          6.918310507203528,
          5.7670251798882175,
          6.487728261592428,
          6.377563794933836,
          5.813542556439504,
          5.788924198802471,
          5.70848036186272,
          6.850932643752771,
          6.099620114368025,
          6.934747046352304,
          6.886815861084036,
          5.4638278512930585,
          5.940749408013331,
          6.241379064272018,
          6.167304988388329,
          5.923019489285094,
          5.333381783427238,
          6.929137817937751,
          5.197640164323754,
          5.815526259611552,
          6.224005100398079,
          5.053477347955116,
          6.927448934706506,
          5.529991354340175,
          6.401527677773385,
          6.10887121077628,
          6.569659487944569,
          6.006752448218731,
          6.171471620910868,
          5.5594606551670065,
          5.685344881129818,
          5.763801734505975,
          5.660403969744028,
          6.625603928028593,
          5.691188451973382,
          5.697114603931029,
          6.6248214077659755,
          6.394392247067755,
          5.57439208235377,
          6.409639840337376,
          5.331900545664482,
          5.241170211227672,
          6.836322923074825,
          6.868829276158538,
          5.41394879514604,
          6.5499194469717255,
          6.045946836514428,
          6.650175987749851,
          6.735682304198444,
          6.401329820240164,
          6.190669993690839,
          5.668187202932624,
          5.728620102259895,
          5.761794810907673,
          6.087214765633263,
          5.819928961736654,
          6.0835268494809736,
          6.7595358234446,
          5.157347928212169,
          6.463906116994863,
          5.910067415847258,
          6.171891959124901,
          5.406615826637413,
          5.776403023768905,
          6.4895137195658155,
          5.662805949051307,
          6.301973026308192,
          6.036552398291508,
          5.761566714238135,
          6.255543792174195,
          6.22527194503133,
          5.7787498243163276,
          4.99244204284783,
          5.953360980125805,
          6.113480668314389,
          6.048440366951861,
          5.213918927263936,
          6.378873780276099,
          6.377786534472923,
          5.5263320236437465,
          6.249890029862122,
          6.719473204124154,
          5.613200533502207,
          6.669079806109308,
          5.817203294533351,
          5.817140541044171,
          6.007523922138432,
          6.691983617809596,
          6.327323818427431
         ],
         "xaxis": "x4",
         "xbins": {
          "end": 10,
          "start": 0
         },
         "yaxis": "y4"
        }
       ],
       "layout": {
        "height": 300,
        "template": {
         "data": {
          "bar": [
           {
            "error_x": {
             "color": "#2a3f5f"
            },
            "error_y": {
             "color": "#2a3f5f"
            },
            "marker": {
             "line": {
              "color": "#E5ECF6",
              "width": 0.5
             },
             "pattern": {
              "fillmode": "overlay",
              "size": 10,
              "solidity": 0.2
             }
            },
            "type": "bar"
           }
          ],
          "barpolar": [
           {
            "marker": {
             "line": {
              "color": "#E5ECF6",
              "width": 0.5
             },
             "pattern": {
              "fillmode": "overlay",
              "size": 10,
              "solidity": 0.2
             }
            },
            "type": "barpolar"
           }
          ],
          "carpet": [
           {
            "aaxis": {
             "endlinecolor": "#2a3f5f",
             "gridcolor": "white",
             "linecolor": "white",
             "minorgridcolor": "white",
             "startlinecolor": "#2a3f5f"
            },
            "baxis": {
             "endlinecolor": "#2a3f5f",
             "gridcolor": "white",
             "linecolor": "white",
             "minorgridcolor": "white",
             "startlinecolor": "#2a3f5f"
            },
            "type": "carpet"
           }
          ],
          "choropleth": [
           {
            "colorbar": {
             "outlinewidth": 0,
             "ticks": ""
            },
            "type": "choropleth"
           }
          ],
          "contour": [
           {
            "colorbar": {
             "outlinewidth": 0,
             "ticks": ""
            },
            "colorscale": [
             [
              0,
              "#0d0887"
             ],
             [
              0.1111111111111111,
              "#46039f"
             ],
             [
              0.2222222222222222,
              "#7201a8"
             ],
             [
              0.3333333333333333,
              "#9c179e"
             ],
             [
              0.4444444444444444,
              "#bd3786"
             ],
             [
              0.5555555555555556,
              "#d8576b"
             ],
             [
              0.6666666666666666,
              "#ed7953"
             ],
             [
              0.7777777777777778,
              "#fb9f3a"
             ],
             [
              0.8888888888888888,
              "#fdca26"
             ],
             [
              1,
              "#f0f921"
             ]
            ],
            "type": "contour"
           }
          ],
          "contourcarpet": [
           {
            "colorbar": {
             "outlinewidth": 0,
             "ticks": ""
            },
            "type": "contourcarpet"
           }
          ],
          "heatmap": [
           {
            "colorbar": {
             "outlinewidth": 0,
             "ticks": ""
            },
            "colorscale": [
             [
              0,
              "#0d0887"
             ],
             [
              0.1111111111111111,
              "#46039f"
             ],
             [
              0.2222222222222222,
              "#7201a8"
             ],
             [
              0.3333333333333333,
              "#9c179e"
             ],
             [
              0.4444444444444444,
              "#bd3786"
             ],
             [
              0.5555555555555556,
              "#d8576b"
             ],
             [
              0.6666666666666666,
              "#ed7953"
             ],
             [
              0.7777777777777778,
              "#fb9f3a"
             ],
             [
              0.8888888888888888,
              "#fdca26"
             ],
             [
              1,
              "#f0f921"
             ]
            ],
            "type": "heatmap"
           }
          ],
          "heatmapgl": [
           {
            "colorbar": {
             "outlinewidth": 0,
             "ticks": ""
            },
            "colorscale": [
             [
              0,
              "#0d0887"
             ],
             [
              0.1111111111111111,
              "#46039f"
             ],
             [
              0.2222222222222222,
              "#7201a8"
             ],
             [
              0.3333333333333333,
              "#9c179e"
             ],
             [
              0.4444444444444444,
              "#bd3786"
             ],
             [
              0.5555555555555556,
              "#d8576b"
             ],
             [
              0.6666666666666666,
              "#ed7953"
             ],
             [
              0.7777777777777778,
              "#fb9f3a"
             ],
             [
              0.8888888888888888,
              "#fdca26"
             ],
             [
              1,
              "#f0f921"
             ]
            ],
            "type": "heatmapgl"
           }
          ],
          "histogram": [
           {
            "marker": {
             "pattern": {
              "fillmode": "overlay",
              "size": 10,
              "solidity": 0.2
             }
            },
            "type": "histogram"
           }
          ],
          "histogram2d": [
           {
            "colorbar": {
             "outlinewidth": 0,
             "ticks": ""
            },
            "colorscale": [
             [
              0,
              "#0d0887"
             ],
             [
              0.1111111111111111,
              "#46039f"
             ],
             [
              0.2222222222222222,
              "#7201a8"
             ],
             [
              0.3333333333333333,
              "#9c179e"
             ],
             [
              0.4444444444444444,
              "#bd3786"
             ],
             [
              0.5555555555555556,
              "#d8576b"
             ],
             [
              0.6666666666666666,
              "#ed7953"
             ],
             [
              0.7777777777777778,
              "#fb9f3a"
             ],
             [
              0.8888888888888888,
              "#fdca26"
             ],
             [
              1,
              "#f0f921"
             ]
            ],
            "type": "histogram2d"
           }
          ],
          "histogram2dcontour": [
           {
            "colorbar": {
             "outlinewidth": 0,
             "ticks": ""
            },
            "colorscale": [
             [
              0,
              "#0d0887"
             ],
             [
              0.1111111111111111,
              "#46039f"
             ],
             [
              0.2222222222222222,
              "#7201a8"
             ],
             [
              0.3333333333333333,
              "#9c179e"
             ],
             [
              0.4444444444444444,
              "#bd3786"
             ],
             [
              0.5555555555555556,
              "#d8576b"
             ],
             [
              0.6666666666666666,
              "#ed7953"
             ],
             [
              0.7777777777777778,
              "#fb9f3a"
             ],
             [
              0.8888888888888888,
              "#fdca26"
             ],
             [
              1,
              "#f0f921"
             ]
            ],
            "type": "histogram2dcontour"
           }
          ],
          "mesh3d": [
           {
            "colorbar": {
             "outlinewidth": 0,
             "ticks": ""
            },
            "type": "mesh3d"
           }
          ],
          "parcoords": [
           {
            "line": {
             "colorbar": {
              "outlinewidth": 0,
              "ticks": ""
             }
            },
            "type": "parcoords"
           }
          ],
          "pie": [
           {
            "automargin": true,
            "type": "pie"
           }
          ],
          "scatter": [
           {
            "fillpattern": {
             "fillmode": "overlay",
             "size": 10,
             "solidity": 0.2
            },
            "type": "scatter"
           }
          ],
          "scatter3d": [
           {
            "line": {
             "colorbar": {
              "outlinewidth": 0,
              "ticks": ""
             }
            },
            "marker": {
             "colorbar": {
              "outlinewidth": 0,
              "ticks": ""
             }
            },
            "type": "scatter3d"
           }
          ],
          "scattercarpet": [
           {
            "marker": {
             "colorbar": {
              "outlinewidth": 0,
              "ticks": ""
             }
            },
            "type": "scattercarpet"
           }
          ],
          "scattergeo": [
           {
            "marker": {
             "colorbar": {
              "outlinewidth": 0,
              "ticks": ""
             }
            },
            "type": "scattergeo"
           }
          ],
          "scattergl": [
           {
            "marker": {
             "colorbar": {
              "outlinewidth": 0,
              "ticks": ""
             }
            },
            "type": "scattergl"
           }
          ],
          "scattermapbox": [
           {
            "marker": {
             "colorbar": {
              "outlinewidth": 0,
              "ticks": ""
             }
            },
            "type": "scattermapbox"
           }
          ],
          "scatterpolar": [
           {
            "marker": {
             "colorbar": {
              "outlinewidth": 0,
              "ticks": ""
             }
            },
            "type": "scatterpolar"
           }
          ],
          "scatterpolargl": [
           {
            "marker": {
             "colorbar": {
              "outlinewidth": 0,
              "ticks": ""
             }
            },
            "type": "scatterpolargl"
           }
          ],
          "scatterternary": [
           {
            "marker": {
             "colorbar": {
              "outlinewidth": 0,
              "ticks": ""
             }
            },
            "type": "scatterternary"
           }
          ],
          "surface": [
           {
            "colorbar": {
             "outlinewidth": 0,
             "ticks": ""
            },
            "colorscale": [
             [
              0,
              "#0d0887"
             ],
             [
              0.1111111111111111,
              "#46039f"
             ],
             [
              0.2222222222222222,
              "#7201a8"
             ],
             [
              0.3333333333333333,
              "#9c179e"
             ],
             [
              0.4444444444444444,
              "#bd3786"
             ],
             [
              0.5555555555555556,
              "#d8576b"
             ],
             [
              0.6666666666666666,
              "#ed7953"
             ],
             [
              0.7777777777777778,
              "#fb9f3a"
             ],
             [
              0.8888888888888888,
              "#fdca26"
             ],
             [
              1,
              "#f0f921"
             ]
            ],
            "type": "surface"
           }
          ],
          "table": [
           {
            "cells": {
             "fill": {
              "color": "#EBF0F8"
             },
             "line": {
              "color": "white"
             }
            },
            "header": {
             "fill": {
              "color": "#C8D4E3"
             },
             "line": {
              "color": "white"
             }
            },
            "type": "table"
           }
          ]
         },
         "layout": {
          "annotationdefaults": {
           "arrowcolor": "#2a3f5f",
           "arrowhead": 0,
           "arrowwidth": 1
          },
          "autotypenumbers": "strict",
          "coloraxis": {
           "colorbar": {
            "outlinewidth": 0,
            "ticks": ""
           }
          },
          "colorscale": {
           "diverging": [
            [
             0,
             "#8e0152"
            ],
            [
             0.1,
             "#c51b7d"
            ],
            [
             0.2,
             "#de77ae"
            ],
            [
             0.3,
             "#f1b6da"
            ],
            [
             0.4,
             "#fde0ef"
            ],
            [
             0.5,
             "#f7f7f7"
            ],
            [
             0.6,
             "#e6f5d0"
            ],
            [
             0.7,
             "#b8e186"
            ],
            [
             0.8,
             "#7fbc41"
            ],
            [
             0.9,
             "#4d9221"
            ],
            [
             1,
             "#276419"
            ]
           ],
           "sequential": [
            [
             0,
             "#0d0887"
            ],
            [
             0.1111111111111111,
             "#46039f"
            ],
            [
             0.2222222222222222,
             "#7201a8"
            ],
            [
             0.3333333333333333,
             "#9c179e"
            ],
            [
             0.4444444444444444,
             "#bd3786"
            ],
            [
             0.5555555555555556,
             "#d8576b"
            ],
            [
             0.6666666666666666,
             "#ed7953"
            ],
            [
             0.7777777777777778,
             "#fb9f3a"
            ],
            [
             0.8888888888888888,
             "#fdca26"
            ],
            [
             1,
             "#f0f921"
            ]
           ],
           "sequentialminus": [
            [
             0,
             "#0d0887"
            ],
            [
             0.1111111111111111,
             "#46039f"
            ],
            [
             0.2222222222222222,
             "#7201a8"
            ],
            [
             0.3333333333333333,
             "#9c179e"
            ],
            [
             0.4444444444444444,
             "#bd3786"
            ],
            [
             0.5555555555555556,
             "#d8576b"
            ],
            [
             0.6666666666666666,
             "#ed7953"
            ],
            [
             0.7777777777777778,
             "#fb9f3a"
            ],
            [
             0.8888888888888888,
             "#fdca26"
            ],
            [
             1,
             "#f0f921"
            ]
           ]
          },
          "colorway": [
           "#636efa",
           "#EF553B",
           "#00cc96",
           "#ab63fa",
           "#FFA15A",
           "#19d3f3",
           "#FF6692",
           "#B6E880",
           "#FF97FF",
           "#FECB52"
          ],
          "font": {
           "color": "#2a3f5f"
          },
          "geo": {
           "bgcolor": "white",
           "lakecolor": "white",
           "landcolor": "#E5ECF6",
           "showlakes": true,
           "showland": true,
           "subunitcolor": "white"
          },
          "hoverlabel": {
           "align": "left"
          },
          "hovermode": "closest",
          "mapbox": {
           "style": "light"
          },
          "paper_bgcolor": "white",
          "plot_bgcolor": "#E5ECF6",
          "polar": {
           "angularaxis": {
            "gridcolor": "white",
            "linecolor": "white",
            "ticks": ""
           },
           "bgcolor": "#E5ECF6",
           "radialaxis": {
            "gridcolor": "white",
            "linecolor": "white",
            "ticks": ""
           }
          },
          "scene": {
           "xaxis": {
            "backgroundcolor": "#E5ECF6",
            "gridcolor": "white",
            "gridwidth": 2,
            "linecolor": "white",
            "showbackground": true,
            "ticks": "",
            "zerolinecolor": "white"
           },
           "yaxis": {
            "backgroundcolor": "#E5ECF6",
            "gridcolor": "white",
            "gridwidth": 2,
            "linecolor": "white",
            "showbackground": true,
            "ticks": "",
            "zerolinecolor": "white"
           },
           "zaxis": {
            "backgroundcolor": "#E5ECF6",
            "gridcolor": "white",
            "gridwidth": 2,
            "linecolor": "white",
            "showbackground": true,
            "ticks": "",
            "zerolinecolor": "white"
           }
          },
          "shapedefaults": {
           "line": {
            "color": "#2a3f5f"
           }
          },
          "ternary": {
           "aaxis": {
            "gridcolor": "white",
            "linecolor": "white",
            "ticks": ""
           },
           "baxis": {
            "gridcolor": "white",
            "linecolor": "white",
            "ticks": ""
           },
           "bgcolor": "#E5ECF6",
           "caxis": {
            "gridcolor": "white",
            "linecolor": "white",
            "ticks": ""
           }
          },
          "title": {
           "x": 0.05
          },
          "xaxis": {
           "automargin": true,
           "gridcolor": "white",
           "linecolor": "white",
           "ticks": "",
           "title": {
            "standoff": 15
           },
           "zerolinecolor": "white",
           "zerolinewidth": 2
          },
          "yaxis": {
           "automargin": true,
           "gridcolor": "white",
           "linecolor": "white",
           "ticks": "",
           "title": {
            "standoff": 15
           },
           "zerolinecolor": "white",
           "zerolinewidth": 2
          }
         }
        },
        "title": {
         "text": "Row of Histograms"
        },
        "width": 750,
        "xaxis": {
         "anchor": "y",
         "domain": [
          0,
          0.2125
         ],
         "range": [
          -0.5,
          10.5
         ],
         "title": {
          "text": "A"
         }
        },
        "xaxis2": {
         "anchor": "y2",
         "domain": [
          0.2625,
          0.475
         ],
         "range": [
          -0.5,
          10.5
         ],
         "title": {
          "text": "B"
         }
        },
        "xaxis3": {
         "anchor": "y3",
         "domain": [
          0.525,
          0.7375
         ],
         "range": [
          -0.5,
          10.5
         ],
         "title": {
          "text": "C"
         }
        },
        "xaxis4": {
         "anchor": "y4",
         "domain": [
          0.7875,
          1
         ],
         "range": [
          -0.5,
          10.5
         ],
         "title": {
          "text": "D"
         }
        },
        "yaxis": {
         "anchor": "x",
         "domain": [
          0,
          1
         ]
        },
        "yaxis2": {
         "anchor": "x2",
         "domain": [
          0,
          1
         ]
        },
        "yaxis3": {
         "anchor": "x3",
         "domain": [
          0,
          1
         ]
        },
        "yaxis4": {
         "anchor": "x4",
         "domain": [
          0,
          1
         ]
        }
       }
      },
      "text/html": [
       "<div>                            <div id=\"a69891fe-6b74-435a-9305-92eaffa48cb0\" class=\"plotly-graph-div\" style=\"height:300px; width:750px;\"></div>            <script type=\"text/javascript\">                require([\"plotly\"], function(Plotly) {                    window.PLOTLYENV=window.PLOTLYENV || {};                                    if (document.getElementById(\"a69891fe-6b74-435a-9305-92eaffa48cb0\")) {                    Plotly.newPlot(                        \"a69891fe-6b74-435a-9305-92eaffa48cb0\",                        [{\"marker\":{\"line\":{\"color\":\"black\",\"width\":1}},\"name\":\"A\",\"nbinsx\":30,\"x\":[1.7480091679869991,4.869532079634547,6.983115956276381,4.389666091071361,8.65409985684471,2.8546294601693454,6.070142787337119,8.827010022690224,2.7943398395084795,8.193836120161023,4.392908138919955,2.2017910268740435,5.943845237478645,6.712604892396295,2.0031890868375815,4.906405208486392,5.381885472955217,7.97654058772004,4.733810710453308,0.9878580452882069,7.144841725203969,1.4995598675183053,3.6747266009495796,4.31648921519006,2.073482879541598,5.709653673739109,9.13668441304354,8.876166978641548,8.990322253986744,4.07331344247863,9.648987970426262,0.9782908163828452,7.8370971213148435,6.776422949236768,7.887417741569635,6.348908468688999,4.2532826261236565,1.788021704788867,0.012490554633365347,3.0242249675083044,2.0026619018077607,2.5344417021289978,2.6813738936901,4.401278691531919,1.3326730640505091,6.484882865462065,7.597111762423413,5.495825561200785,5.916925070652212,8.128954444247874,5.462358534584434,7.343374800375998,1.1924485221891934,3.0549801775997354,3.162027875401403,2.6455295153007077,2.3016631596523265,5.542177299697988,1.9343102416261593,7.932720388010281,0.10252198970770121,6.134664992219786,1.6702150214783074,6.9619294377663445,8.195579938822979,6.861477312471271,9.048819451059352,5.183176956204052,9.045590267389974,2.0405607978464957,2.265086110059652,4.268863104055266,9.600383004620053,7.030556036211259,4.500441894609946,6.316589566423852,3.828924096587559,9.980139138620183,7.853905867204429,8.664139341100816,9.553759168215851,3.5765081101138363,2.220894221512373,8.557465261159571,8.026263239350989,3.8392159325343256,6.82192716859184,9.058455483164977,6.323563730804671,8.565181695058598,7.054387474352406,5.660042610809805,6.920789974639651,3.3250732965189678,1.574110761115084,2.2091354019559173,4.950222057323611,2.13276456277113,5.849269229676048,5.798745921358416,5.943196940136417,3.900550514893273,4.184090315075405,6.545480492964193,5.7557251668145435,6.90519959968894,2.7527102995233497,8.727243963550485,1.591819301687486,9.34538810819297,8.595807407211352,2.963548369794482,2.9431725480312885,5.773423578755445,4.669487418665845,6.895982937619488,3.7939426913707344,1.2121901099409482,0.33643548932130396,0.25625994174004574,1.5172812183481066,8.575937343642064,7.688482363846042,7.175873217742346,1.2020621751897997,6.65887183846184,3.5731591503792215,2.2661890608125668,2.1451188775900096,6.544667477567472,2.05794482507439,8.427487983883081,5.005261597891732,6.666408778374428,7.147551335557103,9.924158971390312,6.854585864314959,2.451620012453901,0.8241244433992889,0.24267684938192757,9.06322832142301,9.846499534895015,3.8840171692241343,6.399484517164979,0.6035045434980557,9.86402477681162,1.5079277148392523,0.23856891295979343,1.1768287513325293,9.082398444550481,2.0941638527323594,3.8909599968042374,6.262487410111754,7.308607323927358,2.2276364605321275,9.346658391783699,4.949635684453149,0.294946713633808,7.86308756541819,8.532130713834126,2.420834364821226,5.415130587293769,1.0815811910182949,1.9375881290307528,0.5166628546472318,7.212653356318918,9.628569491813115,2.4030289943363883,1.4463707387227087,7.063917424804344,4.889664565563805,6.359381261419987,2.1135154413809087,5.736055390657805,6.031041664799702,6.428164398659254,8.341992260544796,4.783076492646093,7.165777930259725,9.000692146615561,7.346170436941623,9.567172016675627,1.6728256000506092,8.302130894934137,7.071370445874216,4.1678335007407,8.380825601308532,4.2945564785143056,6.371955518033122,9.396989614703905,5.0461257102026424,8.556333912842346,5.559174073251597,6.71495584258187,3.0612615929370457,8.497881168195109,1.5015781900673875,0.8017159946728125,0.09434302494523705,7.01126576055641,9.413887392232152,0.4337895378497181,6.336524955784641,8.242323765967054,2.0158010902678205,6.381206591620348,7.343888955306884,7.436832181190555,8.290665271984574,7.171433886215118,4.408220042578631,1.7969285091783493,3.5007504924373856,5.2997202612860415,0.46416453554779635,3.7574259029834156,8.845066454797667,3.017549084383435,7.236270193356144,4.349633280692643,1.8940059940935339,3.6432749170224787,1.6337688105040438,2.275307198255543,1.3950888899315084,8.061007284805985,3.335373716723921,8.534620912540369,1.0439511218058173,2.414930664613099,0.998422938968826,6.808683915434339,3.115431833784715,6.749303834721857,9.95324676669598,6.740414855790179,9.871407119932755,3.474192600707504,8.843176539272148,7.939144879197013,7.252406526319099,6.732024812065785,6.531491757165789,2.8796421864747157,9.174873948293193,8.307340206401834,0.10858449840218554,8.902136930573105,0.9556087186120221,9.959030316353992,5.8567711612450175,9.070139123637192,7.852568428515233,3.7660998828988945,0.8868240073152245,3.993667644471964,0.927460006943096,4.300188815037009,4.062934509210797,5.2910801767561715,9.010168986777163,1.670289427720888,1.2760854282508372,2.726998107179149,1.100992106541041,0.6494914455605172,4.4232346001948875,2.470243272205337,2.3954502521369747,4.524785215802876,0.6348106338107329,1.621175042844768,0.259800839736406,1.9592610211931372,7.90764394327347,3.2781475443204258,8.93954327192344,0.6895166402050779,7.643078115972322,0.9743614804324785,2.256097500713893,7.282778468095686,4.633802777238493,4.7964906011414135,1.5950410727456754,1.9646942845851156,3.0048426823522147,7.85242330321832,5.091955704276688,0.3404044155414854,1.5279378840684288,0.7766201855871269,2.6116173002919982,4.9551514963204015,7.3842128403328875,6.777332525188928,2.7015580524094354,1.2505766372462535,2.4114258221769678,2.828670582928743,4.760888894049032,7.050342074001579,4.065563281048119,4.835049318173684,2.8619778163320198,2.354813571699197,7.798304668055438,6.160760412258037,0.3243563103620484,8.83580737671523,0.409323478235214,5.6272878155017665,5.0665639647975516,6.812433091327571,0.44603581797267866,3.225951075246105,2.7760025257150147,8.584034916555296,3.2966394990287027,6.525723750310201,4.613844788439007,0.05357771853955251,5.347629318281763,7.71801896467105,7.511403146631564,0.15140984320764717,6.762771377375864,6.673709777609263,2.259897601247036,0.5696089669131044,6.846090852318659,6.296412422719405,4.5488914375992815,9.907455511840501,9.298118858062075,5.933547101078296,2.015218263371316,5.382355382009726,8.369022153150658,8.98187097118558,6.270632719117154,4.489184050054859,4.8384726342663145,8.908421144186224,4.298882237797628,0.8354523577199069,7.6773563366660085,0.25585361345772273,3.9500296085743503,0.3610279447535103,9.798506204107618,6.44317819737961,6.778838281563142,7.881013905422992,2.642451494255047,0.3887499485870216,2.6332114487207035,1.0212415611154013,5.411163248478066,9.345945939199302,9.332109330577063,0.3287567585579909,2.7506424154802387,2.115257294452878,4.406201820628367,1.4645267235958048,6.652195012324517,7.361393498534255,6.7781273682159835,1.4885827366416338,3.802705609068199,2.5158415020557943,6.94625333921897,3.6000751400986286,5.857947975689404,9.906000963069362,1.0733299261784035,0.10795852510529613,5.398286442004135,0.09612575350068098,4.205470430569927,5.117235898969197,0.33273556323747844,4.864772138620593,1.7488374655346406,3.6450395771524513,0.625969011183487,7.845182526266666,4.061027615770623,9.140007614760313,0.1281759268595717,6.738024050666681,2.207528889620188,5.8894554432549135,2.302110230337666,0.2042939968434454,2.404971500350891,2.8136280820924684,3.583096456166909,6.225514996334745,7.704277838614521,7.400778456038891,8.130789481827543,2.4095350766443433,8.732266634303853,8.607391607094957,0.08563345710420167,5.3078653536981255,3.5988490811033524,2.5631752847517566,2.076801046531923,3.5091685564309847,3.129785134128954,4.0064556092151715,7.278965938265175,3.2916468638685235,0.4064234505871722,3.7267919770139004,0.2496003778773659,8.915752341093246,3.816858654674633,6.1491441033045025,5.27791397313056,6.006973683746192,4.778121878396279,5.727772964560057,6.919270899957912,6.553825391956037,1.341182505236388,7.450421785317481,5.5066278634460115,5.8757220572566515,6.398684299636117,3.61786294686977,7.122317018606598,9.646277950279043,8.048173357287308,3.918937569207126,6.323040664424656,2.797677271629422,5.0430835056757575,4.305123345599907,0.43190530510998415,7.665450083176333,1.6351312630905568,6.8846800477712575,1.7991272243726408,9.459486693874261,7.038194384346895,1.5703616558895728,7.004369579953222,4.708862175888406,6.970806425559024,6.2935348713123584,4.250820075642391,5.929068621257284,6.8291832291137435,6.3645593084541545,3.8290412894296857,5.743781702674786,6.132586441337786,1.7081682552553434,3.347906450945205,4.351677384922441,3.742094741944441,9.666869119004257,7.702118799780294,6.702882888281208,2.5884727682950737,7.466996365582713,0.0829534013101485,6.321908841313589,9.225418996109822,3.1874999825233683,6.0599884032592986,1.2897449086390056,9.407252092363512,9.20353919906886,8.24305558424814,4.972622904740835,5.884407498151557,8.48094427197641,2.4108294752446957,4.9766121314355445,1.2276603158581434,1.5017142652987625,2.855582939463358,6.683348619365095,8.592540527074696,7.39891444158552,5.213248062597363,8.441054780757485,1.3590065782860317,9.83580192187443,5.322327696233616,0.3766270201052946,2.302156462316194,8.535063917451138,6.646279899728257,6.144236347443524,8.593931946118072,6.35670996909024,5.968564247223885,4.095020622234083,8.020569643821183,5.035688744462906,6.029216149188624,6.690318544949388,5.252555862445648,9.834328499672944,0.3968366744835006,0.3010955335533594,9.289672513849592,5.563799063428107,7.820253990228107,0.000853397832739633,7.809541780321515,2.730548723191877,5.2782536731348,5.110348486063762,4.415164936820232,9.230541381049317,0.7388807985328472,0.34882178353548343,7.58271837518747,5.697335724036375,4.8205012303661645,6.565920646760982,5.880456818701862,9.153936911897896,2.0182022565041424,8.363300809957801,7.734012535547722,1.6053501846477336,6.231317281952391,5.494884941128845,9.272398030786501,7.04332752560061,9.51125054373837,1.0453047264157167,7.243329290696364,5.461111627568344,8.285159682241023,4.307748619662986,4.613109292327744,3.410644257371197,0.70687963060864,8.625978299279549,6.181544506077451,1.4806520793947142,1.8747628038182496,8.024626042190766,8.87716419234302,8.725618782118023,6.796872021311247,3.062379373378273,9.009258720339705,4.730398876438411,8.381520142205924,6.851628019608025,1.0770370687098485,5.963687989620618,2.7482457005626895,7.899617840746734,4.314537494165438,7.826192130122573,1.9513132832113367,4.910864670832779,1.4958514776620768,3.612636023246009,9.745215936519815,5.7594238249242995,3.0541217740112367,9.28171299871446,4.790894914923741,5.032902723236297,6.529403506352547,9.853408211089196,4.3088531669312005,4.461060735447637,5.146809586836455,9.214075206870815,3.3245860350947973,0.6455255623609968,1.7858001926985112,6.003232794126038,8.13413732846965,3.0583934468928042,9.144896021478177,3.9056134284580333,9.656763103217605,6.38734583821254,7.516650341192949,9.21178812372647,8.424703799222398,1.7439098248441942,1.0066875587260493,5.0979516577183155,9.208998788777267,1.0388475324487645,0.4294202684921178,8.24429723391085,5.090144277001576,4.583870943839543,5.1385906653602245,8.15577877512144,9.495671960935562,1.5092877737236499,0.5786043482716619,7.794849022550667,9.491816200340725,5.301999754426868,5.874258066655452,1.8039676366939528,3.3930168751897973,4.564035195909028,7.386677392263792,3.7891401349889353,8.19790696726491,2.8951634317232857,2.1050845247501906,8.56290121500985,6.954453787309412,9.641297497513522,0.7145428364517692,7.112616908342435,2.9989927609889566,0.15012661641236824,5.6607714741805495,7.106193166301682,7.717047224742468,8.280894124450008,4.4690059419853645,6.137428823637476,8.381404663427707,9.282949712559837,6.624885581141635,3.778694950144734,0.7695458647183973,8.846902569159496,2.23735377849829,5.825096289321503,5.757566181497028,0.35595672676048906,5.787350960664476,1.0393017821982509,9.635961782552895,1.0489079816356595,1.7044238711524917,5.728341203790693,5.461526786733333,3.029565746622681,0.5238370169627382,5.948372439707605,6.113075635851723,3.1533904135144986,9.554504369286548,6.359537020299685,9.573541520751908,7.040236698829809,6.164517094401961,6.641838903990923,1.8311348247815784,8.847996527986773,4.839000392188108,5.523463365163066,3.1406784829970444,9.469712007737412,7.708506163833615,5.582076094350476,8.303681218954145,8.022243509515635,9.519509054867411,3.2711890251536255,3.2743332855370078,1.1665067789345718,4.930422307273448,4.459361847126878,6.400433591305789,0.5898724053420135,2.242733412111708,7.577005846145381,2.5403516698890916,2.0764351434343054,9.124076774556247,0.6020290569858788,3.117593643724421,8.126164127856706,0.19901128926722578,3.6598715710689644,2.9359747405654133,4.649458746539752,7.697466661996525,8.26958993096713,8.142906107315659,1.9326466178292867,9.92045143781215,2.632367257995379,7.0137488217344135,3.2917897082530603,6.112642881141305,0.8135784738003038,7.2210057765419,8.800959932801874,1.6145549643216428,3.426040105164543,7.35064153410948,3.681151068247157,7.700122182888802,0.34843798200910436,3.5150041472691718,2.4548378534775352,8.963230604696264,6.792462256884628,3.558156132216607,3.5748515846356232,9.403276994517016,4.7845326181305765,5.75171701977962,3.6148487220393264,4.2524126432684675,6.877713485087802,4.103502576010572,7.695051901164591,8.842664242525228,1.0102248994817375,6.261684868548594,2.1079466862032827,4.585155564532118,5.101527382140308,8.829685870033444,3.5127977177867207,5.061583255474017,1.2896668989891025,5.848588256567203,6.607765173750678,6.902309290035308,7.858988811283311,0.34914363273167104,3.79762369936667,9.067649760576872,8.651486433294531,6.027968349812445,0.5376619977808983,1.0394126562095085,1.69657600725867,7.676394341413958,3.71384002293369,2.3141969656073913,4.897327377234683,2.342901777480335,0.6506264419128549,5.709152512937827,6.349822486871486,2.681433905685553,4.8965907015842,9.466325736372378,2.8538740461239707,1.0100148486034344,7.928404776220782,5.5571147813535395,6.58849968432172,5.338222257333738,6.206811950649309,8.10630452880593,7.484727917673517,4.824016096662963,6.212185595875327,1.9256189616096064,8.528181929631002,8.137732200218501,4.008593192472912,6.512260542173944,7.478821675473265,4.239636876038254,3.0281584147409335,3.17724430700507,2.7821330271470934,5.654361888913479,6.642392151750296,4.7333837143147575,2.309367082991185,3.933568130844758,2.4025685284440534,6.810262489817842,2.104000277607593,6.281588819047074,0.6792721052555406,0.5454584951404251,1.9877731077472494,5.2674052320470945,6.965688421794205,7.592729198355796,1.791433572354344,1.2120421737141163,2.3752552726354437,3.524051233207995,5.910519544437376,6.664785973320711,3.017689622405726,6.0118815550810725,4.582311858513936,7.322859377702223,6.268713630227092,7.60171849445441,7.893401740070888,4.480320019272507,8.871814992092762,9.179242110454854,9.045993953637254,9.308067343358422,3.7623135126466964,3.219209555860747,9.384338434138822,9.835238871183499,4.177275837487494,2.4119189473235068,3.7821527622320774,1.3338201518191328,0.4652550493208951,9.55093691857965,0.11890705326400797,8.62073576588915,6.885366516711361,5.0589752710497295,4.934346528992323,2.455909834803358,2.747355959450392,8.387598230588253,2.2075421368844306,7.815692331555883,9.435917298213125,1.2421388041168069,6.504538225137365,2.004905261277894,2.8224996921752012,1.088786683282188,0.9983140998247597,8.913322073762618,7.4661345629923614,3.285868498497122,7.7934516480765526,1.8548442558042655,4.0477008966262265,4.349347409195229,0.800915859768464,3.062763547789401,2.447746590174602,1.9395889094978458,1.5253268111784568,3.973744116676974,4.604867164595023,2.735522082356222,8.835454657548404,8.646846299830358,6.974550957937799,8.92871496438524,5.208033945604199,9.536603730618506,7.189660652828883,9.453519026716164,9.989686094699257,7.818049037664808,1.4042136017565454,0.8400342396316041,6.0036919410669585,8.722819564702032,9.237371259264775,6.706492059546701,3.8150824780926254,7.900771490574469,2.803489427746878,1.6225842382262712,8.676723592997494,6.109728857985082,0.6924263644464468,2.3988888685599496,7.00287373975844,2.4459386206728793,5.05636491222103,6.815939545944256,4.775538351859815,1.5070713473761388,3.331987047618462,9.341698304390958,6.121415629257541,4.7910573963776155,9.536106615195752,5.7403964710589275,8.109313046142502,6.125006216600111,0.8698191002563727,8.14456923543629,3.9553241051240673,6.340764000919007,9.277581352243153,4.765332673403599,2.1974569426184845,3.089605213952209,0.919032776719716,5.052264051920886,3.959587180215405,5.054561418160295,0.22788620212285782,6.582711743093572,3.4694011597484584,2.7975997985427115,0.05609892104411429,8.441024854525711,4.940926792662376,9.226911224625416,3.916907744535465,1.7936514080677368,4.0202601161735085,5.418177381733118,0.5816645683549027,5.48999537485805,5.197718868291088,3.835910397763229,4.304408704079915,0.06998020771345925,5.283262488746297,1.110256457711144,9.447864836129565,5.048044029824127,7.66548465569638,0.9429441490488844,2.225947814885061,4.600592653226039,7.10685535327875,9.095784341279117,5.564916051529957,6.721930658359403,6.269463368249503,8.130805400072669,2.0791162367029683,8.46107969137812,5.138325894038312,4.895237420288683,0.8151887655017298,4.692682614704927,1.6055310571524273,3.4711866067849826,2.2558567821141082,6.8540354379269655,7.776936093006874,4.388084288282564,2.894436941000408,3.667903634876236,5.6191404844146176,6.000819845984684,9.710048105502896,9.320003295810672,6.952044770862791,3.124754527069947,0.5193608324416588,6.762372547716689,0.34326357603635116,7.75223040266119,2.155472722573477,9.228044040685617,4.214921382893788,0.002159992762678087,4.34341900465336,9.53551144751362,7.45179765975881,3.935983149704666,6.624634760623023,3.6806645554492468,3.5975430815123097,1.0357134815151348,1.1446535366551902,0.6923624854641142,4.603406716839485,9.268298390951168,9.411789046810764,6.122243789378517,7.7004448115841795,3.844312938757005,0.06915088544696912,1.9635638793928734,2.470279634693532,4.661364952331595,0.7671520944433841,7.813826912371482,5.859407506069526,4.912881370678993,9.468996903536835,0.5791372539068662,9.696562866216986,5.7393769296060695,1.5759810381228856,8.019108998756732,5.272193104476531,5.4460914802773255,2.349552287876916,3.824652393908512,9.238520020784438,2.8648924688909805,9.413763551440624,3.738392400110506,5.080615069098117,2.714423376328007,4.320726272945315,7.517289954767837,9.369520645610653,7.8992020758501,7.29256949736202,2.097117635875425,6.006718921319293,6.714825869224411,7.999944236917862,6.465998368097015,3.6363419577070824,8.677948654569402,0.22242671319730456,2.4977562101740878,9.734758795488753,1.871653012399197,1.543708865338801,4.4747205386443545,6.980987803645878,0.6421674067582783,0.1090791612432529,9.409084034433521,6.093092970544326,9.635852923503691,5.314154832169563,9.425786074709295,7.474188546488758,8.348465310614287,0.475869982265017,5.00517225673255,2.352046606342734,9.849879988979882,5.254064624539926,4.606799975985254,9.76358068788933,8.491750107511766,5.438563015240642,1.569437935747191,6.335849407993939,7.670749820299427,6.971238395518995,0.2371192764540142,6.540486306227917,9.98778473166322,9.718609381903851,5.604794078279535,9.343072511643415,7.21278414810048,6.728650577867966,0.15422091987085884,5.173022204073218,0.8202849170198578,0.956320893827387,3.5159031056044707,0.734882581116455,9.088220680735336,6.031285792312704,2.4913558705320202,3.404339052148969,5.018405477378209,5.254606772224411,7.758814658705106,5.389513662805429,0.31928799216420445,3.9315347633537945,8.397397403826828,5.194383321238771,4.660437337664955,0.5879330553857376,0.4072243564483369,8.01634807063867,5.949762843549608,8.85029729912141,9.854019110790377,2.602923012520569,7.46394097401109,8.715938795351265,7.216287667342486,5.111870050921685,7.179792579572015,0.576819077502253,4.120453706705497,3.738945261818868,6.127110293866693,5.832003201189688,3.1493607821347203,3.410738330504496,4.916223317873786,9.035262213878111,6.704136940257882,8.013488251473863,6.836281582050781,1.1664576599080079,2.9521463278266538,2.432275722645012,6.404618033513395,7.106622875441797,9.117168610123624,8.10777405029236,2.7996916688469065,5.537338085116373,1.5245556862660103,9.602117305832175,8.602532758326408,2.1784574611740037,1.9493997963231913,0.10641444001921574,8.954254787616913,9.056669527277242,4.6532483931714985,2.626894464677946,5.9580715149068855,9.906361797378716,2.6983637400841465,5.479176560224803,3.1041311156374265,5.741686734193405,2.700400723403664,5.793238521738161,1.0065093003945746,0.44758940448376694,4.11617594836828,6.828777456680275,1.227329586523942,9.347173603673562,3.13407145322969,7.284297789999426,7.264019490879766,5.061175443183215,4.727907605357969,1.9911565045442048,9.575656063369301,5.278229626235314,3.9218024025035225,2.265460037345229,7.87492102533676,6.292502948354731,2.642724001217295,5.23052200509118,1.0027279722549476,0.8942565659202462,6.897927700586913,9.09353698524269,4.668095867562468,0.22541144944998925,4.23119637204311,1.0086516031972936,4.301742480245871,8.85727569943906,6.083834997626743,3.1704907665325868,4.005941168230679,8.627073840011256,2.3011010887876493,3.065029132398358,2.371796007345528,5.276325659617055,7.628990170051214,9.785449519598616,7.020823595757049,1.657375405536674,6.635546357050856,3.9573375788436915,5.506566224052849,5.675750466506649,3.9217251075775694,6.615457941677333,6.034335928995965,2.327001007781014,9.201966353287085,7.648597468212397,8.698850863835997,5.046158589119725,9.043629268304391,1.551159135995308,9.547678274641868,7.260971751767738,5.544655223576531,7.676636670890674,6.520612162990005,7.963625131393892,1.6864675745359126,7.495415157969929,4.38063807705125,8.992965098447026,0.047991878355593265,3.436466556554283,3.9498095663909396,9.453652257933253,6.739829929273143,9.991599817931567,2.59387511662438,0.4432444289996018,6.9460723846194465,7.894362246195744,7.107128474413942,4.360267935278467,7.506725529465246,5.923806471288109,1.176436568948871,8.154558584628118,7.37937156145808,6.514041663162306,3.9074399276867955,1.5124788857270333,1.6248506390681683,0.33829260672496253,1.549545605601681,6.891368135342299,6.789403809256534,6.834803532844436,6.537303916285566,4.8084850263041,9.521356362952908,3.0262251277761862,5.96211918908316,8.865639172157223,9.631532836374525,6.199838576180437,5.715554820882377,3.4342446602399415,8.443945433121721,4.6455354834435045,3.365984810829581,2.9620269690181686,7.562212173545141,2.4599850060124293,5.082891150711646,1.405341605778866,6.447379041887155,9.811685314663617,6.6401405171603045,4.625643482750961,7.6809155121045825,1.262885058487675,3.28310857858693,6.123734456411515,9.602573461109314,8.836661126186977,0.9312111044092342,5.5138465089276885,5.437602751078307,2.0772540306422247,6.981231220741538,2.7151786602476924,2.8981299416865514,3.4474705200199174,0.3168733879648611,7.299888038409991,9.855636822264353,0.5559038547074069,7.000949307890848,1.857593694450248,1.1563732542825034,2.167278087335073,8.273772100814869,0.6214034447613281,4.248063300888693,2.697795973355992,8.803653499981879,1.8278118235692098,9.679606279259138,6.5084042916483975,2.731285077696178,0.6832264567922708,3.1834258415444294,7.4737291950834965,2.3307913585551674,0.24421046654185874,5.138575644104161,8.129704367208971,6.506621610539851,9.88132958814924,9.11214512768787,6.172993686408259,6.071731215261816,1.1657294525338036,7.567180003766073,4.178476887610341,4.870474591725602,0.8538772854654986,8.433180952597612,0.33166711459243103,1.9683552632477563,9.325382233273562,4.802608333262631,8.240077249561907,5.6212125749021205,6.4025821344092755,5.112730181275644,5.632401165025032,5.526413626540606,2.972263040440901,6.813084770135259,1.3742173875243469,5.829214201033802,1.8100773679115845,2.078689518176625,1.898427201809163,3.259325133287093,6.815779844688316,3.601149207798937,3.481423632668703,6.101313227821254,9.466759030660711,8.554935807130432,3.6811127425030787,2.5633413076858558,7.736007622743816,4.281901499928262,9.74527833786762,0.5910292639524584,5.466203634016439,5.633473293723158,6.964663096283818,2.641436220075458,5.709043027986813,2.848556027129371,2.397261269804246,8.46123672523063,0.6090171788946086,8.701616482470703,9.625463119655123,3.482039829195659,3.1948825743593323,0.7837727784456971,3.610006318936506,6.399963963200694,3.922487375659609,8.444072168025212,1.4314736191821642,5.218279754699373,9.176089794587352,0.3406830430846097,4.894689784137272,6.916896951666203,0.6249325563396679,3.2041543294467156,7.939994158955811,4.459440314768135,1.572091791768444,1.7716276946841691,5.721923091730165,9.929145206317152,0.46897985621777605,0.9421617648116853,7.9082960312604715,0.1693309792136477,9.98679681810785,4.87750606563359,2.7560236693607876,4.219910065086413,5.808164571456866,6.547568110696005,7.869445187432673,7.667550065768012,1.394030756739203,0.28714554557521366,0.6365862046966198,0.32223152771350905,9.12244810194164,7.986604570369859,5.684577665226891,6.6561794648741754,8.776019639571462,6.444517083395128,2.522922000481631,6.32857449733363,8.326811662374553,5.689464246294249,3.609174743280492,2.5539337157057194,1.8632114816339629,5.529475146340241,7.759485292732906,8.771524995493316,4.92428160620089,2.351909328995845,2.641993834941058,7.928560710808342,3.0522368632976873,1.9510931096468165,6.791050113568328,6.847041047737616,3.8334602028237885,9.454554165969233,5.036523503048414,5.347661081158649,5.415996197695632,2.7064139962524116,2.6172526532855542,0.9583839395328053,6.730449255846748,6.360016380019444,8.329077994200206,9.7892899980333,4.949826821442428,9.32544488360948,5.4760899132603145,7.34000779335247,7.13229930517691,4.853304093121379,8.128309892866971,3.4759049017165236,7.266591959380805,6.4237209256453855,9.016628613663544,7.790045923402752,8.452407992512548,9.959372390455613,4.439723084974464,4.305226249723448,4.980756087419772,2.5558850330573413,7.053422687405738,1.2113761353619912,0.9876795782288927,8.081534208132021,3.6448564667289816,8.684666072317878,6.618004267965949,4.908934194429392,6.76747235845602,9.012564117640888,4.537162911307564,6.344726978750384,6.178284188865852,6.440274940111416,4.033471293628552,7.069783542022366,9.681917280258125,6.756538445047251,1.7566465256120334,8.83032402804698,2.3343717159893473,2.5194089901964825,7.249334769563724,2.0050166259118507,6.8148470145878015,0.9282176708185519,5.029634455808537,0.5414452789864499,0.8379370821472987,0.7198391515660163,6.608637624635668,3.7267324454940853,3.0310531544049404,9.420052275571113,8.826651162942698,5.272845921582641,5.412646045697178,5.140764203843009,1.9957058314827014,1.4431877764595846,3.9721408927527193,9.977506849314192,8.989950918339115,3.2703792786428334,9.633718118019713,5.395697186727744,0.6362652071091057,5.126463710716555,6.110419047179111,8.79491196586884,9.123891969023617,1.8235217777613,4.912989352804091,3.3464500747771195,7.848402073855377,3.889349690641426,7.983114975215008,8.517151193675502,1.6403238790221841,2.4259726803970416,7.381695137282678,6.127628429609901,3.9555483257562685,0.20094834600035028,2.3080974207983385,7.012042871820783,4.660847917729641,0.0980330794321449,2.3909565303119393,7.10642435022908,7.920100030682816,9.913985144858644,2.527961767199921,2.283008223515747,2.634737636055393,3.5495346832603545,6.176491834203334,2.7862096580292004,9.643592276138536,0.5990264634350051,8.357060257195911,7.00838949250196,5.897931680152607],\"type\":\"histogram\",\"xaxis\":\"x\",\"yaxis\":\"y\",\"xbins\":{\"end\":10,\"start\":0}},{\"marker\":{\"line\":{\"color\":\"black\",\"width\":1}},\"name\":\"B\",\"nbinsx\":15,\"x\":[5.8322698128799875,5.221820762338821,6.570450506500612,4.146014922946912,5.057224102563347,6.001345486788367,7.520296344549854,5.039430105276377,2.7899035133845587,3.4631736930181583,2.9658704786933274,4.232165081341889,5.560282079415801,6.395337268132805,5.4474278877933155,7.012186012962374,3.4454722064703445,5.7826597485909215,5.661627306489643,5.353588557974188,4.657358935457977,5.756747271186172,3.522809231744912,3.937902751527367,5.559122514375236,4.290602998299928,7.56391788492768,4.465386473800898,6.743086925113257,6.945295875459319,4.184060207290511,1.8596591783495624,5.78448776645924,5.451309539118841,5.815820417259987,3.0278618198816343,7.24395250016158,8.420798519571452,6.530019953011829,3.213168307457281,7.593653166374337,3.4054811986204045,6.111640057301615,4.204302949973505,6.698970303198515,4.705222081079684,3.6966929617961486,3.179196512739864,4.5759115359688005,6.845699332823453,3.706857758093671,5.829243326607309,5.898913270004277,4.959294375006823,6.874189164461816,5.256762730736131,4.842084334684044,4.8026598600723815,5.4825410365510585,3.969983997826687,4.1344059661276775,5.055718649087765,3.6544535950083614,6.563566904769949,3.493482253660243,4.874908822492651,6.488245460579112,5.884255727495623,2.2064973947407,5.082546239726272,4.1484711226730635,3.9701852335481225,2.05331441738128,4.260711940437434,6.39818058655546,5.244072704903298,5.005461550830459,5.021205718270819,6.338896643510999,5.37804510482286,7.320550161767149,5.892492714351506,3.609494519932994,3.9951755003267855,8.361499146088411,4.549317811406626,6.256582186748804,4.787837128086623,3.660022766225545,5.968145849410684,4.597496903790613,6.255093538731124,4.133872550482246,5.488820631637951,5.8709888147353775,7.027263183469562,7.042769518836093,5.458131809591083,3.2455595583378942,3.9695034114831014,4.73014191217828,3.0252779907334117,4.863832166375813,5.679127605986698,6.181913650301375,5.679727413628607,7.985879292802524,4.59058067773177,5.07552644167704,5.481197451238661,3.004717132295901,4.872670933046688,6.03535994293897,6.653181084718665,6.26638413975015,5.028556122573781,6.598939250003393,4.163338759161359,6.102424753516367,4.924238326430709,5.800298261445377,6.362602550967104,4.431940193080756,4.198248735101773,4.091178239293589,4.484193437001082,4.698447810340127,4.379948751771051,4.512679418887835,5.308310521230174,4.622150484223393,4.721021687657378,3.2519989060919734,7.071367415256429,7.153323870858618,4.501798111870115,4.1750585516513254,3.815510922647557,4.524169833058867,4.709945430881631,2.101269804313893,3.8606436419166594,6.590915278339325,7.0298134958126886,4.852351058583728,5.447556436153375,5.521015530202098,5.417399898834039,4.063281911605889,5.052945346571068,5.858704297281733,3.400492694654142,4.712485682192426,5.008242106019821,6.156854357453481,6.226921866973065,5.481865799574242,3.491585086861474,3.925337448913065,6.718042924781429,4.1364430395325185,3.927891206730995,4.945957839060724,4.94857863055373,4.5504655794058655,4.736091325774207,3.081861970152275,6.0354712026477415,4.155464282038322,5.378787230192059,4.041336043414672,3.84639331349746,5.7403806642609485,8.590100777212875,4.744938201775465,5.324234287332586,4.908126579268885,9.051238121475238,5.356020640309983,6.2400231756132145,2.767008035096897,5.458746103246726,6.0473967720993,3.954531596785285,8.47117928263101,5.486159741429832,5.576876186270934,4.300054586261514,4.837150093125563,5.266357761242045,4.379232097426747,5.294203388987778,4.3010454368844035,7.475096170404125,3.580273473865665,4.1336236669150415,4.736504867611951,4.991601100192065,5.807891168462872,4.887092317995638,6.91464133593852,4.378873155826187,4.3265318519622475,7.279155292065427,7.967444272390127,5.831141386623189,6.954471703985854,6.36021556151157,4.199368928212966,5.4890186851256715,4.778354506969081,5.313176107558488,3.9978025303013256,6.372789898791453,2.904699626821149,4.574551553244584,6.215978440316866,5.7176595739853795,4.514831084937596,1.3971874541070433,6.713684014970851,4.88984221946831,7.086870953132268,6.754193831080078,7.256998754689952,5.239068787779602,5.5693176566994955,5.538554273131285,2.8375660147784183,4.905741118987809,4.763626234307932,5.44270575254418,5.747431486073833,6.059096877503264,4.683652514707625,2.93352375095687,8.385567696310243,4.33714096231053,2.853653453500396,4.849994693534995,5.282011553741906,3.765822379585934,5.12639881579756,4.347915371087542,4.42209371850659,8.140944546640139,6.533416163952641,5.6243839608208015,4.817668358155427,5.407137966267255,4.857532868910039,5.2136636173283275,5.2051654478211935,4.0616997228339144,4.908833065252298,7.056617768923727,5.475164422039551,4.74977728583293,6.865292867411815,4.962346584380402,3.021123525625609,3.1418842528360154,3.7749621802273943,3.967532573275519,1.31032965920312,6.913090578912589,5.665917854188285,5.5568023252163865,6.9606068431605586,4.771426936583502,4.1277685742948345,7.69593244771716,3.288648133846025,2.821206267473181,4.47049094373406,6.780891388616301,3.452117821349289,4.301990030670598,6.022726887568541,4.198905442913949,5.913282318143839,3.1464392129847614,5.5900693091028515,3.1679366532485798,7.018149137253946,4.291999160511344,2.9455610168349953,3.7550429551658957,4.696291437048911,3.5576788732172946,2.3248128053436665,4.444299510419108,4.909095518311562,5.249877105753615,5.91749356416991,5.787104701806302,3.2757991236391053,3.8392653239439793,7.370547331460084,5.495533605371117,6.427682115677384,3.6716525178313506,5.810548153749076,4.955616838755451,1.9315150135618238,4.08381405982939,6.218165296145655,6.713545165469968,6.775411051666085,6.114622665474964,5.685348005252727,2.5559180486990023,5.926881896032934,6.997579612271442,4.642532344914847,4.783151691423373,3.735999767903361,5.024603407365096,4.681888232344862,4.281593449914869,7.3661496524337595,5.759390111742942,5.085003821819293,5.819709097844173,5.392102814219164,3.776539727961806,5.232168991814521,4.122163724859773,5.063595191960503,3.173369687738738,2.15543049557488,6.008627517720519,3.8198999940476863,7.53683429858118,1.915715455113295,6.362826009118704,7.537940200322197,4.675824709608936,4.353408702621033,6.375609256155883,5.227495081779281,4.670109378561696,5.119738671250671,4.114748639254424,4.385512638915484,4.706703057622281,5.915406736704417,3.2988412581458606,5.464316948273381,5.50159596324958,5.887170470366588,5.0574533548103675,4.194484955673039,5.7578709143731714,7.230856257767352,5.666448513992866,1.8298975071155472,1.9526872904467147,4.834287860976991,4.1470247000938265,5.620983638849244,3.038447933801786,5.841608150859323,5.600031371012243,3.387772736964651,6.043128878313371,6.0359193376824525,4.973347378885999,6.387665031624976,7.511368052638803,5.955222398040632,4.351656290326341,6.823125643042487,5.011159068144192,2.9813428033032574,3.851551526631951,6.072247154691445,4.915882426377349,6.031174231273746,4.804466710767615,6.052923367100733,7.6575812470070375,2.2160157022508375,6.049794663021416,5.306089403474072,4.346601309397366,3.210518831470311,4.698060145534078,5.379599348951793,4.2137195094092785,3.510921557801114,4.566344978197526,6.989370319330867,4.813547714179646,4.897550015460376,6.232936208819604,5.798591929690565,4.7518264124506935,3.809398873161358,3.978321576306691,3.8810696995822624,6.773305321545772,3.565130801841871,6.432261177646727,4.803317411386773,1.9036066224296406,6.102103687111338,2.873177030716448,4.734598379676031,6.851657844402554,2.9815082439600875,5.566364589850382,4.228602208338043,7.212239525508153,6.998372826122006,6.3537709529309865,4.592480696893725,2.676693468557446,3.252266529936783,5.07967243839159,6.29432648417032,4.81557822445569,4.760291981778888,5.192292413242226,6.554108629969295,5.976909986053857,3.0356107596145736,5.7940327209769595,5.881059899379041,2.9164045566382004,5.225592606813705,5.798283719989855,1.958639814363801,7.394001167169113,2.0254559263009178,4.919458982348308,5.589735134426476,4.694329874118952,3.973049984641046,3.815808806393272,4.480071104735136,5.3819095108553165,3.862356601501742,5.778262450683454,7.17235306841976,1.9377457654885593,7.071343520432622,5.402648132266338,4.244088945323041,4.976630102200259,6.982647477177785,6.018168971129893,3.1695880915042114,4.986922619934576,5.775010548881245,6.93877874592237,6.053525844853351,5.334532691326965,4.615058333256448,5.023084701480897,2.9980963838569066,4.9354676497863625,1.2280615039761211,7.271103450912564,3.7747829778498945,6.589096081335356,5.938532072324186,2.1691469762816804,4.608636998741171,4.728344975216922,4.972956468289843,5.59745898578669,4.723432861725699,3.6795693580456743,6.730475774592739,6.6901497424935705,5.074662698472104,7.145800771375441,5.97877033621741,4.960054223596505,4.963471381005206,8.90644387515752,5.400093622527748,4.526894745082888,4.079954191627909,3.137821415018731,5.277588708629411,1.0925957836070106,6.557285433487779,5.06243318706536,5.506393906112727,3.7447707313332197,3.334563628665186,3.324278433183136,6.179585471754746,6.2010249291952535,5.04446973678928,4.824023756070455,4.79005520944142,6.500295503934435,4.541740906633089,4.721004362222068,4.389234774313983,5.591161057270044,6.7688082655281,5.777283652470664,6.646497969239513,5.643666321734525,6.310659939588272,5.464057624151572,4.399250491159247,5.7824394895874525,4.255055707646111,6.568208308862687,3.3188502469710777,3.760413092423231,5.607273997492696,4.611608034560717,8.401111322380554,6.166731574082199,5.585237356421579,4.772112008436329,7.218932119260613,5.022216827573591,4.155986731382458,2.451401815869942,3.513596860341573,5.007040749422031,5.308716026850735,3.2352856891210675,3.4453588175787107,4.53584258441432,5.2619545131000915,4.493320079197275,4.093066404551051,3.606730755662604,5.138486381984669,6.053826563282433,4.710658651244552,7.063922359822579,6.745954080461141,7.254996199247348,5.666352245336096,4.523848954965423,7.130813553413745,4.344716674373901,5.173833384395119,5.235861695860576,5.620124882659613,4.796840033095549,4.967243941247258,8.059030900565892,3.5218834195343263,6.434601422932282,2.7716184384712443,4.3212486855586825,3.632855760421234,5.304496487634068,7.876205157901912,3.849014946903183,7.1936284679180655,7.873063398079321,3.47710371516912,3.8725851778617666,3.9257903886597103,8.38736299892547,9.229286066440523,4.719368811602353,5.197503595316676,4.864312180284849,4.807550713878175,4.709284956873906,6.682416153075694,0.9317866688000453,4.340823121030635,3.419061613311212,4.993291552818867,4.8572239098225625,3.6653727520823685,6.105765662822454,4.4403764375344785,4.567634287514444,5.288541643888022,6.189879972666052,3.2226497223495576,7.43871675771009,6.736553159319662,5.312356312745092,4.9470771981934965,5.20709852418044,5.832302731549928,7.48420939302885,5.914182609620718,2.4596374079535104,5.819319110479647,4.894840852251244,5.395488010966761,6.9016344207568,4.546594675018685,4.383467378391422,8.221324726652416,7.57078491868499,6.828439532454592,2.808275373952756,8.195606762475105,7.40215981646573,5.0928605271108145,4.323292459111538,7.435076596176429,4.820169040429956,3.445304981480713,3.9154777891250356,5.174979774211854,4.148970198074889,6.26200137971725,2.1043827935860224,4.239197798903941,5.2900031882339595,5.703408789930823,3.7893492554691077,7.362848767285886,2.0753423346299242,5.965956937899964,2.681012804736333,3.6253292036255385,8.371150165035571,5.685405142776711,5.174979571527593,4.649705550008237,6.184855526309342,5.763928560774399,3.236683878097428,5.33287504397962,8.447721771498742,5.957869864781733,5.9855592458278855,5.538890232426599,7.2899925945451605,7.993008607133898,5.421056190763014,5.8896112063114785,5.157436841348701,7.145502878557338,5.596472491991362,4.614949192190891,5.752529512390494,5.487003675177069,1.9307597933012852,7.080777157145505,7.2332346162421,5.1217123134839735,5.418215941770275,5.238069149558797,4.8859897090775375,5.199416103384268,5.378298506758856,3.5976136003483083,3.489836015368862,5.404463821056392,6.2083434500580195,3.151262751199901,6.118123168743322,6.276731826233696,6.29216462218145,6.340916206493656,3.1998832419826755,7.138329286956941,6.500188845485065,8.21789793314287,3.862913552862926,5.234949304112105,4.12242747068616,5.3518119912169375,5.802755050271308,4.548409670528633,4.0992756486302975,3.5279141920732333,3.789457915364469,7.367533532586413,4.319188750595251,5.2756757370698075,4.929795245070813,5.628867972654938,0.9674571342412763,5.857872486760433,2.1355299302380755,1.5280157947597885,3.6117730894821687,7.014027522613243,6.547617853193726,6.013740472433462,2.3676872318135955,6.398350966168381,7.706790823579155,8.232361646513917,6.2740260962515055,7.337586626285569,4.238912862930157,5.87382319604266,5.638828126022053,5.778186650192545,2.7392985083575088,5.79000972775596,6.191717953765304,5.993444586613959,6.573694102784953,3.4469072490386363,4.781754496708007,2.7417163128144604,2.9040595205417086,4.5711860558038975,4.876461754878657,4.999961604613889,4.490307931214194,5.37316901051673,3.8780128552476563,6.186139281228517,6.657800169980105,5.256384627197877,4.188512001611922,5.262674775525829,3.2044361506860275,8.153379111494349,5.777561929517914,3.6015955444044936,5.4249574385282,4.311632124282767,6.002120139398602,3.7871416217685265,7.182134236959203,6.124789299146744,3.9322973326583672,3.5252202871100353,5.398396656879457,2.859648268940184,4.923059213990656,6.587541449687452,1.6505683454365903,5.169037012294223,5.549124774493376,7.4682721608354825,5.020536513298164,6.421724428732691,5.655089785308668,4.232092815949149,5.150440079148902,6.466676035036342,6.162478479432162,6.739124273530584,2.824265317927478,3.7290923169302603,3.5253409257066295,3.216210487868558,3.561849934148818,3.2895882342098037,6.537863202744228,4.557068745475798,3.0142352826310916,4.766080640184907,1.5015659035951723,4.386223335457317,4.673956190015895,4.797905370478671,5.423414289092135,3.3732066067947173,5.07578750146639,7.288835220053023,5.908516585761998,5.515451008235957,3.794823394260588,8.221892873239424,2.383410084907356,8.664760624934363,5.232499637822038,5.903674362838756,5.920940288707571,4.138155787995399,6.882124573259792,6.698273450661896,6.1537310306360915,6.260970437576264,3.856143388745995,6.334447579961812,3.018392090004242,6.0085699177138725,5.494161696121226,7.403113987256056,3.1382858004397165,6.234539047283441,6.307733946326583,3.8884371936485636,6.9090174660200425,3.540416443287292,4.183211977911662,4.421872784621975,4.1449562318334845,3.395800954377608,4.772767104968142,4.358046457893078,6.400520812702604,4.463897859601971,2.6566968767733967,5.128431173478523,6.111931884584516,3.8845056266955944,3.343092877031699,7.828004463558189,6.197452945056104,6.357862817303529,3.264659404890368,8.312302326816658,7.023430183130534,4.137728534776337,5.990268794454181,5.797705704131698,7.1912340614932795,5.16844722383325,4.831758104033551,3.395715896163095,3.0383448808770033,4.130769804981159,5.115373961354638,3.3515802824927508,3.715261058171617,3.9301123135456155,5.124319978495488,6.577165904262688,9.136337036564534,4.2694957509758105,6.186450687556622,6.194641125314513,4.8232343157252915,5.355263696268689,5.110554770812594,2.833316048918787,4.303894693680569,3.5160324466421704,3.746453825886153,5.490868506567968,1.6405733263317233,3.7517101379501927,4.566093719720322,5.342899738433121,8.225735401069695,6.441649703566101,3.1252932810878207,3.7540098922525913,7.953401326304031,2.527358053779849,2.1998960924657647,5.325788449361775,3.101707872127708,0.9962846893874229,2.3270111248553347,5.002087777686796,3.9794853810366644,6.8324777798467675,6.324009763178039,5.408923968072217,3.768286994715744,5.967526148889363,7.739826687237378,5.346031886702455,5.511226241324848,9.559409318062324,6.857948106830511,5.990013323258087,5.7220793934519385,5.637400650514193,4.519474673099298,4.877273114170867,3.919913214055769,6.6495169100876135,6.082268643525442,4.706859215913337,5.642673643604538,4.336661843957407,6.077150205113917,4.800212974397443,7.390377719233151,5.992278765262013,4.140236370528717,6.035527640693571,5.318506205968395,4.06219778926882,7.373470107503717,2.5587430145791754,7.3670466615821155,5.242767402395372,5.871146951706326,9.248448511391983,5.583383223045855,3.7881994997485378,3.174673652024415,2.9461326373547188,3.458630747259867,6.348078831867308,6.791065842391061,6.319202165384178,5.903684200315584,6.465123218887177,3.935801502598424,6.254638735522784,4.914111071274707,4.934425552194669,4.554893909183091,5.33737104881446,5.759578946999394,4.68489308679599,3.3205208479062978,4.78684314029246,2.8980915399033895,4.784541150642216,4.344379342386868,7.542148650543701,4.742233289747333,2.9840088126638236,7.237326829884617,4.712275779009622,7.627570527902891,4.603399805240653,6.091625178827818,5.388247877032583,4.800832456264947,3.8668888251261135,5.774301674881849,3.9140657619099004,5.464823468574597,6.574593163833624,5.902472019444159,5.483553689717652,1.9213659885333474,7.30789767639721,4.053169095948494,4.046172978876279,8.713082076907957,3.9595422800390256,0.7008719161870118,5.297186789529423,2.7968018283817866,5.497713564732496,7.586305088696578,5.589599922086892,4.659447436124299,4.38041436788051,5.695869447145837,4.226848902560492,2.2120300385118745,4.795904161672421,7.827386380906091,5.814465020571688,4.756061963457653,5.5683347446799445,4.823876636418538,3.393344086406931,5.436559921086221,6.219580874024475,4.620231221399324,6.080582142255302,5.641304919398963,7.087068232576001,5.1615709654758675,5.7747213232595325,4.70772889050647,2.9929095054848363,6.632502868127231,7.132050562454331,3.1913051836314485,5.664529891833855,5.273351062571982,4.984962341657223,5.345370443680867,6.57185394295198,5.819336184435128,4.389577501755451,3.974825193486665,5.937597010202738,4.444367285538976,5.707867379297909,6.137187071076329,5.440015303107869,4.208728594230572,6.076649538520232,5.493491088568566,6.238687228974052,5.457325438358272,7.0134478276206265,3.052856480399887,4.964500974440249,7.602725843150613,8.313712798725092,7.599122256459054,7.414019523773366,5.184941508139388,6.512185944814064,3.743281644787307,2.15873087079773,4.030860835891833,5.168021997183256,5.7350695966188825,6.008373045744702,6.3353306957592235,4.021161891454232,4.457358478812212,5.222687215782368,6.727943599743501,7.25879099907946,1.1812739152377771,7.200495257714866,5.645389004922168,6.354718360702797,5.067929319197069,3.508552413619986,7.291551823016431,4.743476592990183,2.241384022455302,4.122102078988311,4.734566629985463,5.943014055640228,3.6270372928361656,5.672638838880047,3.6510479127800424,6.092485700494313,8.687888331436135,2.8674010707641138,4.954152172277154,5.668258488097881,4.996438600257057,5.221084029938284,4.404058448255483,6.712308765184073,4.649645812553908,3.629438498163381,6.741446358599898,6.631701500659938,2.3517519567098732,3.1958355648448245,5.360402479088721,0.33346155895533514,3.55628750635432,5.137620577016624,6.47890872909081,4.831116317436703,6.777423522553233,4.808521533466895,4.004830639075111,7.760142635050502,6.124992980993641,5.964754501535108,5.242661704725701,5.109572191508356,6.040681798375507,3.620335669000958,2.956184621872331,5.843674041677325,2.799091366028124,4.920087799919939,5.462663734107793,4.993208711456326,3.1918566078822908,4.101745626637149,3.754065539280781,4.411488810118073,5.508455117917309,3.6094442657396826,5.359678454342406,4.871741687578438,5.597954427576396,5.6464652156492665,4.768463597078288,3.1225603514527567,5.923208361267377,6.181996488381287,5.182261254618143,3.1447412231371765,6.223431607566778,7.576536292007459,5.135003846184129,4.615756088246501,6.369258019519846,4.077250613083914,3.758355540678008,7.040134707630288,5.054610908058258,4.03396302766922,5.3467466528672505,6.3200926627266165,3.491292476766044,4.873174200227611,4.618941450946994,5.1748207309192455,7.993830404772541,7.492522107552674,5.06178994702227,4.956520912384433,6.203060688616775,6.852399334907095,5.596084797021293,5.964038646957524,4.884005233463211,6.900697186510388,4.332483875642638,4.501966187185964,4.11162208717394,5.053383236019736,5.887416301440913,5.718347167467287,5.815085875115956,2.775227133333755,4.368966531305056,5.018507040644611,5.097854459970645,5.009221741598242,5.081903717330494,4.109266165852831,6.51708173558816,5.961416947381643,5.2263206271364995,2.402410246723962,5.5413759674888174,6.204918851944994,3.182142401736129,2.7592631994079455,4.904042261627417,5.0624574606339685,4.281258366269764,4.967309733231205,3.7636195783273,8.975529209997767,5.875974026789404,6.62945248374455,3.3395873939647363,4.927080910267306,5.480092418375168,4.292655619008463,5.991743223215186,6.644103160169192,7.25539052667598,2.760313056755135,3.8436586846948373,3.7289350102265937,4.922562094455349,6.075310894395504,4.776895407978722,3.097378723961839,5.471361018862864,7.211863349443367,3.557309523281576,5.673435750639495,7.353936227736149,5.2506920861276205,6.070573912934708,4.864065961901397,4.144998019487994,4.408697194279243,5.297352916448543,4.9545147141426575,4.056709225444475,4.710465313224937,5.842392023281146,4.554772527201124,2.9553612844068002,3.2187788536688133,7.341924913303567,5.13033519522528,7.785092333042014,5.676658397372601,5.773431897898485,4.433977763462161,4.951756023260166,6.352770790453167,5.893266536806649,5.583262258183736,3.144981695048398,3.826311925556487,3.663265647155819,4.486476323136545,4.471002673480253,4.261912168469442,4.606737043080914,5.919708036014751,4.033826417381563,4.377694818655864,5.554393245312765,6.217684385283286,3.928169187053784,6.79485373541607,6.954686366384333,3.844611130595031,5.119527730786313,5.633086988981994,6.8440402111850815,3.42480628472143,7.329592959939085,4.213455889863585,4.70112278873183,3.975883363875057,6.062777692954118,8.421304380873504,4.158697479241951,4.083356966019781,4.0104484695592255,5.641883480659684,3.793140128178597,4.636964530975337,5.380705714812475,7.159983053432254,1.5467130147271702,4.912018085543524,4.671834790085889,5.717989716520681,7.285570968539428,3.8126037831621336,4.857959361047154,7.566998304154097,6.755112435830125,5.473678230749045,5.629662206410561,6.981429661558016,4.826452295962335,4.815128294234875,4.752517838260976,3.7598829765486306,4.614381596153844,6.912781650513422,4.26994442236753,2.7305051579949158,6.721872172205481,4.662883874671771,1.652478126087427,5.674540733369173,3.5926759820866465,4.118160148064906,5.799170167855671,5.0360425965705495,7.532391468394223,3.255155936221384,9.107033733516536,3.4896561898787413,3.423695247324874,4.355337939572963,5.118685194355365,4.39979035215218,1.7355846837344204,5.810934847876,7.010807567749723,4.699890411561638,4.016697430950046,6.080475857207689,6.32995568890158,8.532236306631155,5.9347041933061835,4.373235840571526,6.778179745149874,4.31761581540314,5.27989050737564,8.306469477900217,3.6009995354688584,1.9203835437693728,4.833600753381378,5.965674780680567,5.134764740143882,2.9398041121302816,4.587613086088727,5.338919337639481,3.990621728952664,4.024084535413545,3.4729005445747854,5.032606416578473,6.923868499194601,5.482596967371797,5.132173970669425,4.878752323465397,5.821077165328953,6.761961374805363,4.219499216675343,5.9217689138704,6.108361279246257,5.646372533301214,4.604147982926437,5.608869701376455,3.5751525487705473,5.031623800658798,2.4978388075603095,4.618644673018486,6.397618098333897,6.438268254299366,4.115969447531977,3.9855941762983598,7.004312798751954,5.695636263351026,5.725387934954073,4.729054328590191,6.460994933933422,2.364649145673459,4.869903141346894,6.713274653951331,6.25152413399669,4.432208708724444,6.020476203350194,3.5076870270591134,0.9625804389007673,3.931154856532191,6.309706083182654,6.529153353455378,1.7027506969738297,6.550746241334623,3.0013838426025754,5.827362324844489,2.920591966919383,4.68746458893441,3.0638004261585903,4.257506988734785,6.029211412062797,5.417538058164601,7.3634301248716625,7.16286162130884,3.4586530842680343,6.614134696974853,3.6003624930517786,6.568263892978928,4.2312176994769635,5.007149914247102,3.574619381376456,6.658279456943759,2.4998432950178326,5.321606926330456,6.014417656433421,3.840629742108126,2.2265473006768275,4.197076238313566,4.340005653141432,3.8071076441766354,6.567857598266803,4.369009413674593,3.7651075289839513,0.6166745625775203,3.2150817400227405,3.581334511892059,5.915011417571192,4.2347670582183365,2.384277657039993,5.436830128983004,6.012246285368516,5.0281433245915,6.350065304495416,7.758136043227759,4.7469956420745865,3.758633627321546,4.6524028831928055,5.331726314840023,2.444811223835337,5.9834159136847935,5.894655277581894,2.8379738055575325,5.545075284288364,7.4046964795133,3.6196903842270407,4.727375661445673,5.913853515857199,5.8024676282471574,4.058011344463984,7.350826497622043,5.51778765746764,5.245581421432752,5.642298371307263,5.565323697306768,4.5187877093054585,5.726771926928156,6.048346692383658,6.466137536545488,3.7638575872595306,5.21310297126474,1.479265073809664,5.168870320095832,6.049485771487973,4.461894336204756,5.455682169964511,5.231304442942577,3.796581926879104,4.881300507285464,4.666335417802906,8.757077126146056,4.178350976350276,5.255294854516763,6.5207175659321415,4.902005995554898,8.813988445560629,6.689551288951471,6.8241418864946315,8.184948252574975,5.896285018930472,6.2152747975291405,2.90414304238705,6.135176129755046,5.730698484986856,4.110033961377242,3.9952685079944326,6.76826044835971,5.677540402605949,1.83137974358944,4.733955128881116,6.521819483703361,2.785299231240088,6.907469862249815,4.567956735798894,2.58445607489346,4.882475737736179,6.064626949756068,2.875518168812023,6.856747322287669,3.4644175327266375,7.728464455371915,7.0756317250287015,4.2308999465242865,4.254781728047314,5.5039990545774,4.073468817569005,2.5664491603490056,5.214812957347593,4.456158871334188,6.1368129362970985,4.4484289030579,6.5691361799863826,5.059577487081801,4.1138548992065775,7.010386853575998,2.975240398467495,4.205547166784168,5.44617240673162,1.6858276289740637,3.357445789920893,4.795199501862794,5.930141861880535,3.5573463584844753,3.716441306115663,4.506981420396469,6.381672630806427,5.8062371456082005,6.192739870153298,9.457220459956027,4.003046696940125,8.261479317750762,4.136030104270624,6.03008386034123,7.255895416760231,3.5563157551929274,5.751315881064285,4.088820945162866,8.77056507967934,4.235090736128113,3.83278022101495,1.3186211829833834,4.443308822964924,7.983471333496429,4.438794325154518,6.687318912833263,3.0672966019659174,6.371624953837495,3.711410795663147,5.123557321121845,5.428460834155552,8.069072320633078,2.775933294517505,5.130882448985745,2.706127279702714,4.931339773261076,5.059016794834997,5.76024516760819,2.8552949464432924,5.82973056636204,3.8077909700981847,6.3381228891944765,3.742404717811517,4.820189614241669,3.2129618730322616,3.39569198685357,3.738852270299258,7.7609639478357835,5.143964403190364,2.6373251040700345,4.741537072600889,3.574577534597304,6.957563071467755,3.8923353702158767,7.098860997590915,7.0040976072534935,4.5678538450823485,5.631610463607737,2.4641383832584207,3.105089199944011,3.805855507555327,5.900253607657195,7.842659464974411,5.801829117706626,6.9371050812789505,5.079115720990906,1.8347938350015642,8.244025033756317,7.080907345827967],\"type\":\"histogram\",\"xaxis\":\"x2\",\"yaxis\":\"y2\",\"xbins\":{\"end\":10,\"start\":0}},{\"marker\":{\"line\":{\"color\":\"black\",\"width\":1}},\"name\":\"C\",\"nbinsx\":45,\"x\":[1.8346473887029089,1.844234245725721,2.137171070088895,1.8255275210429294,1.6852842064029048,2.1253078322431764,2.0031064562194256,2.1523754475057943,1.9183985522211504,2.0622119205565825,2.2807152219664393,1.8213241825958626,2.2087599326432255,2.32669384805196,1.967907753481764,1.686947965197359,2.0153420631500047,2.0759833593835237,1.7516185252180465,1.8845543711395205,1.7632605020918717,1.8739030924042588,1.8553963079319025,2.162853415863338,1.623910932656676,2.3748663595628345,1.9577206139044152,2.1024766138183755,2.015196760431888,2.1047925765771103,2.180831117282971,1.9579637301211716,1.703106877212957,2.089850786326009,1.9568502346072651,2.113584321973445,2.1564583272073614,2.2162451821725973,1.6421088549752978,2.22676360540152,2.0173876750668382,1.8227754690550577,1.9702580372432674,2.0095405186502737,2.5289238629415145,1.977969441631696,2.3109516398806447,1.979147804528652,1.9562488001644918,1.8731409794913407,1.8551992413537381,2.176132828749995,2.2167947015052083,2.0104151381302264,2.049507806557891,2.023307089563165,1.9758574895918142,1.6825860429836612,2.189879320585933,1.6770156353617267,1.9392062524791323,2.029857843408309,1.925209012840071,2.1337595059066436,1.7183768370239363,2.0324159525144454,1.6314856023748479,2.1434919395001057,1.8836127311386353,1.8516002513103158,1.9899140670805724,2.277350732772934,2.1304721386572627,1.6020178691038582,2.170609054047864,1.841582631464508,2.3952283603034745,1.638109676961517,1.716694837704315,2.0824254103580397,1.6633379460398663,2.4670549872465193,2.605675798209491,1.8468473289543441,2.21224530313976,1.8949599054651503,2.047690081015308,1.6606684890537706,2.353976278801987,2.083246529340751,2.254905321292965,1.9277613910879488,1.7901714022969633,2.050105516330064,1.778492167417694,2.1114660148804454,1.8163077222701558,2.2028169786963696,1.6735677751777187,2.191582542104877,2.1584706129871014,1.6892397939487565,1.7701515772984584,2.150179116768692,1.9404382943369893,2.055614217934695,2.3303194260597913,1.5449155341527132,1.7940578847015378,2.187860215374196,2.407158380823462,1.6543247425299121,1.8518762053974442,1.8118686447174623,2.0071315336180255,1.910221046784512,2.278494862397393,1.8938389375747853,2.039053477774205,2.45855832214654,1.9770310786888692,2.0066836223091444,2.1069611289835075,1.884936039504776,1.7738862369044694,2.4144801119161614,2.309587987638169,2.42882883180315,2.3451607356297357,2.1992298753851256,1.487515472777492,1.853191581334021,2.021753117536763,2.286993811682581,1.6958445582806252,1.6317415708792071,1.966003750336745,2.0039845392120155,1.756409496516102,1.8942208989259401,1.83986686836668,2.13986487160517,2.3286999382152214,1.7550811981543124,1.8753937474529665,1.9663020475657358,1.7605897783772098,1.965329334420016,2.152504613043646,1.5276610416644625,1.9963739859158036,1.7244829479627883,2.0143783075956483,2.2385475242959583,2.3547907710871296,1.9548575408244129,2.589947251601943,1.8015160603690077,2.2303334959520025,1.6902671784756895,1.746982060595331,1.5372790185115341,2.0060198187514846,2.2082960987762164,2.0156296572794328,1.7079657088395188,2.2557322171997125,1.9687835944334509,1.6768789702195046,1.9916989131489582,1.925568513488786,2.6088327198233876,1.8545282490938644,2.076805810179243,1.474868840264269,1.8231046693888668,2.3502887160502532,2.045446170413831,2.0130906575345535,2.0427530470857804,1.8889457541253443,2.0264323079124344,2.101546298803645,1.932448707620252,1.7234709745352428,1.689999154892403,2.0084914313597633,1.5954719763939393,2.119785256836607,2.167370635628482,1.8185348922953322,1.6582719867566131,1.999920556873083,1.9992867958028202,2.360730663810687,1.9802306490926873,1.8593827208755878,1.6181299328055472,1.7152901718699216,1.1796187803523854,2.0051680305841555,1.787908675512394,2.0115861218493976,2.2959499583722756,2.479713801342094,1.9241982022788215,2.143670994697112,1.9312584827287846,2.0522741325637086,1.9153596222817184,2.256410315891305,2.4310536134424834,1.9884623977347164,1.7992385033246348,1.9891316979437628,1.859226269035705,1.9904610618775842,1.7046699624841881,2.237394000325663,2.2338775366292594,2.086077292798998,2.126985115144298,2.2014101803853277,2.2130290704751516,2.1436812414250386,1.7416598800482095,1.8791480319908143,1.9728671312502974,1.9398983115626496,1.780476287119087,1.8302441389496358,2.4643221386790892,1.9521960089353931,1.5844060462041378,2.1607844053547933,2.149956013122916,1.9366941521555785,2.1141359961033275,2.3199373843036057,2.2186941359667314,1.8239954492984838,2.0536215408797833,1.9153385537821166,1.8456081578313674,2.3623406674039917,2.281192101878422,1.9263966013584182,2.063375316358102,2.368181261766471,2.223924865537478,2.127447066314749,2.2310959726085224,2.468155207071111,2.1043021069676544,1.9560929865591818,1.4851050385654394,1.8539697335979306,1.7361973210970243,2.1883020846842274,1.9483979166626333,1.6229228411760197,2.0563074234604164,2.052924374757433,2.3109713817361417,1.9574193516592786,1.9720584023413306,2.1631868635908,2.2152382384843214,1.8814233162956866,1.7973375440395882,1.962858724745861,2.135851682049888,1.8390311778612964,2.4014920269389504,1.8551097989218224,1.6885729450334022,1.8361439046451604,2.4361674402253084,2.3852505678109166,2.0484395107794557,2.2700827212792847,2.107937297402124,1.9203145026417652,1.8982041332984418,1.8569653237230757,2.2602165687525617,1.9217986035952648,2.1966369670321555,1.755779854327769,2.115885844302237,1.7547073829636928,2.0453842183771034,1.9770083992557688,1.2610576552548296,2.371077227974349,2.406213264060757,2.0398894670351067,2.03092685125539,2.258732816917854,2.288562020111513,2.190867330391494,2.1481319577222444,2.006378448584854,1.5806008784115302,1.9815317789750213,2.460534236568399,2.3481152784222115,2.1204170524877055,2.451305177848855,1.8060176657202511,1.911902933596241,1.8234546382680359,2.3357751246353424,1.8316360236469689,1.4334011277851857,1.9911071208530315,1.9820415587608629,1.8898264160856009,1.9590625996801823,1.8274506533773205,1.828336378641345,1.815633846845846,2.6457922274785903,1.8259796460985882,1.823630896267257,1.84951886512389,2.1904304149553915,1.9074254995969688,2.3646752947710947,2.212799476189612,2.0047553213114275,1.6614149613185032,1.7611411519169942,1.7371239961586324,1.6947186237643899,1.8702528498604325,2.193158714542391,2.1511797417050453,1.6222905130058627,1.7667856855551118,2.0343993515598373,2.0817639271648223,1.716263355610929,1.8155221718127001,1.9417588107444042,2.3018339480360326,1.8513960342897646,2.383388747668983,1.9274206819556194,1.9696541504983365,2.5814388171786677,2.090887731188017,2.0975770988931424,1.9477563540150924,1.8922967368155157,2.413363324744147,2.019417534927049,2.3780175668676615,2.1024955168118873,1.7408360529515534,1.7310022898865567,1.614822253645196,1.710949725925628,2.235940315716813,2.2773937609231245,1.8275032686386614,2.0769284028737283,1.989918575756389,2.0194258024681457,1.9209815935993613,2.304973100947545,2.101358335176262,1.7518555272167793,1.8583990918516182,2.237318382260896,1.9652938509684816,2.243518970848207,1.8918940207557988,1.6117949759251233,1.7998972422600117,1.8390715490631488,1.7886821017806798,1.6790805060854823,2.4420087422927885,1.9230126082565986,1.6926344521100607,1.675254937213198,2.27418452503487,1.822348112427381,1.8579738466353015,2.0228273768757035,1.4890882892098682,1.9728001023422894,1.702630179769133,2.0226378904624447,2.5866654967878944,1.9417542179505403,1.981558097810395,1.786437719713966,1.6274657253543288,2.0699058729302875,2.079939887133263,1.875203797822021,2.0396296363255173,2.0539350942646974,2.1316681749584627,2.144539946231923,2.580294487675874,1.5571375532030358,1.901929979504471,1.7550959325380984,2.229902663324239,2.135006546307857,1.8901589911805374,1.4938031568490453,1.7635597549636628,1.977922343267554,1.7651223929751532,1.9322459133077083,2.0372665616968044,2.2467763878202276,2.0991723207357906,2.1602687307142436,2.5556370187212423,1.8543403232568054,2.12550715116323,2.0385021008670123,2.039672535705174,2.050157994386841,2.3514884758332952,1.8484963573521915,2.0539829721675993,2.158183181178841,1.674517350959383,2.099890480367728,1.9908931847061904,1.9091944294183631,1.6254381659414001,1.8037676054798044,2.017009151389729,1.961884663648887,2.0485639542242544,2.0484657507819404,1.7406111603691143,1.696400394314733,2.2379247244733307,1.7753406563849223,2.390164207540789,2.038472850239764,1.6891773602296558,2.046292849998496,2.103806542891173,1.8282745582398812,2.1695309998568124,2.5515641864270533,2.1823019478445382,1.9654433064927042,2.148668559072442,1.661487752128954,2.159349685170966,1.84771454187859,2.094830010262937,1.8282450357761064,2.184722118378213,1.7366293287653285,2.00965513588967,2.019882493615077,2.1930908075560303,2.1470210701903034,1.6920019570920068,1.72400649821578,2.0580287047739723,2.1122554778340543,1.9085355792870429,2.018759343150405,1.6996660934851509,1.969911186893945,1.8110463776371613,1.741293001590793,1.749966065909509,1.3241861379613893,1.9231961999445384,2.1626196731788574,2.049243224647754,2.2767873618182386,1.9192526665988625,1.947202133599883,2.269464283628852,1.8874458589074934,2.2332366163031847,1.8511093307529916,1.6350799108222793,2.284526207184228,2.0063430715186072,2.2723755129688796,1.6988110391308247,1.7629707506412715,1.953756581374642,2.1256638414698723,1.4707387805104797,1.6963590240657456,2.083795443448765,1.7456580664988826,1.965939018008277,2.185350033541514,1.8798515324847542,1.7205426879690864,1.4003514669467783,2.0402808560063304,2.014092162478897,2.152125795619009,1.744427616810498,1.8171417615131613,1.5017430019218114,1.9938127640098924,2.004625267331643,1.92065754591366,2.0222020124371594,1.7067575134333963,2.120442470653685,1.9043741730666517,1.9629997380313833,1.4579807200138717,1.7247493456137586,2.3425951172364647,2.125805208732596,2.0659192569029288,2.137669697927898,2.172974649541504,2.313494288306397,1.800224499109516,1.9547490620290096,1.8857004302783267,1.8694699727683324,2.0363802083908875,1.9126874550018909,2.1900009827599094,2.7971580823541577,1.562396113915148,2.226541839496483,1.4545913564178075,2.001415207613605,2.0353687996932877,1.9674760141583738,2.175859231097301,2.6692748369712826,2.1177821538670214,2.3337286600115075,2.148799038350863,2.362823535523617,1.965132413494672,1.9045084798313905,2.3208394608858565,1.854442608476326,1.656372915210644,2.493184633552917,1.6642795227781126,2.384713853191669,2.2308556371521893,2.149620979252814,2.025161468537599,2.1242044146296584,2.0058518582554177,1.9343108787345686,2.2907796692096523,1.878845499350836,2.025852370093195,2.0943348910308632,2.0974649783475385,1.9263346643241588,1.9040637158809692,2.2108119008642113,2.2203423186277274,2.0457606398054957,2.085391871625883,1.7877846180471033,2.002468534516804,1.8376496022125104,1.9100495729421367,2.0219631465149117,1.7879093761963607,2.180796071825254,2.0666224094054253,2.4236750154297217,1.7745082573745812,1.6846093526003398,1.9642545010234198,1.6931154971409308,2.1461309773065946,1.8166829861504432,2.2457967408200785,1.753939732474805,1.7810928043005154,2.040592514648203,1.8066366762281207,1.8280457953315616,2.1251947784016676,2.0311956651850296,1.873039763034758,1.5316106237976155,2.3663511459175917,1.727838219202231,1.8393210047118767,1.7947549571393855,2.143464758804238,2.0160052878397083,2.2087080328493567,2.2271900984383644,2.051690586190812,2.2019866784228443,2.0777719979328366,1.8485991049970698,1.7409933963519135,2.0218615136618046,2.1740015354951425,1.6898507931746563,1.7559851386704284,2.1698029690227383,1.7280363628110735,2.183911552374017,2.2742962821805435,1.9827378100004949,2.0264109330622078,1.4967343797583679,1.9316443881753516,2.103386311289443,1.8626226783621482,2.44078239673187,2.2028057150060363,2.086170630767889,2.0553657193355583,2.1891943628185837,2.0493493175340305,1.9528941649860372,2.0435141778282784,2.108105159274722,1.9446782128855653,2.0497105752296236,1.4942630112516901,1.7855748367316073,1.59401125940451,2.0400387526402715,1.8347305339696054,2.1987021147898274,1.661708891955102,1.6940811715608042,1.6850966728245043,2.238211218053758,1.5334631001320176,1.8352448308102993,2.096064531326177,1.7816377866465003,2.1247605609994897,1.7450246711853061,2.2042719719850496,2.210012697197266,1.8238651836049433,1.8817120193055077,2.2718888455488706,2.080597911993505,2.5395635175193396,2.092193493585181,2.136202845798568,2.3614529425295414,1.9554025919699747,1.9542627018171543,2.3199174653209598,1.4691170645821918,2.096603670176699,1.9182775923713615,1.8215021451252646,2.0861165753193243,2.006341261703221,1.678820576279966,1.9216435705759154,1.9427188478793862,2.4181319653474582,1.726248513005216,2.02686702267577,2.08905432369795,2.2362129469723047,2.087411628406913,1.7816429315353415,1.9330234538208702,2.396317504528017,2.3225415778473377,2.273305106062274,1.8140868266552725,1.8150823581560869,2.0083549436488166,1.9773172753027097,1.9375613420199924,2.063403903049936,1.936296820230707,1.81131345337066,1.7772547859628887,1.978398033563583,2.1781688383187285,2.1776068690707806,2.105493430603619,2.0285062875930056,1.72460885683214,2.5096815222572855,1.9121799919223712,2.0832056259910856,2.054866925221971,2.090392846062985,2.11797482056466,2.179408887306958,1.7394733599452696,1.958122047851658,2.179646158302251,1.8702007445407351,2.1047433660016934,2.151867970111683,1.749347455703297,2.303245011114985,2.0513020032953384,2.070740154446691,2.048436143418234,2.355197519016479,1.7357227102348989,1.648515618522139,1.4660373865546368,1.7743476212792688,2.0176051373485695,2.1880455968206958,2.0434303961339007,2.403105664005945,1.9779326887271014,2.0227747926837836,1.5295562801081162,2.2133577666410633,2.3890309336259175,1.8231333737012796,1.972013673320716,2.259105083338181,2.2473134475837995,2.0725895082339627,1.8040475643537124,1.9826955423689692,1.6954806724566511,2.374504643896749,2.3123932372408587,2.010991130595625,2.718804507118996,2.1608060243670426,2.3187775041364085,1.783712246062961,1.9880072141106429,8.40869514113474,8.352287678069253,7.738742061889341,7.616492405534071,7.595062816234691,8.256921813331386,7.922294746801479,7.560151623204835,7.321597876084398,7.415034215426323,8.186127494454661,8.112070328722295,8.767999118017547,7.010784302823518,8.18609594420119,8.423662327822544,7.6966613282294265,8.314062391951596,7.884183951084755,7.8710507970284596,8.137640420728122,8.117262806794434,7.710805027878873,8.213133675693594,7.811925959126799,9.003181930510891,8.825473463833054,8.491516046323508,8.3958335446894,7.619919682403457,7.245742310962111,8.357972276451626,8.109513921119225,8.020659615566766,7.722773614228064,7.818289466682815,7.979831698114821,7.67254219858481,8.025656764822523,7.97389550555817,7.845870299428987,7.911556021656551,7.975297531390947,8.019978854939513,8.088963085935625,7.696733142543483,7.182445941987831,8.537320332181974,7.700992735134382,7.990330359043492,7.3488650327161,7.841459587080052,7.93447499832983,8.086525597891885,8.578572802386493,8.704382442948994,8.364795685867877,7.086762691911053,8.193152091206848,8.580999631146504,8.277624049841059,7.568741156993373,7.589688606180865,8.784560066950512,8.763194855553483,8.06864676583091,8.386767881681427,8.448690418742165,8.633246623349745,8.01332410084776,8.263137342884214,7.500482234214727,7.585367252407825,7.796477537945727,8.558216149354354,8.11241917863803,8.374401343904973,7.874264257722966,9.108330625034586,7.546308473453608,7.86611061951282,9.126716355681461,8.08794442332806,8.818062850610675,7.845234700553092,8.608691564278603,7.872078200402851,8.886996900446244,8.114944350693003,8.36169324229161,7.411045486505797,7.7876275511625375,8.311534003994144,8.61176628662255,7.73499564906573,8.331400395105033,8.68885855329215,7.794380857195886,7.475464904976545,8.820889482681704,7.562006464471157,8.208016752977361,8.274986726147807,8.24881523435024,8.693865789895678,8.047162998677951,8.347609994970316,7.811348066333879,7.689450007649852,7.412759838056587,8.171697254004018,8.236038784369867,7.861916161676109,8.965670652707129,7.058941977504712,8.281963126653554,8.206323639401994,8.375507302357486,8.485892508825488,7.494171863313824,8.40302937372225,8.25406890978618,7.574618064785405,7.968734798360322,8.37867528457539,8.781353824170424,7.484080362343224,8.038737145629192,8.072674196274502,7.743123527241919,7.697713986476722,7.331439073400187,7.817819807845286,7.236763154213156,8.641703381817319,8.240854465442434,6.785325583004442,7.443698534504707,8.80181586278354,7.871033897860932,8.477446377758477,7.82105830257633,7.354492643215552,8.52807974514885,7.781200137115093,7.751815036107819,7.3106470848554475,8.622600835838242,8.037665401937131,7.6313756520180105,8.037153078490485,8.211078425773394,7.835062271459988,8.462360931776457,6.807329579147509,6.723068552994586,7.6171690857262115,7.977191321533704,7.369768863910346,7.475311855181055,7.480445153755145,8.307356213744336,9.274078105012151,7.922804450424365,7.6755499666110385,8.730902920962642,8.709037997783248,7.325975357786941,8.851236423516877,8.034197838699445,8.940006259439585,6.895011074233716,7.504364262641299,8.097598810264344,7.643521449159492,8.535430220685218,7.402003624404461,8.074429838926575,7.756306297606352,7.895331667576397,7.620826706517563,8.74221352601827,8.61107043277383,8.60567654980248,6.865013893983664,7.870818263602318,8.349206730742626,7.444165155237138,7.891614949854948,8.36087797415936,6.71442623549287,7.313341972123742,7.3692055280312445,8.671208553054148,8.931007011914032,8.439331056679858,8.209338930095925,8.149953258848628,8.66548970578442,8.037842318268405,8.93904352362714,7.5051177131357685,8.126238797989627,8.246067284468626,8.042301887377134,7.882298767475008,7.198888466734766,7.368946355640341,8.22452982166217,8.052106319899641,7.89231663032031,8.0894821181023,7.442774144623759,8.243246966049,7.613499604230971,8.439950198328555,8.357076772075414,8.225832845879784,7.895820605343653,7.224873585590919,7.693576293946439,8.222567863757279,6.985966597674754,7.315845668871417,9.239470534811947,8.481456825860539,8.088867274808173,8.186827249277673,8.693867359385097,7.877533346794616,8.095496654890379,7.87889788771733,7.657453445980088,7.418600481180541,7.762432494515961,8.979982316755462,7.077838359242132,7.984189248002198,8.49134058152071,8.594352211717386,8.172224449283776,8.426306613264146,8.445612020751804,8.031757054930447,8.664135476587997,7.821665154838704,8.833500058724539,8.20089054993148,7.8714349670086685,7.479089038528482,8.39179020035041,7.509931354080513,8.188596330105328,7.430249274684217,8.115328131302066,7.929277122735208,7.902214032758142,8.058896099376577,7.58318412114485,7.672129586767084,8.457227163517848,7.369741352432451,8.262154826410331,7.910655815433398,8.136459676415466,8.709963505970185,9.181463138154447,7.299653790279709,8.304887551017027,8.424319878642029,7.871652786446712,8.829250585715222,7.943223235049943,9.123819048557898,7.841694859733084,8.511994897603746,7.546265710086266,8.11319510384204,7.552025397191118,8.542446382372376,7.966459685113605,8.792442989924824,7.769624354663946,7.957156390124051,7.688246847592226,7.627315764373725,7.204274412258628,7.132060337716676,7.802546913627108,7.91990618692121,7.83161560061569,8.390447900946821,8.66966788128705,7.391532827135576,7.5151016178635555,8.510735589018836,8.575932931218578,8.47622450154338,9.185670409467336,8.8901278058318,8.023730615152346,8.741628895495897,8.152538420690489,8.071181072896831,8.376285604197404,8.09934470530922,7.943912372469262,8.613464844636702,8.072816289004972,7.562273587523125,7.308469970757247,7.955135752524176,7.982323912404445,8.014458681131817,7.341061203578528,7.128183923889249,7.990657143968441,8.15000120501665,8.785025612157352,8.185989937674064,7.7317495697969365,8.1221870738424,7.168358385245806,7.706198036402201,9.00178379320665,8.02394386917945,7.138024287783128,7.6311813166210065,8.074760369561348,8.099898987739419,8.047731480324465,7.1914330116505045,8.101681647597811,7.9239367348757765,8.540993036306784,9.187802974657616,9.004830020020302,8.014199378599505,6.653800914341129,6.837654738323382,8.044811706418777,8.369648617466506,7.574123787644659,8.854162099972482,7.437259374933018,7.914085831586588,7.6926683881150675,8.491011652137894,8.498224422032218,8.041689596942769,6.931652549101598,7.680561062583091,7.375339296119299,8.45714170655139,8.777831645539056,7.5928618771126715,8.261156651269575,8.401730862522705,7.943670423098599,7.1633752993413955,7.151629154332844,7.433117161774428,8.468403279656647,7.827808283438424,7.142734753407775,7.947047567807413,8.074409979656876,7.7682059262619,7.751323993520636,8.97495099037507,8.19636220732622,7.063287633782287,8.419956422891914,7.863695710897502,8.603189097824751,8.997911379563183,8.388610061262176,8.265953023321332,8.702523653004178,8.440141685401924,7.92433980557517,8.013249637219406,8.485328356872673,7.009609459178751,8.204105962065046,7.500963848970916,8.420165674158092,7.629744813766192,7.8438155041962485,7.757587014736917,8.125007154836025,8.100634644891596,9.008424369266976,7.703235334144377,7.320440760945136,7.5959648253103715,7.272660016398238,8.250938385763927,7.554256331643912,7.4232067277353115,8.586499363229747,8.129937025683649,8.29082068448448,7.275859761969588,7.848572581531117,7.555992370132123,8.369179579251742,8.239934500667637,8.547711842042649,7.687385638433939,7.446948737267378,8.336721499852214,8.320611930142675,7.946479952494411,7.869934436434451,8.138660736086997,8.307587136599192,7.908842170310713,8.45647178598237,7.678975609897781,8.582557607288214,7.8943763775902855,8.951762724587958,8.000443053462334,8.202539268477478,7.694145907451715,7.329883783692969,8.721603149533948,9.129674809573137,7.5617215486625975,9.113072971252762,8.014529512443563,8.163171177056029,7.934649783291293,7.4317287391501585,8.005556928885195,8.17276966352568,8.348168377909024,7.332075245387083,8.07295769303228,8.013604808679613,7.038091502482917,8.33580885222906,7.621757501194043,7.000907849326372,8.360619614735867,7.9938052709904825,7.539860634493175,8.474399118145717,8.384536349585485,7.089988033391745,7.520813996414188,7.823163009596784,7.648538663481875,7.791990242469474,8.050446504571214,7.49946871821149,8.392432688617266,7.926115642704988,8.180003725602095,7.715848971807525,8.311959071718121,7.548288027477384,7.982782422467672,7.283998284795439,7.717183753774409,8.857534217447467,7.934719305389513,8.164027200473493,7.894648533743214,8.858064752570462,8.053332802742311,7.653822006330319,7.156673823948931,8.47507720676479,8.16657863624166,7.786815261987428,8.180374130411735,7.074008770601978,8.385110397479934,7.67740727486129,8.265759977060045,7.807300829175868,8.401462222267217,8.138438930547684,7.757529546769439,7.727632316180262,7.630277810301525,7.675681113543454,8.187926822416982,7.6264381322131545,8.366287760196267,7.885619553570028,7.8866166210404005,8.28174233407028,7.744726175688708,7.295553652984451,8.680139525343828,7.8564602134091,7.927130695659562,8.323928400531912,7.530574771215215,8.536188637570186,8.411909491129785,8.106219261127029,8.482837767275024,8.618884757023794,7.663694112721026,7.849430906558019,7.68825553101623,8.45532906140361,7.920898471308201,8.262763442228177,7.737066328307118,8.566337074722544,8.079276849459822,7.671415970296391,8.664024151862876,7.460297593051856,7.703240314961732,8.422357475194415,8.829583004720602,8.035985925366713,8.31578064995724,7.56040247429785,8.347982976960683,7.636636600320585,7.750115292533409,7.132760901985418,7.429814640379927,7.777578039197474,7.510666037631706,7.515526301445419,7.7241216016147956,7.518180771914544,8.839871762314239,8.183515745775969,8.33983884696943,7.325730677865556,8.68651644990415,7.71581006778888,7.6082522360190605,8.409631797996544,7.9695884057563395,6.927811840996487,7.754866950142911,7.43275939298295,8.812593742252117,8.112262802475888,7.819245299448414,8.554462885828615,7.315994533616043,7.828336383861967,9.016279405379862,7.662156520055691,8.563165926535376,8.125228831092915,7.623303807558394,8.136854471473852,6.968945522487477,8.168633379051055,8.72738139182899,7.65702654540343,7.067312318825115,8.58023683663142,8.430390808541915,7.468806125550942,7.738918429579725,8.252078565637872,8.690936302060829,7.1132101804925725,7.7073145150356925,8.149224129070928,7.6761085668412035,7.8598664784170635,7.5223554619242625,8.109409902810237,8.018192899962601,7.1185911530875,8.817466372441682,8.426291224675083,7.690306669397835,8.139942046172191,7.658441775710722,8.246306886096809,8.673701658536498,8.08589580807006,7.934544383286736,8.472057521147189,8.090492134258776,7.923990804260261,8.144723935872198,7.752302472772564,8.379361380975585,8.175516303308953,7.802078868729581,7.805591103003126,8.22666075644757,7.397627202911476,8.303220987179717,8.144291926473173,8.047313805137783,8.001875360797621,8.305837363322139,8.28981555685413,8.364902295157338,8.446258677703693,8.149388270084684,7.120727586694802,7.580018085353216,7.979484636169225,7.32308984653173,8.67456134689455,7.429205885151332,8.10435064560536,8.62148000995871,8.088473398916,8.165629972810311,7.414759212163498,9.073251117487624,8.671588475167676,8.136853187770669,7.842130949298516,8.996912926372136,7.491713249377786,9.30943138781201,7.361489238682624,8.884921210734051,8.976374072193465,7.629045357613306,7.900311307730833,8.390382790359835,8.671445457071348,8.536790581772072,8.324755993116405,7.8676191973782625,8.609567836205061,8.566357046805605,8.896868907952918,7.957395865420646,7.552921777876201,7.693368484902898,8.629216455894014,7.846034077053458,8.671101560166914,8.687073502457565,7.195778351400802,8.193645759174993,7.742666803161834,8.14941968636445,8.308439353070968,9.27557614467077,7.834960558432426,7.646394578166013,8.075686292543708,9.08733934736525,7.92158884252765,7.8813743804081025,7.953989065316465,7.309280165717623,8.067908666393903,8.16838150974402,7.9009000884964165,7.542400936201439,8.919555447021484,7.77813398554255,7.774077179704801,7.584423780543592,8.270856288037013,8.1481821936086,7.672959871355801,8.06471741533336,7.218080301877453,6.765632216824452,8.076615144364318,8.99142969405562,8.082258055915945,7.6139095013538185,8.034057641398254,7.798871430600963,8.076288486424717,8.535806141755094,7.5585923675962885,9.000633215119256,7.955432014983908,7.505919833193747,8.831135615978187,8.95420534322187,7.686395755812308,7.676924406182706,7.862566526075003,9.289759378235926,7.215004243138119,9.004448959375496,7.730463780915802,6.869642810613568,8.475171405901254,7.679315098126597,8.022592146390297,8.165601191831653,9.305763556571286,8.352282991161863,8.556012267948985,7.57063538707572,7.684614970962033,8.178321512015629,9.58995620897894,7.289886283888304,7.537735430062704,8.196756759133239,6.627532948335457,7.094893430220844,8.333028756771052,7.195105325015875,8.198577363054302,7.442850660936805,7.26552064166116,7.809631510707826,8.385750539318371,8.031643536914746,7.958111873579734,8.24711994598877,8.207125131414129,6.6071179870848304,7.399385108506636,8.143927928637263,7.680437610208042,8.411539368150093,8.128530623772509,8.115267104518493,7.911341090114861,9.45550480801186,7.983265669339301,7.054304426748522,9.018115099230116,7.6507830078648125,8.605065371934218,7.658831522213294,7.729710294641195,7.452405522863301,8.0126540429525,7.180084275381609,8.335892806100581,9.038841994651426,8.242484520309022,8.158382855772409,8.721920313724063,7.997645683420075,7.95323635752992,8.199156391291753],\"type\":\"histogram\",\"xaxis\":\"x3\",\"yaxis\":\"y3\",\"xbins\":{\"end\":10,\"start\":0}},{\"marker\":{\"line\":{\"color\":\"black\",\"width\":1}},\"name\":\"D\",\"nbinsx\":15,\"x\":[6.051094188186594,5.811288617102414,6.103503929593562,5.913976474971662,5.993628361656043,5.833840458905688,6.061795254449928,6.011295725218656,5.480484537841697,6.350703590056796,5.8910732100757155,6.880728402880728,6.317920540716761,6.570601341221278,5.893399296578903,4.992953520217439,5.933023580486677,5.71372046137797,6.0559540740009,5.247451626632968,4.9948782211264176,6.146011707468894,5.867268602335292,6.109214662899843,5.896776674421724,5.918342078037533,5.952903806957583,5.883320032351075,5.410959915937952,6.765078636109621,6.427213221501031,6.698972205470733,5.794924768098038,6.775681935542516,6.298554960720767,5.987756984577342,5.192024909409063,6.119107844521316,5.224592245243524,6.933743290321728,5.9700048308983895,6.07559610167824,5.759236905371378,5.198151733433665,5.996477755084764,5.738526181943807,6.453588865439627,6.1528250536181766,6.432414326390319,5.358991084305878,5.515109201484938,7.003520002790289,6.096086945265198,6.254399517916788,6.076159041339923,5.947260509280595,5.219221511556052,5.3179992577837725,5.801515013821799,6.68161732058871,6.1180150499899755,5.417138578769038,5.215869588609529,6.396943260006252,5.480295306453897,6.187999115751546,6.057435306514023,6.675554240203196,5.282582598015129,5.385206455006304,7.027842234243774,5.464524498491965,6.424205625292978,6.2029787080134815,6.964012935459668,5.839820022933558,6.055028308191769,5.406010151657789,5.51717082753427,6.192771536247264,6.306399841630526,6.127101159775135,5.621215446268133,5.647615298179755,6.2721805479677695,5.633138296916895,6.490069025627336,6.844676173336214,5.706249596832215,6.85571562077659,6.594410169059062,6.336270135795437,6.593524443000938,5.730494181189748,5.519244635927507,6.3791726030421465,5.8811919668016595,6.739409889414348,6.157410385643781,5.633649536306573,5.494939758128368,5.986426057316305,5.929375544531345,5.89328259708973,5.389028619514363,4.754911756711005,6.102251441417426,7.313269052806028,5.585539573944719,6.407589751186851,6.347592152466613,6.26694007059642,5.858121365249144,5.886098065364146,6.26069092545272,5.83199556088576,5.783968976704381,5.391657443986075,5.912802945848425,5.189110299475052,6.440936414378179,5.717084689428146,5.720787711793657,5.694982459113798,5.511359279098358,5.779432622038948,6.012653969440492,5.4672762720384265,5.774024769349512,5.681425892193,5.932730514110133,5.7453448818741215,6.947498740106326,5.638048575812826,6.222568620106434,6.7212671914346815,5.813548780737882,6.029685189972006,6.904737057745463,5.871162777498096,6.304743816671618,6.276958095602882,5.797118648665354,6.482400097640773,6.112991493782989,5.332202526317799,5.19714456363014,4.890224273958443,6.665599954488757,5.701920237166248,6.605277624585665,6.598558044895787,5.772942490175986,6.678521536038103,5.965880309595857,6.474928352636226,5.958546658939909,5.49706961556938,6.810887365209124,5.598089181741377,5.569023341456725,5.81955858575817,5.881484251551714,6.4786948920999095,6.254252663411882,5.883223288979527,5.74475985948303,5.503347066375899,6.162359559555608,5.35266955080283,6.259322885909025,6.3234787581578145,5.373552548363583,5.953911708188867,6.025290273977885,5.628988300569311,6.043456513739633,5.346884913040395,5.449613300937162,5.761899189542897,4.734157200861864,5.239540476962204,5.257243114825346,5.499489456071789,5.732278362579248,6.0139354773697065,5.743379395138813,5.188771362096794,6.297444459421437,5.638912617750547,5.596541291981606,5.650544242747001,7.0896465194000715,5.919029781598459,5.682592502924775,6.478070210755555,6.701324187185721,6.132159093962005,5.770151840607616,6.1079408285642645,5.428852794568984,6.095809965959596,5.760363595963218,5.88224946193116,7.258482548175318,6.266130841607787,6.516190943468018,6.499082373392262,5.502397811405786,6.3011080235862025,5.444364587029104,6.527246100423526,6.490498567253487,6.577942045550816,6.1415961094144755,5.799709811694389,5.542922440289226,5.004946553219582,6.151787966248991,6.323702761483506,6.5876893153986185,6.66944207929056,6.430209283621097,5.880369242651319,5.412473576871597,5.729282875404831,5.480362478867043,5.42970928325946,5.8044010264053405,5.771323903618749,5.493308687531615,6.51771182721373,6.644209870411802,6.6917943587659945,5.626063862863189,5.774209253849082,6.589465009915616,6.663340170514508,5.954057761667591,6.523214234601591,6.044481663280342,6.206978162453221,6.176755584629097,6.299726574588938,5.579333837702759,6.76826830877339,6.458418311177891,7.504128826835578,6.258655166071948,6.163878911773273,4.584462096274512,4.835978008684642,6.207519787518032,6.090207114829854,6.071611709808721,5.761073112727731,5.574612889925749,5.675722440922848,5.8126264394162455,6.192834300453716,6.373727444316245,6.81589557727564,5.040105271068685,5.857507997405088,6.7252881316377096,6.982125795058877,6.075465012023244,6.108266732514551,6.026715523343697,6.0710165511429945,5.921677354360507,5.899926551888173,5.528095665603434,6.073559913617812,5.966398288839787,6.264711126882813,5.557667177085686,5.766760563869838,5.806408102111239,6.02825272269241,6.311952488036693,5.943910358689873,6.2156796071460585,7.2714315149120745,5.388345270652225,6.19744734512926,6.209290025429358,5.047618872549021,6.241703021058234,6.150001896817388,5.594507159059253,5.461068750403382,5.223187821236764,6.422315647628077,5.7582111198052575,5.918864533446396,5.716783307606617,5.950839271749497,6.557688743103023,6.553698791022853,6.470779885342934,5.610315696956076,5.71174020435509,6.00046655918586,5.871742823572586,4.995406550868699,5.766057239934441,5.925062262696781,6.689717014539876,6.786744642377137,6.5687137397464666,5.8380680667835785,6.082238061446665,5.858945934302488,7.032884672995681,5.900538859980127,5.304658887127651,6.043948982231174,6.680051092726703,5.296261539040574,5.667961608484259,6.220803230187309,6.425537073312048,5.705906711296677,6.357141777055846,5.9673263454550804,5.7173964323149615,5.529188983514293,5.335136974402535,5.994932739579325,6.088598891193395,5.636236907754735,5.413490164373819,6.375761428628885,5.645840972519863,5.642511352735456,6.578063521057309,5.734340699728281,5.348146975211724,5.297495888263002,6.629571172243567,5.7176914615564876,5.500408214977602,5.544397659773976,5.935466322197463,6.081859156164248,5.269986860274705,6.38337543785642,5.349659756785629,5.083560529176814,6.191676409560279,6.199234714204925,5.9549802674620365,6.158440899499037,6.083441405107697,6.148163274825562,6.622283639940634,5.627517674772434,5.784017934302618,6.346866672999408,5.643694436039757,6.319491957188128,6.015960474634572,6.59539564878653,5.268056847410662,5.344278565856193,5.787971718807659,5.872274686092634,5.933415566242014,6.175782880712686,6.7900522049301655,5.3870408057279064,4.848721701935315,5.710325389959785,5.585472103936116,4.838638792603893,5.9136386377692025,6.105209612384182,6.500630086393022,5.76175909956318,5.997834974766585,5.772204209310771,6.524514493110007,6.2521474890327635,6.175862935520351,6.082587192540283,5.869800836629626,5.883414350400097,5.740501006211277,5.756910283235028,5.4664383694355765,5.68832367060897,5.964070988548147,5.382060761378734,5.544848132220722,6.337904087023072,6.51252146731658,6.602442894282277,6.8307339399609095,5.156420781564012,5.644458650062584,6.5088214270879154,6.117513062650342,5.839952083002782,5.811455289417456,6.54430419779657,6.610240905224275,6.5087849814540535,6.081739040607689,5.899889926762841,4.595465856337015,6.595397751777592,6.271812584130467,6.443656641233597,6.126212776081487,6.555647252740444,6.664306454977456,6.1522178970618615,6.497718123582961,6.13707462807878,6.310048472203699,4.967539070126001,6.330002183710195,5.531687450810779,6.152718679297009,5.236370299019436,5.587938323275802,6.283754154877463,6.023486942991925,5.184306639393236,6.327857632734656,6.216419507215771,6.137986120798322,6.650895762506554,5.0220273579038235,5.71719818132853,5.579586240088257,5.59837861532858,6.400923483361256,6.597475682609434,5.921545735668826,5.813273447469788,6.426119170292097,5.886445390255396,5.519682903845266,5.466693930024128,5.513541019802902,6.276607753653167,5.98613394782643,6.378908678482762,5.947371273061868,5.3553659868405585,5.590273500441108,5.843163515787267,6.231762575606831,5.643467198468261,6.4504645419333855,5.558510314052574,6.625413046932107,5.432809004184161,5.523016308707108,5.27063672463022,6.667307099279769,5.995875702671861,6.2664931729665465,5.861354535649307,5.697642577398605,6.512339239417414,6.158226555413067,5.754561477068361,6.182206480370864,6.348201383821156,5.555296355414634,6.548835776130014,5.712380857733038,6.338343278170349,6.407159534873339,6.4120761419973675,5.523157240825158,6.8505180372708,5.899383361411724,5.844565711668645,6.178347924905733,4.968308874097813,6.457035537849284,6.3106286572113595,5.882230883284397,5.656691493228048,7.142728045438511,6.060737155355496,6.688461292843584,6.155989646421385,6.819791058023874,6.086075246709423,5.7937527668059206,6.253334640981694,5.90940885186983,7.642408589301617,5.741248560268084,5.637596225712468,6.245811060649144,6.285889213309738,5.801350249179373,5.070865365659246,6.244536166200193,6.118952023244324,6.301162340025001,6.557456330481787,5.936393345688544,6.1006947773771945,5.894498616682133,6.010802343027954,6.534240280386525,5.912373618057151,5.766962553323252,5.401541998521938,5.694136961777959,5.980179016234158,6.6015582137391595,7.019766298310017,5.172849478718684,5.713834026030581,6.688405729514896,5.411352758635666,6.392877289998854,6.095325779409273,5.905128129326492,5.55388025431324,5.78773856334699,6.218990346716785,6.491679152514009,5.309190909189173,6.5892786658334535,6.71910083388151,5.825853578940532,6.0796744189958485,5.858491151189695,5.806525625283862,5.9449716476592664,5.579781968827347,7.155763089666277,6.658040893643003,6.681398388535088,5.857984207652403,6.238055975888963,5.800513453390971,6.627706293927057,6.514355644668222,6.75479279678325,6.060935479500595,5.876600145320508,5.652077200849884,6.0688646624742475,6.718825013931298,4.927056186345453,6.271540289582785,6.062897698407108,5.9482021493773525,6.214306788219873,6.587643640058877,5.661039067625394,6.0622629400158425,6.123351113192674,6.3947879014184625,5.248278140086829,5.750080797429047,5.988885197144955,5.828465818388518,5.164443314505405,5.467140210910308,6.343891079339832,6.6308408990799315,5.509039306344618,5.7320859214278865,6.377260660626871,5.960605647846502,5.832605451787872,5.760140197764434,5.573878046697732,6.024306632300176,6.182692965368973,6.106146451451934,6.325057572466297,5.960067988434393,6.457403290949068,5.666623629982055,5.494594360524732,6.106442061116331,6.96637498211898,5.4558825632297365,5.974830288038928,5.631715239623681,6.087004831726277,6.821785184127303,5.150193816380478,6.447623411137408,6.361393970661693,5.580522605162163,5.679689200972716,5.1197012718044235,6.7971823146637895,6.340887896830701,6.137739289002335,6.426626110360618,5.91567508363862,5.339921525696556,5.39188603528376,5.662087592196787,6.4387281343697325,6.6299452437874455,5.8943754054242286,6.725926887508606,5.96172900974573,5.747889920500918,5.653250238685107,6.376158786698775,5.915902371406896,6.509373601426706,5.896785103525943,5.98826697832819,6.157238174667549,6.061186677297908,6.005946281250581,4.944638546851876,5.677530708684812,6.60975942446333,6.2785210826105935,6.483420320482117,6.444658348462502,6.330472328004051,6.660628166295666,5.3790639046951485,5.264229568069917,5.651337653760113,6.0684534442123415,6.154242005250759,6.095034692943433,6.444176954138811,6.09625656443075,6.102545148149837,5.647821296225106,6.2003583332932095,5.647656697162021,5.785252668918376,6.338378573047209,5.55350054104653,6.425068037667307,6.2999552652576405,6.115916944173703,5.961334792313259,6.570702363420919,5.857260140783188,5.68241603868451,5.706486614006189,7.081236308269753,5.825724922079801,6.7643028711096385,5.814120246888069,5.919894382611742,5.527649117690697,5.309671063925075,6.02007224241407,5.465587549409122,5.480962817032115,6.219835735227575,5.275662389520221,6.472842130179245,5.149145854782059,6.431092164154733,6.525937952574372,5.928867078824378,5.531198509492718,6.464029350287569,5.77569291901792,6.234549445881799,6.285792880822308,6.980849611041809,5.609037622210702,6.814759640653905,5.939595401712381,6.794243066961848,5.575470126829579,6.725345321359194,5.736643538809787,5.969112072808787,5.933569455163273,6.113532040064458,6.210359115815343,5.939056859826979,6.104069538759066,5.780958670625709,6.090047934030538,5.989288639287444,6.657922818766357,5.359953997244237,5.858197004064424,5.7331290921442974,5.809339353497337,5.633493652575271,6.0023156823522195,6.249263790251601,6.18582062219678,6.283078015943172,6.937065184230815,6.741203286716851,5.879768174099484,4.965864249835152,6.49711203066428,5.028773196931385,6.840964087801508,5.77963672934664,4.806683796975013,5.988484448004607,5.826852980144695,5.862898285798667,5.395603719599788,6.733098827759865,6.285489004072899,6.193847332131629,5.3004013009632525,6.258012526110715,6.137064477262381,6.257046900090818,5.909813764221102,6.055101406803736,6.2066768550740115,6.301176291910087,6.227431952553715,6.411903465980426,5.9915624306477175,6.373845221966361,6.044260368202321,5.376607443066254,5.2324339384826954,5.768996084643122,5.835711463608818,6.519318529172157,6.422718697200042,6.193648275854043,5.911911849671958,5.584467413047965,6.367130851767145,6.9895504016604955,5.72931350206279,6.152279274847431,6.273947295289724,6.669615580763418,6.694779482007188,5.835224356036321,6.057989479626658,6.659306475922809,6.176254161199806,6.270267967698582,5.362530414731755,5.915472828474202,6.048894350460666,6.287881812968701,6.081242085910913,6.5670419093661545,6.005611934566136,5.932729023111146,6.885971406709674,5.695628316945606,6.036131885221602,6.0720490310216695,5.551773666215962,5.253509279703529,4.4743045883338155,5.676410238948069,5.927742938580031,6.585156630796364,6.309077957594862,5.5530209566817055,6.695761077196891,5.872223988469274,6.336927865826555,5.870195105049029,6.276838549146931,5.722606087531911,5.186827165137929,6.166422491998034,6.078587628288341,5.4565321933819515,5.999412363875001,6.424253729264708,7.174706591630519,6.592685106743471,6.147600728774005,6.25053582864426,6.682391460988148,6.248206351009122,5.604386158119461,5.469278982755893,6.188921983678072,5.522772291608149,5.359819188747924,5.999545203235904,6.377657573338952,5.767648255531219,5.997368723230389,5.72649112915402,7.027373789192763,6.454726226251554,6.4520053078549795,5.968070546164448,5.779259844878866,5.367443880369361,6.56258972038753,6.299590154993762,6.241959759893482,6.348500579843659,6.466640518790536,5.23300250785597,6.357542569293162,6.726664481437574,5.797338654829034,5.275751552147389,4.743975194428547,6.334216852109692,6.078588605802509,5.558003350165486,6.559355334381191,5.832283931629122,5.718849577312521,5.91812849706049,5.739868122573217,5.523982707599142,6.948775842344097,5.85227809210448,5.066650494680262,5.8656798790845,6.19731966834467,5.730617358931113,5.829557272970621,5.2501592975569595,6.3848314801466906,5.753617554976805,5.1881689587740745,6.851017759212597,6.463424894372717,5.9738456494434935,5.716683082841986,6.52521772522236,6.373692334690569,6.11395008393265,6.043637294461166,6.0170985728713156,5.920787687587288,5.923507029310663,6.101260131398256,6.441099067932099,6.004756584156223,5.4906215515759165,5.888596080610645,5.24239515087421,5.42330654388537,5.819674068887634,5.640799397155558,6.319677186057297,5.428491009980011,5.9521229781866465,5.776689958503356,5.273722331965857,6.530669206543906,5.443152647105849,5.078641859955368,6.351135866867456,6.053539669604475,5.722017304107219,6.759159889079393,6.183343851969035,6.218099567520525,6.367052302239756,6.211191265916569,6.544154563962309,5.8397040756463365,5.802595999233433,5.611422526775124,5.373000600575058,6.429992469307753,5.902144785237542,6.104479222449212,5.28391156701108,5.8086715463467975,6.525277895029111,6.512312486012583,5.733950554999008,5.744800000274304,5.704500563665841,5.602058458143802,5.4063199821099674,6.353893660135312,6.253934663653894,6.012126972230464,6.13268211588864,6.125746038084285,5.060985561125875,6.3412789113107095,5.966018081212101,6.6191083071339705,6.0949899102131075,5.631149873081511,6.517549105000781,6.033039381666498,6.721856625541909,6.023060123880075,6.587223399806989,6.850671883475806,6.20334100777849,5.94212464769559,6.73869468585896,5.688493686626173,5.398872034052244,6.7759148258778765,5.002890174431641,5.361749098638247,6.40015369381627,6.048096661344367,5.711950470854113,6.383437903617071,5.725372357131263,6.236484830119762,5.473356738519095,5.608588276862262,5.355871140038022,6.4573128327218035,6.17727859616575,6.430460682669961,5.990572735237517,5.914037141732569,6.3540285125578935,5.620019991370583,5.740681584020129,6.257240792278468,5.109031013755862,5.975152816022859,6.000135529913238,6.484161103192051,6.221790385856975,5.849672887003885,6.171191935926129,6.673930697632294,5.851729230896459,6.32147179250206,5.893295387103404,7.404762331578417,5.884912020814154,6.37908656019457,6.10149192534538,6.423353447857298,5.632495942278208,5.521072454455414,6.11784674123387,5.740185690154576,6.529800486445683,5.4998528570631695,5.814441658988581,6.2987849924085655,5.70592081288622,5.943029592102844,6.171742639350865,5.4797265349943505,5.58794888763528,5.679530042985601,6.10410869861119,7.108240584758688,5.766745329805046,6.310334802666671,7.161826613959505,5.204928246377552,5.272576476895542,5.8270806279792495,5.244920097819104,6.413010237917039,6.59890326609094,5.819159004264519,5.287840429331623,6.470000673562325,6.220074049523377,6.5030410689763904,5.58735485702677,5.9849850868338415,5.406507207244965,6.481138396786403,5.654979259881211,5.216626432469485,5.772448280834409,5.3977485743630895,5.701540770432991,5.100747311597376,6.234464869819764,6.489694172549003,6.413244635413858,6.449757032789316,6.545388014894802,6.066760290836401,6.01962869872871,6.068856307415158,5.625105438245725,5.726356241604351,6.765316103243554,6.074517401397569,5.988424380887922,6.7712641862983,5.778368885359127,5.810181081628852,6.26614518487478,5.526268416312427,5.8544549063109494,5.397355862991176,5.342227639974216,5.763587628815695,6.195077696649351,5.704186534066608,5.669676634892457,6.074480959961495,6.5478055082600655,7.159178484332382,5.4111319482960765,6.641588330489211,5.810464663243896,6.209072592947495,6.029813678236668,6.8196619320586604,6.622004014370569,5.9704828392721785,6.241557100317733,6.188082921189724,6.582000316547836,6.2458935964611895,6.307243292764086,5.504494497529505,5.679656730241817,6.090494337062806,6.632059430214606,5.852922973454037,6.200841014176116,5.723220259022296,6.5299534001114115,6.123338412021124,6.484680527212132,5.5384657147463905,5.46683483292003,7.442661163160796,5.483560941783195,5.678610199001718,5.789236070917044,5.40983811712057,5.7920032232304415,6.175715959736102,4.9722979111880115,6.008627598369042,6.071196948539662,5.733811854898745,6.178683976442018,5.589757974786651,5.192500086583524,6.027598375445869,5.81229888325988,5.254411959949522,6.440051802121605,6.1207614819248874,6.323002103775309,6.936313386685575,6.263246796831032,6.264872532132939,5.895588895305789,5.273323772891235,6.170298547042609,6.476338845849475,6.6796683834813155,6.4427429437875166,5.519303762759506,6.435440851930582,6.332236829695513,5.649718047832611,5.927076073632312,6.175906150235804,6.015921609453633,6.271252036839296,4.894431678078858,6.069029235566514,5.640606315042352,5.887423950084648,6.381165910575268,5.582214984345797,6.688762232691177,4.891431169615152,6.60704584614663,6.171507971804495,5.973610944948944,6.719045924136623,5.994094598223123,5.674591678015493,6.256608929003632,6.805758790711919,5.2740709113804805,6.381618508632304,6.07573857601234,5.452374942852639,6.024580854507382,5.56174655042083,5.639332134907185,6.226328632980845,6.215916522262205,5.856090901201645,6.4711060954932345,6.738743051462123,5.719897046119563,5.698090668906282,6.358370886068701,6.107819915801926,5.901922562465509,6.136665437303891,6.11801779118371,5.733615379577081,5.781634500028203,5.711534177737344,6.220876121657185,6.642630275183183,5.682143567567607,6.139661786709748,5.360568095042603,5.38830838766101,5.523520685796404,6.06294334601498,5.771498375650685,5.886359155087388,5.841113747853661,6.37610821400594,5.355145115852787,5.420393391253215,6.17926093383449,6.139967790018994,6.58048812044196,6.329799373823961,5.510215336718301,6.396137941262923,5.776128556828221,5.90745308115494,5.428870800444453,6.195791599410361,5.516070700398844,6.486921129635976,6.3171420545059425,5.106186087492571,5.995477929522529,6.141409170768716,6.3243136572718,6.016068346370091,5.461287122709715,4.699943421566832,6.005806329666355,6.505350199137851,6.482588744310342,5.559345435125657,5.794714110570073,5.248434947872967,5.812953930761447,5.8221095825703415,6.087313769993447,6.2465401725755365,6.859158477891233,6.9207959448752145,6.299254149794272,5.931406335246221,6.009834609302194,5.590905174436341,5.478203138047678,5.074634936052682,5.093184527000524,6.262359370522538,6.3857581951814275,6.19335375166262,5.944676656288074,6.152536854701601,5.162011464111933,6.181725978914428,6.978947865581047,5.881765705097518,5.9225468246781405,6.162235498778081,6.134545286509266,5.812667558513855,5.994529612037571,5.571987287384979,5.1381434323214,6.056237834129731,6.365566104698981,5.990945302768999,6.341628664999117,5.515676963706392,5.737648608250706,6.632959233235468,6.394178932645898,6.035636094609142,5.4562478705110244,5.591204629445362,5.795462606569044,6.481766252646297,6.020613571557117,6.43896480255398,5.520650870137283,5.97013139901098,5.209484103227082,6.332460819657306,6.4113094312244145,4.737114403990716,5.953434811200976,6.512534804670576,6.112602855158689,6.051313867632056,6.4198937836736345,6.039469998714183,5.405747917064027,5.251499341657198,6.059038629782985,6.519479328719516,5.821339917997472,5.68678168421457,5.353502700089382,6.647865666132746,5.418207922004895,5.706548330314299,5.645938319436164,6.167916885168592,5.388282056482748,5.666668079671166,5.539414011411787,5.723202845634022,6.72248275572207,5.409677370892862,5.715526657269611,6.134187838976927,5.931944442199843,5.338032374089159,6.030572948815556,5.47944081486326,6.584639654392238,6.615244132642077,5.112990312607999,5.156111837398808,6.526712297499708,6.408513723206413,6.71250815540292,6.130682383248753,6.130922830170416,6.208295882473514,6.125848263154217,5.819147213208974,5.9702986063671375,5.717182563909855,6.506774939620211,6.28885456712991,5.1889656131091355,5.479897755236444,5.888389040767437,7.219259953108263,5.127557033744613,6.826475828416815,6.203713004571119,5.28038742366415,5.078483918831286,5.913333247028068,6.026695282755879,6.114798333066566,6.913543266722817,5.6930076717355345,6.20367194341639,4.773511491591286,6.027530683766173,6.30843250569351,6.680837407191143,6.157469389350365,7.389584083285074,5.7370590379650475,6.115906552092331,5.843030179205151,6.527009532108181,4.907868772956628,5.458862052111974,6.225611997495085,5.897245707754741,6.430093858006183,5.246932399748231,6.615468618406627,5.807955174505378,5.7856559651729915,5.677830693181024,6.850342854992594,6.580014729712506,6.149320565477617,5.737478958398227,6.653842537833997,5.930966228737569,7.0943164419710705,5.539220923621066,5.283752593880351,6.521353010685354,5.72367814816909,5.636539470885477,6.056406950596997,5.455962242244826,5.803165059424812,6.1769273588343925,6.382558003174874,6.361977324152848,5.472243954361836,6.1083465821762255,5.092800620792003,6.528683706485187,6.2322282121743156,6.079369279268596,6.8178653198083214,5.574887687976394,6.0238146199142815,5.442601192618948,5.249911116828355,6.709163053937763,6.418584342093261,5.046581929218063,6.153535905058715,5.897724785785836,5.956115672935945,5.549536221772007,5.398242816912033,6.081812790216536,5.506744317734414,5.634242896015483,5.942619841384292,5.967904976394897,6.746910717499298,5.481588094289016,6.359109433781546,4.957285361897075,5.814732120696998,6.02728205721046,6.019896986398778,5.842730873841162,6.229952079401163,5.271023346730183,5.498847857471356,6.26452830421926,6.2728791983,6.240616233757311,5.79340700494894,6.462564674993412,5.8513115577741255,5.6626738231451,5.57574209991863,6.23350162918386,6.7548853003845135,5.787539276443572,5.121319493785924,6.7271119667835,6.296468938346177,5.823921305843106,6.075484620969105,5.55121064566082,6.017928201580409,5.932549486887471,6.382167306193017,5.932125859619617,5.9541283191725825,6.042937180683912,5.331351788390122,6.124347590504689,5.921798011635368,6.1760298197472405,6.04166668558136,6.3241677872974815,5.8243240008648804,5.7657913085156425,5.7469269785930654,6.746198647011531,6.188699864866817,6.058909280324377,5.767927307315447,7.070468952135704,6.4404414419870415,6.105594280059086,7.0471125349965815,6.753371072461794,5.739596957228777,5.3008674657132495,6.01557428917754,6.216391945809744,5.691822928437253,6.749841720719273,6.204359911220079,6.232887897503552,5.605662077275255,6.743563287241096,5.878572564265684,5.4087025232080785,5.012949260160978,5.207518187086151,5.735510500226557,7.0539431674050475,5.457122725955403,6.218185664790165,5.6924327281566,5.810357286367219,6.244035617554516,5.592194816294045,5.787619188129946,6.060688785673905,6.231611047887051,6.150832140597085,5.6891409459543825,6.7409375052636245,6.918310507203528,5.7670251798882175,6.487728261592428,6.377563794933836,5.813542556439504,5.788924198802471,5.70848036186272,6.850932643752771,6.099620114368025,6.934747046352304,6.886815861084036,5.4638278512930585,5.940749408013331,6.241379064272018,6.167304988388329,5.923019489285094,5.333381783427238,6.929137817937751,5.197640164323754,5.815526259611552,6.224005100398079,5.053477347955116,6.927448934706506,5.529991354340175,6.401527677773385,6.10887121077628,6.569659487944569,6.006752448218731,6.171471620910868,5.5594606551670065,5.685344881129818,5.763801734505975,5.660403969744028,6.625603928028593,5.691188451973382,5.697114603931029,6.6248214077659755,6.394392247067755,5.57439208235377,6.409639840337376,5.331900545664482,5.241170211227672,6.836322923074825,6.868829276158538,5.41394879514604,6.5499194469717255,6.045946836514428,6.650175987749851,6.735682304198444,6.401329820240164,6.190669993690839,5.668187202932624,5.728620102259895,5.761794810907673,6.087214765633263,5.819928961736654,6.0835268494809736,6.7595358234446,5.157347928212169,6.463906116994863,5.910067415847258,6.171891959124901,5.406615826637413,5.776403023768905,6.4895137195658155,5.662805949051307,6.301973026308192,6.036552398291508,5.761566714238135,6.255543792174195,6.22527194503133,5.7787498243163276,4.99244204284783,5.953360980125805,6.113480668314389,6.048440366951861,5.213918927263936,6.378873780276099,6.377786534472923,5.5263320236437465,6.249890029862122,6.719473204124154,5.613200533502207,6.669079806109308,5.817203294533351,5.817140541044171,6.007523922138432,6.691983617809596,6.327323818427431],\"type\":\"histogram\",\"xaxis\":\"x4\",\"yaxis\":\"y4\",\"xbins\":{\"end\":10,\"start\":0}}],                        {\"template\":{\"data\":{\"histogram2dcontour\":[{\"type\":\"histogram2dcontour\",\"colorbar\":{\"outlinewidth\":0,\"ticks\":\"\"},\"colorscale\":[[0.0,\"#0d0887\"],[0.1111111111111111,\"#46039f\"],[0.2222222222222222,\"#7201a8\"],[0.3333333333333333,\"#9c179e\"],[0.4444444444444444,\"#bd3786\"],[0.5555555555555556,\"#d8576b\"],[0.6666666666666666,\"#ed7953\"],[0.7777777777777778,\"#fb9f3a\"],[0.8888888888888888,\"#fdca26\"],[1.0,\"#f0f921\"]]}],\"choropleth\":[{\"type\":\"choropleth\",\"colorbar\":{\"outlinewidth\":0,\"ticks\":\"\"}}],\"histogram2d\":[{\"type\":\"histogram2d\",\"colorbar\":{\"outlinewidth\":0,\"ticks\":\"\"},\"colorscale\":[[0.0,\"#0d0887\"],[0.1111111111111111,\"#46039f\"],[0.2222222222222222,\"#7201a8\"],[0.3333333333333333,\"#9c179e\"],[0.4444444444444444,\"#bd3786\"],[0.5555555555555556,\"#d8576b\"],[0.6666666666666666,\"#ed7953\"],[0.7777777777777778,\"#fb9f3a\"],[0.8888888888888888,\"#fdca26\"],[1.0,\"#f0f921\"]]}],\"heatmap\":[{\"type\":\"heatmap\",\"colorbar\":{\"outlinewidth\":0,\"ticks\":\"\"},\"colorscale\":[[0.0,\"#0d0887\"],[0.1111111111111111,\"#46039f\"],[0.2222222222222222,\"#7201a8\"],[0.3333333333333333,\"#9c179e\"],[0.4444444444444444,\"#bd3786\"],[0.5555555555555556,\"#d8576b\"],[0.6666666666666666,\"#ed7953\"],[0.7777777777777778,\"#fb9f3a\"],[0.8888888888888888,\"#fdca26\"],[1.0,\"#f0f921\"]]}],\"heatmapgl\":[{\"type\":\"heatmapgl\",\"colorbar\":{\"outlinewidth\":0,\"ticks\":\"\"},\"colorscale\":[[0.0,\"#0d0887\"],[0.1111111111111111,\"#46039f\"],[0.2222222222222222,\"#7201a8\"],[0.3333333333333333,\"#9c179e\"],[0.4444444444444444,\"#bd3786\"],[0.5555555555555556,\"#d8576b\"],[0.6666666666666666,\"#ed7953\"],[0.7777777777777778,\"#fb9f3a\"],[0.8888888888888888,\"#fdca26\"],[1.0,\"#f0f921\"]]}],\"contourcarpet\":[{\"type\":\"contourcarpet\",\"colorbar\":{\"outlinewidth\":0,\"ticks\":\"\"}}],\"contour\":[{\"type\":\"contour\",\"colorbar\":{\"outlinewidth\":0,\"ticks\":\"\"},\"colorscale\":[[0.0,\"#0d0887\"],[0.1111111111111111,\"#46039f\"],[0.2222222222222222,\"#7201a8\"],[0.3333333333333333,\"#9c179e\"],[0.4444444444444444,\"#bd3786\"],[0.5555555555555556,\"#d8576b\"],[0.6666666666666666,\"#ed7953\"],[0.7777777777777778,\"#fb9f3a\"],[0.8888888888888888,\"#fdca26\"],[1.0,\"#f0f921\"]]}],\"surface\":[{\"type\":\"surface\",\"colorbar\":{\"outlinewidth\":0,\"ticks\":\"\"},\"colorscale\":[[0.0,\"#0d0887\"],[0.1111111111111111,\"#46039f\"],[0.2222222222222222,\"#7201a8\"],[0.3333333333333333,\"#9c179e\"],[0.4444444444444444,\"#bd3786\"],[0.5555555555555556,\"#d8576b\"],[0.6666666666666666,\"#ed7953\"],[0.7777777777777778,\"#fb9f3a\"],[0.8888888888888888,\"#fdca26\"],[1.0,\"#f0f921\"]]}],\"mesh3d\":[{\"type\":\"mesh3d\",\"colorbar\":{\"outlinewidth\":0,\"ticks\":\"\"}}],\"scatter\":[{\"fillpattern\":{\"fillmode\":\"overlay\",\"size\":10,\"solidity\":0.2},\"type\":\"scatter\"}],\"parcoords\":[{\"type\":\"parcoords\",\"line\":{\"colorbar\":{\"outlinewidth\":0,\"ticks\":\"\"}}}],\"scatterpolargl\":[{\"type\":\"scatterpolargl\",\"marker\":{\"colorbar\":{\"outlinewidth\":0,\"ticks\":\"\"}}}],\"bar\":[{\"error_x\":{\"color\":\"#2a3f5f\"},\"error_y\":{\"color\":\"#2a3f5f\"},\"marker\":{\"line\":{\"color\":\"#E5ECF6\",\"width\":0.5},\"pattern\":{\"fillmode\":\"overlay\",\"size\":10,\"solidity\":0.2}},\"type\":\"bar\"}],\"scattergeo\":[{\"type\":\"scattergeo\",\"marker\":{\"colorbar\":{\"outlinewidth\":0,\"ticks\":\"\"}}}],\"scatterpolar\":[{\"type\":\"scatterpolar\",\"marker\":{\"colorbar\":{\"outlinewidth\":0,\"ticks\":\"\"}}}],\"histogram\":[{\"marker\":{\"pattern\":{\"fillmode\":\"overlay\",\"size\":10,\"solidity\":0.2}},\"type\":\"histogram\"}],\"scattergl\":[{\"type\":\"scattergl\",\"marker\":{\"colorbar\":{\"outlinewidth\":0,\"ticks\":\"\"}}}],\"scatter3d\":[{\"type\":\"scatter3d\",\"line\":{\"colorbar\":{\"outlinewidth\":0,\"ticks\":\"\"}},\"marker\":{\"colorbar\":{\"outlinewidth\":0,\"ticks\":\"\"}}}],\"scattermapbox\":[{\"type\":\"scattermapbox\",\"marker\":{\"colorbar\":{\"outlinewidth\":0,\"ticks\":\"\"}}}],\"scatterternary\":[{\"type\":\"scatterternary\",\"marker\":{\"colorbar\":{\"outlinewidth\":0,\"ticks\":\"\"}}}],\"scattercarpet\":[{\"type\":\"scattercarpet\",\"marker\":{\"colorbar\":{\"outlinewidth\":0,\"ticks\":\"\"}}}],\"carpet\":[{\"aaxis\":{\"endlinecolor\":\"#2a3f5f\",\"gridcolor\":\"white\",\"linecolor\":\"white\",\"minorgridcolor\":\"white\",\"startlinecolor\":\"#2a3f5f\"},\"baxis\":{\"endlinecolor\":\"#2a3f5f\",\"gridcolor\":\"white\",\"linecolor\":\"white\",\"minorgridcolor\":\"white\",\"startlinecolor\":\"#2a3f5f\"},\"type\":\"carpet\"}],\"table\":[{\"cells\":{\"fill\":{\"color\":\"#EBF0F8\"},\"line\":{\"color\":\"white\"}},\"header\":{\"fill\":{\"color\":\"#C8D4E3\"},\"line\":{\"color\":\"white\"}},\"type\":\"table\"}],\"barpolar\":[{\"marker\":{\"line\":{\"color\":\"#E5ECF6\",\"width\":0.5},\"pattern\":{\"fillmode\":\"overlay\",\"size\":10,\"solidity\":0.2}},\"type\":\"barpolar\"}],\"pie\":[{\"automargin\":true,\"type\":\"pie\"}]},\"layout\":{\"autotypenumbers\":\"strict\",\"colorway\":[\"#636efa\",\"#EF553B\",\"#00cc96\",\"#ab63fa\",\"#FFA15A\",\"#19d3f3\",\"#FF6692\",\"#B6E880\",\"#FF97FF\",\"#FECB52\"],\"font\":{\"color\":\"#2a3f5f\"},\"hovermode\":\"closest\",\"hoverlabel\":{\"align\":\"left\"},\"paper_bgcolor\":\"white\",\"plot_bgcolor\":\"#E5ECF6\",\"polar\":{\"bgcolor\":\"#E5ECF6\",\"angularaxis\":{\"gridcolor\":\"white\",\"linecolor\":\"white\",\"ticks\":\"\"},\"radialaxis\":{\"gridcolor\":\"white\",\"linecolor\":\"white\",\"ticks\":\"\"}},\"ternary\":{\"bgcolor\":\"#E5ECF6\",\"aaxis\":{\"gridcolor\":\"white\",\"linecolor\":\"white\",\"ticks\":\"\"},\"baxis\":{\"gridcolor\":\"white\",\"linecolor\":\"white\",\"ticks\":\"\"},\"caxis\":{\"gridcolor\":\"white\",\"linecolor\":\"white\",\"ticks\":\"\"}},\"coloraxis\":{\"colorbar\":{\"outlinewidth\":0,\"ticks\":\"\"}},\"colorscale\":{\"sequential\":[[0.0,\"#0d0887\"],[0.1111111111111111,\"#46039f\"],[0.2222222222222222,\"#7201a8\"],[0.3333333333333333,\"#9c179e\"],[0.4444444444444444,\"#bd3786\"],[0.5555555555555556,\"#d8576b\"],[0.6666666666666666,\"#ed7953\"],[0.7777777777777778,\"#fb9f3a\"],[0.8888888888888888,\"#fdca26\"],[1.0,\"#f0f921\"]],\"sequentialminus\":[[0.0,\"#0d0887\"],[0.1111111111111111,\"#46039f\"],[0.2222222222222222,\"#7201a8\"],[0.3333333333333333,\"#9c179e\"],[0.4444444444444444,\"#bd3786\"],[0.5555555555555556,\"#d8576b\"],[0.6666666666666666,\"#ed7953\"],[0.7777777777777778,\"#fb9f3a\"],[0.8888888888888888,\"#fdca26\"],[1.0,\"#f0f921\"]],\"diverging\":[[0,\"#8e0152\"],[0.1,\"#c51b7d\"],[0.2,\"#de77ae\"],[0.3,\"#f1b6da\"],[0.4,\"#fde0ef\"],[0.5,\"#f7f7f7\"],[0.6,\"#e6f5d0\"],[0.7,\"#b8e186\"],[0.8,\"#7fbc41\"],[0.9,\"#4d9221\"],[1,\"#276419\"]]},\"xaxis\":{\"gridcolor\":\"white\",\"linecolor\":\"white\",\"ticks\":\"\",\"title\":{\"standoff\":15},\"zerolinecolor\":\"white\",\"automargin\":true,\"zerolinewidth\":2},\"yaxis\":{\"gridcolor\":\"white\",\"linecolor\":\"white\",\"ticks\":\"\",\"title\":{\"standoff\":15},\"zerolinecolor\":\"white\",\"automargin\":true,\"zerolinewidth\":2},\"scene\":{\"xaxis\":{\"backgroundcolor\":\"#E5ECF6\",\"gridcolor\":\"white\",\"linecolor\":\"white\",\"showbackground\":true,\"ticks\":\"\",\"zerolinecolor\":\"white\",\"gridwidth\":2},\"yaxis\":{\"backgroundcolor\":\"#E5ECF6\",\"gridcolor\":\"white\",\"linecolor\":\"white\",\"showbackground\":true,\"ticks\":\"\",\"zerolinecolor\":\"white\",\"gridwidth\":2},\"zaxis\":{\"backgroundcolor\":\"#E5ECF6\",\"gridcolor\":\"white\",\"linecolor\":\"white\",\"showbackground\":true,\"ticks\":\"\",\"zerolinecolor\":\"white\",\"gridwidth\":2}},\"shapedefaults\":{\"line\":{\"color\":\"#2a3f5f\"}},\"annotationdefaults\":{\"arrowcolor\":\"#2a3f5f\",\"arrowhead\":0,\"arrowwidth\":1},\"geo\":{\"bgcolor\":\"white\",\"landcolor\":\"#E5ECF6\",\"subunitcolor\":\"white\",\"showland\":true,\"showlakes\":true,\"lakecolor\":\"white\"},\"title\":{\"x\":0.05},\"mapbox\":{\"style\":\"light\"}}},\"xaxis\":{\"anchor\":\"y\",\"domain\":[0.0,0.2125],\"title\":{\"text\":\"A\"},\"range\":[-0.5,10.5]},\"yaxis\":{\"anchor\":\"x\",\"domain\":[0.0,1.0]},\"xaxis2\":{\"anchor\":\"y2\",\"domain\":[0.2625,0.475],\"title\":{\"text\":\"B\"},\"range\":[-0.5,10.5]},\"yaxis2\":{\"anchor\":\"x2\",\"domain\":[0.0,1.0]},\"xaxis3\":{\"anchor\":\"y3\",\"domain\":[0.525,0.7375],\"title\":{\"text\":\"C\"},\"range\":[-0.5,10.5]},\"yaxis3\":{\"anchor\":\"x3\",\"domain\":[0.0,1.0]},\"xaxis4\":{\"anchor\":\"y4\",\"domain\":[0.7875,1.0],\"title\":{\"text\":\"D\"},\"range\":[-0.5,10.5]},\"yaxis4\":{\"anchor\":\"x4\",\"domain\":[0.0,1.0]},\"title\":{\"text\":\"Row of Histograms\"},\"height\":300,\"width\":750},                        {\"responsive\": true}                    ).then(function(){\n",
       "                            \n",
       "var gd = document.getElementById('a69891fe-6b74-435a-9305-92eaffa48cb0');\n",
       "var x = new MutationObserver(function (mutations, observer) {{\n",
       "        var display = window.getComputedStyle(gd).display;\n",
       "        if (!display || display === 'none') {{\n",
       "            console.log([gd, 'removed!']);\n",
       "            Plotly.purge(gd);\n",
       "            observer.disconnect();\n",
       "        }}\n",
       "}});\n",
       "\n",
       "// Listen for the removal of the full notebook cells\n",
       "var notebookContainer = gd.closest('#notebook-container');\n",
       "if (notebookContainer) {{\n",
       "    x.observe(notebookContainer, {childList: true});\n",
       "}}\n",
       "\n",
       "// Listen for the clearing of the current output cell\n",
       "var outputEl = gd.closest('.output');\n",
       "if (outputEl) {{\n",
       "    x.observe(outputEl, {childList: true});\n",
       "}}\n",
       "\n",
       "                        })                };                });            </script>        </div>"
      ]
     },
     "metadata": {},
     "output_type": "display_data"
    }
   ],
   "source": [
    "#Question4(run codes)\n",
    "from scipy import stats\n",
    "import plotly.graph_objects as go\n",
    "from plotly.subplots import make_subplots\n",
    "import numpy as np\n",
    "\n",
    "n = 1500\n",
    "data1 = stats.uniform.rvs(0, 10, size=n)\n",
    "data2 = stats.norm.rvs(5, 1.5, size=n)\n",
    "data3 = np.r_[stats.norm.rvs(2, 0.25, size=int(n/2)), stats.norm.rvs(8, 0.5, size=int(n/2))]\n",
    "data4 = stats.norm.rvs(6, 0.5, size=n)\n",
    "\n",
    "fig = make_subplots(rows=1, cols=4)\n",
    "\n",
    "fig.add_trace(go.Histogram(x=data1, name='A', nbinsx=30, marker=dict(line=dict(color='black', width=1))), row=1, col=1)\n",
    "fig.add_trace(go.Histogram(x=data2, name='B', nbinsx=15, marker=dict(line=dict(color='black', width=1))), row=1, col=2)\n",
    "fig.add_trace(go.Histogram(x=data3, name='C', nbinsx=45, marker=dict(line=dict(color='black', width=1))), row=1, col=3)\n",
    "fig.add_trace(go.Histogram(x=data4, name='D', nbinsx=15, marker=dict(line=dict(color='black', width=1))), row=1, col=4)\n",
    "\n",
    "fig.update_layout(height=300, width=750, title_text=\"Row of Histograms\")\n",
    "fig.update_xaxes(title_text=\"A\", row=1, col=1)\n",
    "fig.update_xaxes(title_text=\"B\", row=1, col=2)\n",
    "fig.update_xaxes(title_text=\"C\", row=1, col=3)\n",
    "fig.update_xaxes(title_text=\"D\", row=1, col=4)\n",
    "fig.update_xaxes(range=[-0.5, 10.5])\n",
    "\n",
    "for trace in fig.data:\n",
    "    trace.xbins = dict(start=0, end=10)\n",
    "    \n",
    "# This code was produced by just making requests to Microsoft Copilot\n",
    "# https://github.com/pointOfive/stat130chat130/blob/main/CHATLOG/wk3/COP/SLS/0001_concise_makeAplotV1.md\n",
    "\n",
    "fig.show() # USE `fig.show(renderer=\"png\")` FOR ALL GitHub and MarkUs SUBMISSIONS"
   ]
  },
  {
   "cell_type": "code",
   "execution_count": 14,
   "id": "3355080b",
   "metadata": {},
   "outputs": [],
   "source": [
    "#Question4(Answering Questions)\n",
    "\n",
    "#1. Similar means and similar variances: Data2 and Data4 have similar means (around 5-6) and variances (both with moderate spread).\n",
    "\n",
    "#2. Similar means but quite different variances: Data3 and Data4 have similar means (approximately 6), but Data3 has much higher variance due to its bimodal distribution.\n",
    "\n",
    "#3. Similar variances but quite different means: Data1 and Data2 have similar variances but quite different means (Data1 is uniform from 0 to 10, while Data2 is normally distributed around 5).\n",
    "\n",
    "#4. Quite different means and quite different variances: Data1 and Data3 have different means (Data1 around 5, Data3 is bimodal around 2 and 8) and variances (Data1 has uniform spread, Data3 has a wide variance due to bimodality)."
   ]
  },
  {
   "cell_type": "code",
   "execution_count": null,
   "id": "b8441970",
   "metadata": {},
   "outputs": [],
   "source": []
  },
  {
   "cell_type": "code",
   "execution_count": 16,
   "id": "c4e3947b",
   "metadata": {},
   "outputs": [],
   "source": [
    "#Question5(Running Codes)\n",
    "\n",
    "from scipy import stats\n",
    "import pandas as pd\n",
    "import numpy as np\n",
    "  \n",
    "sample1 = stats.gamma(a=2,scale=2).rvs(size=1000)\n",
    "fig1 = px.histogram(pd.DataFrame({'data': sample1}), x=\"data\")\n",
    "# USE `fig1.show(renderer=\"png\")` FOR ALL GitHub and MarkUs SUBMISSIONS\n",
    "\n",
    "sample1.mean()\n",
    "np.quantile(sample1, [0.5]) # median\n",
    "\n",
    "sample2 = -stats.gamma(a=2,scale=2).rvs(size=1000)"
   ]
  },
  {
   "cell_type": "code",
   "execution_count": 17,
   "id": "0ad9aeda",
   "metadata": {},
   "outputs": [],
   "source": [
    "#Question5\n",
    "#Relationship Between Mean, Median, and Skewness:\n",
    "#1.Right-skewed (positive skew): The tail is longer on the right, so extreme high values pull the mean to the right. \n",
    "   #The median remains closer to the bulk of the data\n",
    "   #The mean is greater than the median\n",
    "#2.Left-skewed (negative skew): The tail is longer on the left, so extreme low values pull the mean to the left. \n",
    "   #In this case, the mean is less than the median"
   ]
  },
  {
   "cell_type": "code",
   "execution_count": 18,
   "id": "77172ab5",
   "metadata": {},
   "outputs": [],
   "source": [
    "#Question5 link for ChatGPT: https://chatgpt.com/share/66f6292c-cd7c-800b-8bbd-79ba61ae9892"
   ]
  },
  {
   "cell_type": "code",
   "execution_count": null,
   "id": "fded63b5",
   "metadata": {},
   "outputs": [],
   "source": []
  },
  {
   "cell_type": "code",
   "execution_count": 19,
   "id": "a0942848",
   "metadata": {},
   "outputs": [],
   "source": [
    "#Question6\n",
    "# Iris dataset, a classic dataset used in machine learning and statistics. \n",
    "# It contains measurements for 150 iris flowers from three species: Iris setosa, Iris virginica, and Iris versicolor. \n",
    "# The dataset includes four features: sepal length, sepal width, petal length, and petal width, along with the species classification.\n",
    "\n",
    "#Create Visualizations\n",
    "#Here are some visualizations we can explore:\n",
    "\n",
    "#1.Box plots for each species to compare the distributions of the features.\n",
    "#2.Scatter plot matrix to visualize the relationships between features.\n",
    "#3.Pairplot to see how different species are distributed.\n",
    "\n",
    "#Graph for example: Box plot of Sepal Length by Species (which can find online)\n"
   ]
  },
  {
   "cell_type": "code",
   "execution_count": null,
   "id": "98698bbe",
   "metadata": {},
   "outputs": [],
   "source": []
  },
  {
   "cell_type": "code",
   "execution_count": 20,
   "id": "7004ed1a",
   "metadata": {},
   "outputs": [],
   "source": [
    "#Question7 -- optional..."
   ]
  },
  {
   "cell_type": "code",
   "execution_count": null,
   "id": "77af9d70",
   "metadata": {},
   "outputs": [],
   "source": []
  },
  {
   "cell_type": "code",
   "execution_count": 23,
   "id": "56fdfd75",
   "metadata": {},
   "outputs": [
    {
     "data": {
      "image/png": "[encoded data removed]"
     },
     "metadata": {},
     "output_type": "display_data"
    }
   ],
   "source": [
    "#Question8\n",
    "\n",
    "import pandas as pd\n",
    "import plotly.express as px\n",
    "\n",
    "bn = pd.read_csv('https://raw.githubusercontent.com/hadley/data-baby-names/master/baby-names.csv')\n",
    "bn['name'] = bn['name'] + \" \" + bn['sex'] \n",
    "bn['rank'] = bn.groupby('year')['percent'].rank(ascending=False)\n",
    "bn = bn.sort_values(['name', 'year'])\n",
    "\n",
    "bn['percent change'] = bn['percent'].diff()\n",
    "new_name = [True] + list(bn.name[:-1].values != bn.name[1:].values)\n",
    "bn.loc[new_name, 'percentage change'] = bn.loc[new_name, 'percent']\n",
    "bn = bn.sort_values('year')\n",
    "\n",
    "bn = bn[bn.percent > 0.001]\n",
    "\n",
    "fig = px.scatter(bn, \n",
    "                 x=\"percent change\", \n",
    "                 y=\"rank\", \n",
    "                 animation_frame=\"year\", \n",
    "                 animation_group=\"name\", \n",
    "                 size=\"percent\", \n",
    "                 color=\"sex\", \n",
    "                 hover_name=\"name\", \n",
    "                 size_max=50, \n",
    "                 range_x=[-0.005, 0.005])\n",
    "\n",
    "fig.update_yaxes(autorange='reversed')\n",
    "\n",
    "fig.show(renderer=\"png\")"
   ]
  },
  {
   "cell_type": "code",
   "execution_count": null,
   "id": "2d5f478f",
   "metadata": {},
   "outputs": [],
   "source": [
    "#Question8 link for ChatGPT: https://chatgpt.com/share/66f62bde-ad58-800b-b318-a5c0d30232b2\n",
    "\n",
    "# I wrote presonally for some parameters by looking the youtube videos, learn myself"
   ]
  },
  {
   "cell_type": "code",
   "execution_count": null,
   "id": "89dcd33f",
   "metadata": {},
   "outputs": [],
   "source": []
  },
  {
   "cell_type": "code",
   "execution_count": null,
   "id": "4875dd8e",
   "metadata": {},
   "outputs": [],
   "source": [
    "#Question9 \n",
    "\n",
    "#Yes"
   ]
  }
 ],
 "metadata": {
  "kernelspec": {
   "display_name": "Python 3 (ipykernel)",
   "language": "python",
   "name": "python3"
  },
  "language_info": {
   "codemirror_mode": {
    "name": "ipython",
    "version": 3
   },
   "file_extension": ".py",
   "mimetype": "text/x-python",
   "name": "python",
   "nbconvert_exporter": "python",
   "pygments_lexer": "ipython3",
   "version": "3.11.6"
  }
 },
 "nbformat": 4,
 "nbformat_minor": 5
}
