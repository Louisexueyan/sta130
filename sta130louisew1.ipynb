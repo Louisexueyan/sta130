{
 "cells": [
  {
   "cell_type": "code",
   "execution_count": 2,
   "id": "bc802a29",
   "metadata": {},
   "outputs": [],
   "source": [
    "import pandas as pd"
   ]
  },
  {
   "cell_type": "code",
   "execution_count": 3,
   "id": "9059f63a",
   "metadata": {},
   "outputs": [],
   "source": [
    "url = \"https://raw.githubusercontent.com/rfordatascience/tidytuesday/master/data/2020/2020-05-05/villagers.csv\""
   ]
  },
  {
   "cell_type": "code",
   "execution_count": 4,
   "id": "0a1e7ccb",
   "metadata": {},
   "outputs": [],
   "source": [
    "df = pd.read_csv(url)"
   ]
  },
  {
   "cell_type": "code",
   "execution_count": 6,
   "id": "f0f16606",
   "metadata": {},
   "outputs": [],
   "source": [
    "missing_values = df.isna().sum()"
   ]
  },
  {
   "cell_type": "code",
   "execution_count": 47,
   "id": "718e97ef",
   "metadata": {
    "scrolled": true
   },
   "outputs": [
    {
     "name": "stdout",
     "output_type": "stream",
     "text": [
      "row_n           0\n",
      "id              1\n",
      "name            0\n",
      "gender          0\n",
      "species         0\n",
      "birthday        0\n",
      "personality     0\n",
      "song           11\n",
      "phrase          0\n",
      "full_id         0\n",
      "url             0\n",
      "dtype: int64\n"
     ]
    }
   ],
   "source": [
    "print(missing_values)"
   ]
  },
  {
   "cell_type": "code",
   "execution_count": null,
   "id": "f0806ca2",
   "metadata": {},
   "outputs": [],
   "source": []
  },
  {
   "cell_type": "code",
   "execution_count": 9,
   "id": "e9164ac4",
   "metadata": {},
   "outputs": [],
   "source": [
    "import pandas as pd"
   ]
  },
  {
   "cell_type": "code",
   "execution_count": 10,
   "id": "a43953f1",
   "metadata": {},
   "outputs": [],
   "source": [
    "url = \"https://raw.githubusercontent.com/rfordatascience/tidytuesday/master/data/2020/2020-05-05/villagers.csv\""
   ]
  },
  {
   "cell_type": "code",
   "execution_count": 11,
   "id": "445d6477",
   "metadata": {},
   "outputs": [],
   "source": [
    "df = pd.read_csv(url)"
   ]
  },
  {
   "cell_type": "code",
   "execution_count": 12,
   "id": "184cb495",
   "metadata": {},
   "outputs": [],
   "source": [
    "rows, columns = df.shape"
   ]
  },
  {
   "cell_type": "code",
   "execution_count": 13,
   "id": "fdbe0d3b",
   "metadata": {},
   "outputs": [
    {
     "name": "stdout",
     "output_type": "stream",
     "text": [
      "The dataset has 391 rows and 11 columns.\n"
     ]
    }
   ],
   "source": [
    "print(f'The dataset has {rows} rows and {columns} columns.')"
   ]
  },
  {
   "cell_type": "code",
   "execution_count": null,
   "id": "ecab0a5d",
   "metadata": {},
   "outputs": [],
   "source": []
  },
  {
   "cell_type": "code",
   "execution_count": 14,
   "id": "8109fc33",
   "metadata": {},
   "outputs": [],
   "source": [
    "import pandas as pd"
   ]
  },
  {
   "cell_type": "code",
   "execution_count": 15,
   "id": "6f29ea33",
   "metadata": {},
   "outputs": [],
   "source": [
    "url = \"https://raw.githubusercontent.com/rfordatascience/tidytuesday/master/data/2020/2020-05-05/villagers.csv\""
   ]
  },
  {
   "cell_type": "code",
   "execution_count": 16,
   "id": "9f044aba",
   "metadata": {},
   "outputs": [],
   "source": [
    "df = pd.read_csv(url)"
   ]
  },
  {
   "cell_type": "code",
   "execution_count": 22,
   "id": "20d54379",
   "metadata": {},
   "outputs": [
    {
     "name": "stdout",
     "output_type": "stream",
     "text": [
      "Numeric summary of the dataset:\n"
     ]
    }
   ],
   "source": [
    "print(\"Numeric summary of the dataset:\")"
   ]
  },
  {
   "cell_type": "code",
   "execution_count": 23,
   "id": "cc1c9f68",
   "metadata": {},
   "outputs": [
    {
     "name": "stdout",
     "output_type": "stream",
     "text": [
      "            row_n\n",
      "count  391.000000\n",
      "mean   239.902813\n",
      "std    140.702672\n",
      "min      2.000000\n",
      "25%    117.500000\n",
      "50%    240.000000\n",
      "75%    363.500000\n",
      "max    483.000000\n"
     ]
    }
   ],
   "source": [
    "print(df.describe())"
   ]
  },
  {
   "cell_type": "code",
   "execution_count": 24,
   "id": "1189918d",
   "metadata": {},
   "outputs": [
    {
     "name": "stdout",
     "output_type": "stream",
     "text": [
      "\n",
      "Counts for the 'species' column:\n"
     ]
    }
   ],
   "source": [
    "print(\"\\nCounts for the 'species' column:\")"
   ]
  },
  {
   "cell_type": "code",
   "execution_count": 25,
   "id": "49dc587f",
   "metadata": {},
   "outputs": [
    {
     "name": "stdout",
     "output_type": "stream",
     "text": [
      "species\n",
      "cat          23\n",
      "rabbit       20\n",
      "frog         18\n",
      "squirrel     18\n",
      "duck         17\n",
      "dog          16\n",
      "cub          16\n",
      "pig          15\n",
      "bear         15\n",
      "mouse        15\n",
      "horse        15\n",
      "bird         13\n",
      "penguin      13\n",
      "sheep        13\n",
      "elephant     11\n",
      "wolf         11\n",
      "ostrich      10\n",
      "deer         10\n",
      "eagle         9\n",
      "gorilla       9\n",
      "chicken       9\n",
      "koala         9\n",
      "goat          8\n",
      "hamster       8\n",
      "kangaroo      8\n",
      "monkey        8\n",
      "anteater      7\n",
      "hippo         7\n",
      "tiger         7\n",
      "alligator     7\n",
      "lion          7\n",
      "bull          6\n",
      "rhino         6\n",
      "cow           4\n",
      "octopus       3\n",
      "Name: count, dtype: int64\n"
     ]
    }
   ],
   "source": [
    "print(df['species'].value_counts())"
   ]
  },
  {
   "cell_type": "code",
   "execution_count": null,
   "id": "be79c5de",
   "metadata": {},
   "outputs": [],
   "source": []
  },
  {
   "cell_type": "code",
   "execution_count": 26,
   "id": "11a76bd5",
   "metadata": {},
   "outputs": [],
   "source": [
    "import pandas as pd"
   ]
  },
  {
   "cell_type": "code",
   "execution_count": 27,
   "id": "e507b728",
   "metadata": {},
   "outputs": [],
   "source": [
    "url = \"https://raw.githubusercontent.com/mwaskom/seaborn-data/master/titanic.csv\""
   ]
  },
  {
   "cell_type": "code",
   "execution_count": 28,
   "id": "8f37ff15",
   "metadata": {},
   "outputs": [],
   "source": [
    "df = pd.read_csv(url)"
   ]
  },
  {
   "cell_type": "code",
   "execution_count": 29,
   "id": "99f381bd",
   "metadata": {},
   "outputs": [
    {
     "name": "stdout",
     "output_type": "stream",
     "text": [
      "Shape of the dataset (rows, columns): (891, 15)\n"
     ]
    }
   ],
   "source": [
    "print(f\"Shape of the dataset (rows, columns): {df.shape}\")"
   ]
  },
  {
   "cell_type": "code",
   "execution_count": 30,
   "id": "f045de2a",
   "metadata": {},
   "outputs": [
    {
     "name": "stdout",
     "output_type": "stream",
     "text": [
      "\n",
      "Columns in the dataset:\n"
     ]
    }
   ],
   "source": [
    "print(\"\\nColumns in the dataset:\")"
   ]
  },
  {
   "cell_type": "code",
   "execution_count": 31,
   "id": "b7429752",
   "metadata": {},
   "outputs": [
    {
     "name": "stdout",
     "output_type": "stream",
     "text": [
      "Index(['survived', 'pclass', 'sex', 'age', 'sibsp', 'parch', 'fare',\n",
      "       'embarked', 'class', 'who', 'adult_male', 'deck', 'embark_town',\n",
      "       'alive', 'alone'],\n",
      "      dtype='object')\n"
     ]
    }
   ],
   "source": [
    "print(df.columns)"
   ]
  },
  {
   "cell_type": "code",
   "execution_count": 32,
   "id": "5c2126d3",
   "metadata": {},
   "outputs": [
    {
     "name": "stdout",
     "output_type": "stream",
     "text": [
      "\n",
      "Summary of numeric columns:\n"
     ]
    }
   ],
   "source": [
    "print(\"\\nSummary of numeric columns:\")"
   ]
  },
  {
   "cell_type": "code",
   "execution_count": 33,
   "id": "ff6979ad",
   "metadata": {},
   "outputs": [
    {
     "name": "stdout",
     "output_type": "stream",
     "text": [
      "         survived      pclass         age       sibsp       parch        fare\n",
      "count  891.000000  891.000000  714.000000  891.000000  891.000000  891.000000\n",
      "mean     0.383838    2.308642   29.699118    0.523008    0.381594   32.204208\n",
      "std      0.486592    0.836071   14.526497    1.102743    0.806057   49.693429\n",
      "min      0.000000    1.000000    0.420000    0.000000    0.000000    0.000000\n",
      "25%      0.000000    2.000000   20.125000    0.000000    0.000000    7.910400\n",
      "50%      0.000000    3.000000   28.000000    0.000000    0.000000   14.454200\n",
      "75%      1.000000    3.000000   38.000000    1.000000    0.000000   31.000000\n",
      "max      1.000000    3.000000   80.000000    8.000000    6.000000  512.329200\n"
     ]
    }
   ],
   "source": [
    "print(df.describe())"
   ]
  },
  {
   "cell_type": "code",
   "execution_count": 34,
   "id": "f02a1c66",
   "metadata": {},
   "outputs": [
    {
     "name": "stdout",
     "output_type": "stream",
     "text": [
      "\n",
      "Missing values in each numeric column:\n"
     ]
    }
   ],
   "source": [
    "print(\"\\nMissing values in each numeric column:\")"
   ]
  },
  {
   "cell_type": "code",
   "execution_count": 35,
   "id": "189fc934",
   "metadata": {},
   "outputs": [
    {
     "name": "stdout",
     "output_type": "stream",
     "text": [
      "survived         0\n",
      "pclass           0\n",
      "sex              0\n",
      "age            177\n",
      "sibsp            0\n",
      "parch            0\n",
      "fare             0\n",
      "embarked         2\n",
      "class            0\n",
      "who              0\n",
      "adult_male       0\n",
      "deck           688\n",
      "embark_town      2\n",
      "alive            0\n",
      "alone            0\n",
      "dtype: int64\n"
     ]
    }
   ],
   "source": [
    "print(df.isna().sum())"
   ]
  },
  {
   "cell_type": "code",
   "execution_count": 36,
   "id": "33476a91",
   "metadata": {},
   "outputs": [],
   "source": [
    "# for step4, just check for missing values in numeric columns. # It had errors at first and I just change another coding ideas."
   ]
  },
  {
   "cell_type": "code",
   "execution_count": null,
   "id": "12765615",
   "metadata": {},
   "outputs": [],
   "source": []
  },
  {
   "cell_type": "code",
   "execution_count": 38,
   "id": "3abef837",
   "metadata": {},
   "outputs": [],
   "source": [
    "import pandas as pd"
   ]
  },
  {
   "cell_type": "code",
   "execution_count": 39,
   "id": "d127c1ce",
   "metadata": {},
   "outputs": [],
   "source": [
    "url = \"https://raw.githubusercontent.com/mwaskom/seaborn-data/master/titanic.csv\""
   ]
  },
  {
   "cell_type": "code",
   "execution_count": 40,
   "id": "da7ffb55",
   "metadata": {},
   "outputs": [],
   "source": [
    "df = pd.read_csv(url)"
   ]
  },
  {
   "cell_type": "code",
   "execution_count": 41,
   "id": "96c5994d",
   "metadata": {},
   "outputs": [
    {
     "name": "stdout",
     "output_type": "stream",
     "text": [
      "Attribute: df.shape\n"
     ]
    }
   ],
   "source": [
    "print(\"Attribute: df.shape\")"
   ]
  },
  {
   "cell_type": "code",
   "execution_count": 42,
   "id": "0f872c42",
   "metadata": {},
   "outputs": [
    {
     "name": "stdout",
     "output_type": "stream",
     "text": [
      "(891, 15)\n"
     ]
    }
   ],
   "source": [
    "print(df.shape)"
   ]
  },
  {
   "cell_type": "code",
   "execution_count": 43,
   "id": "56598fa9",
   "metadata": {},
   "outputs": [
    {
     "name": "stdout",
     "output_type": "stream",
     "text": [
      "\n",
      "Method: df.describe()\n"
     ]
    }
   ],
   "source": [
    "print(\"\\nMethod: df.describe()\")"
   ]
  },
  {
   "cell_type": "code",
   "execution_count": 44,
   "id": "8238f5a6",
   "metadata": {},
   "outputs": [
    {
     "name": "stdout",
     "output_type": "stream",
     "text": [
      "         survived      pclass         age       sibsp       parch        fare\n",
      "count  891.000000  891.000000  714.000000  891.000000  891.000000  891.000000\n",
      "mean     0.383838    2.308642   29.699118    0.523008    0.381594   32.204208\n",
      "std      0.486592    0.836071   14.526497    1.102743    0.806057   49.693429\n",
      "min      0.000000    1.000000    0.420000    0.000000    0.000000    0.000000\n",
      "25%      0.000000    2.000000   20.125000    0.000000    0.000000    7.910400\n",
      "50%      0.000000    3.000000   28.000000    0.000000    0.000000   14.454200\n",
      "75%      1.000000    3.000000   38.000000    1.000000    0.000000   31.000000\n",
      "max      1.000000    3.000000   80.000000    8.000000    6.000000  512.329200\n"
     ]
    }
   ],
   "source": [
    "print(df.describe()) "
   ]
  },
  {
   "cell_type": "code",
   "execution_count": 45,
   "id": "5055d807",
   "metadata": {},
   "outputs": [
    {
     "name": "stdout",
     "output_type": "stream",
     "text": [
      "\n",
      "Method: df.head()\n"
     ]
    }
   ],
   "source": [
    "print(\"\\nMethod: df.head()\")"
   ]
  },
  {
   "cell_type": "code",
   "execution_count": 46,
   "id": "33b713aa",
   "metadata": {},
   "outputs": [
    {
     "name": "stdout",
     "output_type": "stream",
     "text": [
      "   survived  pclass     sex   age  sibsp  parch     fare embarked  class  \\\n",
      "0         0       3    male  22.0      1      0   7.2500        S  Third   \n",
      "1         1       1  female  38.0      1      0  71.2833        C  First   \n",
      "2         1       3  female  26.0      0      0   7.9250        S  Third   \n",
      "3         1       1  female  35.0      1      0  53.1000        S  First   \n",
      "4         0       3    male  35.0      0      0   8.0500        S  Third   \n",
      "\n",
      "     who  adult_male deck  embark_town alive  alone  \n",
      "0    man        True  NaN  Southampton    no  False  \n",
      "1  woman       False    C    Cherbourg   yes  False  \n",
      "2  woman       False  NaN  Southampton   yes   True  \n",
      "3  woman       False    C  Southampton   yes  False  \n",
      "4    man        True  NaN  Southampton    no   True  \n"
     ]
    }
   ],
   "source": [
    "print(df.head())"
   ]
  },
  {
   "cell_type": "code",
   "execution_count": null,
   "id": "ef0ef92f",
   "metadata": {},
   "outputs": [],
   "source": []
  },
  {
   "cell_type": "code",
   "execution_count": 48,
   "id": "59fc69af",
   "metadata": {},
   "outputs": [],
   "source": [
    "import pandas as pd"
   ]
  },
  {
   "cell_type": "code",
   "execution_count": 49,
   "id": "855a777b",
   "metadata": {},
   "outputs": [],
   "source": [
    "url = \"https://raw.githubusercontent.com/mwaskom/seaborn-data/master/titanic.csv\""
   ]
  },
  {
   "cell_type": "code",
   "execution_count": 50,
   "id": "6f2840d1",
   "metadata": {},
   "outputs": [],
   "source": [
    "df = pd.read_csv(url)"
   ]
  },
  {
   "cell_type": "code",
   "execution_count": 51,
   "id": "313b4a86",
   "metadata": {},
   "outputs": [],
   "source": [
    "summary_statistics = df.describe()"
   ]
  },
  {
   "cell_type": "code",
   "execution_count": 52,
   "id": "186a776b",
   "metadata": {},
   "outputs": [
    {
     "name": "stdout",
     "output_type": "stream",
     "text": [
      "Summary Statistics:\n"
     ]
    }
   ],
   "source": [
    "print(\"Summary Statistics:\")"
   ]
  },
  {
   "cell_type": "code",
   "execution_count": 53,
   "id": "5b06940d",
   "metadata": {},
   "outputs": [
    {
     "name": "stdout",
     "output_type": "stream",
     "text": [
      "         survived      pclass         age       sibsp       parch        fare\n",
      "count  891.000000  891.000000  714.000000  891.000000  891.000000  891.000000\n",
      "mean     0.383838    2.308642   29.699118    0.523008    0.381594   32.204208\n",
      "std      0.486592    0.836071   14.526497    1.102743    0.806057   49.693429\n",
      "min      0.000000    1.000000    0.420000    0.000000    0.000000    0.000000\n",
      "25%      0.000000    2.000000   20.125000    0.000000    0.000000    7.910400\n",
      "50%      0.000000    3.000000   28.000000    0.000000    0.000000   14.454200\n",
      "75%      1.000000    3.000000   38.000000    1.000000    0.000000   31.000000\n",
      "max      1.000000    3.000000   80.000000    8.000000    6.000000  512.329200\n"
     ]
    }
   ],
   "source": [
    "print(summary_statistics)"
   ]
  },
  {
   "cell_type": "code",
   "execution_count": 54,
   "id": "bbdf90d8",
   "metadata": {},
   "outputs": [
    {
     "name": "stdout",
     "output_type": "stream",
     "text": [
      "\n",
      "Definitions of Summary Statistics:\n"
     ]
    }
   ],
   "source": [
    "print(\"\\nDefinitions of Summary Statistics:\")"
   ]
  },
  {
   "cell_type": "code",
   "execution_count": 55,
   "id": "e0c7fd2c",
   "metadata": {},
   "outputs": [
    {
     "name": "stdout",
     "output_type": "stream",
     "text": [
      "1. Count: Number of non-missing values in the column.\n"
     ]
    }
   ],
   "source": [
    "print(\"1. Count: Number of non-missing values in the column.\")"
   ]
  },
  {
   "cell_type": "code",
   "execution_count": 56,
   "id": "0ec4e970",
   "metadata": {},
   "outputs": [
    {
     "name": "stdout",
     "output_type": "stream",
     "text": [
      "2. Mean: Average value of the column.\n"
     ]
    }
   ],
   "source": [
    "print(\"2. Mean: Average value of the column.\")"
   ]
  },
  {
   "cell_type": "code",
   "execution_count": 57,
   "id": "36bc82b7",
   "metadata": {},
   "outputs": [
    {
     "name": "stdout",
     "output_type": "stream",
     "text": [
      "3. Std: Standard deviation (shows how spread out the values are from the mean).\n"
     ]
    }
   ],
   "source": [
    "print(\"3. Std: Standard deviation (shows how spread out the values are from the mean).\")"
   ]
  },
  {
   "cell_type": "code",
   "execution_count": 58,
   "id": "65f753ae",
   "metadata": {},
   "outputs": [
    {
     "name": "stdout",
     "output_type": "stream",
     "text": [
      "4. Min: Smallest value in the column.\n"
     ]
    }
   ],
   "source": [
    "print(\"4. Min: Smallest value in the column.\")"
   ]
  },
  {
   "cell_type": "code",
   "execution_count": 59,
   "id": "d5c4bd27",
   "metadata": {},
   "outputs": [
    {
     "name": "stdout",
     "output_type": "stream",
     "text": [
      "5. 25%: 25% of the values are below this value (1st quartile).\n"
     ]
    }
   ],
   "source": [
    "print(\"5. 25%: 25% of the values are below this value (1st quartile).\")"
   ]
  },
  {
   "cell_type": "code",
   "execution_count": 60,
   "id": "8331e15c",
   "metadata": {},
   "outputs": [
    {
     "name": "stdout",
     "output_type": "stream",
     "text": [
      "6. 50%: 50% of the values are below this value (median).\n"
     ]
    }
   ],
   "source": [
    "print(\"6. 50%: 50% of the values are below this value (median).\")"
   ]
  },
  {
   "cell_type": "code",
   "execution_count": 61,
   "id": "9eed4add",
   "metadata": {},
   "outputs": [
    {
     "name": "stdout",
     "output_type": "stream",
     "text": [
      "6. 50%: 50% of the values are below this value (median).\n"
     ]
    }
   ],
   "source": [
    "print(\"6. 50%: 50% of the values are below this value (median).\")"
   ]
  },
  {
   "cell_type": "code",
   "execution_count": 62,
   "id": "f39d2d13",
   "metadata": {},
   "outputs": [
    {
     "name": "stdout",
     "output_type": "stream",
     "text": [
      "7. 75%: 75% of the values are below this value (3rd quartile).\n"
     ]
    }
   ],
   "source": [
    "print(\"7. 75%: 75% of the values are below this value (3rd quartile).\")"
   ]
  },
  {
   "cell_type": "code",
   "execution_count": 63,
   "id": "206486f3",
   "metadata": {},
   "outputs": [
    {
     "name": "stdout",
     "output_type": "stream",
     "text": [
      "8. Max: Largest value in the column.\n"
     ]
    }
   ],
   "source": [
    "print(\"8. Max: Largest value in the column.\")"
   ]
  },
  {
   "cell_type": "code",
   "execution_count": 64,
   "id": "131a3cfc",
   "metadata": {},
   "outputs": [
    {
     "name": "stdout",
     "output_type": "stream",
     "text": [
      "\n",
      "Checking for Missing Values:\n"
     ]
    }
   ],
   "source": [
    "print(\"\\nChecking for Missing Values:\")"
   ]
  },
  {
   "cell_type": "code",
   "execution_count": 65,
   "id": "fe3c9fc6",
   "metadata": {},
   "outputs": [],
   "source": [
    "missing_values = df.isna().sum()"
   ]
  },
  {
   "cell_type": "code",
   "execution_count": 66,
   "id": "10ec486d",
   "metadata": {},
   "outputs": [
    {
     "name": "stdout",
     "output_type": "stream",
     "text": [
      "Missing values in each column:\n"
     ]
    }
   ],
   "source": [
    "print(\"Missing values in each column:\")"
   ]
  },
  {
   "cell_type": "code",
   "execution_count": 67,
   "id": "67a0fc31",
   "metadata": {},
   "outputs": [
    {
     "name": "stdout",
     "output_type": "stream",
     "text": [
      "survived         0\n",
      "pclass           0\n",
      "sex              0\n",
      "age            177\n",
      "sibsp            0\n",
      "parch            0\n",
      "fare             0\n",
      "embarked         2\n",
      "class            0\n",
      "who              0\n",
      "adult_male       0\n",
      "deck           688\n",
      "embark_town      2\n",
      "alive            0\n",
      "alone            0\n",
      "dtype: int64\n"
     ]
    }
   ],
   "source": [
    "print(missing_values)"
   ]
  },
  {
   "cell_type": "code",
   "execution_count": 68,
   "id": "19bf9b25",
   "metadata": {},
   "outputs": [
    {
     "name": "stdout",
     "output_type": "stream",
     "text": [
      "\n",
      "Handling Missing Values:\n"
     ]
    }
   ],
   "source": [
    "print(\"\\nHandling Missing Values:\")"
   ]
  },
  {
   "cell_type": "code",
   "execution_count": 69,
   "id": "9e9f0be3",
   "metadata": {},
   "outputs": [],
   "source": [
    "df_no_missing_rows = df.dropna()"
   ]
  },
  {
   "cell_type": "code",
   "execution_count": 70,
   "id": "443c0989",
   "metadata": {},
   "outputs": [
    {
     "name": "stdout",
     "output_type": "stream",
     "text": [
      "Number of rows after removing rows with missing values: 182\n"
     ]
    }
   ],
   "source": [
    "print(f\"Number of rows after removing rows with missing values: {df_no_missing_rows.shape[0]}\")"
   ]
  },
  {
   "cell_type": "code",
   "execution_count": 71,
   "id": "b2c69d9f",
   "metadata": {},
   "outputs": [],
   "source": [
    "df_no_missing_cols = df.dropna(axis=1)"
   ]
  },
  {
   "cell_type": "code",
   "execution_count": 72,
   "id": "32a9b82d",
   "metadata": {},
   "outputs": [
    {
     "name": "stdout",
     "output_type": "stream",
     "text": [
      "Number of columns after removing columns with missing values: 11\n"
     ]
    }
   ],
   "source": [
    "print(f\"Number of columns after removing columns with missing values: {df_no_missing_cols.shape[1]}\")"
   ]
  },
  {
   "cell_type": "code",
   "execution_count": null,
   "id": "93558179",
   "metadata": {},
   "outputs": [],
   "source": []
  },
  {
   "cell_type": "code",
   "execution_count": 75,
   "id": "ab9b8d28",
   "metadata": {},
   "outputs": [],
   "source": [
    "import pandas as pd"
   ]
  },
  {
   "cell_type": "code",
   "execution_count": 78,
   "id": "e0b954cd",
   "metadata": {},
   "outputs": [],
   "source": [
    "import numpy as np"
   ]
  },
  {
   "cell_type": "code",
   "execution_count": 79,
   "id": "864d5bd1",
   "metadata": {},
   "outputs": [],
   "source": [
    "data = { 'A': [1, 2, np.nan, 4],'B': [5, np.nan, np.nan, 8],'C': [9, 10, 11, np.nan]}"
   ]
  },
  {
   "cell_type": "code",
   "execution_count": 80,
   "id": "269a9e19",
   "metadata": {},
   "outputs": [],
   "source": [
    "df = pd.DataFrame(data)"
   ]
  },
  {
   "cell_type": "code",
   "execution_count": 81,
   "id": "e0e8ce52",
   "metadata": {},
   "outputs": [
    {
     "name": "stdout",
     "output_type": "stream",
     "text": [
      "After using df.dropna():\n"
     ]
    }
   ],
   "source": [
    "print(\"After using df.dropna():\")"
   ]
  },
  {
   "cell_type": "code",
   "execution_count": 83,
   "id": "881d79a9",
   "metadata": {},
   "outputs": [],
   "source": [
    "df_dropped = df.dropna()"
   ]
  },
  {
   "cell_type": "code",
   "execution_count": 84,
   "id": "ba37911d",
   "metadata": {},
   "outputs": [
    {
     "name": "stdout",
     "output_type": "stream",
     "text": [
      "After using df.dropna():\n"
     ]
    }
   ],
   "source": [
    "print(\"After using df.dropna():\")"
   ]
  },
  {
   "cell_type": "code",
   "execution_count": 85,
   "id": "4229a028",
   "metadata": {},
   "outputs": [
    {
     "name": "stdout",
     "output_type": "stream",
     "text": [
      "  A   B   C\n",
      "1.0 5.0 9.0\n"
     ]
    }
   ],
   "source": [
    "print(df_dropped.to_string(index=False))"
   ]
  },
  {
   "cell_type": "code",
   "execution_count": 86,
   "id": "2e697c56",
   "metadata": {},
   "outputs": [],
   "source": [
    "df_dropped_column = df.drop(columns=['B'])"
   ]
  },
  {
   "cell_type": "code",
   "execution_count": 87,
   "id": "eb9336a7",
   "metadata": {},
   "outputs": [
    {
     "name": "stdout",
     "output_type": "stream",
     "text": [
      "\n",
      "After using del df['B']:\n"
     ]
    }
   ],
   "source": [
    "print(\"\\nAfter using del df['B']:\")"
   ]
  },
  {
   "cell_type": "code",
   "execution_count": 88,
   "id": "02555d14",
   "metadata": {},
   "outputs": [
    {
     "name": "stdout",
     "output_type": "stream",
     "text": [
      "  A    C\n",
      "1.0  9.0\n",
      "2.0 10.0\n",
      "NaN 11.0\n",
      "4.0  NaN\n"
     ]
    }
   ],
   "source": [
    "print(df_dropped_column.to_string(index=False))"
   ]
  },
  {
   "cell_type": "code",
   "execution_count": 89,
   "id": "bc40af30",
   "metadata": {},
   "outputs": [],
   "source": [
    "df_removed_col = df.drop(columns=['B'])"
   ]
  },
  {
   "cell_type": "code",
   "execution_count": 90,
   "id": "138c34dd",
   "metadata": {},
   "outputs": [],
   "source": [
    "df_final = df_removed_col.dropna()"
   ]
  },
  {
   "cell_type": "code",
   "execution_count": 91,
   "id": "230ecc23",
   "metadata": {},
   "outputs": [
    {
     "name": "stdout",
     "output_type": "stream",
     "text": [
      "\n",
      "After removing column 'B' and then using df.dropna():\n"
     ]
    }
   ],
   "source": [
    "print(\"\\nAfter removing column 'B' and then using df.dropna():\")"
   ]
  },
  {
   "cell_type": "code",
   "execution_count": 92,
   "id": "ec9b6db4",
   "metadata": {},
   "outputs": [
    {
     "name": "stdout",
     "output_type": "stream",
     "text": [
      "  A    C\n",
      "1.0  9.0\n",
      "2.0 10.0\n"
     ]
    }
   ],
   "source": [
    "print(df_final.to_string(index=False))"
   ]
  },
  {
   "cell_type": "code",
   "execution_count": 93,
   "id": "be675032",
   "metadata": {},
   "outputs": [],
   "source": [
    "df_cleaned = df.drop(columns=['B'])"
   ]
  },
  {
   "cell_type": "code",
   "execution_count": 94,
   "id": "8d4df721",
   "metadata": {},
   "outputs": [],
   "source": [
    "df_cleaned = df_cleaned.dropna()"
   ]
  },
  {
   "cell_type": "code",
   "execution_count": 95,
   "id": "d2ad5df6",
   "metadata": {},
   "outputs": [
    {
     "name": "stdout",
     "output_type": "stream",
     "text": [
      "\n",
      "Before cleaning:\n"
     ]
    }
   ],
   "source": [
    "print(\"\\nBefore cleaning:\")"
   ]
  },
  {
   "cell_type": "code",
   "execution_count": 96,
   "id": "c696f1f0",
   "metadata": {},
   "outputs": [
    {
     "name": "stdout",
     "output_type": "stream",
     "text": [
      "  A   B    C\n",
      "1.0 5.0  9.0\n",
      "2.0 NaN 10.0\n",
      "NaN NaN 11.0\n",
      "4.0 8.0  NaN\n"
     ]
    }
   ],
   "source": [
    "print(df.to_string(index=False))"
   ]
  },
  {
   "cell_type": "code",
   "execution_count": 97,
   "id": "431ef358",
   "metadata": {},
   "outputs": [
    {
     "name": "stdout",
     "output_type": "stream",
     "text": [
      "\n",
      "After cleaning:\n"
     ]
    }
   ],
   "source": [
    "print(\"\\nAfter cleaning:\")"
   ]
  },
  {
   "cell_type": "code",
   "execution_count": 98,
   "id": "e2665b18",
   "metadata": {},
   "outputs": [
    {
     "name": "stdout",
     "output_type": "stream",
     "text": [
      "  A    C\n",
      "1.0  9.0\n",
      "2.0 10.0\n"
     ]
    }
   ],
   "source": [
    "print(df_cleaned.to_string(index=False))"
   ]
  },
  {
   "cell_type": "code",
   "execution_count": null,
   "id": "e2fd3841",
   "metadata": {},
   "outputs": [],
   "source": []
  },
  {
   "cell_type": "code",
   "execution_count": 99,
   "id": "f2ceae55",
   "metadata": {},
   "outputs": [],
   "source": [
    "import pandas as pd"
   ]
  },
  {
   "cell_type": "code",
   "execution_count": 100,
   "id": "9768d0bc",
   "metadata": {},
   "outputs": [],
   "source": [
    "url = \"https://raw.githubusercontent.com/mwaskom/seaborn-data/master/titanic.csv\""
   ]
  },
  {
   "cell_type": "code",
   "execution_count": 101,
   "id": "87df5a74",
   "metadata": {},
   "outputs": [],
   "source": [
    "titanic_df = pd.read_csv(url)"
   ]
  },
  {
   "cell_type": "code",
   "execution_count": 102,
   "id": "008edfb2",
   "metadata": {},
   "outputs": [
    {
     "name": "stdout",
     "output_type": "stream",
     "text": [
      "Index(['survived', 'pclass', 'sex', 'age', 'sibsp', 'parch', 'fare',\n",
      "       'embarked', 'class', 'who', 'adult_male', 'deck', 'embark_town',\n",
      "       'alive', 'alone'],\n",
      "      dtype='object')\n"
     ]
    }
   ],
   "source": [
    "print(titanic_df.columns)"
   ]
  },
  {
   "cell_type": "code",
   "execution_count": 103,
   "id": "e170866d",
   "metadata": {},
   "outputs": [],
   "source": [
    "grouped_description = titanic_df.groupby(\"class\")[\"age\"].describe()"
   ]
  },
  {
   "cell_type": "code",
   "execution_count": 104,
   "id": "913f4023",
   "metadata": {},
   "outputs": [
    {
     "name": "stdout",
     "output_type": "stream",
     "text": [
      "        count       mean        std   min   25%   50%   75%   max\n",
      "class                                                            \n",
      "First   186.0  38.233441  14.802856  0.92  27.0  37.0  49.0  80.0\n",
      "Second  173.0  29.877630  14.001077  0.67  23.0  29.0  36.0  70.0\n",
      "Third   355.0  25.140620  12.495398  0.42  18.0  24.0  32.0  74.0\n"
     ]
    }
   ],
   "source": [
    "print(grouped_description)"
   ]
  },
  {
   "cell_type": "code",
   "execution_count": 105,
   "id": "5d6eca9a",
   "metadata": {},
   "outputs": [],
   "source": []
  },
  {
   "cell_type": "code",
   "execution_count": 106,
   "id": "3a8bc400",
   "metadata": {},
   "outputs": [],
   "source": [
    "import pandas as pd"
   ]
  },
  {
   "cell_type": "code",
   "execution_count": 110,
   "id": "694737bd",
   "metadata": {},
   "outputs": [],
   "source": [
    "url = \"https://raw.githubusercontent.com/mwaskom/seaborn-data/master/titanic.csv\""
   ]
  },
  {
   "cell_type": "code",
   "execution_count": 111,
   "id": "c97b05fe",
   "metadata": {},
   "outputs": [],
   "source": [
    "titanic_df = pd.read_csv(url)"
   ]
  },
  {
   "cell_type": "code",
   "execution_count": 112,
   "id": "c57d0621",
   "metadata": {},
   "outputs": [
    {
     "name": "stdout",
     "output_type": "stream",
     "text": [
      "   survived  pclass     sex   age  sibsp  parch     fare embarked  class  \\\n",
      "0         0       3    male  22.0      1      0   7.2500        S  Third   \n",
      "1         1       1  female  38.0      1      0  71.2833        C  First   \n",
      "2         1       3  female  26.0      0      0   7.9250        S  Third   \n",
      "3         1       1  female  35.0      1      0  53.1000        S  First   \n",
      "4         0       3    male  35.0      0      0   8.0500        S  Third   \n",
      "\n",
      "     who  adult_male deck  embark_town alive  alone  \n",
      "0    man        True  NaN  Southampton    no  False  \n",
      "1  woman       False    C    Cherbourg   yes  False  \n",
      "2  woman       False  NaN  Southampton   yes   True  \n",
      "3  woman       False    C  Southampton   yes  False  \n",
      "4    man        True  NaN  Southampton    no   True  \n"
     ]
    }
   ],
   "source": [
    "print(titanic_df.head())"
   ]
  },
  {
   "cell_type": "code",
   "execution_count": 113,
   "id": "e8563a77",
   "metadata": {},
   "outputs": [],
   "source": [
    "grouped = titanic_df.groupby(\"class\")[\"age\"].describe()"
   ]
  },
  {
   "cell_type": "code",
   "execution_count": 114,
   "id": "13414296",
   "metadata": {},
   "outputs": [
    {
     "name": "stdout",
     "output_type": "stream",
     "text": [
      "        count       mean        std   min   25%   50%   75%   max\n",
      "class                                                            \n",
      "First   186.0  38.233441  14.802856  0.92  27.0  37.0  49.0  80.0\n",
      "Second  173.0  29.877630  14.001077  0.67  23.0  29.0  36.0  70.0\n",
      "Third   355.0  25.140620  12.495398  0.42  18.0  24.0  32.0  74.0\n"
     ]
    }
   ],
   "source": [
    "print(grouped)"
   ]
  },
  {
   "cell_type": "code",
   "execution_count": null,
   "id": "d76a3f12",
   "metadata": {},
   "outputs": [],
   "source": []
  },
  {
   "cell_type": "code",
   "execution_count": 115,
   "id": "63b0225d",
   "metadata": {},
   "outputs": [],
   "source": [
    "#yes"
   ]
  },
  {
   "cell_type": "code",
   "execution_count": 116,
   "id": "92766839",
   "metadata": {},
   "outputs": [],
   "source": [
    "#link_for_chatgpt: https://chatgpt.com/c/66e38b4c-5574-800b-ba31-3c5f276558b9"
   ]
  },
  {
   "cell_type": "code",
   "execution_count": 117,
   "id": "71c91e43",
   "metadata": {},
   "outputs": [],
   "source": [
    "#like_for_chatgpt: https://chatgpt.com/c/66e36cbd-4f38-800b-86cb-07149d2d53e7"
   ]
  },
  {
   "cell_type": "code",
   "execution_count": null,
   "id": "17659a7f",
   "metadata": {},
   "outputs": [],
   "source": [
    "#Certainly! Here’s a summary of our interactions:\n",
    "\n",
    "---\n",
    "\n",
    "### Summary of Interactions\n",
    "\n",
    "**1. Understanding Missing Data Handling in Pandas**\n",
    "\n",
    "- **`df.dropna()` vs. `del df['col']`**:\n",
    "  - **Use case for `df.dropna()`**: When you need to remove rows with any missing values to ensure complete records.\n",
    "  - **Use case for `del df['col']`**: When a column has many missing values and removing it simplifies the dataset.\n",
    "  - **Applying `del df['col']` before `df.dropna()`**: Helps avoid unnecessarily discarding rows with valuable data in other columns.\n",
    "  - **Example of Removing Missing Data**: Demonstrated using both methods to clean the dataset and provided before-and-after results.\n",
    "\n",
    "**2. Exploring `df.groupby(\"col1\")[\"col2\"].describe()`**\n",
    "\n",
    "- **Function Explanation**: Groups data by `col1` and computes descriptive statistics for `col2` within each group.\n",
    "- **Example Using Titanic Dataset**:\n",
    "  - Loaded the Titanic dataset.\n",
    "  - Demonstrated grouping by 'class' and describing 'age' to show how the method works.\n",
    "- **Difference Between `df.describe()` and `df.groupby(\"col1\")[\"col2\"].describe()`**:\n",
    "  - `df.describe()` provides overall statistics including count for all columns, accounting for missing values.\n",
    "  - `df.groupby(\"col1\")[\"col2\"].describe()` computes statistics within each group, handling missing values within each group.\n",
    "\n",
    "**3. Handling Errors and Troubleshooting**\n",
    "\n",
    "- **Common Errors**:\n",
    "  - **Forgot to import pandas**: Results in `NameError`. Fix by importing pandas as `pd`.\n",
    "  - **Mistyped file name**: Leads to `FileNotFoundError`. Correct by using the accurate file name.\n",
    "  - **Using DataFrame before assignment**: Causes `NameError`. Ensure variable names are correct.\n",
    "  - **Missing parenthesis**: Results in `TypeError`. Add the missing parenthesis.\n",
    "  - **Mistyped method names**: Leads to `AttributeError`. Use the correct method names.\n",
    "  - **Column name errors**: Results in `KeyError` or `NameError`. Verify column names are correct and quoted properly.\n",
    "\n",
    "- **ChatBot vs. Google Search**:\n",
    "  - **ChatBot**: Provides interactive help and explanations but might need precise information for accurate responses.\n",
    "  - **Google Search**: Offers quick solutions and a variety of sources but may require sifting through information.\n",
    "\n",
    "---\n",
    "\n",
    "Feel free to use or modify this summary as needed for your homework assignment!"
   ]
  }
 ],
 "metadata": {
  "kernelspec": {
   "display_name": "Python 3 (ipykernel)",
   "language": "python",
   "name": "python3"
  },
  "language_info": {
   "codemirror_mode": {
    "name": "ipython",
    "version": 3
   },
   "file_extension": ".py",
   "mimetype": "text/x-python",
   "name": "python",
   "nbconvert_exporter": "python",
   "pygments_lexer": "ipython3",
   "version": "3.11.6"
  }
 },
 "nbformat": 4,
 "nbformat_minor": 5
}
